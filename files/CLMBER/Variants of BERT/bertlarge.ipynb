{
  "nbformat": 4,
  "nbformat_minor": 0,
  "metadata": {
    "colab": {
      "name": "bertlarge",
      "provenance": [],
      "collapsed_sections": [
        "sJsBpETWrSlk"
      ],
      "toc_visible": true,
      "machine_shape": "hm"
    },
    "kernelspec": {
      "name": "python3",
      "display_name": "Python 3"
    },
    "language_info": {
      "name": "python"
    },
    "accelerator": "GPU",
    "widgets": {
      "application/vnd.jupyter.widget-state+json": {
        "2e266de7559f4ef1a7fe51425f577495": {
          "model_module": "@jupyter-widgets/controls",
          "model_name": "HBoxModel",
          "state": {
            "_view_name": "HBoxView",
            "_dom_classes": [],
            "_model_name": "HBoxModel",
            "_view_module": "@jupyter-widgets/controls",
            "_model_module_version": "1.5.0",
            "_view_count": null,
            "_view_module_version": "1.5.0",
            "box_style": "",
            "layout": "IPY_MODEL_49cdc07bd7614d5b96c05f63d2b178ef",
            "_model_module": "@jupyter-widgets/controls",
            "children": [
              "IPY_MODEL_b37c8cd087cf42ef96bc729484c8d761",
              "IPY_MODEL_1ccbe62be13149df94d0bcea1a2843ed"
            ]
          }
        },
        "49cdc07bd7614d5b96c05f63d2b178ef": {
          "model_module": "@jupyter-widgets/base",
          "model_name": "LayoutModel",
          "state": {
            "_view_name": "LayoutView",
            "grid_template_rows": null,
            "right": null,
            "justify_content": null,
            "_view_module": "@jupyter-widgets/base",
            "overflow": null,
            "_model_module_version": "1.2.0",
            "_view_count": null,
            "flex_flow": null,
            "width": null,
            "min_width": null,
            "border": null,
            "align_items": null,
            "bottom": null,
            "_model_module": "@jupyter-widgets/base",
            "top": null,
            "grid_column": null,
            "overflow_y": null,
            "overflow_x": null,
            "grid_auto_flow": null,
            "grid_area": null,
            "grid_template_columns": null,
            "flex": null,
            "_model_name": "LayoutModel",
            "justify_items": null,
            "grid_row": null,
            "max_height": null,
            "align_content": null,
            "visibility": null,
            "align_self": null,
            "height": null,
            "min_height": null,
            "padding": null,
            "grid_auto_rows": null,
            "grid_gap": null,
            "max_width": null,
            "order": null,
            "_view_module_version": "1.2.0",
            "grid_template_areas": null,
            "object_position": null,
            "object_fit": null,
            "grid_auto_columns": null,
            "margin": null,
            "display": null,
            "left": null
          }
        },
        "b37c8cd087cf42ef96bc729484c8d761": {
          "model_module": "@jupyter-widgets/controls",
          "model_name": "FloatProgressModel",
          "state": {
            "_view_name": "ProgressView",
            "style": "IPY_MODEL_012da40b35b94adf85b577eba1c1a66b",
            "_dom_classes": [],
            "description": "Downloading: 100%",
            "_model_name": "FloatProgressModel",
            "bar_style": "success",
            "max": 1042301,
            "_view_module": "@jupyter-widgets/controls",
            "_model_module_version": "1.5.0",
            "value": 1042301,
            "_view_count": null,
            "_view_module_version": "1.5.0",
            "orientation": "horizontal",
            "min": 0,
            "description_tooltip": null,
            "_model_module": "@jupyter-widgets/controls",
            "layout": "IPY_MODEL_99732e1eb0c649fd9cb113dfb12b8838"
          }
        },
        "1ccbe62be13149df94d0bcea1a2843ed": {
          "model_module": "@jupyter-widgets/controls",
          "model_name": "HTMLModel",
          "state": {
            "_view_name": "HTMLView",
            "style": "IPY_MODEL_e6adb788cafe4103bb1c17dbc4198102",
            "_dom_classes": [],
            "description": "",
            "_model_name": "HTMLModel",
            "placeholder": "​",
            "_view_module": "@jupyter-widgets/controls",
            "_model_module_version": "1.5.0",
            "value": " 1.04M/1.04M [00:00&lt;00:00, 1.76MB/s]",
            "_view_count": null,
            "_view_module_version": "1.5.0",
            "description_tooltip": null,
            "_model_module": "@jupyter-widgets/controls",
            "layout": "IPY_MODEL_c42359a9aefa467fb91f00b77b52f3e6"
          }
        },
        "012da40b35b94adf85b577eba1c1a66b": {
          "model_module": "@jupyter-widgets/controls",
          "model_name": "ProgressStyleModel",
          "state": {
            "_view_name": "StyleView",
            "_model_name": "ProgressStyleModel",
            "description_width": "initial",
            "_view_module": "@jupyter-widgets/base",
            "_model_module_version": "1.5.0",
            "_view_count": null,
            "_view_module_version": "1.2.0",
            "bar_color": null,
            "_model_module": "@jupyter-widgets/controls"
          }
        },
        "99732e1eb0c649fd9cb113dfb12b8838": {
          "model_module": "@jupyter-widgets/base",
          "model_name": "LayoutModel",
          "state": {
            "_view_name": "LayoutView",
            "grid_template_rows": null,
            "right": null,
            "justify_content": null,
            "_view_module": "@jupyter-widgets/base",
            "overflow": null,
            "_model_module_version": "1.2.0",
            "_view_count": null,
            "flex_flow": null,
            "width": null,
            "min_width": null,
            "border": null,
            "align_items": null,
            "bottom": null,
            "_model_module": "@jupyter-widgets/base",
            "top": null,
            "grid_column": null,
            "overflow_y": null,
            "overflow_x": null,
            "grid_auto_flow": null,
            "grid_area": null,
            "grid_template_columns": null,
            "flex": null,
            "_model_name": "LayoutModel",
            "justify_items": null,
            "grid_row": null,
            "max_height": null,
            "align_content": null,
            "visibility": null,
            "align_self": null,
            "height": null,
            "min_height": null,
            "padding": null,
            "grid_auto_rows": null,
            "grid_gap": null,
            "max_width": null,
            "order": null,
            "_view_module_version": "1.2.0",
            "grid_template_areas": null,
            "object_position": null,
            "object_fit": null,
            "grid_auto_columns": null,
            "margin": null,
            "display": null,
            "left": null
          }
        },
        "e6adb788cafe4103bb1c17dbc4198102": {
          "model_module": "@jupyter-widgets/controls",
          "model_name": "DescriptionStyleModel",
          "state": {
            "_view_name": "StyleView",
            "_model_name": "DescriptionStyleModel",
            "description_width": "",
            "_view_module": "@jupyter-widgets/base",
            "_model_module_version": "1.5.0",
            "_view_count": null,
            "_view_module_version": "1.2.0",
            "_model_module": "@jupyter-widgets/controls"
          }
        },
        "c42359a9aefa467fb91f00b77b52f3e6": {
          "model_module": "@jupyter-widgets/base",
          "model_name": "LayoutModel",
          "state": {
            "_view_name": "LayoutView",
            "grid_template_rows": null,
            "right": null,
            "justify_content": null,
            "_view_module": "@jupyter-widgets/base",
            "overflow": null,
            "_model_module_version": "1.2.0",
            "_view_count": null,
            "flex_flow": null,
            "width": null,
            "min_width": null,
            "border": null,
            "align_items": null,
            "bottom": null,
            "_model_module": "@jupyter-widgets/base",
            "top": null,
            "grid_column": null,
            "overflow_y": null,
            "overflow_x": null,
            "grid_auto_flow": null,
            "grid_area": null,
            "grid_template_columns": null,
            "flex": null,
            "_model_name": "LayoutModel",
            "justify_items": null,
            "grid_row": null,
            "max_height": null,
            "align_content": null,
            "visibility": null,
            "align_self": null,
            "height": null,
            "min_height": null,
            "padding": null,
            "grid_auto_rows": null,
            "grid_gap": null,
            "max_width": null,
            "order": null,
            "_view_module_version": "1.2.0",
            "grid_template_areas": null,
            "object_position": null,
            "object_fit": null,
            "grid_auto_columns": null,
            "margin": null,
            "display": null,
            "left": null
          }
        },
        "64df53ae3365499bad67a897548613fe": {
          "model_module": "@jupyter-widgets/controls",
          "model_name": "HBoxModel",
          "state": {
            "_view_name": "HBoxView",
            "_dom_classes": [],
            "_model_name": "HBoxModel",
            "_view_module": "@jupyter-widgets/controls",
            "_model_module_version": "1.5.0",
            "_view_count": null,
            "_view_module_version": "1.5.0",
            "box_style": "",
            "layout": "IPY_MODEL_72d4e89fe93846afb8a658e01436a597",
            "_model_module": "@jupyter-widgets/controls",
            "children": [
              "IPY_MODEL_370e850913ab42d8a388a16ea947908e",
              "IPY_MODEL_0275e53174e045d4b4ce58a6fb2734a0"
            ]
          }
        },
        "72d4e89fe93846afb8a658e01436a597": {
          "model_module": "@jupyter-widgets/base",
          "model_name": "LayoutModel",
          "state": {
            "_view_name": "LayoutView",
            "grid_template_rows": null,
            "right": null,
            "justify_content": null,
            "_view_module": "@jupyter-widgets/base",
            "overflow": null,
            "_model_module_version": "1.2.0",
            "_view_count": null,
            "flex_flow": null,
            "width": null,
            "min_width": null,
            "border": null,
            "align_items": null,
            "bottom": null,
            "_model_module": "@jupyter-widgets/base",
            "top": null,
            "grid_column": null,
            "overflow_y": null,
            "overflow_x": null,
            "grid_auto_flow": null,
            "grid_area": null,
            "grid_template_columns": null,
            "flex": null,
            "_model_name": "LayoutModel",
            "justify_items": null,
            "grid_row": null,
            "max_height": null,
            "align_content": null,
            "visibility": null,
            "align_self": null,
            "height": null,
            "min_height": null,
            "padding": null,
            "grid_auto_rows": null,
            "grid_gap": null,
            "max_width": null,
            "order": null,
            "_view_module_version": "1.2.0",
            "grid_template_areas": null,
            "object_position": null,
            "object_fit": null,
            "grid_auto_columns": null,
            "margin": null,
            "display": null,
            "left": null
          }
        },
        "370e850913ab42d8a388a16ea947908e": {
          "model_module": "@jupyter-widgets/controls",
          "model_name": "FloatProgressModel",
          "state": {
            "_view_name": "ProgressView",
            "style": "IPY_MODEL_32accd1fd9924560924d78a05b1e7daf",
            "_dom_classes": [],
            "description": "Downloading: 100%",
            "_model_name": "FloatProgressModel",
            "bar_style": "success",
            "max": 456318,
            "_view_module": "@jupyter-widgets/controls",
            "_model_module_version": "1.5.0",
            "value": 456318,
            "_view_count": null,
            "_view_module_version": "1.5.0",
            "orientation": "horizontal",
            "min": 0,
            "description_tooltip": null,
            "_model_module": "@jupyter-widgets/controls",
            "layout": "IPY_MODEL_9631202e8e374b158339c9ef714f08d5"
          }
        },
        "0275e53174e045d4b4ce58a6fb2734a0": {
          "model_module": "@jupyter-widgets/controls",
          "model_name": "HTMLModel",
          "state": {
            "_view_name": "HTMLView",
            "style": "IPY_MODEL_bba50d2ceb7b4e73bb0f2924880cf195",
            "_dom_classes": [],
            "description": "",
            "_model_name": "HTMLModel",
            "placeholder": "​",
            "_view_module": "@jupyter-widgets/controls",
            "_model_module_version": "1.5.0",
            "value": " 456k/456k [00:00&lt;00:00, 2.29MB/s]",
            "_view_count": null,
            "_view_module_version": "1.5.0",
            "description_tooltip": null,
            "_model_module": "@jupyter-widgets/controls",
            "layout": "IPY_MODEL_91dab46eae2b4c92906bcf36187855ec"
          }
        },
        "32accd1fd9924560924d78a05b1e7daf": {
          "model_module": "@jupyter-widgets/controls",
          "model_name": "ProgressStyleModel",
          "state": {
            "_view_name": "StyleView",
            "_model_name": "ProgressStyleModel",
            "description_width": "initial",
            "_view_module": "@jupyter-widgets/base",
            "_model_module_version": "1.5.0",
            "_view_count": null,
            "_view_module_version": "1.2.0",
            "bar_color": null,
            "_model_module": "@jupyter-widgets/controls"
          }
        },
        "9631202e8e374b158339c9ef714f08d5": {
          "model_module": "@jupyter-widgets/base",
          "model_name": "LayoutModel",
          "state": {
            "_view_name": "LayoutView",
            "grid_template_rows": null,
            "right": null,
            "justify_content": null,
            "_view_module": "@jupyter-widgets/base",
            "overflow": null,
            "_model_module_version": "1.2.0",
            "_view_count": null,
            "flex_flow": null,
            "width": null,
            "min_width": null,
            "border": null,
            "align_items": null,
            "bottom": null,
            "_model_module": "@jupyter-widgets/base",
            "top": null,
            "grid_column": null,
            "overflow_y": null,
            "overflow_x": null,
            "grid_auto_flow": null,
            "grid_area": null,
            "grid_template_columns": null,
            "flex": null,
            "_model_name": "LayoutModel",
            "justify_items": null,
            "grid_row": null,
            "max_height": null,
            "align_content": null,
            "visibility": null,
            "align_self": null,
            "height": null,
            "min_height": null,
            "padding": null,
            "grid_auto_rows": null,
            "grid_gap": null,
            "max_width": null,
            "order": null,
            "_view_module_version": "1.2.0",
            "grid_template_areas": null,
            "object_position": null,
            "object_fit": null,
            "grid_auto_columns": null,
            "margin": null,
            "display": null,
            "left": null
          }
        },
        "bba50d2ceb7b4e73bb0f2924880cf195": {
          "model_module": "@jupyter-widgets/controls",
          "model_name": "DescriptionStyleModel",
          "state": {
            "_view_name": "StyleView",
            "_model_name": "DescriptionStyleModel",
            "description_width": "",
            "_view_module": "@jupyter-widgets/base",
            "_model_module_version": "1.5.0",
            "_view_count": null,
            "_view_module_version": "1.2.0",
            "_model_module": "@jupyter-widgets/controls"
          }
        },
        "91dab46eae2b4c92906bcf36187855ec": {
          "model_module": "@jupyter-widgets/base",
          "model_name": "LayoutModel",
          "state": {
            "_view_name": "LayoutView",
            "grid_template_rows": null,
            "right": null,
            "justify_content": null,
            "_view_module": "@jupyter-widgets/base",
            "overflow": null,
            "_model_module_version": "1.2.0",
            "_view_count": null,
            "flex_flow": null,
            "width": null,
            "min_width": null,
            "border": null,
            "align_items": null,
            "bottom": null,
            "_model_module": "@jupyter-widgets/base",
            "top": null,
            "grid_column": null,
            "overflow_y": null,
            "overflow_x": null,
            "grid_auto_flow": null,
            "grid_area": null,
            "grid_template_columns": null,
            "flex": null,
            "_model_name": "LayoutModel",
            "justify_items": null,
            "grid_row": null,
            "max_height": null,
            "align_content": null,
            "visibility": null,
            "align_self": null,
            "height": null,
            "min_height": null,
            "padding": null,
            "grid_auto_rows": null,
            "grid_gap": null,
            "max_width": null,
            "order": null,
            "_view_module_version": "1.2.0",
            "grid_template_areas": null,
            "object_position": null,
            "object_fit": null,
            "grid_auto_columns": null,
            "margin": null,
            "display": null,
            "left": null
          }
        },
        "82fe1e13870f4c3b84316ed7704d6e6d": {
          "model_module": "@jupyter-widgets/controls",
          "model_name": "HBoxModel",
          "state": {
            "_view_name": "HBoxView",
            "_dom_classes": [],
            "_model_name": "HBoxModel",
            "_view_module": "@jupyter-widgets/controls",
            "_model_module_version": "1.5.0",
            "_view_count": null,
            "_view_module_version": "1.5.0",
            "box_style": "",
            "layout": "IPY_MODEL_d10c14265dc241daa2e2cb9dd9637c91",
            "_model_module": "@jupyter-widgets/controls",
            "children": [
              "IPY_MODEL_b049742931af4ce2aa8cd4f5b7c81e0b",
              "IPY_MODEL_7ef8aa97e7094a17ba185d9ce2a5cc61"
            ]
          }
        },
        "d10c14265dc241daa2e2cb9dd9637c91": {
          "model_module": "@jupyter-widgets/base",
          "model_name": "LayoutModel",
          "state": {
            "_view_name": "LayoutView",
            "grid_template_rows": null,
            "right": null,
            "justify_content": null,
            "_view_module": "@jupyter-widgets/base",
            "overflow": null,
            "_model_module_version": "1.2.0",
            "_view_count": null,
            "flex_flow": null,
            "width": null,
            "min_width": null,
            "border": null,
            "align_items": null,
            "bottom": null,
            "_model_module": "@jupyter-widgets/base",
            "top": null,
            "grid_column": null,
            "overflow_y": null,
            "overflow_x": null,
            "grid_auto_flow": null,
            "grid_area": null,
            "grid_template_columns": null,
            "flex": null,
            "_model_name": "LayoutModel",
            "justify_items": null,
            "grid_row": null,
            "max_height": null,
            "align_content": null,
            "visibility": null,
            "align_self": null,
            "height": null,
            "min_height": null,
            "padding": null,
            "grid_auto_rows": null,
            "grid_gap": null,
            "max_width": null,
            "order": null,
            "_view_module_version": "1.2.0",
            "grid_template_areas": null,
            "object_position": null,
            "object_fit": null,
            "grid_auto_columns": null,
            "margin": null,
            "display": null,
            "left": null
          }
        },
        "b049742931af4ce2aa8cd4f5b7c81e0b": {
          "model_module": "@jupyter-widgets/controls",
          "model_name": "FloatProgressModel",
          "state": {
            "_view_name": "ProgressView",
            "style": "IPY_MODEL_8aa11a5422ab46e2bf2d9479e744cbbf",
            "_dom_classes": [],
            "description": "Downloading: 100%",
            "_model_name": "FloatProgressModel",
            "bar_style": "success",
            "max": 718,
            "_view_module": "@jupyter-widgets/controls",
            "_model_module_version": "1.5.0",
            "value": 718,
            "_view_count": null,
            "_view_module_version": "1.5.0",
            "orientation": "horizontal",
            "min": 0,
            "description_tooltip": null,
            "_model_module": "@jupyter-widgets/controls",
            "layout": "IPY_MODEL_059a97a05b7646cbb2dae7fdcf2d8431"
          }
        },
        "7ef8aa97e7094a17ba185d9ce2a5cc61": {
          "model_module": "@jupyter-widgets/controls",
          "model_name": "HTMLModel",
          "state": {
            "_view_name": "HTMLView",
            "style": "IPY_MODEL_075a02c4a10a44f2bc79e90fbf9f867a",
            "_dom_classes": [],
            "description": "",
            "_model_name": "HTMLModel",
            "placeholder": "​",
            "_view_module": "@jupyter-widgets/controls",
            "_model_module_version": "1.5.0",
            "value": " 718/718 [00:00&lt;00:00, 1.45kB/s]",
            "_view_count": null,
            "_view_module_version": "1.5.0",
            "description_tooltip": null,
            "_model_module": "@jupyter-widgets/controls",
            "layout": "IPY_MODEL_a02b45ad79384df9af3162c63556e204"
          }
        },
        "8aa11a5422ab46e2bf2d9479e744cbbf": {
          "model_module": "@jupyter-widgets/controls",
          "model_name": "ProgressStyleModel",
          "state": {
            "_view_name": "StyleView",
            "_model_name": "ProgressStyleModel",
            "description_width": "initial",
            "_view_module": "@jupyter-widgets/base",
            "_model_module_version": "1.5.0",
            "_view_count": null,
            "_view_module_version": "1.2.0",
            "bar_color": null,
            "_model_module": "@jupyter-widgets/controls"
          }
        },
        "059a97a05b7646cbb2dae7fdcf2d8431": {
          "model_module": "@jupyter-widgets/base",
          "model_name": "LayoutModel",
          "state": {
            "_view_name": "LayoutView",
            "grid_template_rows": null,
            "right": null,
            "justify_content": null,
            "_view_module": "@jupyter-widgets/base",
            "overflow": null,
            "_model_module_version": "1.2.0",
            "_view_count": null,
            "flex_flow": null,
            "width": null,
            "min_width": null,
            "border": null,
            "align_items": null,
            "bottom": null,
            "_model_module": "@jupyter-widgets/base",
            "top": null,
            "grid_column": null,
            "overflow_y": null,
            "overflow_x": null,
            "grid_auto_flow": null,
            "grid_area": null,
            "grid_template_columns": null,
            "flex": null,
            "_model_name": "LayoutModel",
            "justify_items": null,
            "grid_row": null,
            "max_height": null,
            "align_content": null,
            "visibility": null,
            "align_self": null,
            "height": null,
            "min_height": null,
            "padding": null,
            "grid_auto_rows": null,
            "grid_gap": null,
            "max_width": null,
            "order": null,
            "_view_module_version": "1.2.0",
            "grid_template_areas": null,
            "object_position": null,
            "object_fit": null,
            "grid_auto_columns": null,
            "margin": null,
            "display": null,
            "left": null
          }
        },
        "075a02c4a10a44f2bc79e90fbf9f867a": {
          "model_module": "@jupyter-widgets/controls",
          "model_name": "DescriptionStyleModel",
          "state": {
            "_view_name": "StyleView",
            "_model_name": "DescriptionStyleModel",
            "description_width": "",
            "_view_module": "@jupyter-widgets/base",
            "_model_module_version": "1.5.0",
            "_view_count": null,
            "_view_module_version": "1.2.0",
            "_model_module": "@jupyter-widgets/controls"
          }
        },
        "a02b45ad79384df9af3162c63556e204": {
          "model_module": "@jupyter-widgets/base",
          "model_name": "LayoutModel",
          "state": {
            "_view_name": "LayoutView",
            "grid_template_rows": null,
            "right": null,
            "justify_content": null,
            "_view_module": "@jupyter-widgets/base",
            "overflow": null,
            "_model_module_version": "1.2.0",
            "_view_count": null,
            "flex_flow": null,
            "width": null,
            "min_width": null,
            "border": null,
            "align_items": null,
            "bottom": null,
            "_model_module": "@jupyter-widgets/base",
            "top": null,
            "grid_column": null,
            "overflow_y": null,
            "overflow_x": null,
            "grid_auto_flow": null,
            "grid_area": null,
            "grid_template_columns": null,
            "flex": null,
            "_model_name": "LayoutModel",
            "justify_items": null,
            "grid_row": null,
            "max_height": null,
            "align_content": null,
            "visibility": null,
            "align_self": null,
            "height": null,
            "min_height": null,
            "padding": null,
            "grid_auto_rows": null,
            "grid_gap": null,
            "max_width": null,
            "order": null,
            "_view_module_version": "1.2.0",
            "grid_template_areas": null,
            "object_position": null,
            "object_fit": null,
            "grid_auto_columns": null,
            "margin": null,
            "display": null,
            "left": null
          }
        },
        "26168e123d7c4daf8b46bfd9e0376e50": {
          "model_module": "@jupyter-widgets/controls",
          "model_name": "HBoxModel",
          "state": {
            "_view_name": "HBoxView",
            "_dom_classes": [],
            "_model_name": "HBoxModel",
            "_view_module": "@jupyter-widgets/controls",
            "_model_module_version": "1.5.0",
            "_view_count": null,
            "_view_module_version": "1.5.0",
            "box_style": "",
            "layout": "IPY_MODEL_b5d48a54e0ec45549af84072d731644a",
            "_model_module": "@jupyter-widgets/controls",
            "children": [
              "IPY_MODEL_ad35370e412f4644adf04f2cf842a5eb",
              "IPY_MODEL_c79c488350b944688357d0c9fa9a851f"
            ]
          }
        },
        "b5d48a54e0ec45549af84072d731644a": {
          "model_module": "@jupyter-widgets/base",
          "model_name": "LayoutModel",
          "state": {
            "_view_name": "LayoutView",
            "grid_template_rows": null,
            "right": null,
            "justify_content": null,
            "_view_module": "@jupyter-widgets/base",
            "overflow": null,
            "_model_module_version": "1.2.0",
            "_view_count": null,
            "flex_flow": null,
            "width": null,
            "min_width": null,
            "border": null,
            "align_items": null,
            "bottom": null,
            "_model_module": "@jupyter-widgets/base",
            "top": null,
            "grid_column": null,
            "overflow_y": null,
            "overflow_x": null,
            "grid_auto_flow": null,
            "grid_area": null,
            "grid_template_columns": null,
            "flex": null,
            "_model_name": "LayoutModel",
            "justify_items": null,
            "grid_row": null,
            "max_height": null,
            "align_content": null,
            "visibility": null,
            "align_self": null,
            "height": null,
            "min_height": null,
            "padding": null,
            "grid_auto_rows": null,
            "grid_gap": null,
            "max_width": null,
            "order": null,
            "_view_module_version": "1.2.0",
            "grid_template_areas": null,
            "object_position": null,
            "object_fit": null,
            "grid_auto_columns": null,
            "margin": null,
            "display": null,
            "left": null
          }
        },
        "ad35370e412f4644adf04f2cf842a5eb": {
          "model_module": "@jupyter-widgets/controls",
          "model_name": "FloatProgressModel",
          "state": {
            "_view_name": "ProgressView",
            "style": "IPY_MODEL_51ee0296e4584b82bcdb2e99cc2e4b02",
            "_dom_classes": [],
            "description": "Downloading: 100%",
            "_model_name": "FloatProgressModel",
            "bar_style": "success",
            "max": 1520013706,
            "_view_module": "@jupyter-widgets/controls",
            "_model_module_version": "1.5.0",
            "value": 1520013706,
            "_view_count": null,
            "_view_module_version": "1.5.0",
            "orientation": "horizontal",
            "min": 0,
            "description_tooltip": null,
            "_model_module": "@jupyter-widgets/controls",
            "layout": "IPY_MODEL_5b8d538e20e4446d8ff26fe457badf60"
          }
        },
        "c79c488350b944688357d0c9fa9a851f": {
          "model_module": "@jupyter-widgets/controls",
          "model_name": "HTMLModel",
          "state": {
            "_view_name": "HTMLView",
            "style": "IPY_MODEL_2b6120681fd1464a8437b4b529e7e5a3",
            "_dom_classes": [],
            "description": "",
            "_model_name": "HTMLModel",
            "placeholder": "​",
            "_view_module": "@jupyter-widgets/controls",
            "_model_module_version": "1.5.0",
            "value": " 1.52G/1.52G [00:51&lt;00:00, 29.4MB/s]",
            "_view_count": null,
            "_view_module_version": "1.5.0",
            "description_tooltip": null,
            "_model_module": "@jupyter-widgets/controls",
            "layout": "IPY_MODEL_c78f4f89bd6b4805bfc94f6c5a27a3a7"
          }
        },
        "51ee0296e4584b82bcdb2e99cc2e4b02": {
          "model_module": "@jupyter-widgets/controls",
          "model_name": "ProgressStyleModel",
          "state": {
            "_view_name": "StyleView",
            "_model_name": "ProgressStyleModel",
            "description_width": "initial",
            "_view_module": "@jupyter-widgets/base",
            "_model_module_version": "1.5.0",
            "_view_count": null,
            "_view_module_version": "1.2.0",
            "bar_color": null,
            "_model_module": "@jupyter-widgets/controls"
          }
        },
        "5b8d538e20e4446d8ff26fe457badf60": {
          "model_module": "@jupyter-widgets/base",
          "model_name": "LayoutModel",
          "state": {
            "_view_name": "LayoutView",
            "grid_template_rows": null,
            "right": null,
            "justify_content": null,
            "_view_module": "@jupyter-widgets/base",
            "overflow": null,
            "_model_module_version": "1.2.0",
            "_view_count": null,
            "flex_flow": null,
            "width": null,
            "min_width": null,
            "border": null,
            "align_items": null,
            "bottom": null,
            "_model_module": "@jupyter-widgets/base",
            "top": null,
            "grid_column": null,
            "overflow_y": null,
            "overflow_x": null,
            "grid_auto_flow": null,
            "grid_area": null,
            "grid_template_columns": null,
            "flex": null,
            "_model_name": "LayoutModel",
            "justify_items": null,
            "grid_row": null,
            "max_height": null,
            "align_content": null,
            "visibility": null,
            "align_self": null,
            "height": null,
            "min_height": null,
            "padding": null,
            "grid_auto_rows": null,
            "grid_gap": null,
            "max_width": null,
            "order": null,
            "_view_module_version": "1.2.0",
            "grid_template_areas": null,
            "object_position": null,
            "object_fit": null,
            "grid_auto_columns": null,
            "margin": null,
            "display": null,
            "left": null
          }
        },
        "2b6120681fd1464a8437b4b529e7e5a3": {
          "model_module": "@jupyter-widgets/controls",
          "model_name": "DescriptionStyleModel",
          "state": {
            "_view_name": "StyleView",
            "_model_name": "DescriptionStyleModel",
            "description_width": "",
            "_view_module": "@jupyter-widgets/base",
            "_model_module_version": "1.5.0",
            "_view_count": null,
            "_view_module_version": "1.2.0",
            "_model_module": "@jupyter-widgets/controls"
          }
        },
        "c78f4f89bd6b4805bfc94f6c5a27a3a7": {
          "model_module": "@jupyter-widgets/base",
          "model_name": "LayoutModel",
          "state": {
            "_view_name": "LayoutView",
            "grid_template_rows": null,
            "right": null,
            "justify_content": null,
            "_view_module": "@jupyter-widgets/base",
            "overflow": null,
            "_model_module_version": "1.2.0",
            "_view_count": null,
            "flex_flow": null,
            "width": null,
            "min_width": null,
            "border": null,
            "align_items": null,
            "bottom": null,
            "_model_module": "@jupyter-widgets/base",
            "top": null,
            "grid_column": null,
            "overflow_y": null,
            "overflow_x": null,
            "grid_auto_flow": null,
            "grid_area": null,
            "grid_template_columns": null,
            "flex": null,
            "_model_name": "LayoutModel",
            "justify_items": null,
            "grid_row": null,
            "max_height": null,
            "align_content": null,
            "visibility": null,
            "align_self": null,
            "height": null,
            "min_height": null,
            "padding": null,
            "grid_auto_rows": null,
            "grid_gap": null,
            "max_width": null,
            "order": null,
            "_view_module_version": "1.2.0",
            "grid_template_areas": null,
            "object_position": null,
            "object_fit": null,
            "grid_auto_columns": null,
            "margin": null,
            "display": null,
            "left": null
          }
        },
        "79108b23449043d3a90ce90bf4aef34e": {
          "model_module": "@jupyter-widgets/controls",
          "model_name": "HBoxModel",
          "state": {
            "_view_name": "HBoxView",
            "_dom_classes": [],
            "_model_name": "HBoxModel",
            "_view_module": "@jupyter-widgets/controls",
            "_model_module_version": "1.5.0",
            "_view_count": null,
            "_view_module_version": "1.5.0",
            "box_style": "",
            "layout": "IPY_MODEL_b41a68f46eaf42f0ac81b4a45b1bf3cb",
            "_model_module": "@jupyter-widgets/controls",
            "children": [
              "IPY_MODEL_256c2c527d574129bf9059367425d2f5",
              "IPY_MODEL_3354b7c4524646789e194b26637714c3"
            ]
          }
        },
        "b41a68f46eaf42f0ac81b4a45b1bf3cb": {
          "model_module": "@jupyter-widgets/base",
          "model_name": "LayoutModel",
          "state": {
            "_view_name": "LayoutView",
            "grid_template_rows": null,
            "right": null,
            "justify_content": null,
            "_view_module": "@jupyter-widgets/base",
            "overflow": null,
            "_model_module_version": "1.2.0",
            "_view_count": null,
            "flex_flow": null,
            "width": null,
            "min_width": null,
            "border": null,
            "align_items": null,
            "bottom": null,
            "_model_module": "@jupyter-widgets/base",
            "top": null,
            "grid_column": null,
            "overflow_y": null,
            "overflow_x": null,
            "grid_auto_flow": null,
            "grid_area": null,
            "grid_template_columns": null,
            "flex": null,
            "_model_name": "LayoutModel",
            "justify_items": null,
            "grid_row": null,
            "max_height": null,
            "align_content": null,
            "visibility": null,
            "align_self": null,
            "height": null,
            "min_height": null,
            "padding": null,
            "grid_auto_rows": null,
            "grid_gap": null,
            "max_width": null,
            "order": null,
            "_view_module_version": "1.2.0",
            "grid_template_areas": null,
            "object_position": null,
            "object_fit": null,
            "grid_auto_columns": null,
            "margin": null,
            "display": null,
            "left": null
          }
        },
        "256c2c527d574129bf9059367425d2f5": {
          "model_module": "@jupyter-widgets/controls",
          "model_name": "FloatProgressModel",
          "state": {
            "_view_name": "ProgressView",
            "style": "IPY_MODEL_81a01386c2514545b5b937a3885eb8ff",
            "_dom_classes": [],
            "description": "Downloading: 100%",
            "_model_name": "FloatProgressModel",
            "bar_style": "success",
            "max": 762,
            "_view_module": "@jupyter-widgets/controls",
            "_model_module_version": "1.5.0",
            "value": 762,
            "_view_count": null,
            "_view_module_version": "1.5.0",
            "orientation": "horizontal",
            "min": 0,
            "description_tooltip": null,
            "_model_module": "@jupyter-widgets/controls",
            "layout": "IPY_MODEL_32ba99d0d20c428b9676ea0b20e51597"
          }
        },
        "3354b7c4524646789e194b26637714c3": {
          "model_module": "@jupyter-widgets/controls",
          "model_name": "HTMLModel",
          "state": {
            "_view_name": "HTMLView",
            "style": "IPY_MODEL_6d364f7c6a9b4ab480ffbee62ba24507",
            "_dom_classes": [],
            "description": "",
            "_model_name": "HTMLModel",
            "placeholder": "​",
            "_view_module": "@jupyter-widgets/controls",
            "_model_module_version": "1.5.0",
            "value": " 762/762 [00:40&lt;00:00, 18.9B/s]",
            "_view_count": null,
            "_view_module_version": "1.5.0",
            "description_tooltip": null,
            "_model_module": "@jupyter-widgets/controls",
            "layout": "IPY_MODEL_41e977f6b48d4182835d4f0afcdbde46"
          }
        },
        "81a01386c2514545b5b937a3885eb8ff": {
          "model_module": "@jupyter-widgets/controls",
          "model_name": "ProgressStyleModel",
          "state": {
            "_view_name": "StyleView",
            "_model_name": "ProgressStyleModel",
            "description_width": "initial",
            "_view_module": "@jupyter-widgets/base",
            "_model_module_version": "1.5.0",
            "_view_count": null,
            "_view_module_version": "1.2.0",
            "bar_color": null,
            "_model_module": "@jupyter-widgets/controls"
          }
        },
        "32ba99d0d20c428b9676ea0b20e51597": {
          "model_module": "@jupyter-widgets/base",
          "model_name": "LayoutModel",
          "state": {
            "_view_name": "LayoutView",
            "grid_template_rows": null,
            "right": null,
            "justify_content": null,
            "_view_module": "@jupyter-widgets/base",
            "overflow": null,
            "_model_module_version": "1.2.0",
            "_view_count": null,
            "flex_flow": null,
            "width": null,
            "min_width": null,
            "border": null,
            "align_items": null,
            "bottom": null,
            "_model_module": "@jupyter-widgets/base",
            "top": null,
            "grid_column": null,
            "overflow_y": null,
            "overflow_x": null,
            "grid_auto_flow": null,
            "grid_area": null,
            "grid_template_columns": null,
            "flex": null,
            "_model_name": "LayoutModel",
            "justify_items": null,
            "grid_row": null,
            "max_height": null,
            "align_content": null,
            "visibility": null,
            "align_self": null,
            "height": null,
            "min_height": null,
            "padding": null,
            "grid_auto_rows": null,
            "grid_gap": null,
            "max_width": null,
            "order": null,
            "_view_module_version": "1.2.0",
            "grid_template_areas": null,
            "object_position": null,
            "object_fit": null,
            "grid_auto_columns": null,
            "margin": null,
            "display": null,
            "left": null
          }
        },
        "6d364f7c6a9b4ab480ffbee62ba24507": {
          "model_module": "@jupyter-widgets/controls",
          "model_name": "DescriptionStyleModel",
          "state": {
            "_view_name": "StyleView",
            "_model_name": "DescriptionStyleModel",
            "description_width": "",
            "_view_module": "@jupyter-widgets/base",
            "_model_module_version": "1.5.0",
            "_view_count": null,
            "_view_module_version": "1.2.0",
            "_model_module": "@jupyter-widgets/controls"
          }
        },
        "41e977f6b48d4182835d4f0afcdbde46": {
          "model_module": "@jupyter-widgets/base",
          "model_name": "LayoutModel",
          "state": {
            "_view_name": "LayoutView",
            "grid_template_rows": null,
            "right": null,
            "justify_content": null,
            "_view_module": "@jupyter-widgets/base",
            "overflow": null,
            "_model_module_version": "1.2.0",
            "_view_count": null,
            "flex_flow": null,
            "width": null,
            "min_width": null,
            "border": null,
            "align_items": null,
            "bottom": null,
            "_model_module": "@jupyter-widgets/base",
            "top": null,
            "grid_column": null,
            "overflow_y": null,
            "overflow_x": null,
            "grid_auto_flow": null,
            "grid_area": null,
            "grid_template_columns": null,
            "flex": null,
            "_model_name": "LayoutModel",
            "justify_items": null,
            "grid_row": null,
            "max_height": null,
            "align_content": null,
            "visibility": null,
            "align_self": null,
            "height": null,
            "min_height": null,
            "padding": null,
            "grid_auto_rows": null,
            "grid_gap": null,
            "max_width": null,
            "order": null,
            "_view_module_version": "1.2.0",
            "grid_template_areas": null,
            "object_position": null,
            "object_fit": null,
            "grid_auto_columns": null,
            "margin": null,
            "display": null,
            "left": null
          }
        },
        "54c6192966be4eacb66d2a6552f5caca": {
          "model_module": "@jupyter-widgets/controls",
          "model_name": "HBoxModel",
          "state": {
            "_view_name": "HBoxView",
            "_dom_classes": [],
            "_model_name": "HBoxModel",
            "_view_module": "@jupyter-widgets/controls",
            "_model_module_version": "1.5.0",
            "_view_count": null,
            "_view_module_version": "1.5.0",
            "box_style": "",
            "layout": "IPY_MODEL_ef52f6b652cb42f2baea023da8c9a4a1",
            "_model_module": "@jupyter-widgets/controls",
            "children": [
              "IPY_MODEL_9a384c929bac473b81ea0d0ebbca5ac9",
              "IPY_MODEL_ba22f98a0e6b49998d98033be7fca3ca"
            ]
          }
        },
        "ef52f6b652cb42f2baea023da8c9a4a1": {
          "model_module": "@jupyter-widgets/base",
          "model_name": "LayoutModel",
          "state": {
            "_view_name": "LayoutView",
            "grid_template_rows": null,
            "right": null,
            "justify_content": null,
            "_view_module": "@jupyter-widgets/base",
            "overflow": null,
            "_model_module_version": "1.2.0",
            "_view_count": null,
            "flex_flow": null,
            "width": null,
            "min_width": null,
            "border": null,
            "align_items": null,
            "bottom": null,
            "_model_module": "@jupyter-widgets/base",
            "top": null,
            "grid_column": null,
            "overflow_y": null,
            "overflow_x": null,
            "grid_auto_flow": null,
            "grid_area": null,
            "grid_template_columns": null,
            "flex": null,
            "_model_name": "LayoutModel",
            "justify_items": null,
            "grid_row": null,
            "max_height": null,
            "align_content": null,
            "visibility": null,
            "align_self": null,
            "height": null,
            "min_height": null,
            "padding": null,
            "grid_auto_rows": null,
            "grid_gap": null,
            "max_width": null,
            "order": null,
            "_view_module_version": "1.2.0",
            "grid_template_areas": null,
            "object_position": null,
            "object_fit": null,
            "grid_auto_columns": null,
            "margin": null,
            "display": null,
            "left": null
          }
        },
        "9a384c929bac473b81ea0d0ebbca5ac9": {
          "model_module": "@jupyter-widgets/controls",
          "model_name": "FloatProgressModel",
          "state": {
            "_view_name": "ProgressView",
            "style": "IPY_MODEL_fd356376c26f4088b285224afb7f693b",
            "_dom_classes": [],
            "description": "Downloading: 100%",
            "_model_name": "FloatProgressModel",
            "bar_style": "success",
            "max": 1338740706,
            "_view_module": "@jupyter-widgets/controls",
            "_model_module_version": "1.5.0",
            "value": 1338740706,
            "_view_count": null,
            "_view_module_version": "1.5.0",
            "orientation": "horizontal",
            "min": 0,
            "description_tooltip": null,
            "_model_module": "@jupyter-widgets/controls",
            "layout": "IPY_MODEL_32e05218bd364a8f9b1cc91ac8d47a58"
          }
        },
        "ba22f98a0e6b49998d98033be7fca3ca": {
          "model_module": "@jupyter-widgets/controls",
          "model_name": "HTMLModel",
          "state": {
            "_view_name": "HTMLView",
            "style": "IPY_MODEL_57d3eb56f6344c678281a1583d33239d",
            "_dom_classes": [],
            "description": "",
            "_model_name": "HTMLModel",
            "placeholder": "​",
            "_view_module": "@jupyter-widgets/controls",
            "_model_module_version": "1.5.0",
            "value": " 1.34G/1.34G [00:33&lt;00:00, 40.1MB/s]",
            "_view_count": null,
            "_view_module_version": "1.5.0",
            "description_tooltip": null,
            "_model_module": "@jupyter-widgets/controls",
            "layout": "IPY_MODEL_bfbf84e345a54d74a5e65f60ac5431ad"
          }
        },
        "fd356376c26f4088b285224afb7f693b": {
          "model_module": "@jupyter-widgets/controls",
          "model_name": "ProgressStyleModel",
          "state": {
            "_view_name": "StyleView",
            "_model_name": "ProgressStyleModel",
            "description_width": "initial",
            "_view_module": "@jupyter-widgets/base",
            "_model_module_version": "1.5.0",
            "_view_count": null,
            "_view_module_version": "1.2.0",
            "bar_color": null,
            "_model_module": "@jupyter-widgets/controls"
          }
        },
        "32e05218bd364a8f9b1cc91ac8d47a58": {
          "model_module": "@jupyter-widgets/base",
          "model_name": "LayoutModel",
          "state": {
            "_view_name": "LayoutView",
            "grid_template_rows": null,
            "right": null,
            "justify_content": null,
            "_view_module": "@jupyter-widgets/base",
            "overflow": null,
            "_model_module_version": "1.2.0",
            "_view_count": null,
            "flex_flow": null,
            "width": null,
            "min_width": null,
            "border": null,
            "align_items": null,
            "bottom": null,
            "_model_module": "@jupyter-widgets/base",
            "top": null,
            "grid_column": null,
            "overflow_y": null,
            "overflow_x": null,
            "grid_auto_flow": null,
            "grid_area": null,
            "grid_template_columns": null,
            "flex": null,
            "_model_name": "LayoutModel",
            "justify_items": null,
            "grid_row": null,
            "max_height": null,
            "align_content": null,
            "visibility": null,
            "align_self": null,
            "height": null,
            "min_height": null,
            "padding": null,
            "grid_auto_rows": null,
            "grid_gap": null,
            "max_width": null,
            "order": null,
            "_view_module_version": "1.2.0",
            "grid_template_areas": null,
            "object_position": null,
            "object_fit": null,
            "grid_auto_columns": null,
            "margin": null,
            "display": null,
            "left": null
          }
        },
        "57d3eb56f6344c678281a1583d33239d": {
          "model_module": "@jupyter-widgets/controls",
          "model_name": "DescriptionStyleModel",
          "state": {
            "_view_name": "StyleView",
            "_model_name": "DescriptionStyleModel",
            "description_width": "",
            "_view_module": "@jupyter-widgets/base",
            "_model_module_version": "1.5.0",
            "_view_count": null,
            "_view_module_version": "1.2.0",
            "_model_module": "@jupyter-widgets/controls"
          }
        },
        "bfbf84e345a54d74a5e65f60ac5431ad": {
          "model_module": "@jupyter-widgets/base",
          "model_name": "LayoutModel",
          "state": {
            "_view_name": "LayoutView",
            "grid_template_rows": null,
            "right": null,
            "justify_content": null,
            "_view_module": "@jupyter-widgets/base",
            "overflow": null,
            "_model_module_version": "1.2.0",
            "_view_count": null,
            "flex_flow": null,
            "width": null,
            "min_width": null,
            "border": null,
            "align_items": null,
            "bottom": null,
            "_model_module": "@jupyter-widgets/base",
            "top": null,
            "grid_column": null,
            "overflow_y": null,
            "overflow_x": null,
            "grid_auto_flow": null,
            "grid_area": null,
            "grid_template_columns": null,
            "flex": null,
            "_model_name": "LayoutModel",
            "justify_items": null,
            "grid_row": null,
            "max_height": null,
            "align_content": null,
            "visibility": null,
            "align_self": null,
            "height": null,
            "min_height": null,
            "padding": null,
            "grid_auto_rows": null,
            "grid_gap": null,
            "max_width": null,
            "order": null,
            "_view_module_version": "1.2.0",
            "grid_template_areas": null,
            "object_position": null,
            "object_fit": null,
            "grid_auto_columns": null,
            "margin": null,
            "display": null,
            "left": null
          }
        },
        "bf442f5916b74022be8d7f79136701e5": {
          "model_module": "@jupyter-widgets/controls",
          "model_name": "HBoxModel",
          "state": {
            "_view_name": "HBoxView",
            "_dom_classes": [],
            "_model_name": "HBoxModel",
            "_view_module": "@jupyter-widgets/controls",
            "_model_module_version": "1.5.0",
            "_view_count": null,
            "_view_module_version": "1.5.0",
            "box_style": "",
            "layout": "IPY_MODEL_cdf60d50d56c4db7bd4f66a1ca305118",
            "_model_module": "@jupyter-widgets/controls",
            "children": [
              "IPY_MODEL_820469b0b8704ed68a22d78662e10cad",
              "IPY_MODEL_9b6d9ba70f7f4f6489a399c0215216ab"
            ]
          }
        },
        "cdf60d50d56c4db7bd4f66a1ca305118": {
          "model_module": "@jupyter-widgets/base",
          "model_name": "LayoutModel",
          "state": {
            "_view_name": "LayoutView",
            "grid_template_rows": null,
            "right": null,
            "justify_content": null,
            "_view_module": "@jupyter-widgets/base",
            "overflow": null,
            "_model_module_version": "1.2.0",
            "_view_count": null,
            "flex_flow": null,
            "width": null,
            "min_width": null,
            "border": null,
            "align_items": null,
            "bottom": null,
            "_model_module": "@jupyter-widgets/base",
            "top": null,
            "grid_column": null,
            "overflow_y": null,
            "overflow_x": null,
            "grid_auto_flow": null,
            "grid_area": null,
            "grid_template_columns": null,
            "flex": null,
            "_model_name": "LayoutModel",
            "justify_items": null,
            "grid_row": null,
            "max_height": null,
            "align_content": null,
            "visibility": null,
            "align_self": null,
            "height": null,
            "min_height": null,
            "padding": null,
            "grid_auto_rows": null,
            "grid_gap": null,
            "max_width": null,
            "order": null,
            "_view_module_version": "1.2.0",
            "grid_template_areas": null,
            "object_position": null,
            "object_fit": null,
            "grid_auto_columns": null,
            "margin": null,
            "display": null,
            "left": null
          }
        },
        "820469b0b8704ed68a22d78662e10cad": {
          "model_module": "@jupyter-widgets/controls",
          "model_name": "FloatProgressModel",
          "state": {
            "_view_name": "ProgressView",
            "style": "IPY_MODEL_9cc6f8ca42f141bcb4030df714297012",
            "_dom_classes": [],
            "description": "Downloading: 100%",
            "_model_name": "FloatProgressModel",
            "bar_style": "success",
            "max": 213450,
            "_view_module": "@jupyter-widgets/controls",
            "_model_module_version": "1.5.0",
            "value": 213450,
            "_view_count": null,
            "_view_module_version": "1.5.0",
            "orientation": "horizontal",
            "min": 0,
            "description_tooltip": null,
            "_model_module": "@jupyter-widgets/controls",
            "layout": "IPY_MODEL_3303d9a079e149eaad54ed79d5af9dff"
          }
        },
        "9b6d9ba70f7f4f6489a399c0215216ab": {
          "model_module": "@jupyter-widgets/controls",
          "model_name": "HTMLModel",
          "state": {
            "_view_name": "HTMLView",
            "style": "IPY_MODEL_008ed372a25747628f9a2a338b62e457",
            "_dom_classes": [],
            "description": "",
            "_model_name": "HTMLModel",
            "placeholder": "​",
            "_view_module": "@jupyter-widgets/controls",
            "_model_module_version": "1.5.0",
            "value": " 213k/213k [00:00&lt;00:00, 1.46MB/s]",
            "_view_count": null,
            "_view_module_version": "1.5.0",
            "description_tooltip": null,
            "_model_module": "@jupyter-widgets/controls",
            "layout": "IPY_MODEL_4590ee12394547f2b27776992e700ad0"
          }
        },
        "9cc6f8ca42f141bcb4030df714297012": {
          "model_module": "@jupyter-widgets/controls",
          "model_name": "ProgressStyleModel",
          "state": {
            "_view_name": "StyleView",
            "_model_name": "ProgressStyleModel",
            "description_width": "initial",
            "_view_module": "@jupyter-widgets/base",
            "_model_module_version": "1.5.0",
            "_view_count": null,
            "_view_module_version": "1.2.0",
            "bar_color": null,
            "_model_module": "@jupyter-widgets/controls"
          }
        },
        "3303d9a079e149eaad54ed79d5af9dff": {
          "model_module": "@jupyter-widgets/base",
          "model_name": "LayoutModel",
          "state": {
            "_view_name": "LayoutView",
            "grid_template_rows": null,
            "right": null,
            "justify_content": null,
            "_view_module": "@jupyter-widgets/base",
            "overflow": null,
            "_model_module_version": "1.2.0",
            "_view_count": null,
            "flex_flow": null,
            "width": null,
            "min_width": null,
            "border": null,
            "align_items": null,
            "bottom": null,
            "_model_module": "@jupyter-widgets/base",
            "top": null,
            "grid_column": null,
            "overflow_y": null,
            "overflow_x": null,
            "grid_auto_flow": null,
            "grid_area": null,
            "grid_template_columns": null,
            "flex": null,
            "_model_name": "LayoutModel",
            "justify_items": null,
            "grid_row": null,
            "max_height": null,
            "align_content": null,
            "visibility": null,
            "align_self": null,
            "height": null,
            "min_height": null,
            "padding": null,
            "grid_auto_rows": null,
            "grid_gap": null,
            "max_width": null,
            "order": null,
            "_view_module_version": "1.2.0",
            "grid_template_areas": null,
            "object_position": null,
            "object_fit": null,
            "grid_auto_columns": null,
            "margin": null,
            "display": null,
            "left": null
          }
        },
        "008ed372a25747628f9a2a338b62e457": {
          "model_module": "@jupyter-widgets/controls",
          "model_name": "DescriptionStyleModel",
          "state": {
            "_view_name": "StyleView",
            "_model_name": "DescriptionStyleModel",
            "description_width": "",
            "_view_module": "@jupyter-widgets/base",
            "_model_module_version": "1.5.0",
            "_view_count": null,
            "_view_module_version": "1.2.0",
            "_model_module": "@jupyter-widgets/controls"
          }
        },
        "4590ee12394547f2b27776992e700ad0": {
          "model_module": "@jupyter-widgets/base",
          "model_name": "LayoutModel",
          "state": {
            "_view_name": "LayoutView",
            "grid_template_rows": null,
            "right": null,
            "justify_content": null,
            "_view_module": "@jupyter-widgets/base",
            "overflow": null,
            "_model_module_version": "1.2.0",
            "_view_count": null,
            "flex_flow": null,
            "width": null,
            "min_width": null,
            "border": null,
            "align_items": null,
            "bottom": null,
            "_model_module": "@jupyter-widgets/base",
            "top": null,
            "grid_column": null,
            "overflow_y": null,
            "overflow_x": null,
            "grid_auto_flow": null,
            "grid_area": null,
            "grid_template_columns": null,
            "flex": null,
            "_model_name": "LayoutModel",
            "justify_items": null,
            "grid_row": null,
            "max_height": null,
            "align_content": null,
            "visibility": null,
            "align_self": null,
            "height": null,
            "min_height": null,
            "padding": null,
            "grid_auto_rows": null,
            "grid_gap": null,
            "max_width": null,
            "order": null,
            "_view_module_version": "1.2.0",
            "grid_template_areas": null,
            "object_position": null,
            "object_fit": null,
            "grid_auto_columns": null,
            "margin": null,
            "display": null,
            "left": null
          }
        },
        "d1ae9b2175f844af8882167e29b1cd87": {
          "model_module": "@jupyter-widgets/controls",
          "model_name": "HBoxModel",
          "state": {
            "_view_name": "HBoxView",
            "_dom_classes": [],
            "_model_name": "HBoxModel",
            "_view_module": "@jupyter-widgets/controls",
            "_model_module_version": "1.5.0",
            "_view_count": null,
            "_view_module_version": "1.5.0",
            "box_style": "",
            "layout": "IPY_MODEL_636c6147bd1442d7ac18477e3b38b604",
            "_model_module": "@jupyter-widgets/controls",
            "children": [
              "IPY_MODEL_9955c6dc1153455aad6e12b4498dc3e0",
              "IPY_MODEL_dfe25baf4ce44ff2b26731d6fbadc48b"
            ]
          }
        },
        "636c6147bd1442d7ac18477e3b38b604": {
          "model_module": "@jupyter-widgets/base",
          "model_name": "LayoutModel",
          "state": {
            "_view_name": "LayoutView",
            "grid_template_rows": null,
            "right": null,
            "justify_content": null,
            "_view_module": "@jupyter-widgets/base",
            "overflow": null,
            "_model_module_version": "1.2.0",
            "_view_count": null,
            "flex_flow": null,
            "width": null,
            "min_width": null,
            "border": null,
            "align_items": null,
            "bottom": null,
            "_model_module": "@jupyter-widgets/base",
            "top": null,
            "grid_column": null,
            "overflow_y": null,
            "overflow_x": null,
            "grid_auto_flow": null,
            "grid_area": null,
            "grid_template_columns": null,
            "flex": null,
            "_model_name": "LayoutModel",
            "justify_items": null,
            "grid_row": null,
            "max_height": null,
            "align_content": null,
            "visibility": null,
            "align_self": null,
            "height": null,
            "min_height": null,
            "padding": null,
            "grid_auto_rows": null,
            "grid_gap": null,
            "max_width": null,
            "order": null,
            "_view_module_version": "1.2.0",
            "grid_template_areas": null,
            "object_position": null,
            "object_fit": null,
            "grid_auto_columns": null,
            "margin": null,
            "display": null,
            "left": null
          }
        },
        "9955c6dc1153455aad6e12b4498dc3e0": {
          "model_module": "@jupyter-widgets/controls",
          "model_name": "FloatProgressModel",
          "state": {
            "_view_name": "ProgressView",
            "style": "IPY_MODEL_3189be001cd24563beac87d3fa6b6d8f",
            "_dom_classes": [],
            "description": "Downloading: 100%",
            "_model_name": "FloatProgressModel",
            "bar_style": "success",
            "max": 213450,
            "_view_module": "@jupyter-widgets/controls",
            "_model_module_version": "1.5.0",
            "value": 213450,
            "_view_count": null,
            "_view_module_version": "1.5.0",
            "orientation": "horizontal",
            "min": 0,
            "description_tooltip": null,
            "_model_module": "@jupyter-widgets/controls",
            "layout": "IPY_MODEL_e64993ba9d94470f85e2dfad9b91026a"
          }
        },
        "dfe25baf4ce44ff2b26731d6fbadc48b": {
          "model_module": "@jupyter-widgets/controls",
          "model_name": "HTMLModel",
          "state": {
            "_view_name": "HTMLView",
            "style": "IPY_MODEL_f8f79c551a904ebea9e6f3454fc3151b",
            "_dom_classes": [],
            "description": "",
            "_model_name": "HTMLModel",
            "placeholder": "​",
            "_view_module": "@jupyter-widgets/controls",
            "_model_module_version": "1.5.0",
            "value": " 213k/213k [00:00&lt;00:00, 1.46MB/s]",
            "_view_count": null,
            "_view_module_version": "1.5.0",
            "description_tooltip": null,
            "_model_module": "@jupyter-widgets/controls",
            "layout": "IPY_MODEL_33249e963195457f863c988921b7dfa2"
          }
        },
        "3189be001cd24563beac87d3fa6b6d8f": {
          "model_module": "@jupyter-widgets/controls",
          "model_name": "ProgressStyleModel",
          "state": {
            "_view_name": "StyleView",
            "_model_name": "ProgressStyleModel",
            "description_width": "initial",
            "_view_module": "@jupyter-widgets/base",
            "_model_module_version": "1.5.0",
            "_view_count": null,
            "_view_module_version": "1.2.0",
            "bar_color": null,
            "_model_module": "@jupyter-widgets/controls"
          }
        },
        "e64993ba9d94470f85e2dfad9b91026a": {
          "model_module": "@jupyter-widgets/base",
          "model_name": "LayoutModel",
          "state": {
            "_view_name": "LayoutView",
            "grid_template_rows": null,
            "right": null,
            "justify_content": null,
            "_view_module": "@jupyter-widgets/base",
            "overflow": null,
            "_model_module_version": "1.2.0",
            "_view_count": null,
            "flex_flow": null,
            "width": null,
            "min_width": null,
            "border": null,
            "align_items": null,
            "bottom": null,
            "_model_module": "@jupyter-widgets/base",
            "top": null,
            "grid_column": null,
            "overflow_y": null,
            "overflow_x": null,
            "grid_auto_flow": null,
            "grid_area": null,
            "grid_template_columns": null,
            "flex": null,
            "_model_name": "LayoutModel",
            "justify_items": null,
            "grid_row": null,
            "max_height": null,
            "align_content": null,
            "visibility": null,
            "align_self": null,
            "height": null,
            "min_height": null,
            "padding": null,
            "grid_auto_rows": null,
            "grid_gap": null,
            "max_width": null,
            "order": null,
            "_view_module_version": "1.2.0",
            "grid_template_areas": null,
            "object_position": null,
            "object_fit": null,
            "grid_auto_columns": null,
            "margin": null,
            "display": null,
            "left": null
          }
        },
        "f8f79c551a904ebea9e6f3454fc3151b": {
          "model_module": "@jupyter-widgets/controls",
          "model_name": "DescriptionStyleModel",
          "state": {
            "_view_name": "StyleView",
            "_model_name": "DescriptionStyleModel",
            "description_width": "",
            "_view_module": "@jupyter-widgets/base",
            "_model_module_version": "1.5.0",
            "_view_count": null,
            "_view_module_version": "1.2.0",
            "_model_module": "@jupyter-widgets/controls"
          }
        },
        "33249e963195457f863c988921b7dfa2": {
          "model_module": "@jupyter-widgets/base",
          "model_name": "LayoutModel",
          "state": {
            "_view_name": "LayoutView",
            "grid_template_rows": null,
            "right": null,
            "justify_content": null,
            "_view_module": "@jupyter-widgets/base",
            "overflow": null,
            "_model_module_version": "1.2.0",
            "_view_count": null,
            "flex_flow": null,
            "width": null,
            "min_width": null,
            "border": null,
            "align_items": null,
            "bottom": null,
            "_model_module": "@jupyter-widgets/base",
            "top": null,
            "grid_column": null,
            "overflow_y": null,
            "overflow_x": null,
            "grid_auto_flow": null,
            "grid_area": null,
            "grid_template_columns": null,
            "flex": null,
            "_model_name": "LayoutModel",
            "justify_items": null,
            "grid_row": null,
            "max_height": null,
            "align_content": null,
            "visibility": null,
            "align_self": null,
            "height": null,
            "min_height": null,
            "padding": null,
            "grid_auto_rows": null,
            "grid_gap": null,
            "max_width": null,
            "order": null,
            "_view_module_version": "1.2.0",
            "grid_template_areas": null,
            "object_position": null,
            "object_fit": null,
            "grid_auto_columns": null,
            "margin": null,
            "display": null,
            "left": null
          }
        }
      }
    }
  },
  "cells": [
    {
      "cell_type": "code",
      "metadata": {
        "colab": {
          "base_uri": "https://localhost:8080/"
        },
        "id": "gDR80nrpYJSZ",
        "outputId": "c9fad910-5cb6-425e-f1c1-e889963c6acd"
      },
      "source": [
        "from google.colab import drive\n",
        "drive.mount('/content/gdrive')"
      ],
      "execution_count": 1,
      "outputs": [
        {
          "output_type": "stream",
          "text": [
            "Mounted at /content/gdrive\n"
          ],
          "name": "stdout"
        }
      ]
    },
    {
      "cell_type": "markdown",
      "metadata": {
        "id": "sJsBpETWrSlk"
      },
      "source": [
        "# Setup"
      ]
    },
    {
      "cell_type": "code",
      "metadata": {
        "id": "Y5DJt9KGoSf5",
        "colab": {
          "base_uri": "https://localhost:8080/"
        },
        "outputId": "df76f62e-a012-497d-d84f-6c6078827a95"
      },
      "source": [
        "!git clone https://github.com/neuspell/neuspell\n",
        "%cd neuspell"
      ],
      "execution_count": 2,
      "outputs": [
        {
          "output_type": "stream",
          "text": [
            "Cloning into 'neuspell'...\n",
            "remote: Enumerating objects: 653, done.\u001b[K\n",
            "remote: Counting objects: 100% (456/456), done.\u001b[K\n",
            "remote: Compressing objects: 100% (287/287), done.\u001b[K\n",
            "remote: Total 653 (delta 280), reused 303 (delta 151), pack-reused 197\u001b[K\n",
            "Receiving objects: 100% (653/653), 74.43 MiB | 30.34 MiB/s, done.\n",
            "Resolving deltas: 100% (306/306), done.\n",
            "/content/neuspell\n"
          ],
          "name": "stdout"
        }
      ]
    },
    {
      "cell_type": "code",
      "metadata": {
        "id": "fiymHeLeoZfU",
        "colab": {
          "base_uri": "https://localhost:8080/"
        },
        "outputId": "2e43dbad-d60a-4bd3-c7b5-ae2849bef20f"
      },
      "source": [
        "!pip install -e ."
      ],
      "execution_count": 3,
      "outputs": [
        {
          "output_type": "stream",
          "text": [
            "Obtaining file:///content/neuspell\n",
            "Collecting transformers\n",
            "\u001b[?25l  Downloading https://files.pythonhosted.org/packages/d8/b2/57495b5309f09fa501866e225c84532d1fd89536ea62406b2181933fb418/transformers-4.5.1-py3-none-any.whl (2.1MB)\n",
            "\u001b[K     |████████████████████████████████| 2.1MB 6.8MB/s \n",
            "\u001b[?25hRequirement already satisfied: tqdm in /usr/local/lib/python3.7/dist-packages (from neuspell==1.0.0) (4.41.1)\n",
            "Requirement already satisfied: torch>=1.6.0 in /usr/local/lib/python3.7/dist-packages (from neuspell==1.0.0) (1.8.1+cu101)\n",
            "Requirement already satisfied: numpy in /usr/local/lib/python3.7/dist-packages (from neuspell==1.0.0) (1.19.5)\n",
            "Collecting jsonlines\n",
            "  Downloading https://files.pythonhosted.org/packages/d4/58/06f430ff7607a2929f80f07bfd820acbc508a4e977542fefcc522cde9dff/jsonlines-2.0.0-py3-none-any.whl\n",
            "Collecting sentencepiece\n",
            "\u001b[?25l  Downloading https://files.pythonhosted.org/packages/f5/99/e0808cb947ba10f575839c43e8fafc9cc44e4a7a2c8f79c60db48220a577/sentencepiece-0.1.95-cp37-cp37m-manylinux2014_x86_64.whl (1.2MB)\n",
            "\u001b[K     |████████████████████████████████| 1.2MB 44.2MB/s \n",
            "\u001b[?25hCollecting pytorch_pretrained_bert\n",
            "\u001b[?25l  Downloading https://files.pythonhosted.org/packages/d7/e0/c08d5553b89973d9a240605b9c12404bcf8227590de62bae27acbcfe076b/pytorch_pretrained_bert-0.6.2-py3-none-any.whl (123kB)\n",
            "\u001b[K     |████████████████████████████████| 133kB 40.6MB/s \n",
            "\u001b[?25hRequirement already satisfied: importlib-metadata; python_version < \"3.8\" in /usr/local/lib/python3.7/dist-packages (from transformers->neuspell==1.0.0) (3.10.1)\n",
            "Requirement already satisfied: regex!=2019.12.17 in /usr/local/lib/python3.7/dist-packages (from transformers->neuspell==1.0.0) (2019.12.20)\n",
            "Requirement already satisfied: requests in /usr/local/lib/python3.7/dist-packages (from transformers->neuspell==1.0.0) (2.23.0)\n",
            "Requirement already satisfied: packaging in /usr/local/lib/python3.7/dist-packages (from transformers->neuspell==1.0.0) (20.9)\n",
            "Requirement already satisfied: filelock in /usr/local/lib/python3.7/dist-packages (from transformers->neuspell==1.0.0) (3.0.12)\n",
            "Collecting sacremoses\n",
            "\u001b[?25l  Downloading https://files.pythonhosted.org/packages/75/ee/67241dc87f266093c533a2d4d3d69438e57d7a90abb216fa076e7d475d4a/sacremoses-0.0.45-py3-none-any.whl (895kB)\n",
            "\u001b[K     |████████████████████████████████| 901kB 38.7MB/s \n",
            "\u001b[?25hCollecting tokenizers<0.11,>=0.10.1\n",
            "\u001b[?25l  Downloading https://files.pythonhosted.org/packages/ae/04/5b870f26a858552025a62f1649c20d29d2672c02ff3c3fb4c688ca46467a/tokenizers-0.10.2-cp37-cp37m-manylinux2010_x86_64.whl (3.3MB)\n",
            "\u001b[K     |████████████████████████████████| 3.3MB 51.7MB/s \n",
            "\u001b[?25hRequirement already satisfied: typing-extensions in /usr/local/lib/python3.7/dist-packages (from torch>=1.6.0->neuspell==1.0.0) (3.7.4.3)\n",
            "Collecting boto3\n",
            "\u001b[?25l  Downloading https://files.pythonhosted.org/packages/75/0d/63f4deac9106834127d7a760b934faa8012aa5c1ce0be94758c8f0bc75ab/boto3-1.17.61-py2.py3-none-any.whl (131kB)\n",
            "\u001b[K     |████████████████████████████████| 133kB 44.2MB/s \n",
            "\u001b[?25hRequirement already satisfied: zipp>=0.5 in /usr/local/lib/python3.7/dist-packages (from importlib-metadata; python_version < \"3.8\"->transformers->neuspell==1.0.0) (3.4.1)\n",
            "Requirement already satisfied: certifi>=2017.4.17 in /usr/local/lib/python3.7/dist-packages (from requests->transformers->neuspell==1.0.0) (2020.12.5)\n",
            "Requirement already satisfied: chardet<4,>=3.0.2 in /usr/local/lib/python3.7/dist-packages (from requests->transformers->neuspell==1.0.0) (3.0.4)\n",
            "Requirement already satisfied: idna<3,>=2.5 in /usr/local/lib/python3.7/dist-packages (from requests->transformers->neuspell==1.0.0) (2.10)\n",
            "Requirement already satisfied: urllib3!=1.25.0,!=1.25.1,<1.26,>=1.21.1 in /usr/local/lib/python3.7/dist-packages (from requests->transformers->neuspell==1.0.0) (1.24.3)\n",
            "Requirement already satisfied: pyparsing>=2.0.2 in /usr/local/lib/python3.7/dist-packages (from packaging->transformers->neuspell==1.0.0) (2.4.7)\n",
            "Requirement already satisfied: six in /usr/local/lib/python3.7/dist-packages (from sacremoses->transformers->neuspell==1.0.0) (1.15.0)\n",
            "Requirement already satisfied: click in /usr/local/lib/python3.7/dist-packages (from sacremoses->transformers->neuspell==1.0.0) (7.1.2)\n",
            "Requirement already satisfied: joblib in /usr/local/lib/python3.7/dist-packages (from sacremoses->transformers->neuspell==1.0.0) (1.0.1)\n",
            "Collecting jmespath<1.0.0,>=0.7.1\n",
            "  Downloading https://files.pythonhosted.org/packages/07/cb/5f001272b6faeb23c1c9e0acc04d48eaaf5c862c17709d20e3469c6e0139/jmespath-0.10.0-py2.py3-none-any.whl\n",
            "Collecting botocore<1.21.0,>=1.20.61\n",
            "\u001b[?25l  Downloading https://files.pythonhosted.org/packages/49/34/5daba930f1807ba99bec7b3ed41d335bd406d84aceea13e2ded894a6dd0a/botocore-1.20.61-py2.py3-none-any.whl (7.5MB)\n",
            "\u001b[K     |████████████████████████████████| 7.5MB 47.2MB/s \n",
            "\u001b[?25hCollecting s3transfer<0.5.0,>=0.4.0\n",
            "\u001b[?25l  Downloading https://files.pythonhosted.org/packages/63/d0/693477c688348654ddc21dcdce0817653a294aa43f41771084c25e7ff9c7/s3transfer-0.4.2-py2.py3-none-any.whl (79kB)\n",
            "\u001b[K     |████████████████████████████████| 81kB 9.5MB/s \n",
            "\u001b[?25hRequirement already satisfied: python-dateutil<3.0.0,>=2.1 in /usr/local/lib/python3.7/dist-packages (from botocore<1.21.0,>=1.20.61->boto3->pytorch_pretrained_bert->neuspell==1.0.0) (2.8.1)\n",
            "\u001b[31mERROR: botocore 1.20.61 has requirement urllib3<1.27,>=1.25.4, but you'll have urllib3 1.24.3 which is incompatible.\u001b[0m\n",
            "Installing collected packages: sacremoses, tokenizers, transformers, jsonlines, sentencepiece, jmespath, botocore, s3transfer, boto3, pytorch-pretrained-bert, neuspell\n",
            "  Running setup.py develop for neuspell\n",
            "Successfully installed boto3-1.17.61 botocore-1.20.61 jmespath-0.10.0 jsonlines-2.0.0 neuspell pytorch-pretrained-bert-0.6.2 s3transfer-0.4.2 sacremoses-0.0.45 sentencepiece-0.1.95 tokenizers-0.10.2 transformers-4.5.1\n"
          ],
          "name": "stdout"
        }
      ]
    },
    {
      "cell_type": "code",
      "metadata": {
        "id": "8LolSwfmocil",
        "colab": {
          "base_uri": "https://localhost:8080/"
        },
        "outputId": "c5c705d4-968a-4615-fd41-89af3d4926a9"
      },
      "source": [
        "!pip install urllib3==1.25.4"
      ],
      "execution_count": 4,
      "outputs": [
        {
          "output_type": "stream",
          "text": [
            "Collecting urllib3==1.25.4\n",
            "\u001b[?25l  Downloading https://files.pythonhosted.org/packages/91/0d/7777358f672a14b7ae0dfcd29f949f409f913e0578190d6bfa68eb55864b/urllib3-1.25.4-py2.py3-none-any.whl (125kB)\n",
            "\r\u001b[K     |██▋                             | 10kB 19.7MB/s eta 0:00:01\r\u001b[K     |█████▏                          | 20kB 10.7MB/s eta 0:00:01\r\u001b[K     |███████▉                        | 30kB 8.7MB/s eta 0:00:01\r\u001b[K     |██████████▍                     | 40kB 8.0MB/s eta 0:00:01\r\u001b[K     |█████████████                   | 51kB 5.0MB/s eta 0:00:01\r\u001b[K     |███████████████▋                | 61kB 5.1MB/s eta 0:00:01\r\u001b[K     |██████████████████▎             | 71kB 5.5MB/s eta 0:00:01\r\u001b[K     |████████████████████▉           | 81kB 6.0MB/s eta 0:00:01\r\u001b[K     |███████████████████████▌        | 92kB 5.9MB/s eta 0:00:01\r\u001b[K     |██████████████████████████      | 102kB 4.9MB/s eta 0:00:01\r\u001b[K     |████████████████████████████▊   | 112kB 4.9MB/s eta 0:00:01\r\u001b[K     |███████████████████████████████▎| 122kB 4.9MB/s eta 0:00:01\r\u001b[K     |████████████████████████████████| 133kB 4.9MB/s \n",
            "\u001b[31mERROR: datascience 0.10.6 has requirement folium==0.2.1, but you'll have folium 0.8.3 which is incompatible.\u001b[0m\n",
            "\u001b[?25hInstalling collected packages: urllib3\n",
            "  Found existing installation: urllib3 1.24.3\n",
            "    Uninstalling urllib3-1.24.3:\n",
            "      Successfully uninstalled urllib3-1.24.3\n",
            "Successfully installed urllib3-1.25.4\n"
          ],
          "name": "stdout"
        }
      ]
    },
    {
      "cell_type": "code",
      "metadata": {
        "id": "0owUYWg2pKTQ",
        "colab": {
          "base_uri": "https://localhost:8080/"
        },
        "outputId": "d36dab07-d913-4714-ac9d-4d2ae637304b"
      },
      "source": [
        "!pip install folium==0.2.1"
      ],
      "execution_count": 5,
      "outputs": [
        {
          "output_type": "stream",
          "text": [
            "Collecting folium==0.2.1\n",
            "\u001b[?25l  Downloading https://files.pythonhosted.org/packages/72/dd/75ced7437bfa7cb9a88b96ee0177953062803c3b4cde411a97d98c35adaf/folium-0.2.1.tar.gz (69kB)\n",
            "\r\u001b[K     |████▊                           | 10kB 16.5MB/s eta 0:00:01\r\u001b[K     |█████████▍                      | 20kB 12.6MB/s eta 0:00:01\r\u001b[K     |██████████████                  | 30kB 9.1MB/s eta 0:00:01\r\u001b[K     |██████████████████▊             | 40kB 8.5MB/s eta 0:00:01\r\u001b[K     |███████████████████████▍        | 51kB 5.3MB/s eta 0:00:01\r\u001b[K     |████████████████████████████    | 61kB 5.2MB/s eta 0:00:01\r\u001b[K     |████████████████████████████████| 71kB 3.9MB/s \n",
            "\u001b[?25hRequirement already satisfied: Jinja2 in /usr/local/lib/python3.7/dist-packages (from folium==0.2.1) (2.11.3)\n",
            "Requirement already satisfied: MarkupSafe>=0.23 in /usr/local/lib/python3.7/dist-packages (from Jinja2->folium==0.2.1) (1.1.1)\n",
            "Building wheels for collected packages: folium\n",
            "  Building wheel for folium (setup.py) ... \u001b[?25l\u001b[?25hdone\n",
            "  Created wheel for folium: filename=folium-0.2.1-cp37-none-any.whl size=79979 sha256=7d1745901a5e64c2b275ba39babc3070df9138a3d9b4a81b9c656b28e21b41f9\n",
            "  Stored in directory: /root/.cache/pip/wheels/b8/09/f0/52d2ef419c2aaf4fb149f92a33e0008bdce7ae816f0dd8f0c5\n",
            "Successfully built folium\n",
            "Installing collected packages: folium\n",
            "  Found existing installation: folium 0.8.3\n",
            "    Uninstalling folium-0.8.3:\n",
            "      Successfully uninstalled folium-0.8.3\n",
            "Successfully installed folium-0.2.1\n"
          ],
          "name": "stdout"
        }
      ]
    },
    {
      "cell_type": "code",
      "metadata": {
        "id": "nBqDR09Konge",
        "colab": {
          "base_uri": "https://localhost:8080/"
        },
        "outputId": "921218fb-9907-4b83-947c-61c821b11d55"
      },
      "source": [
        "!pip install -r extras-requirements.txt"
      ],
      "execution_count": 6,
      "outputs": [
        {
          "output_type": "stream",
          "text": [
            "Obtaining file:///content/neuspell (from -r extras-requirements.txt (line 1))\n",
            "Obtaining file:///content/neuspell (from -r extras-requirements.txt (line 2))\n",
            "Requirement already satisfied: transformers in /usr/local/lib/python3.7/dist-packages (from neuspell==1.0.0->-r extras-requirements.txt (line 1)) (4.5.1)\n",
            "Requirement already satisfied: tqdm in /usr/local/lib/python3.7/dist-packages (from neuspell==1.0.0->-r extras-requirements.txt (line 1)) (4.41.1)\n",
            "Requirement already satisfied: torch>=1.6.0 in /usr/local/lib/python3.7/dist-packages (from neuspell==1.0.0->-r extras-requirements.txt (line 1)) (1.8.1+cu101)\n",
            "Requirement already satisfied: numpy in /usr/local/lib/python3.7/dist-packages (from neuspell==1.0.0->-r extras-requirements.txt (line 1)) (1.19.5)\n",
            "Requirement already satisfied: jsonlines in /usr/local/lib/python3.7/dist-packages (from neuspell==1.0.0->-r extras-requirements.txt (line 1)) (2.0.0)\n",
            "Requirement already satisfied: sentencepiece in /usr/local/lib/python3.7/dist-packages (from neuspell==1.0.0->-r extras-requirements.txt (line 1)) (0.1.95)\n",
            "Requirement already satisfied: pytorch_pretrained_bert in /usr/local/lib/python3.7/dist-packages (from neuspell==1.0.0->-r extras-requirements.txt (line 1)) (0.6.2)\n",
            "Requirement already satisfied: spacy in /usr/local/lib/python3.7/dist-packages (from neuspell==1.0.0->-r extras-requirements.txt (line 1)) (2.2.4)\n",
            "Collecting allennlp==1.5.0\n",
            "\u001b[?25l  Downloading https://files.pythonhosted.org/packages/31/56/1d3c00a8cec0d5d672c7a29980e0a468ea6287dc6e7ffd235cc6012c784d/allennlp-1.5.0-py3-none-any.whl (517kB)\n",
            "\u001b[K     |████████████████████████████████| 522kB 5.9MB/s \n",
            "\u001b[?25hRequirement already satisfied: packaging in /usr/local/lib/python3.7/dist-packages (from transformers->neuspell==1.0.0->-r extras-requirements.txt (line 1)) (20.9)\n",
            "Requirement already satisfied: tokenizers<0.11,>=0.10.1 in /usr/local/lib/python3.7/dist-packages (from transformers->neuspell==1.0.0->-r extras-requirements.txt (line 1)) (0.10.2)\n",
            "Requirement already satisfied: regex!=2019.12.17 in /usr/local/lib/python3.7/dist-packages (from transformers->neuspell==1.0.0->-r extras-requirements.txt (line 1)) (2019.12.20)\n",
            "Requirement already satisfied: filelock in /usr/local/lib/python3.7/dist-packages (from transformers->neuspell==1.0.0->-r extras-requirements.txt (line 1)) (3.0.12)\n",
            "Requirement already satisfied: sacremoses in /usr/local/lib/python3.7/dist-packages (from transformers->neuspell==1.0.0->-r extras-requirements.txt (line 1)) (0.0.45)\n",
            "Requirement already satisfied: requests in /usr/local/lib/python3.7/dist-packages (from transformers->neuspell==1.0.0->-r extras-requirements.txt (line 1)) (2.23.0)\n",
            "Requirement already satisfied: importlib-metadata; python_version < \"3.8\" in /usr/local/lib/python3.7/dist-packages (from transformers->neuspell==1.0.0->-r extras-requirements.txt (line 1)) (3.10.1)\n",
            "Requirement already satisfied: typing-extensions in /usr/local/lib/python3.7/dist-packages (from torch>=1.6.0->neuspell==1.0.0->-r extras-requirements.txt (line 1)) (3.7.4.3)\n",
            "Requirement already satisfied: boto3 in /usr/local/lib/python3.7/dist-packages (from pytorch_pretrained_bert->neuspell==1.0.0->-r extras-requirements.txt (line 1)) (1.17.61)\n",
            "Requirement already satisfied: thinc==7.4.0 in /usr/local/lib/python3.7/dist-packages (from spacy->neuspell==1.0.0->-r extras-requirements.txt (line 1)) (7.4.0)\n",
            "Requirement already satisfied: plac<1.2.0,>=0.9.6 in /usr/local/lib/python3.7/dist-packages (from spacy->neuspell==1.0.0->-r extras-requirements.txt (line 1)) (1.1.3)\n",
            "Requirement already satisfied: cymem<2.1.0,>=2.0.2 in /usr/local/lib/python3.7/dist-packages (from spacy->neuspell==1.0.0->-r extras-requirements.txt (line 1)) (2.0.5)\n",
            "Requirement already satisfied: murmurhash<1.1.0,>=0.28.0 in /usr/local/lib/python3.7/dist-packages (from spacy->neuspell==1.0.0->-r extras-requirements.txt (line 1)) (1.0.5)\n",
            "Requirement already satisfied: srsly<1.1.0,>=1.0.2 in /usr/local/lib/python3.7/dist-packages (from spacy->neuspell==1.0.0->-r extras-requirements.txt (line 1)) (1.0.5)\n",
            "Requirement already satisfied: setuptools in /usr/local/lib/python3.7/dist-packages (from spacy->neuspell==1.0.0->-r extras-requirements.txt (line 1)) (56.0.0)\n",
            "Requirement already satisfied: blis<0.5.0,>=0.4.0 in /usr/local/lib/python3.7/dist-packages (from spacy->neuspell==1.0.0->-r extras-requirements.txt (line 1)) (0.4.1)\n",
            "Requirement already satisfied: wasabi<1.1.0,>=0.4.0 in /usr/local/lib/python3.7/dist-packages (from spacy->neuspell==1.0.0->-r extras-requirements.txt (line 1)) (0.8.2)\n",
            "Requirement already satisfied: catalogue<1.1.0,>=0.0.7 in /usr/local/lib/python3.7/dist-packages (from spacy->neuspell==1.0.0->-r extras-requirements.txt (line 1)) (1.0.0)\n",
            "Requirement already satisfied: preshed<3.1.0,>=3.0.2 in /usr/local/lib/python3.7/dist-packages (from spacy->neuspell==1.0.0->-r extras-requirements.txt (line 1)) (3.0.5)\n",
            "Requirement already satisfied: h5py in /usr/local/lib/python3.7/dist-packages (from allennlp==1.5.0->neuspell==1.0.0->-r extras-requirements.txt (line 2)) (2.10.0)\n",
            "Collecting tensorboardX>=1.2\n",
            "\u001b[?25l  Downloading https://files.pythonhosted.org/packages/07/84/46421bd3e0e89a92682b1a38b40efc22dafb6d8e3d947e4ceefd4a5fabc7/tensorboardX-2.2-py2.py3-none-any.whl (120kB)\n",
            "\u001b[K     |████████████████████████████████| 122kB 9.7MB/s \n",
            "\u001b[?25hRequirement already satisfied: scipy in /usr/local/lib/python3.7/dist-packages (from allennlp==1.5.0->neuspell==1.0.0->-r extras-requirements.txt (line 2)) (1.4.1)\n",
            "Requirement already satisfied: pytest in /usr/local/lib/python3.7/dist-packages (from allennlp==1.5.0->neuspell==1.0.0->-r extras-requirements.txt (line 2)) (3.6.4)\n",
            "Requirement already satisfied: nltk in /usr/local/lib/python3.7/dist-packages (from allennlp==1.5.0->neuspell==1.0.0->-r extras-requirements.txt (line 2)) (3.2.5)\n",
            "Collecting jsonpickle\n",
            "  Downloading https://files.pythonhosted.org/packages/bb/1a/f2db026d4d682303793559f1c2bb425ba3ec0d6fd7ac63397790443f2461/jsonpickle-2.0.0-py2.py3-none-any.whl\n",
            "Collecting overrides==3.1.0\n",
            "  Downloading https://files.pythonhosted.org/packages/ff/b1/10f69c00947518e6676bbd43e739733048de64b8dd998e9c2d5a71f44c5d/overrides-3.1.0.tar.gz\n",
            "Requirement already satisfied: scikit-learn in /usr/local/lib/python3.7/dist-packages (from allennlp==1.5.0->neuspell==1.0.0->-r extras-requirements.txt (line 2)) (0.22.2.post1)\n",
            "Collecting jsonnet>=0.10.0; sys_platform != \"win32\"\n",
            "\u001b[?25l  Downloading https://files.pythonhosted.org/packages/42/40/6f16e5ac994b16fa71c24310f97174ce07d3a97b433275589265c6b94d2b/jsonnet-0.17.0.tar.gz (259kB)\n",
            "\u001b[K     |████████████████████████████████| 266kB 8.2MB/s \n",
            "\u001b[?25hRequirement already satisfied: pyparsing>=2.0.2 in /usr/local/lib/python3.7/dist-packages (from packaging->transformers->neuspell==1.0.0->-r extras-requirements.txt (line 1)) (2.4.7)\n",
            "Requirement already satisfied: joblib in /usr/local/lib/python3.7/dist-packages (from sacremoses->transformers->neuspell==1.0.0->-r extras-requirements.txt (line 1)) (1.0.1)\n",
            "Requirement already satisfied: six in /usr/local/lib/python3.7/dist-packages (from sacremoses->transformers->neuspell==1.0.0->-r extras-requirements.txt (line 1)) (1.15.0)\n",
            "Requirement already satisfied: click in /usr/local/lib/python3.7/dist-packages (from sacremoses->transformers->neuspell==1.0.0->-r extras-requirements.txt (line 1)) (7.1.2)\n",
            "Requirement already satisfied: chardet<4,>=3.0.2 in /usr/local/lib/python3.7/dist-packages (from requests->transformers->neuspell==1.0.0->-r extras-requirements.txt (line 1)) (3.0.4)\n",
            "Requirement already satisfied: certifi>=2017.4.17 in /usr/local/lib/python3.7/dist-packages (from requests->transformers->neuspell==1.0.0->-r extras-requirements.txt (line 1)) (2020.12.5)\n",
            "Requirement already satisfied: idna<3,>=2.5 in /usr/local/lib/python3.7/dist-packages (from requests->transformers->neuspell==1.0.0->-r extras-requirements.txt (line 1)) (2.10)\n",
            "Requirement already satisfied: urllib3!=1.25.0,!=1.25.1,<1.26,>=1.21.1 in /usr/local/lib/python3.7/dist-packages (from requests->transformers->neuspell==1.0.0->-r extras-requirements.txt (line 1)) (1.25.4)\n",
            "Requirement already satisfied: zipp>=0.5 in /usr/local/lib/python3.7/dist-packages (from importlib-metadata; python_version < \"3.8\"->transformers->neuspell==1.0.0->-r extras-requirements.txt (line 1)) (3.4.1)\n",
            "Requirement already satisfied: s3transfer<0.5.0,>=0.4.0 in /usr/local/lib/python3.7/dist-packages (from boto3->pytorch_pretrained_bert->neuspell==1.0.0->-r extras-requirements.txt (line 1)) (0.4.2)\n",
            "Requirement already satisfied: botocore<1.21.0,>=1.20.61 in /usr/local/lib/python3.7/dist-packages (from boto3->pytorch_pretrained_bert->neuspell==1.0.0->-r extras-requirements.txt (line 1)) (1.20.61)\n",
            "Requirement already satisfied: jmespath<1.0.0,>=0.7.1 in /usr/local/lib/python3.7/dist-packages (from boto3->pytorch_pretrained_bert->neuspell==1.0.0->-r extras-requirements.txt (line 1)) (0.10.0)\n",
            "Requirement already satisfied: protobuf>=3.8.0 in /usr/local/lib/python3.7/dist-packages (from tensorboardX>=1.2->allennlp==1.5.0->neuspell==1.0.0->-r extras-requirements.txt (line 2)) (3.12.4)\n",
            "Requirement already satisfied: attrs>=17.4.0 in /usr/local/lib/python3.7/dist-packages (from pytest->allennlp==1.5.0->neuspell==1.0.0->-r extras-requirements.txt (line 2)) (20.3.0)\n",
            "Requirement already satisfied: py>=1.5.0 in /usr/local/lib/python3.7/dist-packages (from pytest->allennlp==1.5.0->neuspell==1.0.0->-r extras-requirements.txt (line 2)) (1.10.0)\n",
            "Requirement already satisfied: more-itertools>=4.0.0 in /usr/local/lib/python3.7/dist-packages (from pytest->allennlp==1.5.0->neuspell==1.0.0->-r extras-requirements.txt (line 2)) (8.7.0)\n",
            "Requirement already satisfied: atomicwrites>=1.0 in /usr/local/lib/python3.7/dist-packages (from pytest->allennlp==1.5.0->neuspell==1.0.0->-r extras-requirements.txt (line 2)) (1.4.0)\n",
            "Requirement already satisfied: pluggy<0.8,>=0.5 in /usr/local/lib/python3.7/dist-packages (from pytest->allennlp==1.5.0->neuspell==1.0.0->-r extras-requirements.txt (line 2)) (0.7.1)\n",
            "Requirement already satisfied: python-dateutil<3.0.0,>=2.1 in /usr/local/lib/python3.7/dist-packages (from botocore<1.21.0,>=1.20.61->boto3->pytorch_pretrained_bert->neuspell==1.0.0->-r extras-requirements.txt (line 1)) (2.8.1)\n",
            "Building wheels for collected packages: overrides, jsonnet\n",
            "  Building wheel for overrides (setup.py) ... \u001b[?25l\u001b[?25hdone\n",
            "  Created wheel for overrides: filename=overrides-3.1.0-cp37-none-any.whl size=10174 sha256=17ad0f15e976385ca5eaabf2d33181d4a39f0258a5abd21fad26b95c0d5fcb55\n",
            "  Stored in directory: /root/.cache/pip/wheels/5c/24/13/6ef8600e6f147c95e595f1289a86a3cc82ed65df57582c65a9\n",
            "  Building wheel for jsonnet (setup.py) ... \u001b[?25l\u001b[?25hdone\n",
            "  Created wheel for jsonnet: filename=jsonnet-0.17.0-cp37-cp37m-linux_x86_64.whl size=3388774 sha256=5c4587b68008b7351a75b90bef03a89e10a0a0db3fee84f6215b335df204b6a6\n",
            "  Stored in directory: /root/.cache/pip/wheels/26/7a/37/7dbcc30a6b4efd17b91ad1f0128b7bbf84813bd4e1cfb8c1e3\n",
            "Successfully built overrides jsonnet\n",
            "\u001b[31mERROR: allennlp 1.5.0 has requirement torch<1.8.0,>=1.6.0, but you'll have torch 1.8.1+cu101 which is incompatible.\u001b[0m\n",
            "\u001b[31mERROR: allennlp 1.5.0 has requirement transformers<4.3,>=4.1, but you'll have transformers 4.5.1 which is incompatible.\u001b[0m\n",
            "Installing collected packages: tensorboardX, jsonpickle, overrides, jsonnet, allennlp, neuspell\n",
            "  Found existing installation: neuspell 1.0.0\n",
            "    Can't uninstall 'neuspell'. No files were found to uninstall.\n",
            "  Running setup.py develop for neuspell\n",
            "Successfully installed allennlp-1.5.0 jsonnet-0.17.0 jsonpickle-2.0.0 neuspell overrides-3.1.0 tensorboardX-2.2\n"
          ],
          "name": "stdout"
        }
      ]
    },
    {
      "cell_type": "code",
      "metadata": {
        "id": "KFTbuKdqos-z",
        "colab": {
          "base_uri": "https://localhost:8080/"
        },
        "outputId": "08a69b68-3390-4c09-ff64-e8f019237d9f"
      },
      "source": [
        "!pip install torch==1.6.0"
      ],
      "execution_count": 7,
      "outputs": [
        {
          "output_type": "stream",
          "text": [
            "Collecting torch==1.6.0\n",
            "\u001b[?25l  Downloading https://files.pythonhosted.org/packages/5d/5e/35140615fc1f925023f489e71086a9ecc188053d263d3594237281284d82/torch-1.6.0-cp37-cp37m-manylinux1_x86_64.whl (748.8MB)\n",
            "\u001b[K     |████████████████████████████████| 748.8MB 24kB/s \n",
            "\u001b[?25hRequirement already satisfied: numpy in /usr/local/lib/python3.7/dist-packages (from torch==1.6.0) (1.19.5)\n",
            "Requirement already satisfied: future in /usr/local/lib/python3.7/dist-packages (from torch==1.6.0) (0.16.0)\n",
            "\u001b[31mERROR: torchvision 0.9.1+cu101 has requirement torch==1.8.1, but you'll have torch 1.6.0 which is incompatible.\u001b[0m\n",
            "\u001b[31mERROR: torchtext 0.9.1 has requirement torch==1.8.1, but you'll have torch 1.6.0 which is incompatible.\u001b[0m\n",
            "\u001b[31mERROR: allennlp 1.5.0 has requirement transformers<4.3,>=4.1, but you'll have transformers 4.5.1 which is incompatible.\u001b[0m\n",
            "Installing collected packages: torch\n",
            "  Found existing installation: torch 1.8.1+cu101\n",
            "    Uninstalling torch-1.8.1+cu101:\n",
            "      Successfully uninstalled torch-1.8.1+cu101\n",
            "Successfully installed torch-1.6.0\n"
          ],
          "name": "stdout"
        }
      ]
    },
    {
      "cell_type": "code",
      "metadata": {
        "id": "se7YcT-Tphfd",
        "colab": {
          "base_uri": "https://localhost:8080/"
        },
        "outputId": "775a588a-f7cf-46a1-ed96-f818cfa237d3"
      },
      "source": [
        "!pip install transformers==4.1"
      ],
      "execution_count": 8,
      "outputs": [
        {
          "output_type": "stream",
          "text": [
            "Collecting transformers==4.1\n",
            "\u001b[?25l  Downloading https://files.pythonhosted.org/packages/58/40/b1b8b0cad8eb37a7f9362a6c3930445bdf9dd745cdf6cbfce682fed4aef0/transformers-4.1.0-py3-none-any.whl (1.5MB)\n",
            "\u001b[K     |████████████████████████████████| 1.5MB 4.9MB/s \n",
            "\u001b[?25hRequirement already satisfied: packaging in /usr/local/lib/python3.7/dist-packages (from transformers==4.1) (20.9)\n",
            "Requirement already satisfied: regex!=2019.12.17 in /usr/local/lib/python3.7/dist-packages (from transformers==4.1) (2019.12.20)\n",
            "Requirement already satisfied: sacremoses in /usr/local/lib/python3.7/dist-packages (from transformers==4.1) (0.0.45)\n",
            "Requirement already satisfied: numpy in /usr/local/lib/python3.7/dist-packages (from transformers==4.1) (1.19.5)\n",
            "Requirement already satisfied: filelock in /usr/local/lib/python3.7/dist-packages (from transformers==4.1) (3.0.12)\n",
            "Requirement already satisfied: requests in /usr/local/lib/python3.7/dist-packages (from transformers==4.1) (2.23.0)\n",
            "Requirement already satisfied: tqdm>=4.27 in /usr/local/lib/python3.7/dist-packages (from transformers==4.1) (4.41.1)\n",
            "Collecting tokenizers==0.9.4\n",
            "\u001b[?25l  Downloading https://files.pythonhosted.org/packages/fb/36/59e4a62254c5fcb43894c6b0e9403ec6f4238cc2422a003ed2e6279a1784/tokenizers-0.9.4-cp37-cp37m-manylinux2010_x86_64.whl (2.9MB)\n",
            "\u001b[K     |████████████████████████████████| 2.9MB 17.3MB/s \n",
            "\u001b[?25hRequirement already satisfied: pyparsing>=2.0.2 in /usr/local/lib/python3.7/dist-packages (from packaging->transformers==4.1) (2.4.7)\n",
            "Requirement already satisfied: click in /usr/local/lib/python3.7/dist-packages (from sacremoses->transformers==4.1) (7.1.2)\n",
            "Requirement already satisfied: joblib in /usr/local/lib/python3.7/dist-packages (from sacremoses->transformers==4.1) (1.0.1)\n",
            "Requirement already satisfied: six in /usr/local/lib/python3.7/dist-packages (from sacremoses->transformers==4.1) (1.15.0)\n",
            "Requirement already satisfied: certifi>=2017.4.17 in /usr/local/lib/python3.7/dist-packages (from requests->transformers==4.1) (2020.12.5)\n",
            "Requirement already satisfied: chardet<4,>=3.0.2 in /usr/local/lib/python3.7/dist-packages (from requests->transformers==4.1) (3.0.4)\n",
            "Requirement already satisfied: urllib3!=1.25.0,!=1.25.1,<1.26,>=1.21.1 in /usr/local/lib/python3.7/dist-packages (from requests->transformers==4.1) (1.25.4)\n",
            "Requirement already satisfied: idna<3,>=2.5 in /usr/local/lib/python3.7/dist-packages (from requests->transformers==4.1) (2.10)\n",
            "Installing collected packages: tokenizers, transformers\n",
            "  Found existing installation: tokenizers 0.10.2\n",
            "    Uninstalling tokenizers-0.10.2:\n",
            "      Successfully uninstalled tokenizers-0.10.2\n",
            "  Found existing installation: transformers 4.5.1\n",
            "    Uninstalling transformers-4.5.1:\n",
            "      Successfully uninstalled transformers-4.5.1\n",
            "Successfully installed tokenizers-0.9.4 transformers-4.1.0\n"
          ],
          "name": "stdout"
        }
      ]
    },
    {
      "cell_type": "code",
      "metadata": {
        "id": "xaaDd1X7DZll",
        "colab": {
          "base_uri": "https://localhost:8080/",
          "height": 0,
          "referenced_widgets": [
            "2e266de7559f4ef1a7fe51425f577495",
            "49cdc07bd7614d5b96c05f63d2b178ef",
            "b37c8cd087cf42ef96bc729484c8d761",
            "1ccbe62be13149df94d0bcea1a2843ed",
            "012da40b35b94adf85b577eba1c1a66b",
            "99732e1eb0c649fd9cb113dfb12b8838",
            "e6adb788cafe4103bb1c17dbc4198102",
            "c42359a9aefa467fb91f00b77b52f3e6",
            "64df53ae3365499bad67a897548613fe",
            "72d4e89fe93846afb8a658e01436a597",
            "370e850913ab42d8a388a16ea947908e",
            "0275e53174e045d4b4ce58a6fb2734a0",
            "32accd1fd9924560924d78a05b1e7daf",
            "9631202e8e374b158339c9ef714f08d5",
            "bba50d2ceb7b4e73bb0f2924880cf195",
            "91dab46eae2b4c92906bcf36187855ec",
            "82fe1e13870f4c3b84316ed7704d6e6d",
            "d10c14265dc241daa2e2cb9dd9637c91",
            "b049742931af4ce2aa8cd4f5b7c81e0b",
            "7ef8aa97e7094a17ba185d9ce2a5cc61",
            "8aa11a5422ab46e2bf2d9479e744cbbf",
            "059a97a05b7646cbb2dae7fdcf2d8431",
            "075a02c4a10a44f2bc79e90fbf9f867a",
            "a02b45ad79384df9af3162c63556e204",
            "26168e123d7c4daf8b46bfd9e0376e50",
            "b5d48a54e0ec45549af84072d731644a",
            "ad35370e412f4644adf04f2cf842a5eb",
            "c79c488350b944688357d0c9fa9a851f",
            "51ee0296e4584b82bcdb2e99cc2e4b02",
            "5b8d538e20e4446d8ff26fe457badf60",
            "2b6120681fd1464a8437b4b529e7e5a3",
            "c78f4f89bd6b4805bfc94f6c5a27a3a7"
          ]
        },
        "outputId": "e471ca08-afcd-4e4c-9a48-c8b1c040c98e"
      },
      "source": [
        "import neuspell"
      ],
      "execution_count": 9,
      "outputs": [
        {
          "output_type": "stream",
          "text": [
            "data folder is set to `/content/neuspell/neuspell/../data` script\n"
          ],
          "name": "stdout"
        },
        {
          "output_type": "display_data",
          "data": {
            "application/vnd.jupyter.widget-view+json": {
              "model_id": "2e266de7559f4ef1a7fe51425f577495",
              "version_minor": 0,
              "version_major": 2
            },
            "text/plain": [
              "HBox(children=(FloatProgress(value=0.0, description='Downloading', max=1042301.0, style=ProgressStyle(descript…"
            ]
          },
          "metadata": {
            "tags": []
          }
        },
        {
          "output_type": "stream",
          "text": [
            "\n"
          ],
          "name": "stdout"
        },
        {
          "output_type": "display_data",
          "data": {
            "application/vnd.jupyter.widget-view+json": {
              "model_id": "64df53ae3365499bad67a897548613fe",
              "version_minor": 0,
              "version_major": 2
            },
            "text/plain": [
              "HBox(children=(FloatProgress(value=0.0, description='Downloading', max=456318.0, style=ProgressStyle(descripti…"
            ]
          },
          "metadata": {
            "tags": []
          }
        },
        {
          "output_type": "stream",
          "text": [
            "\n"
          ],
          "name": "stdout"
        },
        {
          "output_type": "display_data",
          "data": {
            "application/vnd.jupyter.widget-view+json": {
              "model_id": "82fe1e13870f4c3b84316ed7704d6e6d",
              "version_minor": 0,
              "version_major": 2
            },
            "text/plain": [
              "HBox(children=(FloatProgress(value=0.0, description='Downloading', max=718.0, style=ProgressStyle(description_…"
            ]
          },
          "metadata": {
            "tags": []
          }
        },
        {
          "output_type": "stream",
          "text": [
            "\n"
          ],
          "name": "stdout"
        },
        {
          "output_type": "display_data",
          "data": {
            "application/vnd.jupyter.widget-view+json": {
              "model_id": "26168e123d7c4daf8b46bfd9e0376e50",
              "version_minor": 0,
              "version_major": 2
            },
            "text/plain": [
              "HBox(children=(FloatProgress(value=0.0, description='Downloading', max=1520013706.0, style=ProgressStyle(descr…"
            ]
          },
          "metadata": {
            "tags": []
          }
        },
        {
          "output_type": "stream",
          "text": [
            "\n"
          ],
          "name": "stdout"
        }
      ]
    },
    {
      "cell_type": "code",
      "metadata": {
        "id": "r16B7f6EqCzu",
        "colab": {
          "base_uri": "https://localhost:8080/"
        },
        "outputId": "16a04a57-0a33-42b3-c2ab-2820de955371"
      },
      "source": [
        "%cd data/traintest\n",
        "!python download_datafiles.py "
      ],
      "execution_count": 10,
      "outputs": [
        {
          "output_type": "stream",
          "text": [
            "/content/neuspell/data/traintest\n",
            "./wo_context created\n"
          ],
          "name": "stdout"
        }
      ]
    },
    {
      "cell_type": "code",
      "metadata": {
        "id": "yWAH8SYjqWqt",
        "colab": {
          "base_uri": "https://localhost:8080/"
        },
        "outputId": "71db35f6-39b4-4e64-e20b-5f931952a2f1"
      },
      "source": [
        "%cd /content/neuspell"
      ],
      "execution_count": 11,
      "outputs": [
        {
          "output_type": "stream",
          "text": [
            "/content/neuspell\n"
          ],
          "name": "stdout"
        }
      ]
    },
    {
      "cell_type": "markdown",
      "metadata": {
        "id": "PIX83hQaU_4S"
      },
      "source": [
        "# Library"
      ]
    },
    {
      "cell_type": "code",
      "metadata": {
        "id": "nZMoUfq1xOso"
      },
      "source": [
        "import torch\n",
        "from torch import nn\n",
        "from torch.nn.utils.rnn import pad_sequence\n",
        "from torch.nn.utils.rnn import pack_padded_sequence, pad_packed_sequence\n",
        "import torch.nn.functional as F\n",
        "import numpy as np\n",
        "\n",
        "import time\n",
        "\n",
        "from neuspell.seq_modeling.subwordbert import load_model\n",
        "from neuspell.seq_modeling.helpers import load_data, train_validation_split, batch_accuracy_func\n",
        "from neuspell.seq_modeling.helpers import get_tokens, progressBar\n",
        "from neuspell.seq_modeling.helpers import batch_iter, labelize, tokenize, bert_tokenize_for_valid_examples\n",
        "\n",
        "from neuspell.seq_modeling.helpers import load_vocab_dict, save_vocab_dict"
      ],
      "execution_count": 12,
      "outputs": []
    },
    {
      "cell_type": "markdown",
      "metadata": {
        "id": "Wsq2r8BYxQRd"
      },
      "source": [
        "# Train"
      ]
    },
    {
      "cell_type": "markdown",
      "metadata": {
        "id": "8TKBAuP2_7KL"
      },
      "source": [
        "## Load dataset, vocab"
      ]
    },
    {
      "cell_type": "code",
      "metadata": {
        "id": "o1vujZqTxWBj",
        "colab": {
          "base_uri": "https://localhost:8080/"
        },
        "outputId": "acae2cc6-6b80-470c-be15-43c40fd27401"
      },
      "source": [
        "train_data = load_data('/content/neuspell/data/traintest/','test.1blm','test.1blm.noise.prob')\n",
        "\n",
        "train_data, valid_data = train_validation_split(train_data, 0.90, seed=1)\n",
        "\n",
        "vocab_ref = {}\n",
        "\n",
        "vocab = get_tokens([i[0] for i in train_data],\n",
        "                           keep_simple=True,\n",
        "                           min_max_freq=(2,float(\"inf\")),\n",
        "                           topk=100000,\n",
        "                           intersect=vocab_ref,\n",
        "                           load_char_tokens=True)\n",
        "\n",
        "# save_vocab_dict('/content/drive/MyDrive/NLP/bert_vocab.pkl', vocab)"
      ],
      "execution_count": 13,
      "outputs": [
        {
          "output_type": "stream",
          "text": [
            "273134it [00:00, 332302.54it/s]\n",
            "273134it [00:00, 1080250.78it/s]\n",
            "  0%|          | 0/245821 [00:00<?, ?it/s]"
          ],
          "name": "stderr"
        },
        {
          "output_type": "stream",
          "text": [
            "loaded tuples of (corr,incorr) examples from /content/neuspell/data/traintest/\n"
          ],
          "name": "stdout"
        },
        {
          "output_type": "stream",
          "text": [
            "100%|██████████| 245821/245821 [00:01<00:00, 134185.78it/s]\n"
          ],
          "name": "stderr"
        },
        {
          "output_type": "stream",
          "text": [
            "Total tokens found: 155272\n"
          ],
          "name": "stdout"
        },
        {
          "output_type": "stream",
          "text": [
            "\r  0%|          | 0/245821 [00:00<?, ?it/s]"
          ],
          "name": "stderr"
        },
        {
          "output_type": "stream",
          "text": [
            "Total tokens retained: 139243\n",
            "Total tokens retained: 67965\n",
            "Total tokens retained: 67965\n",
            "loading character tokens\n"
          ],
          "name": "stdout"
        },
        {
          "output_type": "stream",
          "text": [
            "100%|██████████| 245821/245821 [00:01<00:00, 173657.44it/s]"
          ],
          "name": "stderr"
        },
        {
          "output_type": "stream",
          "text": [
            "number of unique chars found: 98\n",
            "{'<<CHAR_UNK>>': 0, '<<CHAR_PAD>>': 1, '<<CHAR_START>>': 2, '<<CHAR_END>>': 3, 'H': 4, 'e': 5, ' ': 6, 'w': 7, 'a': 8, 's': 9, 'b': 10, 'r': 11, 'i': 12, 'f': 13, 'l': 14, 'y': 15, 'h': 16, 'o': 17, 'p': 18, 't': 19, 'z': 20, 'd': 21, 'n': 22, 'c': 23, 'k': 24, 'j': 25, 'u': 26, '.': 27, 'A': 28, 'm': 29, 'B': 30, 'g': 31, 'G': 32, 'M': 33, '3': 34, 'v': 35, ',': 36, '7': 37, '6': 38, '2': 39, 'T': 40, 'D': 41, 'S': 42, 'E': 43, '1': 44, '-': 45, 'x': 46, '4': 47, '9': 48, '(': 49, 'U': 50, 'P': 51, 'I': 52, ')': 53, \"'\": 54, ';': 55, 'q': 56, '\"': 57, '?': 58, 'Y': 59, 'C': 60, 'O': 61, 'K': 62, 'L': 63, 'N': 64, 'R': 65, 'W': 66, '0': 67, '8': 68, 'J': 69, ':': 70, 'F': 71, '5': 72, '%': 73, 'V': 74, '/': 75, '$': 76, 'Z': 77, 'Q': 78, '!': 79, '[': 80, ']': 81, 'X': 82, '&': 83, '@': 84, '+': 85, '_': 86, '#': 87, '*': 88, '|': 89, '>': 90, '^': 91, '\\\\': 92, '=': 93, '<': 94, '~': 95, '{': 96, '}': 97}\n"
          ],
          "name": "stdout"
        },
        {
          "output_type": "stream",
          "text": [
            "\n"
          ],
          "name": "stderr"
        }
      ]
    },
    {
      "cell_type": "markdown",
      "metadata": {
        "id": "N-Y6NsXyADRe"
      },
      "source": [
        "## Load model"
      ]
    },
    {
      "cell_type": "code",
      "metadata": {
        "id": "OCcV5pv03QwE"
      },
      "source": [
        "import gc\n",
        "\n",
        "gc.collect()\n",
        "\n",
        "torch.cuda.empty_cache()"
      ],
      "execution_count": 14,
      "outputs": []
    },
    {
      "cell_type": "code",
      "metadata": {
        "id": "jOxXin23x1Q1",
        "colab": {
          "base_uri": "https://localhost:8080/",
          "height": 131,
          "referenced_widgets": [
            "79108b23449043d3a90ce90bf4aef34e",
            "b41a68f46eaf42f0ac81b4a45b1bf3cb",
            "256c2c527d574129bf9059367425d2f5",
            "3354b7c4524646789e194b26637714c3",
            "81a01386c2514545b5b937a3885eb8ff",
            "32ba99d0d20c428b9676ea0b20e51597",
            "6d364f7c6a9b4ab480ffbee62ba24507",
            "41e977f6b48d4182835d4f0afcdbde46",
            "54c6192966be4eacb66d2a6552f5caca",
            "ef52f6b652cb42f2baea023da8c9a4a1",
            "9a384c929bac473b81ea0d0ebbca5ac9",
            "ba22f98a0e6b49998d98033be7fca3ca",
            "fd356376c26f4088b285224afb7f693b",
            "32e05218bd364a8f9b1cc91ac8d47a58",
            "57d3eb56f6344c678281a1583d33239d",
            "bfbf84e345a54d74a5e65f60ac5431ad"
          ]
        },
        "outputId": "d977d1e1-1410-492e-dddf-71dcfa4b37a6"
      },
      "source": [
        "bert_pretrained_name_or_path = \"bert-large-cased\"\n",
        "model = load_model(vocab,\"bert-large-cased\")\n",
        "model = model.cuda()\n",
        "\n",
        "\n",
        "VALID_BATCH_SIZE = 16\n",
        "\n",
        "data_iter = batch_iter(train_data, batch_size=VALID_BATCH_SIZE, shuffle=False)\n",
        "\n",
        "TRAIN_BATCH_SIZE = 16\n",
        "\n",
        "DEVICE = 'cuda'\n"
      ],
      "execution_count": 15,
      "outputs": [
        {
          "output_type": "display_data",
          "data": {
            "application/vnd.jupyter.widget-view+json": {
              "model_id": "79108b23449043d3a90ce90bf4aef34e",
              "version_minor": 0,
              "version_major": 2
            },
            "text/plain": [
              "HBox(children=(FloatProgress(value=0.0, description='Downloading', max=762.0, style=ProgressStyle(description_…"
            ]
          },
          "metadata": {
            "tags": []
          }
        },
        {
          "output_type": "stream",
          "text": [
            "\n"
          ],
          "name": "stdout"
        },
        {
          "output_type": "display_data",
          "data": {
            "application/vnd.jupyter.widget-view+json": {
              "model_id": "54c6192966be4eacb66d2a6552f5caca",
              "version_minor": 0,
              "version_major": 2
            },
            "text/plain": [
              "HBox(children=(FloatProgress(value=0.0, description='Downloading', max=1338740706.0, style=ProgressStyle(descr…"
            ]
          },
          "metadata": {
            "tags": []
          }
        },
        {
          "output_type": "stream",
          "text": [
            "\n",
            "Number of parameters in the model: 403246464\n"
          ],
          "name": "stdout"
        }
      ]
    },
    {
      "cell_type": "markdown",
      "metadata": {
        "id": "QiOvZITX_wpf"
      },
      "source": [
        "## freeze layers"
      ]
    },
    {
      "cell_type": "code",
      "metadata": {
        "id": "SKOHTfURHwZH"
      },
      "source": [
        "# for layers in model.bert_model.encoder.layer[:9]:\n",
        "#     for param in layers.parameters():\n",
        "#         param.requires_grad = False"
      ],
      "execution_count": 16,
      "outputs": []
    },
    {
      "cell_type": "markdown",
      "metadata": {
        "id": "W-NZQEzCAFiq"
      },
      "source": [
        "## Bert optimizer"
      ]
    },
    {
      "cell_type": "code",
      "metadata": {
        "id": "XCxdnfu1AJQw"
      },
      "source": [
        "START_EPOCH = 1\n",
        "N_EPOCHS = 5\n",
        "\n",
        "GRADIENT_ACC = 4\n",
        "max_dev_acc, argmax_dev_acc = -1, -1"
      ],
      "execution_count": 17,
      "outputs": []
    },
    {
      "cell_type": "code",
      "metadata": {
        "id": "J_2wJjsRKvZH"
      },
      "source": [
        "# from pytorch_pretrained_bert import BertAdam\n",
        "\n",
        "# param_optimizer = list(model.named_parameters())\n",
        "# no_decay = ['bias', 'LayerNorm.bias', 'LayerNorm.weight']\n",
        "# optimizer_grouped_parameters = [\n",
        "#     {'params': [p for n, p in param_optimizer if not any(nd in n for nd in no_decay)], 'weight_decay': 0.01},\n",
        "#     {'params': [p for n, p in param_optimizer if any(nd in n for nd in no_decay)], 'weight_decay': 0.0}\n",
        "# ]\n",
        "# t_total = int(len(train_data) / TRAIN_BATCH_SIZE / GRADIENT_ACC * N_EPOCHS)\n",
        "# optimizer = BertAdam(optimizer_grouped_parameters,lr=5e-5,warmup=0.1,t_total=t_total)\n",
        "optimizer = torch.optim.Adam(model.parameters(), lr=5e-5)\n",
        "\n"
      ],
      "execution_count": 18,
      "outputs": []
    },
    {
      "cell_type": "markdown",
      "metadata": {
        "id": "YJdS9f_0AJyZ"
      },
      "source": [
        "## Set epoch, start training"
      ]
    },
    {
      "cell_type": "code",
      "metadata": {
        "id": "k_SuQ0HyI8cQ"
      },
      "source": [
        "# from transformers import XLNetTokenizer\n",
        "# tokenizer = XLNetTokenizer.from_pretrained('xlnet-base-cased')"
      ],
      "execution_count": 19,
      "outputs": []
    },
    {
      "cell_type": "code",
      "metadata": {
        "id": "dK4WyCzJLbfl"
      },
      "source": [
        "BERT_TOKENIZER = None\n",
        "import transformers\n",
        "from typing import List\n",
        "BERT_MAX_SEQ_LEN = 512\n",
        "\n",
        "def merge_subtokens(tokens: List):\n",
        "    merged_tokens = []\n",
        "    for token in tokens:\n",
        "        if token.startswith(\"##\"):\n",
        "            merged_tokens[-1] = merged_tokens[-1] + token[2:]\n",
        "        else:\n",
        "            merged_tokens.append(token)\n",
        "    text = \" \".join(merged_tokens)\n",
        "    return text\n",
        "    \n",
        "def _custom_bert_tokenize_sentence(text):\n",
        "    tokens = BERT_TOKENIZER.tokenize(text)\n",
        "    tokens = tokens[:BERT_MAX_SEQ_LEN - 2]  # 2 allowed for [CLS] and [SEP]\n",
        "    idxs = np.array([idx for idx, token in enumerate(tokens) if not token.startswith(\"##\")] + [len(tokens)])\n",
        "    split_sizes = (idxs[1:] - idxs[0:-1]).tolist()\n",
        "    # NOTE: BERT tokenizer does more than just splitting at whitespace and tokenizing. So be careful.\n",
        "    # -----> assert len(split_sizes)==len(text.split()), print(len(tokens), len(split_sizes), len(text.split()), split_sizes, text)\n",
        "    # -----> hence do the following:\n",
        "    text = merge_subtokens(tokens)\n",
        "    assert len(split_sizes) == len(text.split()), print(len(tokens), len(split_sizes), len(text.split()), split_sizes,\n",
        "                                                        text)\n",
        "    return text, tokens, split_sizes\n",
        "\n",
        "def _custom_bert_tokenize_sentences(list_of_texts):\n",
        "    out = [_custom_bert_tokenize_sentence(text) for text in list_of_texts]\n",
        "    texts, tokens, split_sizes = list(zip(*out))\n",
        "    return [*texts], [*tokens], [*split_sizes]\n",
        "\n",
        "def _simple_bert_tokenize_sentences(list_of_texts):\n",
        "    return [merge_subtokens(BERT_TOKENIZER.tokenize(text)[:BERT_MAX_SEQ_LEN - 2]) for text in list_of_texts]\n",
        "\n",
        "def bert_tokenize_for_valid_examples(batch_orginal_sentences, batch_noisy_sentences, bert_pretrained_name_or_path=None):\n",
        "    \"\"\"\n",
        "    inputs:\n",
        "        batch_noisy_sentences: List[str]\n",
        "            a list of textual sentences to tokenized\n",
        "        batch_orginal_sentences: List[str]\n",
        "            a list of texts to make sure lengths of input and output are same in the seq-modeling task\n",
        "        bert_pretrained_name_or_path:\n",
        "            a huggingface path for loading a custom bert model\n",
        "    outputs (only of batch_noisy_sentences):\n",
        "        batch_attention_masks, batch_input_ids, batch_token_type_ids\n",
        "            2d tensors of shape (bs,max_len)\n",
        "        batch_splits: List[List[Int]]\n",
        "            specifies #sub-tokens for each word in each textual string after sub-word tokenization\n",
        "    \"\"\"\n",
        "    global BERT_TOKENIZER\n",
        "\n",
        "    if BERT_TOKENIZER is None:  # gets initialized during the first call to this method\n",
        "        if bert_pretrained_name_or_path:\n",
        "            BERT_TOKENIZER = transformers.BertTokenizer.from_pretrained(bert_pretrained_name_or_path)\n",
        "            BERT_TOKENIZER.do_basic_tokenize = True\n",
        "            BERT_TOKENIZER.tokenize_chinese_chars = False\n",
        "        else:\n",
        "            BERT_TOKENIZER = transformers.BertTokenizer.from_pretrained('bert-base-cased')\n",
        "            BERT_TOKENIZER.do_basic_tokenize = True\n",
        "            BERT_TOKENIZER.tokenize_chinese_chars = False\n",
        "\n",
        "    _batch_orginal_sentences = _simple_bert_tokenize_sentences(batch_orginal_sentences)\n",
        "    _batch_noisy_sentences, _batch_tokens, _batch_splits = _custom_bert_tokenize_sentences(batch_noisy_sentences)\n",
        "\n",
        "    valid_idxs = [idx for idx, (a, b) in enumerate(zip(_batch_orginal_sentences, _batch_noisy_sentences)) if\n",
        "                  len(a.split()) == len(b.split())]\n",
        "    batch_orginal_sentences = [line for idx, line in enumerate(_batch_orginal_sentences) if idx in valid_idxs]\n",
        "    batch_noisy_sentences = [line for idx, line in enumerate(_batch_noisy_sentences) if idx in valid_idxs]\n",
        "    batch_tokens = [line for idx, line in enumerate(_batch_tokens) if idx in valid_idxs]\n",
        "    batch_splits = [line for idx, line in enumerate(_batch_splits) if idx in valid_idxs]\n",
        "\n",
        "    batch_bert_dict = {\n",
        "        \"attention_mask\": [],\n",
        "        \"input_ids\": [],\n",
        "        # \"token_type_ids\": []\n",
        "    }\n",
        "    if len(valid_idxs) > 0:\n",
        "        batch_encoded_dicts = [BERT_TOKENIZER.encode_plus(tokens) for tokens in batch_tokens]\n",
        "        batch_attention_masks = pad_sequence(\n",
        "            [torch.tensor(encoded_dict[\"attention_mask\"]) for encoded_dict in batch_encoded_dicts], batch_first=True,\n",
        "            padding_value=0)\n",
        "        batch_input_ids = pad_sequence(\n",
        "            [torch.tensor(encoded_dict[\"input_ids\"]) for encoded_dict in batch_encoded_dicts], batch_first=True,\n",
        "            padding_value=0)\n",
        "        # batch_token_type_ids = pad_sequence(\n",
        "        #     [torch.tensor(encoded_dict[\"token_type_ids\"]) for encoded_dict in batch_encoded_dicts], batch_first=True,\n",
        "        #     padding_value=0)\n",
        "        batch_bert_dict = {\"attention_mask\": batch_attention_masks,\n",
        "                           \"input_ids\": batch_input_ids,\n",
        "                           # \"token_type_ids\": batch_token_type_ids\n",
        "                           }\n",
        "\n",
        "    return batch_orginal_sentences, batch_noisy_sentences, batch_bert_dict, batch_splits"
      ],
      "execution_count": 20,
      "outputs": []
    },
    {
      "cell_type": "code",
      "metadata": {
        "id": "jqh28V51yCxO",
        "colab": {
          "base_uri": "https://localhost:8080/",
          "height": 203,
          "referenced_widgets": [
            "bf442f5916b74022be8d7f79136701e5",
            "cdf60d50d56c4db7bd4f66a1ca305118",
            "820469b0b8704ed68a22d78662e10cad",
            "9b6d9ba70f7f4f6489a399c0215216ab",
            "9cc6f8ca42f141bcb4030df714297012",
            "3303d9a079e149eaad54ed79d5af9dff",
            "008ed372a25747628f9a2a338b62e457",
            "4590ee12394547f2b27776992e700ad0"
          ]
        },
        "outputId": "b9f70a65-fff5-4b93-d6b8-321b7ad4337c"
      },
      "source": [
        "# train and eval\n",
        "epoch = 0\n",
        "checkpoint = torch.load(\"/content/gdrive/MyDrive/bertlargeepoch:4valid_acc0.9639756452138953.hdf5\",map_location='cpu')\n",
        "model.load_state_dict(checkpoint['model_state_dict'])\n",
        "optimizer.load_state_dict(checkpoint['optimizer_state_dict'])\n",
        "epoch = checkpoint['epoch']\n",
        "loss = checkpoint['loss']\n",
        "\n",
        "for epoch_id in range(START_EPOCH+epoch,N_EPOCHS+1):\n",
        "    print(f\"In epoch: {epoch_id}\")\n",
        "\n",
        "    # train loss and backprop\n",
        "    train_loss = 0.\n",
        "    train_acc = 0.\n",
        "    train_acc_count = 0.\n",
        "    print(\"train_data size: {}\".format(len(train_data)))\n",
        "    \n",
        "    train_data_iter = batch_iter(train_data, batch_size=TRAIN_BATCH_SIZE, shuffle=True)\n",
        "    nbatches = int(np.ceil(len(train_data)/TRAIN_BATCH_SIZE))\n",
        "    optimizer.zero_grad()\n",
        "\n",
        "    for batch_id, (batch_labels,batch_sentences) in enumerate(train_data_iter):\n",
        "        optimizer.zero_grad()\n",
        "        st_time = time.time()\n",
        "\n",
        "        # set batch data for bert\n",
        "        batch_labels_, batch_sentences_, batch_bert_inp, batch_bert_splits = bert_tokenize_for_valid_examples(batch_labels,batch_sentences,bert_pretrained_name_or_path=bert_pretrained_name_or_path)                \n",
        "        if len(batch_labels_)==0:\n",
        "            print(\"################\")\n",
        "            print(\"Not training the following lines due to pre-processing mismatch: \\n\")\n",
        "            print([(a,b) for a,b in zip(batch_labels,batch_sentences)])\n",
        "            print(\"################\")\n",
        "            continue\n",
        "        else:\n",
        "            batch_labels, batch_sentences = batch_labels_, batch_sentences_\n",
        "\n",
        "        batch_bert_inp = {k:v.to(DEVICE) for k,v in batch_bert_inp.items()}\n",
        "\n",
        "        # set batch data for others\n",
        "        batch_labels, batch_lengths = labelize(batch_labels, vocab)\n",
        "        batch_lengths = batch_lengths.to(DEVICE)\n",
        "        batch_labels = batch_labels.to(DEVICE)\n",
        "\n",
        "        # forward\n",
        "        model.train()\n",
        "        \n",
        "        loss = model(batch_bert_inp, batch_bert_splits, targets=batch_labels)\n",
        "        \n",
        "        batch_loss = loss.cpu().detach().numpy()\n",
        "        train_loss += batch_loss\n",
        "\n",
        "        # backward\n",
        "        # if GRADIENT_ACC > 1:\n",
        "        #     loss = loss / GRADIENT_ACC\n",
        "        loss.backward()\n",
        "        # step\n",
        "        # if (batch_id + 1) % GRADIENT_ACC == 0 or batch_id >= nbatches - 1:\n",
        "            # torch.nn.utils.clip_grad_norm_(model.parameters(), 1.0)\n",
        "        optimizer.step()\n",
        "            # scheduler.step()\n",
        "        # optimizer.zero_grad()\n",
        "\n",
        "        # compute accuracy in numpy\n",
        "        if batch_id%10000==0:\n",
        "\n",
        "            train_acc_count += 1\n",
        "\n",
        "            model.eval()\n",
        "            with torch.no_grad():\n",
        "                _, batch_predictions = model(batch_bert_inp, batch_bert_splits, targets=batch_labels)\n",
        "\n",
        "            model.train()\n",
        "\n",
        "            batch_labels = batch_labels.cpu().detach().numpy()\n",
        "            batch_lengths = batch_lengths.cpu().detach().numpy()\n",
        "            ncorr,ntotal = batch_accuracy_func(batch_predictions,batch_labels,batch_lengths)\n",
        "            batch_acc = ncorr/ntotal\n",
        "            train_acc += batch_acc     \n",
        "\n",
        "        # update progress\n",
        "        progressBar(batch_id+1,\n",
        "                    int(np.ceil(len(train_data) / TRAIN_BATCH_SIZE)), \n",
        "                    [\"batch_time\",\"batch_loss\",\"avg_batch_loss\",\"batch_acc\",\"avg_batch_acc\"],\n",
        "                    [time.time()-st_time,batch_loss,train_loss/(batch_id+1),batch_acc,train_acc/train_acc_count]) \n",
        "    \n",
        "    print(f\"\\nEpoch {epoch_id} train_loss: {train_loss/(batch_id+1)}\")\n",
        "\n",
        "    # save model every epoch\n",
        "    model_name = \"bert_epoch_\" + str(epoch_id) + '.pt'\n",
        "    # torch.save(model.state_dict(), \n",
        "    #         '/content/drive/MyDrive/NLP/'+model_name)\n",
        "\n",
        "    # valid loss\n",
        "    valid_loss = 0.\n",
        "    valid_acc = 0.\n",
        "    print(\"valid_data size: {}\".format(len(valid_data)))\n",
        "\n",
        "    valid_data_iter = batch_iter(valid_data, batch_size=VALID_BATCH_SIZE, shuffle=False)\n",
        "\n",
        "    for batch_id, (batch_labels,batch_sentences) in enumerate(valid_data_iter):\n",
        "\n",
        "        st_time = time.time()\n",
        "        # set batch data for bert\n",
        "        # batch_labels_, batch_sentences_, batch_bert_inp, batch_bert_splits = bert_tokenize_for_valid_examples(batch_labels,batch_sentences)\n",
        "\n",
        "        batch_labels, batch_sentences, batch_bert_inp, batch_bert_splits = bert_tokenize_for_valid_examples(batch_labels,batch_sentences)\n",
        "        \"\"\"\n",
        "        if len(batch_labels_)==0:\n",
        "            print(\"################\")\n",
        "            print(\"Not validating the following lines due to pre-processing mismatch: \\n\")\n",
        "            print([(a,b) for a,b in zip(batch_labels,batch_sentences)])\n",
        "            print(\"################\")\n",
        "            continue\n",
        "        else:\n",
        "        \n",
        "            batch_labels, batch_sentences = batch_labels_, batch_sentences_\n",
        "        \"\"\"\n",
        "\n",
        "        batch_bert_inp = {k:v.to(DEVICE) for k,v in batch_bert_inp.items()}\n",
        "\n",
        "\n",
        "        # set batch data for others\n",
        "        batch_labels, batch_lengths = labelize(batch_labels, vocab)\n",
        "        batch_lengths = batch_lengths.to(DEVICE)\n",
        "        batch_labels = batch_labels.to(DEVICE)\n",
        "\n",
        "        # forward\n",
        "        model.eval()\n",
        "        with torch.no_grad():\n",
        "            batch_loss, batch_predictions = model(batch_bert_inp, batch_bert_splits, targets=batch_labels)\n",
        "        model.train()        \n",
        "        valid_loss += batch_loss\n",
        "        # compute accuracy in numpy\n",
        "        batch_labels = batch_labels.cpu().detach().numpy()\n",
        "        batch_lengths = batch_lengths.cpu().detach().numpy()\n",
        "        ncorr,ntotal = batch_accuracy_func(batch_predictions,batch_labels,batch_lengths)\n",
        "        batch_acc = ncorr/ntotal\n",
        "        valid_acc += batch_acc\n",
        "        # update progress\n",
        "        progressBar(batch_id+1,\n",
        "                    int(np.ceil(len(valid_data) / VALID_BATCH_SIZE)), \n",
        "                    [\"batch_time\",\"batch_loss\",\"avg_batch_loss\",\"batch_acc\",\"avg_batch_acc\"], \n",
        "                    [time.time()-st_time,batch_loss,valid_loss/(batch_id+1),batch_acc,valid_acc/(batch_id+1)])\n",
        "\n",
        "    print(f\"\\nEpoch {epoch_id} valid_loss: {valid_loss/(batch_id+1)}\")\n",
        "    torch.save({\n",
        "            'epoch': epoch_id,\n",
        "            'model_state_dict': model.state_dict(),\n",
        "            'optimizer_state_dict': optimizer.state_dict(),\n",
        "            'loss': valid_loss}, f'/content/gdrive/MyDrive/bertlargeepoch:{epoch_id}valid_acc{valid_acc/(batch_id+1)}.hdf5')\n",
        "\n",
        "  "
      ],
      "execution_count": 21,
      "outputs": [
        {
          "output_type": "stream",
          "text": [
            "In epoch: 5\n",
            "train_data size: 245821\n"
          ],
          "name": "stdout"
        },
        {
          "output_type": "display_data",
          "data": {
            "application/vnd.jupyter.widget-view+json": {
              "model_id": "bf442f5916b74022be8d7f79136701e5",
              "version_minor": 0,
              "version_major": 2
            },
            "text/plain": [
              "HBox(children=(FloatProgress(value=0.0, description='Downloading', max=213450.0, style=ProgressStyle(descripti…"
            ]
          },
          "metadata": {
            "tags": []
          }
        },
        {
          "output_type": "stream",
          "text": [
            "\n",
            "Percent: [----------------------------->] 100% || batch_time: 0.3549 || batch_loss: 0.1474 || avg_batch_loss: 0.1177 || batch_acc: 0.9823 || avg_batch_acc: 0.9885 \n",
            "Epoch 5 train_loss: 0.11773721397866754\n",
            "valid_data size: 27313\n",
            "Percent: [----------------------------->] 100% || batch_time: 0.0423 || batch_loss: 0.0013 || avg_batch_loss: 0.2140 || batch_acc: 1.0000 || avg_batch_acc: 0.9654 \n",
            "Epoch 5 valid_loss: 0.2139541612037259\n"
          ],
          "name": "stdout"
        }
      ]
    },
    {
      "cell_type": "markdown",
      "metadata": {
        "id": "nUbevWLeAUvb"
      },
      "source": [
        "## Evaluation"
      ]
    },
    {
      "cell_type": "code",
      "metadata": {
        "id": "xCtk0JhWyGW9",
        "colab": {
          "base_uri": "https://localhost:8080/",
          "height": 351,
          "referenced_widgets": [
            "d1ae9b2175f844af8882167e29b1cd87",
            "636c6147bd1442d7ac18477e3b38b604",
            "9955c6dc1153455aad6e12b4498dc3e0",
            "dfe25baf4ce44ff2b26731d6fbadc48b",
            "3189be001cd24563beac87d3fa6b6d8f",
            "e64993ba9d94470f85e2dfad9b91026a",
            "f8f79c551a904ebea9e6f3454fc3151b",
            "33249e963195457f863c988921b7dfa2"
          ]
        },
        "outputId": "cc0926d6-c6e3-48d7-d536-e2ad0ee99187"
      },
      "source": [
        "from neuspell.seq_modeling.subwordbert import model_inference\n",
        "\n",
        "test_data = load_data('/content/neuspell/data/traintest/','test.bea60k','test.bea60k.noise')\n",
        "\n",
        "predicted_result = model_inference(model, test_data, 1, 'cuda', 16, vocab)"
      ],
      "execution_count": 22,
      "outputs": [
        {
          "output_type": "stream",
          "text": [
            "63044it [00:00, 420011.34it/s]\n",
            "63044it [00:00, 1336367.50it/s]\n",
            "0it [00:00, ?it/s]"
          ],
          "name": "stderr"
        },
        {
          "output_type": "stream",
          "text": [
            "loaded tuples of (corr,incorr) examples from /content/neuspell/data/traintest/\n",
            "###############################################\n",
            "data size: 63044\n"
          ],
          "name": "stdout"
        },
        {
          "output_type": "display_data",
          "data": {
            "application/vnd.jupyter.widget-view+json": {
              "model_id": "d1ae9b2175f844af8882167e29b1cd87",
              "version_minor": 0,
              "version_major": 2
            },
            "text/plain": [
              "HBox(children=(FloatProgress(value=0.0, description='Downloading', max=213450.0, style=ProgressStyle(descripti…"
            ]
          },
          "metadata": {
            "tags": []
          }
        },
        {
          "output_type": "stream",
          "text": [
            "\n"
          ],
          "name": "stdout"
        },
        {
          "output_type": "stream",
          "text": [
            "3941it [09:41,  6.77it/s]"
          ],
          "name": "stderr"
        },
        {
          "output_type": "stream",
          "text": [
            "\n",
            "Epoch None valid_loss: 0.3903905204961639\n",
            "total inference time for this data is: 581.818974 secs\n",
            "###############################################\n",
            "\n",
            "\n",
            "total token count: 1059069\n",
            "_corr2corr:957964, _corr2incorr:31095, _incorr2corr:49072, _incorr2incorr:20938\n",
            "accuracy is 0.9508691123996642\n",
            "word correction rate is 0.700928438794458\n",
            "###############################################\n"
          ],
          "name": "stdout"
        },
        {
          "output_type": "stream",
          "text": [
            "\n"
          ],
          "name": "stderr"
        }
      ]
    },
    {
      "cell_type": "code",
      "metadata": {
        "id": "Oc33y9sNNUQk",
        "colab": {
          "base_uri": "https://localhost:8080/"
        },
        "outputId": "e9cbddd6-4679-4633-e733-a61ad0521804"
      },
      "source": [
        "\n",
        "test_data = load_data('/content/neuspell/data/traintest/','test.jfleg','test.jfleg.noise')\n",
        "\n",
        "predicted_result = model_inference(model, test_data, 1, 'cuda', 16, vocab)"
      ],
      "execution_count": 23,
      "outputs": [
        {
          "output_type": "stream",
          "text": [
            "1601it [00:00, 345177.38it/s]\n",
            "1601it [00:00, 748782.42it/s]\n",
            "0it [00:00, ?it/s]"
          ],
          "name": "stderr"
        },
        {
          "output_type": "stream",
          "text": [
            "loaded tuples of (corr,incorr) examples from /content/neuspell/data/traintest/\n",
            "###############################################\n",
            "data size: 1601\n"
          ],
          "name": "stdout"
        },
        {
          "output_type": "stream",
          "text": [
            "101it [00:16,  6.10it/s]"
          ],
          "name": "stderr"
        },
        {
          "output_type": "stream",
          "text": [
            "\n",
            "Epoch None valid_loss: 0.22545059928947156\n",
            "total inference time for this data is: 16.569063 secs\n",
            "###############################################\n",
            "\n",
            "\n",
            "total token count: 33473\n",
            "_corr2corr:30938, _corr2incorr:525, _incorr2corr:1551, _incorr2incorr:459\n",
            "accuracy is 0.9706031727063603\n",
            "word correction rate is 0.7716417910447761\n",
            "###############################################\n"
          ],
          "name": "stdout"
        },
        {
          "output_type": "stream",
          "text": [
            "\n"
          ],
          "name": "stderr"
        }
      ]
    }
  ]
}