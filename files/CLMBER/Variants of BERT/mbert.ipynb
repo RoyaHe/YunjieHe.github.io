{
  "nbformat": 4,
  "nbformat_minor": 0,
  "metadata": {
    "accelerator": "GPU",
    "colab": {
      "name": "bert-base-multilingual-cased",
      "provenance": [],
      "collapsed_sections": [],
      "toc_visible": true,
      "machine_shape": "hm"
    },
    "kernelspec": {
      "display_name": "Python 3",
      "name": "python3"
    },
    "language_info": {
      "name": "python"
    },
    "widgets": {
      "application/vnd.jupyter.widget-state+json": {
        "1e08208594f0443995e8a3c8e197b1eb": {
          "model_module": "@jupyter-widgets/controls",
          "model_name": "HBoxModel",
          "state": {
            "_view_name": "HBoxView",
            "_dom_classes": [],
            "_model_name": "HBoxModel",
            "_view_module": "@jupyter-widgets/controls",
            "_model_module_version": "1.5.0",
            "_view_count": null,
            "_view_module_version": "1.5.0",
            "box_style": "",
            "layout": "IPY_MODEL_2d2fbff20e0d437186dd7f351c0a5c17",
            "_model_module": "@jupyter-widgets/controls",
            "children": [
              "IPY_MODEL_a97cdac90b1444ddaaadba957eb8b6f4",
              "IPY_MODEL_3f55c01697e947e1a3681ac54cb30f1f"
            ]
          }
        },
        "2d2fbff20e0d437186dd7f351c0a5c17": {
          "model_module": "@jupyter-widgets/base",
          "model_name": "LayoutModel",
          "state": {
            "_view_name": "LayoutView",
            "grid_template_rows": null,
            "right": null,
            "justify_content": null,
            "_view_module": "@jupyter-widgets/base",
            "overflow": null,
            "_model_module_version": "1.2.0",
            "_view_count": null,
            "flex_flow": null,
            "width": null,
            "min_width": null,
            "border": null,
            "align_items": null,
            "bottom": null,
            "_model_module": "@jupyter-widgets/base",
            "top": null,
            "grid_column": null,
            "overflow_y": null,
            "overflow_x": null,
            "grid_auto_flow": null,
            "grid_area": null,
            "grid_template_columns": null,
            "flex": null,
            "_model_name": "LayoutModel",
            "justify_items": null,
            "grid_row": null,
            "max_height": null,
            "align_content": null,
            "visibility": null,
            "align_self": null,
            "height": null,
            "min_height": null,
            "padding": null,
            "grid_auto_rows": null,
            "grid_gap": null,
            "max_width": null,
            "order": null,
            "_view_module_version": "1.2.0",
            "grid_template_areas": null,
            "object_position": null,
            "object_fit": null,
            "grid_auto_columns": null,
            "margin": null,
            "display": null,
            "left": null
          }
        },
        "a97cdac90b1444ddaaadba957eb8b6f4": {
          "model_module": "@jupyter-widgets/controls",
          "model_name": "FloatProgressModel",
          "state": {
            "_view_name": "ProgressView",
            "style": "IPY_MODEL_b2fcfe5de04a47c1bb10c51f27879520",
            "_dom_classes": [],
            "description": "Downloading: 100%",
            "_model_name": "FloatProgressModel",
            "bar_style": "success",
            "max": 1042301,
            "_view_module": "@jupyter-widgets/controls",
            "_model_module_version": "1.5.0",
            "value": 1042301,
            "_view_count": null,
            "_view_module_version": "1.5.0",
            "orientation": "horizontal",
            "min": 0,
            "description_tooltip": null,
            "_model_module": "@jupyter-widgets/controls",
            "layout": "IPY_MODEL_8229348a59204468816c9fbd60a5469c"
          }
        },
        "3f55c01697e947e1a3681ac54cb30f1f": {
          "model_module": "@jupyter-widgets/controls",
          "model_name": "HTMLModel",
          "state": {
            "_view_name": "HTMLView",
            "style": "IPY_MODEL_dac91be6294a4f3aaf640caffe28b72c",
            "_dom_classes": [],
            "description": "",
            "_model_name": "HTMLModel",
            "placeholder": "​",
            "_view_module": "@jupyter-widgets/controls",
            "_model_module_version": "1.5.0",
            "value": " 1.04M/1.04M [00:00&lt;00:00, 1.32MB/s]",
            "_view_count": null,
            "_view_module_version": "1.5.0",
            "description_tooltip": null,
            "_model_module": "@jupyter-widgets/controls",
            "layout": "IPY_MODEL_885deddf0065442b9856205ee4c4dd32"
          }
        },
        "b2fcfe5de04a47c1bb10c51f27879520": {
          "model_module": "@jupyter-widgets/controls",
          "model_name": "ProgressStyleModel",
          "state": {
            "_view_name": "StyleView",
            "_model_name": "ProgressStyleModel",
            "description_width": "initial",
            "_view_module": "@jupyter-widgets/base",
            "_model_module_version": "1.5.0",
            "_view_count": null,
            "_view_module_version": "1.2.0",
            "bar_color": null,
            "_model_module": "@jupyter-widgets/controls"
          }
        },
        "8229348a59204468816c9fbd60a5469c": {
          "model_module": "@jupyter-widgets/base",
          "model_name": "LayoutModel",
          "state": {
            "_view_name": "LayoutView",
            "grid_template_rows": null,
            "right": null,
            "justify_content": null,
            "_view_module": "@jupyter-widgets/base",
            "overflow": null,
            "_model_module_version": "1.2.0",
            "_view_count": null,
            "flex_flow": null,
            "width": null,
            "min_width": null,
            "border": null,
            "align_items": null,
            "bottom": null,
            "_model_module": "@jupyter-widgets/base",
            "top": null,
            "grid_column": null,
            "overflow_y": null,
            "overflow_x": null,
            "grid_auto_flow": null,
            "grid_area": null,
            "grid_template_columns": null,
            "flex": null,
            "_model_name": "LayoutModel",
            "justify_items": null,
            "grid_row": null,
            "max_height": null,
            "align_content": null,
            "visibility": null,
            "align_self": null,
            "height": null,
            "min_height": null,
            "padding": null,
            "grid_auto_rows": null,
            "grid_gap": null,
            "max_width": null,
            "order": null,
            "_view_module_version": "1.2.0",
            "grid_template_areas": null,
            "object_position": null,
            "object_fit": null,
            "grid_auto_columns": null,
            "margin": null,
            "display": null,
            "left": null
          }
        },
        "dac91be6294a4f3aaf640caffe28b72c": {
          "model_module": "@jupyter-widgets/controls",
          "model_name": "DescriptionStyleModel",
          "state": {
            "_view_name": "StyleView",
            "_model_name": "DescriptionStyleModel",
            "description_width": "",
            "_view_module": "@jupyter-widgets/base",
            "_model_module_version": "1.5.0",
            "_view_count": null,
            "_view_module_version": "1.2.0",
            "_model_module": "@jupyter-widgets/controls"
          }
        },
        "885deddf0065442b9856205ee4c4dd32": {
          "model_module": "@jupyter-widgets/base",
          "model_name": "LayoutModel",
          "state": {
            "_view_name": "LayoutView",
            "grid_template_rows": null,
            "right": null,
            "justify_content": null,
            "_view_module": "@jupyter-widgets/base",
            "overflow": null,
            "_model_module_version": "1.2.0",
            "_view_count": null,
            "flex_flow": null,
            "width": null,
            "min_width": null,
            "border": null,
            "align_items": null,
            "bottom": null,
            "_model_module": "@jupyter-widgets/base",
            "top": null,
            "grid_column": null,
            "overflow_y": null,
            "overflow_x": null,
            "grid_auto_flow": null,
            "grid_area": null,
            "grid_template_columns": null,
            "flex": null,
            "_model_name": "LayoutModel",
            "justify_items": null,
            "grid_row": null,
            "max_height": null,
            "align_content": null,
            "visibility": null,
            "align_self": null,
            "height": null,
            "min_height": null,
            "padding": null,
            "grid_auto_rows": null,
            "grid_gap": null,
            "max_width": null,
            "order": null,
            "_view_module_version": "1.2.0",
            "grid_template_areas": null,
            "object_position": null,
            "object_fit": null,
            "grid_auto_columns": null,
            "margin": null,
            "display": null,
            "left": null
          }
        },
        "c4f1247ee8a44f9bad68ca7716aae7a1": {
          "model_module": "@jupyter-widgets/controls",
          "model_name": "HBoxModel",
          "state": {
            "_view_name": "HBoxView",
            "_dom_classes": [],
            "_model_name": "HBoxModel",
            "_view_module": "@jupyter-widgets/controls",
            "_model_module_version": "1.5.0",
            "_view_count": null,
            "_view_module_version": "1.5.0",
            "box_style": "",
            "layout": "IPY_MODEL_9155a581886945929667493e736ccadd",
            "_model_module": "@jupyter-widgets/controls",
            "children": [
              "IPY_MODEL_26b1944adfb64a13a57b63448e9ee0f6",
              "IPY_MODEL_3d8d7aa766d641f3b25446b45a225e2a"
            ]
          }
        },
        "9155a581886945929667493e736ccadd": {
          "model_module": "@jupyter-widgets/base",
          "model_name": "LayoutModel",
          "state": {
            "_view_name": "LayoutView",
            "grid_template_rows": null,
            "right": null,
            "justify_content": null,
            "_view_module": "@jupyter-widgets/base",
            "overflow": null,
            "_model_module_version": "1.2.0",
            "_view_count": null,
            "flex_flow": null,
            "width": null,
            "min_width": null,
            "border": null,
            "align_items": null,
            "bottom": null,
            "_model_module": "@jupyter-widgets/base",
            "top": null,
            "grid_column": null,
            "overflow_y": null,
            "overflow_x": null,
            "grid_auto_flow": null,
            "grid_area": null,
            "grid_template_columns": null,
            "flex": null,
            "_model_name": "LayoutModel",
            "justify_items": null,
            "grid_row": null,
            "max_height": null,
            "align_content": null,
            "visibility": null,
            "align_self": null,
            "height": null,
            "min_height": null,
            "padding": null,
            "grid_auto_rows": null,
            "grid_gap": null,
            "max_width": null,
            "order": null,
            "_view_module_version": "1.2.0",
            "grid_template_areas": null,
            "object_position": null,
            "object_fit": null,
            "grid_auto_columns": null,
            "margin": null,
            "display": null,
            "left": null
          }
        },
        "26b1944adfb64a13a57b63448e9ee0f6": {
          "model_module": "@jupyter-widgets/controls",
          "model_name": "FloatProgressModel",
          "state": {
            "_view_name": "ProgressView",
            "style": "IPY_MODEL_50c70d289235469c9863572899d5205d",
            "_dom_classes": [],
            "description": "Downloading: 100%",
            "_model_name": "FloatProgressModel",
            "bar_style": "success",
            "max": 456318,
            "_view_module": "@jupyter-widgets/controls",
            "_model_module_version": "1.5.0",
            "value": 456318,
            "_view_count": null,
            "_view_module_version": "1.5.0",
            "orientation": "horizontal",
            "min": 0,
            "description_tooltip": null,
            "_model_module": "@jupyter-widgets/controls",
            "layout": "IPY_MODEL_474fe2cd9a4a4e948e471389d721a086"
          }
        },
        "3d8d7aa766d641f3b25446b45a225e2a": {
          "model_module": "@jupyter-widgets/controls",
          "model_name": "HTMLModel",
          "state": {
            "_view_name": "HTMLView",
            "style": "IPY_MODEL_889c64121eb5440e8754286f651a3758",
            "_dom_classes": [],
            "description": "",
            "_model_name": "HTMLModel",
            "placeholder": "​",
            "_view_module": "@jupyter-widgets/controls",
            "_model_module_version": "1.5.0",
            "value": " 456k/456k [00:00&lt;00:00, 2.09MB/s]",
            "_view_count": null,
            "_view_module_version": "1.5.0",
            "description_tooltip": null,
            "_model_module": "@jupyter-widgets/controls",
            "layout": "IPY_MODEL_411809ca7b4e42c8826581d292c7c495"
          }
        },
        "50c70d289235469c9863572899d5205d": {
          "model_module": "@jupyter-widgets/controls",
          "model_name": "ProgressStyleModel",
          "state": {
            "_view_name": "StyleView",
            "_model_name": "ProgressStyleModel",
            "description_width": "initial",
            "_view_module": "@jupyter-widgets/base",
            "_model_module_version": "1.5.0",
            "_view_count": null,
            "_view_module_version": "1.2.0",
            "bar_color": null,
            "_model_module": "@jupyter-widgets/controls"
          }
        },
        "474fe2cd9a4a4e948e471389d721a086": {
          "model_module": "@jupyter-widgets/base",
          "model_name": "LayoutModel",
          "state": {
            "_view_name": "LayoutView",
            "grid_template_rows": null,
            "right": null,
            "justify_content": null,
            "_view_module": "@jupyter-widgets/base",
            "overflow": null,
            "_model_module_version": "1.2.0",
            "_view_count": null,
            "flex_flow": null,
            "width": null,
            "min_width": null,
            "border": null,
            "align_items": null,
            "bottom": null,
            "_model_module": "@jupyter-widgets/base",
            "top": null,
            "grid_column": null,
            "overflow_y": null,
            "overflow_x": null,
            "grid_auto_flow": null,
            "grid_area": null,
            "grid_template_columns": null,
            "flex": null,
            "_model_name": "LayoutModel",
            "justify_items": null,
            "grid_row": null,
            "max_height": null,
            "align_content": null,
            "visibility": null,
            "align_self": null,
            "height": null,
            "min_height": null,
            "padding": null,
            "grid_auto_rows": null,
            "grid_gap": null,
            "max_width": null,
            "order": null,
            "_view_module_version": "1.2.0",
            "grid_template_areas": null,
            "object_position": null,
            "object_fit": null,
            "grid_auto_columns": null,
            "margin": null,
            "display": null,
            "left": null
          }
        },
        "889c64121eb5440e8754286f651a3758": {
          "model_module": "@jupyter-widgets/controls",
          "model_name": "DescriptionStyleModel",
          "state": {
            "_view_name": "StyleView",
            "_model_name": "DescriptionStyleModel",
            "description_width": "",
            "_view_module": "@jupyter-widgets/base",
            "_model_module_version": "1.5.0",
            "_view_count": null,
            "_view_module_version": "1.2.0",
            "_model_module": "@jupyter-widgets/controls"
          }
        },
        "411809ca7b4e42c8826581d292c7c495": {
          "model_module": "@jupyter-widgets/base",
          "model_name": "LayoutModel",
          "state": {
            "_view_name": "LayoutView",
            "grid_template_rows": null,
            "right": null,
            "justify_content": null,
            "_view_module": "@jupyter-widgets/base",
            "overflow": null,
            "_model_module_version": "1.2.0",
            "_view_count": null,
            "flex_flow": null,
            "width": null,
            "min_width": null,
            "border": null,
            "align_items": null,
            "bottom": null,
            "_model_module": "@jupyter-widgets/base",
            "top": null,
            "grid_column": null,
            "overflow_y": null,
            "overflow_x": null,
            "grid_auto_flow": null,
            "grid_area": null,
            "grid_template_columns": null,
            "flex": null,
            "_model_name": "LayoutModel",
            "justify_items": null,
            "grid_row": null,
            "max_height": null,
            "align_content": null,
            "visibility": null,
            "align_self": null,
            "height": null,
            "min_height": null,
            "padding": null,
            "grid_auto_rows": null,
            "grid_gap": null,
            "max_width": null,
            "order": null,
            "_view_module_version": "1.2.0",
            "grid_template_areas": null,
            "object_position": null,
            "object_fit": null,
            "grid_auto_columns": null,
            "margin": null,
            "display": null,
            "left": null
          }
        },
        "df7992c17a5a4c14b28299ce832baf75": {
          "model_module": "@jupyter-widgets/controls",
          "model_name": "HBoxModel",
          "state": {
            "_view_name": "HBoxView",
            "_dom_classes": [],
            "_model_name": "HBoxModel",
            "_view_module": "@jupyter-widgets/controls",
            "_model_module_version": "1.5.0",
            "_view_count": null,
            "_view_module_version": "1.5.0",
            "box_style": "",
            "layout": "IPY_MODEL_155802aada204bedbc22bfe003c41df6",
            "_model_module": "@jupyter-widgets/controls",
            "children": [
              "IPY_MODEL_e36f5d1fc7d6445baa89e372b0bc6ffb",
              "IPY_MODEL_ac64e6fb880444a89cb379bdc1dbea62"
            ]
          }
        },
        "155802aada204bedbc22bfe003c41df6": {
          "model_module": "@jupyter-widgets/base",
          "model_name": "LayoutModel",
          "state": {
            "_view_name": "LayoutView",
            "grid_template_rows": null,
            "right": null,
            "justify_content": null,
            "_view_module": "@jupyter-widgets/base",
            "overflow": null,
            "_model_module_version": "1.2.0",
            "_view_count": null,
            "flex_flow": null,
            "width": null,
            "min_width": null,
            "border": null,
            "align_items": null,
            "bottom": null,
            "_model_module": "@jupyter-widgets/base",
            "top": null,
            "grid_column": null,
            "overflow_y": null,
            "overflow_x": null,
            "grid_auto_flow": null,
            "grid_area": null,
            "grid_template_columns": null,
            "flex": null,
            "_model_name": "LayoutModel",
            "justify_items": null,
            "grid_row": null,
            "max_height": null,
            "align_content": null,
            "visibility": null,
            "align_self": null,
            "height": null,
            "min_height": null,
            "padding": null,
            "grid_auto_rows": null,
            "grid_gap": null,
            "max_width": null,
            "order": null,
            "_view_module_version": "1.2.0",
            "grid_template_areas": null,
            "object_position": null,
            "object_fit": null,
            "grid_auto_columns": null,
            "margin": null,
            "display": null,
            "left": null
          }
        },
        "e36f5d1fc7d6445baa89e372b0bc6ffb": {
          "model_module": "@jupyter-widgets/controls",
          "model_name": "FloatProgressModel",
          "state": {
            "_view_name": "ProgressView",
            "style": "IPY_MODEL_f46d7bf30fbb41d9850c4c54491bb953",
            "_dom_classes": [],
            "description": "Downloading: 100%",
            "_model_name": "FloatProgressModel",
            "bar_style": "success",
            "max": 718,
            "_view_module": "@jupyter-widgets/controls",
            "_model_module_version": "1.5.0",
            "value": 718,
            "_view_count": null,
            "_view_module_version": "1.5.0",
            "orientation": "horizontal",
            "min": 0,
            "description_tooltip": null,
            "_model_module": "@jupyter-widgets/controls",
            "layout": "IPY_MODEL_426df903b7dd497ea4320a840e3a796e"
          }
        },
        "ac64e6fb880444a89cb379bdc1dbea62": {
          "model_module": "@jupyter-widgets/controls",
          "model_name": "HTMLModel",
          "state": {
            "_view_name": "HTMLView",
            "style": "IPY_MODEL_34b386aec9704acdae0bf4b1e8159675",
            "_dom_classes": [],
            "description": "",
            "_model_name": "HTMLModel",
            "placeholder": "​",
            "_view_module": "@jupyter-widgets/controls",
            "_model_module_version": "1.5.0",
            "value": " 718/718 [00:00&lt;00:00, 2.30kB/s]",
            "_view_count": null,
            "_view_module_version": "1.5.0",
            "description_tooltip": null,
            "_model_module": "@jupyter-widgets/controls",
            "layout": "IPY_MODEL_a22240c894be4d99986c25adb771cdff"
          }
        },
        "f46d7bf30fbb41d9850c4c54491bb953": {
          "model_module": "@jupyter-widgets/controls",
          "model_name": "ProgressStyleModel",
          "state": {
            "_view_name": "StyleView",
            "_model_name": "ProgressStyleModel",
            "description_width": "initial",
            "_view_module": "@jupyter-widgets/base",
            "_model_module_version": "1.5.0",
            "_view_count": null,
            "_view_module_version": "1.2.0",
            "bar_color": null,
            "_model_module": "@jupyter-widgets/controls"
          }
        },
        "426df903b7dd497ea4320a840e3a796e": {
          "model_module": "@jupyter-widgets/base",
          "model_name": "LayoutModel",
          "state": {
            "_view_name": "LayoutView",
            "grid_template_rows": null,
            "right": null,
            "justify_content": null,
            "_view_module": "@jupyter-widgets/base",
            "overflow": null,
            "_model_module_version": "1.2.0",
            "_view_count": null,
            "flex_flow": null,
            "width": null,
            "min_width": null,
            "border": null,
            "align_items": null,
            "bottom": null,
            "_model_module": "@jupyter-widgets/base",
            "top": null,
            "grid_column": null,
            "overflow_y": null,
            "overflow_x": null,
            "grid_auto_flow": null,
            "grid_area": null,
            "grid_template_columns": null,
            "flex": null,
            "_model_name": "LayoutModel",
            "justify_items": null,
            "grid_row": null,
            "max_height": null,
            "align_content": null,
            "visibility": null,
            "align_self": null,
            "height": null,
            "min_height": null,
            "padding": null,
            "grid_auto_rows": null,
            "grid_gap": null,
            "max_width": null,
            "order": null,
            "_view_module_version": "1.2.0",
            "grid_template_areas": null,
            "object_position": null,
            "object_fit": null,
            "grid_auto_columns": null,
            "margin": null,
            "display": null,
            "left": null
          }
        },
        "34b386aec9704acdae0bf4b1e8159675": {
          "model_module": "@jupyter-widgets/controls",
          "model_name": "DescriptionStyleModel",
          "state": {
            "_view_name": "StyleView",
            "_model_name": "DescriptionStyleModel",
            "description_width": "",
            "_view_module": "@jupyter-widgets/base",
            "_model_module_version": "1.5.0",
            "_view_count": null,
            "_view_module_version": "1.2.0",
            "_model_module": "@jupyter-widgets/controls"
          }
        },
        "a22240c894be4d99986c25adb771cdff": {
          "model_module": "@jupyter-widgets/base",
          "model_name": "LayoutModel",
          "state": {
            "_view_name": "LayoutView",
            "grid_template_rows": null,
            "right": null,
            "justify_content": null,
            "_view_module": "@jupyter-widgets/base",
            "overflow": null,
            "_model_module_version": "1.2.0",
            "_view_count": null,
            "flex_flow": null,
            "width": null,
            "min_width": null,
            "border": null,
            "align_items": null,
            "bottom": null,
            "_model_module": "@jupyter-widgets/base",
            "top": null,
            "grid_column": null,
            "overflow_y": null,
            "overflow_x": null,
            "grid_auto_flow": null,
            "grid_area": null,
            "grid_template_columns": null,
            "flex": null,
            "_model_name": "LayoutModel",
            "justify_items": null,
            "grid_row": null,
            "max_height": null,
            "align_content": null,
            "visibility": null,
            "align_self": null,
            "height": null,
            "min_height": null,
            "padding": null,
            "grid_auto_rows": null,
            "grid_gap": null,
            "max_width": null,
            "order": null,
            "_view_module_version": "1.2.0",
            "grid_template_areas": null,
            "object_position": null,
            "object_fit": null,
            "grid_auto_columns": null,
            "margin": null,
            "display": null,
            "left": null
          }
        },
        "13d60e62fac841d986c56ba943699563": {
          "model_module": "@jupyter-widgets/controls",
          "model_name": "HBoxModel",
          "state": {
            "_view_name": "HBoxView",
            "_dom_classes": [],
            "_model_name": "HBoxModel",
            "_view_module": "@jupyter-widgets/controls",
            "_model_module_version": "1.5.0",
            "_view_count": null,
            "_view_module_version": "1.5.0",
            "box_style": "",
            "layout": "IPY_MODEL_df5b384c0ead4a5496d464f6f810f13c",
            "_model_module": "@jupyter-widgets/controls",
            "children": [
              "IPY_MODEL_26e23254cb3649a390bee00ca24bc4d5",
              "IPY_MODEL_23637443957f42aba13d1de402195b7e"
            ]
          }
        },
        "df5b384c0ead4a5496d464f6f810f13c": {
          "model_module": "@jupyter-widgets/base",
          "model_name": "LayoutModel",
          "state": {
            "_view_name": "LayoutView",
            "grid_template_rows": null,
            "right": null,
            "justify_content": null,
            "_view_module": "@jupyter-widgets/base",
            "overflow": null,
            "_model_module_version": "1.2.0",
            "_view_count": null,
            "flex_flow": null,
            "width": null,
            "min_width": null,
            "border": null,
            "align_items": null,
            "bottom": null,
            "_model_module": "@jupyter-widgets/base",
            "top": null,
            "grid_column": null,
            "overflow_y": null,
            "overflow_x": null,
            "grid_auto_flow": null,
            "grid_area": null,
            "grid_template_columns": null,
            "flex": null,
            "_model_name": "LayoutModel",
            "justify_items": null,
            "grid_row": null,
            "max_height": null,
            "align_content": null,
            "visibility": null,
            "align_self": null,
            "height": null,
            "min_height": null,
            "padding": null,
            "grid_auto_rows": null,
            "grid_gap": null,
            "max_width": null,
            "order": null,
            "_view_module_version": "1.2.0",
            "grid_template_areas": null,
            "object_position": null,
            "object_fit": null,
            "grid_auto_columns": null,
            "margin": null,
            "display": null,
            "left": null
          }
        },
        "26e23254cb3649a390bee00ca24bc4d5": {
          "model_module": "@jupyter-widgets/controls",
          "model_name": "FloatProgressModel",
          "state": {
            "_view_name": "ProgressView",
            "style": "IPY_MODEL_22c1ed101091473ab4c713ab57c33acb",
            "_dom_classes": [],
            "description": "Downloading: 100%",
            "_model_name": "FloatProgressModel",
            "bar_style": "success",
            "max": 1520013706,
            "_view_module": "@jupyter-widgets/controls",
            "_model_module_version": "1.5.0",
            "value": 1520013706,
            "_view_count": null,
            "_view_module_version": "1.5.0",
            "orientation": "horizontal",
            "min": 0,
            "description_tooltip": null,
            "_model_module": "@jupyter-widgets/controls",
            "layout": "IPY_MODEL_444f96fc3bc34bde86a2b349053c3705"
          }
        },
        "23637443957f42aba13d1de402195b7e": {
          "model_module": "@jupyter-widgets/controls",
          "model_name": "HTMLModel",
          "state": {
            "_view_name": "HTMLView",
            "style": "IPY_MODEL_393b63f2ca7849bd85f72d1480d063ac",
            "_dom_classes": [],
            "description": "",
            "_model_name": "HTMLModel",
            "placeholder": "​",
            "_view_module": "@jupyter-widgets/controls",
            "_model_module_version": "1.5.0",
            "value": " 1.52G/1.52G [00:26&lt;00:00, 57.4MB/s]",
            "_view_count": null,
            "_view_module_version": "1.5.0",
            "description_tooltip": null,
            "_model_module": "@jupyter-widgets/controls",
            "layout": "IPY_MODEL_1d65353959124ec68e56ce5050c7aa98"
          }
        },
        "22c1ed101091473ab4c713ab57c33acb": {
          "model_module": "@jupyter-widgets/controls",
          "model_name": "ProgressStyleModel",
          "state": {
            "_view_name": "StyleView",
            "_model_name": "ProgressStyleModel",
            "description_width": "initial",
            "_view_module": "@jupyter-widgets/base",
            "_model_module_version": "1.5.0",
            "_view_count": null,
            "_view_module_version": "1.2.0",
            "bar_color": null,
            "_model_module": "@jupyter-widgets/controls"
          }
        },
        "444f96fc3bc34bde86a2b349053c3705": {
          "model_module": "@jupyter-widgets/base",
          "model_name": "LayoutModel",
          "state": {
            "_view_name": "LayoutView",
            "grid_template_rows": null,
            "right": null,
            "justify_content": null,
            "_view_module": "@jupyter-widgets/base",
            "overflow": null,
            "_model_module_version": "1.2.0",
            "_view_count": null,
            "flex_flow": null,
            "width": null,
            "min_width": null,
            "border": null,
            "align_items": null,
            "bottom": null,
            "_model_module": "@jupyter-widgets/base",
            "top": null,
            "grid_column": null,
            "overflow_y": null,
            "overflow_x": null,
            "grid_auto_flow": null,
            "grid_area": null,
            "grid_template_columns": null,
            "flex": null,
            "_model_name": "LayoutModel",
            "justify_items": null,
            "grid_row": null,
            "max_height": null,
            "align_content": null,
            "visibility": null,
            "align_self": null,
            "height": null,
            "min_height": null,
            "padding": null,
            "grid_auto_rows": null,
            "grid_gap": null,
            "max_width": null,
            "order": null,
            "_view_module_version": "1.2.0",
            "grid_template_areas": null,
            "object_position": null,
            "object_fit": null,
            "grid_auto_columns": null,
            "margin": null,
            "display": null,
            "left": null
          }
        },
        "393b63f2ca7849bd85f72d1480d063ac": {
          "model_module": "@jupyter-widgets/controls",
          "model_name": "DescriptionStyleModel",
          "state": {
            "_view_name": "StyleView",
            "_model_name": "DescriptionStyleModel",
            "description_width": "",
            "_view_module": "@jupyter-widgets/base",
            "_model_module_version": "1.5.0",
            "_view_count": null,
            "_view_module_version": "1.2.0",
            "_model_module": "@jupyter-widgets/controls"
          }
        },
        "1d65353959124ec68e56ce5050c7aa98": {
          "model_module": "@jupyter-widgets/base",
          "model_name": "LayoutModel",
          "state": {
            "_view_name": "LayoutView",
            "grid_template_rows": null,
            "right": null,
            "justify_content": null,
            "_view_module": "@jupyter-widgets/base",
            "overflow": null,
            "_model_module_version": "1.2.0",
            "_view_count": null,
            "flex_flow": null,
            "width": null,
            "min_width": null,
            "border": null,
            "align_items": null,
            "bottom": null,
            "_model_module": "@jupyter-widgets/base",
            "top": null,
            "grid_column": null,
            "overflow_y": null,
            "overflow_x": null,
            "grid_auto_flow": null,
            "grid_area": null,
            "grid_template_columns": null,
            "flex": null,
            "_model_name": "LayoutModel",
            "justify_items": null,
            "grid_row": null,
            "max_height": null,
            "align_content": null,
            "visibility": null,
            "align_self": null,
            "height": null,
            "min_height": null,
            "padding": null,
            "grid_auto_rows": null,
            "grid_gap": null,
            "max_width": null,
            "order": null,
            "_view_module_version": "1.2.0",
            "grid_template_areas": null,
            "object_position": null,
            "object_fit": null,
            "grid_auto_columns": null,
            "margin": null,
            "display": null,
            "left": null
          }
        },
        "0f47758cba9c46a5b71226790db4ba52": {
          "model_module": "@jupyter-widgets/controls",
          "model_name": "HBoxModel",
          "state": {
            "_view_name": "HBoxView",
            "_dom_classes": [],
            "_model_name": "HBoxModel",
            "_view_module": "@jupyter-widgets/controls",
            "_model_module_version": "1.5.0",
            "_view_count": null,
            "_view_module_version": "1.5.0",
            "box_style": "",
            "layout": "IPY_MODEL_77daf1bab0124af2aeaba604e7cd5a2d",
            "_model_module": "@jupyter-widgets/controls",
            "children": [
              "IPY_MODEL_6f0660646bc74b2499e2d7ad267164b9",
              "IPY_MODEL_1f776c7b720f4c9eaae13fc21796f544"
            ]
          }
        },
        "77daf1bab0124af2aeaba604e7cd5a2d": {
          "model_module": "@jupyter-widgets/base",
          "model_name": "LayoutModel",
          "state": {
            "_view_name": "LayoutView",
            "grid_template_rows": null,
            "right": null,
            "justify_content": null,
            "_view_module": "@jupyter-widgets/base",
            "overflow": null,
            "_model_module_version": "1.2.0",
            "_view_count": null,
            "flex_flow": null,
            "width": null,
            "min_width": null,
            "border": null,
            "align_items": null,
            "bottom": null,
            "_model_module": "@jupyter-widgets/base",
            "top": null,
            "grid_column": null,
            "overflow_y": null,
            "overflow_x": null,
            "grid_auto_flow": null,
            "grid_area": null,
            "grid_template_columns": null,
            "flex": null,
            "_model_name": "LayoutModel",
            "justify_items": null,
            "grid_row": null,
            "max_height": null,
            "align_content": null,
            "visibility": null,
            "align_self": null,
            "height": null,
            "min_height": null,
            "padding": null,
            "grid_auto_rows": null,
            "grid_gap": null,
            "max_width": null,
            "order": null,
            "_view_module_version": "1.2.0",
            "grid_template_areas": null,
            "object_position": null,
            "object_fit": null,
            "grid_auto_columns": null,
            "margin": null,
            "display": null,
            "left": null
          }
        },
        "6f0660646bc74b2499e2d7ad267164b9": {
          "model_module": "@jupyter-widgets/controls",
          "model_name": "FloatProgressModel",
          "state": {
            "_view_name": "ProgressView",
            "style": "IPY_MODEL_c285f0efa694478f9c595f844d43ddb4",
            "_dom_classes": [],
            "description": "Downloading: 100%",
            "_model_name": "FloatProgressModel",
            "bar_style": "success",
            "max": 625,
            "_view_module": "@jupyter-widgets/controls",
            "_model_module_version": "1.5.0",
            "value": 625,
            "_view_count": null,
            "_view_module_version": "1.5.0",
            "orientation": "horizontal",
            "min": 0,
            "description_tooltip": null,
            "_model_module": "@jupyter-widgets/controls",
            "layout": "IPY_MODEL_ee92481deed44c518953c4608bc1418a"
          }
        },
        "1f776c7b720f4c9eaae13fc21796f544": {
          "model_module": "@jupyter-widgets/controls",
          "model_name": "HTMLModel",
          "state": {
            "_view_name": "HTMLView",
            "style": "IPY_MODEL_fb1406e698c645c895ecbbd4f4b5e1fe",
            "_dom_classes": [],
            "description": "",
            "_model_name": "HTMLModel",
            "placeholder": "​",
            "_view_module": "@jupyter-widgets/controls",
            "_model_module_version": "1.5.0",
            "value": " 625/625 [00:00&lt;00:00, 1.63kB/s]",
            "_view_count": null,
            "_view_module_version": "1.5.0",
            "description_tooltip": null,
            "_model_module": "@jupyter-widgets/controls",
            "layout": "IPY_MODEL_4d08d5ffba7146e3940cfd808a4d100a"
          }
        },
        "c285f0efa694478f9c595f844d43ddb4": {
          "model_module": "@jupyter-widgets/controls",
          "model_name": "ProgressStyleModel",
          "state": {
            "_view_name": "StyleView",
            "_model_name": "ProgressStyleModel",
            "description_width": "initial",
            "_view_module": "@jupyter-widgets/base",
            "_model_module_version": "1.5.0",
            "_view_count": null,
            "_view_module_version": "1.2.0",
            "bar_color": null,
            "_model_module": "@jupyter-widgets/controls"
          }
        },
        "ee92481deed44c518953c4608bc1418a": {
          "model_module": "@jupyter-widgets/base",
          "model_name": "LayoutModel",
          "state": {
            "_view_name": "LayoutView",
            "grid_template_rows": null,
            "right": null,
            "justify_content": null,
            "_view_module": "@jupyter-widgets/base",
            "overflow": null,
            "_model_module_version": "1.2.0",
            "_view_count": null,
            "flex_flow": null,
            "width": null,
            "min_width": null,
            "border": null,
            "align_items": null,
            "bottom": null,
            "_model_module": "@jupyter-widgets/base",
            "top": null,
            "grid_column": null,
            "overflow_y": null,
            "overflow_x": null,
            "grid_auto_flow": null,
            "grid_area": null,
            "grid_template_columns": null,
            "flex": null,
            "_model_name": "LayoutModel",
            "justify_items": null,
            "grid_row": null,
            "max_height": null,
            "align_content": null,
            "visibility": null,
            "align_self": null,
            "height": null,
            "min_height": null,
            "padding": null,
            "grid_auto_rows": null,
            "grid_gap": null,
            "max_width": null,
            "order": null,
            "_view_module_version": "1.2.0",
            "grid_template_areas": null,
            "object_position": null,
            "object_fit": null,
            "grid_auto_columns": null,
            "margin": null,
            "display": null,
            "left": null
          }
        },
        "fb1406e698c645c895ecbbd4f4b5e1fe": {
          "model_module": "@jupyter-widgets/controls",
          "model_name": "DescriptionStyleModel",
          "state": {
            "_view_name": "StyleView",
            "_model_name": "DescriptionStyleModel",
            "description_width": "",
            "_view_module": "@jupyter-widgets/base",
            "_model_module_version": "1.5.0",
            "_view_count": null,
            "_view_module_version": "1.2.0",
            "_model_module": "@jupyter-widgets/controls"
          }
        },
        "4d08d5ffba7146e3940cfd808a4d100a": {
          "model_module": "@jupyter-widgets/base",
          "model_name": "LayoutModel",
          "state": {
            "_view_name": "LayoutView",
            "grid_template_rows": null,
            "right": null,
            "justify_content": null,
            "_view_module": "@jupyter-widgets/base",
            "overflow": null,
            "_model_module_version": "1.2.0",
            "_view_count": null,
            "flex_flow": null,
            "width": null,
            "min_width": null,
            "border": null,
            "align_items": null,
            "bottom": null,
            "_model_module": "@jupyter-widgets/base",
            "top": null,
            "grid_column": null,
            "overflow_y": null,
            "overflow_x": null,
            "grid_auto_flow": null,
            "grid_area": null,
            "grid_template_columns": null,
            "flex": null,
            "_model_name": "LayoutModel",
            "justify_items": null,
            "grid_row": null,
            "max_height": null,
            "align_content": null,
            "visibility": null,
            "align_self": null,
            "height": null,
            "min_height": null,
            "padding": null,
            "grid_auto_rows": null,
            "grid_gap": null,
            "max_width": null,
            "order": null,
            "_view_module_version": "1.2.0",
            "grid_template_areas": null,
            "object_position": null,
            "object_fit": null,
            "grid_auto_columns": null,
            "margin": null,
            "display": null,
            "left": null
          }
        },
        "9efd8a723a604396bbae9c43d37c6fec": {
          "model_module": "@jupyter-widgets/controls",
          "model_name": "HBoxModel",
          "state": {
            "_view_name": "HBoxView",
            "_dom_classes": [],
            "_model_name": "HBoxModel",
            "_view_module": "@jupyter-widgets/controls",
            "_model_module_version": "1.5.0",
            "_view_count": null,
            "_view_module_version": "1.5.0",
            "box_style": "",
            "layout": "IPY_MODEL_74a60099756b4c41a586c6e95bc8e5fd",
            "_model_module": "@jupyter-widgets/controls",
            "children": [
              "IPY_MODEL_9a3b2250df50423196386965fa7088d6",
              "IPY_MODEL_526475c6e4614816a6c696081a5fdbf2"
            ]
          }
        },
        "74a60099756b4c41a586c6e95bc8e5fd": {
          "model_module": "@jupyter-widgets/base",
          "model_name": "LayoutModel",
          "state": {
            "_view_name": "LayoutView",
            "grid_template_rows": null,
            "right": null,
            "justify_content": null,
            "_view_module": "@jupyter-widgets/base",
            "overflow": null,
            "_model_module_version": "1.2.0",
            "_view_count": null,
            "flex_flow": null,
            "width": null,
            "min_width": null,
            "border": null,
            "align_items": null,
            "bottom": null,
            "_model_module": "@jupyter-widgets/base",
            "top": null,
            "grid_column": null,
            "overflow_y": null,
            "overflow_x": null,
            "grid_auto_flow": null,
            "grid_area": null,
            "grid_template_columns": null,
            "flex": null,
            "_model_name": "LayoutModel",
            "justify_items": null,
            "grid_row": null,
            "max_height": null,
            "align_content": null,
            "visibility": null,
            "align_self": null,
            "height": null,
            "min_height": null,
            "padding": null,
            "grid_auto_rows": null,
            "grid_gap": null,
            "max_width": null,
            "order": null,
            "_view_module_version": "1.2.0",
            "grid_template_areas": null,
            "object_position": null,
            "object_fit": null,
            "grid_auto_columns": null,
            "margin": null,
            "display": null,
            "left": null
          }
        },
        "9a3b2250df50423196386965fa7088d6": {
          "model_module": "@jupyter-widgets/controls",
          "model_name": "FloatProgressModel",
          "state": {
            "_view_name": "ProgressView",
            "style": "IPY_MODEL_414220c4607a4b7da68f7b1c3a848307",
            "_dom_classes": [],
            "description": "Downloading: 100%",
            "_model_name": "FloatProgressModel",
            "bar_style": "success",
            "max": 714314041,
            "_view_module": "@jupyter-widgets/controls",
            "_model_module_version": "1.5.0",
            "value": 714314041,
            "_view_count": null,
            "_view_module_version": "1.5.0",
            "orientation": "horizontal",
            "min": 0,
            "description_tooltip": null,
            "_model_module": "@jupyter-widgets/controls",
            "layout": "IPY_MODEL_7023fc83805046afb777cafe1c42c298"
          }
        },
        "526475c6e4614816a6c696081a5fdbf2": {
          "model_module": "@jupyter-widgets/controls",
          "model_name": "HTMLModel",
          "state": {
            "_view_name": "HTMLView",
            "style": "IPY_MODEL_19f55e651466404d821836675023b7f7",
            "_dom_classes": [],
            "description": "",
            "_model_name": "HTMLModel",
            "placeholder": "​",
            "_view_module": "@jupyter-widgets/controls",
            "_model_module_version": "1.5.0",
            "value": " 714M/714M [00:13&lt;00:00, 51.8MB/s]",
            "_view_count": null,
            "_view_module_version": "1.5.0",
            "description_tooltip": null,
            "_model_module": "@jupyter-widgets/controls",
            "layout": "IPY_MODEL_ae8154ec73694c1286dd316c825eae64"
          }
        },
        "414220c4607a4b7da68f7b1c3a848307": {
          "model_module": "@jupyter-widgets/controls",
          "model_name": "ProgressStyleModel",
          "state": {
            "_view_name": "StyleView",
            "_model_name": "ProgressStyleModel",
            "description_width": "initial",
            "_view_module": "@jupyter-widgets/base",
            "_model_module_version": "1.5.0",
            "_view_count": null,
            "_view_module_version": "1.2.0",
            "bar_color": null,
            "_model_module": "@jupyter-widgets/controls"
          }
        },
        "7023fc83805046afb777cafe1c42c298": {
          "model_module": "@jupyter-widgets/base",
          "model_name": "LayoutModel",
          "state": {
            "_view_name": "LayoutView",
            "grid_template_rows": null,
            "right": null,
            "justify_content": null,
            "_view_module": "@jupyter-widgets/base",
            "overflow": null,
            "_model_module_version": "1.2.0",
            "_view_count": null,
            "flex_flow": null,
            "width": null,
            "min_width": null,
            "border": null,
            "align_items": null,
            "bottom": null,
            "_model_module": "@jupyter-widgets/base",
            "top": null,
            "grid_column": null,
            "overflow_y": null,
            "overflow_x": null,
            "grid_auto_flow": null,
            "grid_area": null,
            "grid_template_columns": null,
            "flex": null,
            "_model_name": "LayoutModel",
            "justify_items": null,
            "grid_row": null,
            "max_height": null,
            "align_content": null,
            "visibility": null,
            "align_self": null,
            "height": null,
            "min_height": null,
            "padding": null,
            "grid_auto_rows": null,
            "grid_gap": null,
            "max_width": null,
            "order": null,
            "_view_module_version": "1.2.0",
            "grid_template_areas": null,
            "object_position": null,
            "object_fit": null,
            "grid_auto_columns": null,
            "margin": null,
            "display": null,
            "left": null
          }
        },
        "19f55e651466404d821836675023b7f7": {
          "model_module": "@jupyter-widgets/controls",
          "model_name": "DescriptionStyleModel",
          "state": {
            "_view_name": "StyleView",
            "_model_name": "DescriptionStyleModel",
            "description_width": "",
            "_view_module": "@jupyter-widgets/base",
            "_model_module_version": "1.5.0",
            "_view_count": null,
            "_view_module_version": "1.2.0",
            "_model_module": "@jupyter-widgets/controls"
          }
        },
        "ae8154ec73694c1286dd316c825eae64": {
          "model_module": "@jupyter-widgets/base",
          "model_name": "LayoutModel",
          "state": {
            "_view_name": "LayoutView",
            "grid_template_rows": null,
            "right": null,
            "justify_content": null,
            "_view_module": "@jupyter-widgets/base",
            "overflow": null,
            "_model_module_version": "1.2.0",
            "_view_count": null,
            "flex_flow": null,
            "width": null,
            "min_width": null,
            "border": null,
            "align_items": null,
            "bottom": null,
            "_model_module": "@jupyter-widgets/base",
            "top": null,
            "grid_column": null,
            "overflow_y": null,
            "overflow_x": null,
            "grid_auto_flow": null,
            "grid_area": null,
            "grid_template_columns": null,
            "flex": null,
            "_model_name": "LayoutModel",
            "justify_items": null,
            "grid_row": null,
            "max_height": null,
            "align_content": null,
            "visibility": null,
            "align_self": null,
            "height": null,
            "min_height": null,
            "padding": null,
            "grid_auto_rows": null,
            "grid_gap": null,
            "max_width": null,
            "order": null,
            "_view_module_version": "1.2.0",
            "grid_template_areas": null,
            "object_position": null,
            "object_fit": null,
            "grid_auto_columns": null,
            "margin": null,
            "display": null,
            "left": null
          }
        },
        "25ff9c6c300c4f2cbcd40a24c2a56ea8": {
          "model_module": "@jupyter-widgets/controls",
          "model_name": "HBoxModel",
          "state": {
            "_view_name": "HBoxView",
            "_dom_classes": [],
            "_model_name": "HBoxModel",
            "_view_module": "@jupyter-widgets/controls",
            "_model_module_version": "1.5.0",
            "_view_count": null,
            "_view_module_version": "1.5.0",
            "box_style": "",
            "layout": "IPY_MODEL_08b3a779aa884e7ba1f4b53142430ad7",
            "_model_module": "@jupyter-widgets/controls",
            "children": [
              "IPY_MODEL_1d45f8086e6e4c729a05658c37518928",
              "IPY_MODEL_005f562d2592478da2ecf21b1216674d"
            ]
          }
        },
        "08b3a779aa884e7ba1f4b53142430ad7": {
          "model_module": "@jupyter-widgets/base",
          "model_name": "LayoutModel",
          "state": {
            "_view_name": "LayoutView",
            "grid_template_rows": null,
            "right": null,
            "justify_content": null,
            "_view_module": "@jupyter-widgets/base",
            "overflow": null,
            "_model_module_version": "1.2.0",
            "_view_count": null,
            "flex_flow": null,
            "width": null,
            "min_width": null,
            "border": null,
            "align_items": null,
            "bottom": null,
            "_model_module": "@jupyter-widgets/base",
            "top": null,
            "grid_column": null,
            "overflow_y": null,
            "overflow_x": null,
            "grid_auto_flow": null,
            "grid_area": null,
            "grid_template_columns": null,
            "flex": null,
            "_model_name": "LayoutModel",
            "justify_items": null,
            "grid_row": null,
            "max_height": null,
            "align_content": null,
            "visibility": null,
            "align_self": null,
            "height": null,
            "min_height": null,
            "padding": null,
            "grid_auto_rows": null,
            "grid_gap": null,
            "max_width": null,
            "order": null,
            "_view_module_version": "1.2.0",
            "grid_template_areas": null,
            "object_position": null,
            "object_fit": null,
            "grid_auto_columns": null,
            "margin": null,
            "display": null,
            "left": null
          }
        },
        "1d45f8086e6e4c729a05658c37518928": {
          "model_module": "@jupyter-widgets/controls",
          "model_name": "FloatProgressModel",
          "state": {
            "_view_name": "ProgressView",
            "style": "IPY_MODEL_b91bb93a47624d71b6ebefdcdfce4332",
            "_dom_classes": [],
            "description": "Downloading: 100%",
            "_model_name": "FloatProgressModel",
            "bar_style": "success",
            "max": 995526,
            "_view_module": "@jupyter-widgets/controls",
            "_model_module_version": "1.5.0",
            "value": 995526,
            "_view_count": null,
            "_view_module_version": "1.5.0",
            "orientation": "horizontal",
            "min": 0,
            "description_tooltip": null,
            "_model_module": "@jupyter-widgets/controls",
            "layout": "IPY_MODEL_cf879440f4714a6bae623f19246d4b58"
          }
        },
        "005f562d2592478da2ecf21b1216674d": {
          "model_module": "@jupyter-widgets/controls",
          "model_name": "HTMLModel",
          "state": {
            "_view_name": "HTMLView",
            "style": "IPY_MODEL_6e61518b868346509e480cf686c1500a",
            "_dom_classes": [],
            "description": "",
            "_model_name": "HTMLModel",
            "placeholder": "​",
            "_view_module": "@jupyter-widgets/controls",
            "_model_module_version": "1.5.0",
            "value": " 996k/996k [00:00&lt;00:00, 3.34MB/s]",
            "_view_count": null,
            "_view_module_version": "1.5.0",
            "description_tooltip": null,
            "_model_module": "@jupyter-widgets/controls",
            "layout": "IPY_MODEL_7bacd9ee1f7b4298982f9e3c126ce4fb"
          }
        },
        "b91bb93a47624d71b6ebefdcdfce4332": {
          "model_module": "@jupyter-widgets/controls",
          "model_name": "ProgressStyleModel",
          "state": {
            "_view_name": "StyleView",
            "_model_name": "ProgressStyleModel",
            "description_width": "initial",
            "_view_module": "@jupyter-widgets/base",
            "_model_module_version": "1.5.0",
            "_view_count": null,
            "_view_module_version": "1.2.0",
            "bar_color": null,
            "_model_module": "@jupyter-widgets/controls"
          }
        },
        "cf879440f4714a6bae623f19246d4b58": {
          "model_module": "@jupyter-widgets/base",
          "model_name": "LayoutModel",
          "state": {
            "_view_name": "LayoutView",
            "grid_template_rows": null,
            "right": null,
            "justify_content": null,
            "_view_module": "@jupyter-widgets/base",
            "overflow": null,
            "_model_module_version": "1.2.0",
            "_view_count": null,
            "flex_flow": null,
            "width": null,
            "min_width": null,
            "border": null,
            "align_items": null,
            "bottom": null,
            "_model_module": "@jupyter-widgets/base",
            "top": null,
            "grid_column": null,
            "overflow_y": null,
            "overflow_x": null,
            "grid_auto_flow": null,
            "grid_area": null,
            "grid_template_columns": null,
            "flex": null,
            "_model_name": "LayoutModel",
            "justify_items": null,
            "grid_row": null,
            "max_height": null,
            "align_content": null,
            "visibility": null,
            "align_self": null,
            "height": null,
            "min_height": null,
            "padding": null,
            "grid_auto_rows": null,
            "grid_gap": null,
            "max_width": null,
            "order": null,
            "_view_module_version": "1.2.0",
            "grid_template_areas": null,
            "object_position": null,
            "object_fit": null,
            "grid_auto_columns": null,
            "margin": null,
            "display": null,
            "left": null
          }
        },
        "6e61518b868346509e480cf686c1500a": {
          "model_module": "@jupyter-widgets/controls",
          "model_name": "DescriptionStyleModel",
          "state": {
            "_view_name": "StyleView",
            "_model_name": "DescriptionStyleModel",
            "description_width": "",
            "_view_module": "@jupyter-widgets/base",
            "_model_module_version": "1.5.0",
            "_view_count": null,
            "_view_module_version": "1.2.0",
            "_model_module": "@jupyter-widgets/controls"
          }
        },
        "7bacd9ee1f7b4298982f9e3c126ce4fb": {
          "model_module": "@jupyter-widgets/base",
          "model_name": "LayoutModel",
          "state": {
            "_view_name": "LayoutView",
            "grid_template_rows": null,
            "right": null,
            "justify_content": null,
            "_view_module": "@jupyter-widgets/base",
            "overflow": null,
            "_model_module_version": "1.2.0",
            "_view_count": null,
            "flex_flow": null,
            "width": null,
            "min_width": null,
            "border": null,
            "align_items": null,
            "bottom": null,
            "_model_module": "@jupyter-widgets/base",
            "top": null,
            "grid_column": null,
            "overflow_y": null,
            "overflow_x": null,
            "grid_auto_flow": null,
            "grid_area": null,
            "grid_template_columns": null,
            "flex": null,
            "_model_name": "LayoutModel",
            "justify_items": null,
            "grid_row": null,
            "max_height": null,
            "align_content": null,
            "visibility": null,
            "align_self": null,
            "height": null,
            "min_height": null,
            "padding": null,
            "grid_auto_rows": null,
            "grid_gap": null,
            "max_width": null,
            "order": null,
            "_view_module_version": "1.2.0",
            "grid_template_areas": null,
            "object_position": null,
            "object_fit": null,
            "grid_auto_columns": null,
            "margin": null,
            "display": null,
            "left": null
          }
        }
      }
    }
  },
  "cells": [
    {
      "cell_type": "code",
      "metadata": {
        "colab": {
          "base_uri": "https://localhost:8080/"
        },
        "id": "gDR80nrpYJSZ",
        "outputId": "306586c1-ecff-4238-9873-db8aefdbc1f7"
      },
      "source": [
        "from google.colab import drive\n",
        "drive.mount('/content/gdrive')"
      ],
      "execution_count": 1,
      "outputs": [
        {
          "output_type": "stream",
          "text": [
            "Mounted at /content/gdrive\n"
          ],
          "name": "stdout"
        }
      ]
    },
    {
      "cell_type": "markdown",
      "metadata": {
        "id": "sJsBpETWrSlk"
      },
      "source": [
        "# Setup"
      ]
    },
    {
      "cell_type": "code",
      "metadata": {
        "colab": {
          "base_uri": "https://localhost:8080/"
        },
        "id": "Y5DJt9KGoSf5",
        "outputId": "a1d02657-b9a7-40fb-c9dc-2687aeb84f82"
      },
      "source": [
        "!git clone https://github.com/neuspell/neuspell\n",
        "%cd neuspell"
      ],
      "execution_count": 2,
      "outputs": [
        {
          "output_type": "stream",
          "text": [
            "Cloning into 'neuspell'...\n",
            "remote: Enumerating objects: 689, done.\u001b[K\n",
            "remote: Counting objects: 100% (492/492), done.\u001b[K\n",
            "remote: Compressing objects: 100% (313/313), done.\u001b[K\n",
            "remote: Total 689 (delta 304), reused 325 (delta 161), pack-reused 197\u001b[K\n",
            "Receiving objects: 100% (689/689), 74.44 MiB | 31.51 MiB/s, done.\n",
            "Resolving deltas: 100% (330/330), done.\n",
            "/content/neuspell\n"
          ],
          "name": "stdout"
        }
      ]
    },
    {
      "cell_type": "code",
      "metadata": {
        "colab": {
          "base_uri": "https://localhost:8080/"
        },
        "id": "fiymHeLeoZfU",
        "outputId": "7aedf0f4-c084-45ef-eba5-f59390a5a9b2"
      },
      "source": [
        "!pip install -e ."
      ],
      "execution_count": 3,
      "outputs": [
        {
          "output_type": "stream",
          "text": [
            "Obtaining file:///content/neuspell\n",
            "Collecting transformers\n",
            "\u001b[?25l  Downloading https://files.pythonhosted.org/packages/d5/43/cfe4ee779bbd6a678ac6a97c5a5cdeb03c35f9eaebbb9720b036680f9a2d/transformers-4.6.1-py3-none-any.whl (2.2MB)\n",
            "\u001b[K     |████████████████████████████████| 2.3MB 8.6MB/s \n",
            "\u001b[?25hRequirement already satisfied: tqdm in /usr/local/lib/python3.7/dist-packages (from neuspell==1.0.0) (4.41.1)\n",
            "Requirement already satisfied: torch>=1.6.0 in /usr/local/lib/python3.7/dist-packages (from neuspell==1.0.0) (1.8.1+cu101)\n",
            "Requirement already satisfied: numpy in /usr/local/lib/python3.7/dist-packages (from neuspell==1.0.0) (1.19.5)\n",
            "Collecting jsonlines\n",
            "  Downloading https://files.pythonhosted.org/packages/d4/58/06f430ff7607a2929f80f07bfd820acbc508a4e977542fefcc522cde9dff/jsonlines-2.0.0-py3-none-any.whl\n",
            "Collecting sentencepiece\n",
            "\u001b[?25l  Downloading https://files.pythonhosted.org/packages/f5/99/e0808cb947ba10f575839c43e8fafc9cc44e4a7a2c8f79c60db48220a577/sentencepiece-0.1.95-cp37-cp37m-manylinux2014_x86_64.whl (1.2MB)\n",
            "\u001b[K     |████████████████████████████████| 1.2MB 63.1MB/s \n",
            "\u001b[?25hCollecting pytorch_pretrained_bert\n",
            "\u001b[?25l  Downloading https://files.pythonhosted.org/packages/d7/e0/c08d5553b89973d9a240605b9c12404bcf8227590de62bae27acbcfe076b/pytorch_pretrained_bert-0.6.2-py3-none-any.whl (123kB)\n",
            "\u001b[K     |████████████████████████████████| 133kB 66.6MB/s \n",
            "\u001b[?25hRequirement already satisfied: regex!=2019.12.17 in /usr/local/lib/python3.7/dist-packages (from transformers->neuspell==1.0.0) (2019.12.20)\n",
            "Requirement already satisfied: filelock in /usr/local/lib/python3.7/dist-packages (from transformers->neuspell==1.0.0) (3.0.12)\n",
            "Requirement already satisfied: packaging in /usr/local/lib/python3.7/dist-packages (from transformers->neuspell==1.0.0) (20.9)\n",
            "Collecting huggingface-hub==0.0.8\n",
            "  Downloading https://files.pythonhosted.org/packages/a1/88/7b1e45720ecf59c6c6737ff332f41c955963090a18e72acbcbeac6b25e86/huggingface_hub-0.0.8-py3-none-any.whl\n",
            "Collecting sacremoses\n",
            "\u001b[?25l  Downloading https://files.pythonhosted.org/packages/75/ee/67241dc87f266093c533a2d4d3d69438e57d7a90abb216fa076e7d475d4a/sacremoses-0.0.45-py3-none-any.whl (895kB)\n",
            "\u001b[K     |████████████████████████████████| 901kB 65.0MB/s \n",
            "\u001b[?25hRequirement already satisfied: importlib-metadata; python_version < \"3.8\" in /usr/local/lib/python3.7/dist-packages (from transformers->neuspell==1.0.0) (4.0.1)\n",
            "Requirement already satisfied: requests in /usr/local/lib/python3.7/dist-packages (from transformers->neuspell==1.0.0) (2.23.0)\n",
            "Collecting tokenizers<0.11,>=0.10.1\n",
            "\u001b[?25l  Downloading https://files.pythonhosted.org/packages/d4/e2/df3543e8ffdab68f5acc73f613de9c2b155ac47f162e725dcac87c521c11/tokenizers-0.10.3-cp37-cp37m-manylinux_2_5_x86_64.manylinux1_x86_64.manylinux_2_12_x86_64.manylinux2010_x86_64.whl (3.3MB)\n",
            "\u001b[K     |████████████████████████████████| 3.3MB 63.9MB/s \n",
            "\u001b[?25hRequirement already satisfied: typing-extensions in /usr/local/lib/python3.7/dist-packages (from torch>=1.6.0->neuspell==1.0.0) (3.7.4.3)\n",
            "Collecting boto3\n",
            "\u001b[?25l  Downloading https://files.pythonhosted.org/packages/11/20/4294e37c3c6936c905f1e9da958c776d7fee54a4512bdb7706d69c8720e6/boto3-1.17.84-py2.py3-none-any.whl (131kB)\n",
            "\u001b[K     |████████████████████████████████| 133kB 56.7MB/s \n",
            "\u001b[?25hRequirement already satisfied: pyparsing>=2.0.2 in /usr/local/lib/python3.7/dist-packages (from packaging->transformers->neuspell==1.0.0) (2.4.7)\n",
            "Requirement already satisfied: click in /usr/local/lib/python3.7/dist-packages (from sacremoses->transformers->neuspell==1.0.0) (7.1.2)\n",
            "Requirement already satisfied: joblib in /usr/local/lib/python3.7/dist-packages (from sacremoses->transformers->neuspell==1.0.0) (1.0.1)\n",
            "Requirement already satisfied: six in /usr/local/lib/python3.7/dist-packages (from sacremoses->transformers->neuspell==1.0.0) (1.15.0)\n",
            "Requirement already satisfied: zipp>=0.5 in /usr/local/lib/python3.7/dist-packages (from importlib-metadata; python_version < \"3.8\"->transformers->neuspell==1.0.0) (3.4.1)\n",
            "Requirement already satisfied: certifi>=2017.4.17 in /usr/local/lib/python3.7/dist-packages (from requests->transformers->neuspell==1.0.0) (2020.12.5)\n",
            "Requirement already satisfied: urllib3!=1.25.0,!=1.25.1,<1.26,>=1.21.1 in /usr/local/lib/python3.7/dist-packages (from requests->transformers->neuspell==1.0.0) (1.24.3)\n",
            "Requirement already satisfied: chardet<4,>=3.0.2 in /usr/local/lib/python3.7/dist-packages (from requests->transformers->neuspell==1.0.0) (3.0.4)\n",
            "Requirement already satisfied: idna<3,>=2.5 in /usr/local/lib/python3.7/dist-packages (from requests->transformers->neuspell==1.0.0) (2.10)\n",
            "Collecting botocore<1.21.0,>=1.20.84\n",
            "\u001b[?25l  Downloading https://files.pythonhosted.org/packages/bc/22/72c81d754bbcb128cba2ad88670c3c320e4594e6ddd8cca6512c3967108c/botocore-1.20.84-py2.py3-none-any.whl (7.6MB)\n",
            "\u001b[K     |████████████████████████████████| 7.6MB 41.6MB/s \n",
            "\u001b[?25hCollecting jmespath<1.0.0,>=0.7.1\n",
            "  Downloading https://files.pythonhosted.org/packages/07/cb/5f001272b6faeb23c1c9e0acc04d48eaaf5c862c17709d20e3469c6e0139/jmespath-0.10.0-py2.py3-none-any.whl\n",
            "Collecting s3transfer<0.5.0,>=0.4.0\n",
            "\u001b[?25l  Downloading https://files.pythonhosted.org/packages/63/d0/693477c688348654ddc21dcdce0817653a294aa43f41771084c25e7ff9c7/s3transfer-0.4.2-py2.py3-none-any.whl (79kB)\n",
            "\u001b[K     |████████████████████████████████| 81kB 12.4MB/s \n",
            "\u001b[?25hRequirement already satisfied: python-dateutil<3.0.0,>=2.1 in /usr/local/lib/python3.7/dist-packages (from botocore<1.21.0,>=1.20.84->boto3->pytorch_pretrained_bert->neuspell==1.0.0) (2.8.1)\n",
            "\u001b[31mERROR: botocore 1.20.84 has requirement urllib3<1.27,>=1.25.4, but you'll have urllib3 1.24.3 which is incompatible.\u001b[0m\n",
            "Installing collected packages: huggingface-hub, sacremoses, tokenizers, transformers, jsonlines, sentencepiece, jmespath, botocore, s3transfer, boto3, pytorch-pretrained-bert, neuspell\n",
            "  Running setup.py develop for neuspell\n",
            "Successfully installed boto3-1.17.84 botocore-1.20.84 huggingface-hub-0.0.8 jmespath-0.10.0 jsonlines-2.0.0 neuspell pytorch-pretrained-bert-0.6.2 s3transfer-0.4.2 sacremoses-0.0.45 sentencepiece-0.1.95 tokenizers-0.10.3 transformers-4.6.1\n"
          ],
          "name": "stdout"
        }
      ]
    },
    {
      "cell_type": "code",
      "metadata": {
        "colab": {
          "base_uri": "https://localhost:8080/"
        },
        "id": "8LolSwfmocil",
        "outputId": "26d92910-148e-4a59-b738-4d28b78d8f8a"
      },
      "source": [
        "!pip install urllib3==1.25.4"
      ],
      "execution_count": 4,
      "outputs": [
        {
          "output_type": "stream",
          "text": [
            "Collecting urllib3==1.25.4\n",
            "\u001b[?25l  Downloading https://files.pythonhosted.org/packages/91/0d/7777358f672a14b7ae0dfcd29f949f409f913e0578190d6bfa68eb55864b/urllib3-1.25.4-py2.py3-none-any.whl (125kB)\n",
            "\r\u001b[K     |██▋                             | 10kB 21.7MB/s eta 0:00:01\r\u001b[K     |█████▏                          | 20kB 20.5MB/s eta 0:00:01\r\u001b[K     |███████▉                        | 30kB 15.9MB/s eta 0:00:01\r\u001b[K     |██████████▍                     | 40kB 14.6MB/s eta 0:00:01\r\u001b[K     |█████████████                   | 51kB 7.6MB/s eta 0:00:01\r\u001b[K     |███████████████▋                | 61kB 7.9MB/s eta 0:00:01\r\u001b[K     |██████████████████▎             | 71kB 8.6MB/s eta 0:00:01\r\u001b[K     |████████████████████▉           | 81kB 9.5MB/s eta 0:00:01\r\u001b[K     |███████████████████████▌        | 92kB 9.1MB/s eta 0:00:01\r\u001b[K     |██████████████████████████      | 102kB 7.3MB/s eta 0:00:01\r\u001b[K     |████████████████████████████▊   | 112kB 7.3MB/s eta 0:00:01\r\u001b[K     |███████████████████████████████▎| 122kB 7.3MB/s eta 0:00:01\r\u001b[K     |████████████████████████████████| 133kB 7.3MB/s \n",
            "\u001b[31mERROR: datascience 0.10.6 has requirement folium==0.2.1, but you'll have folium 0.8.3 which is incompatible.\u001b[0m\n",
            "\u001b[?25hInstalling collected packages: urllib3\n",
            "  Found existing installation: urllib3 1.24.3\n",
            "    Uninstalling urllib3-1.24.3:\n",
            "      Successfully uninstalled urllib3-1.24.3\n",
            "Successfully installed urllib3-1.25.4\n"
          ],
          "name": "stdout"
        }
      ]
    },
    {
      "cell_type": "code",
      "metadata": {
        "colab": {
          "base_uri": "https://localhost:8080/"
        },
        "id": "0owUYWg2pKTQ",
        "outputId": "51718421-8edc-4dca-dc11-0045216f46f2"
      },
      "source": [
        "!pip install folium==0.2.1"
      ],
      "execution_count": 5,
      "outputs": [
        {
          "output_type": "stream",
          "text": [
            "Collecting folium==0.2.1\n",
            "\u001b[?25l  Downloading https://files.pythonhosted.org/packages/72/dd/75ced7437bfa7cb9a88b96ee0177953062803c3b4cde411a97d98c35adaf/folium-0.2.1.tar.gz (69kB)\n",
            "\r\u001b[K     |████▊                           | 10kB 22.9MB/s eta 0:00:01\r\u001b[K     |█████████▍                      | 20kB 16.3MB/s eta 0:00:01\r\u001b[K     |██████████████                  | 30kB 14.3MB/s eta 0:00:01\r\u001b[K     |██████████████████▊             | 40kB 13.5MB/s eta 0:00:01\r\u001b[K     |███████████████████████▍        | 51kB 7.7MB/s eta 0:00:01\r\u001b[K     |████████████████████████████    | 61kB 7.3MB/s eta 0:00:01\r\u001b[K     |████████████████████████████████| 71kB 5.0MB/s \n",
            "\u001b[?25hRequirement already satisfied: Jinja2 in /usr/local/lib/python3.7/dist-packages (from folium==0.2.1) (2.11.3)\n",
            "Requirement already satisfied: MarkupSafe>=0.23 in /usr/local/lib/python3.7/dist-packages (from Jinja2->folium==0.2.1) (2.0.1)\n",
            "Building wheels for collected packages: folium\n",
            "  Building wheel for folium (setup.py) ... \u001b[?25l\u001b[?25hdone\n",
            "  Created wheel for folium: filename=folium-0.2.1-cp37-none-any.whl size=79979 sha256=9481ce5f83085b5ef52a47f52b6831849df28b7975b718be24f23fa3cabf992a\n",
            "  Stored in directory: /root/.cache/pip/wheels/b8/09/f0/52d2ef419c2aaf4fb149f92a33e0008bdce7ae816f0dd8f0c5\n",
            "Successfully built folium\n",
            "Installing collected packages: folium\n",
            "  Found existing installation: folium 0.8.3\n",
            "    Uninstalling folium-0.8.3:\n",
            "      Successfully uninstalled folium-0.8.3\n",
            "Successfully installed folium-0.2.1\n"
          ],
          "name": "stdout"
        }
      ]
    },
    {
      "cell_type": "code",
      "metadata": {
        "colab": {
          "base_uri": "https://localhost:8080/"
        },
        "id": "nBqDR09Konge",
        "outputId": "0f694d1e-ff7a-4a1f-9575-83fd095fa24c"
      },
      "source": [
        "!pip install -r extras-requirements.txt"
      ],
      "execution_count": 6,
      "outputs": [
        {
          "output_type": "stream",
          "text": [
            "Obtaining file:///content/neuspell (from -r extras-requirements.txt (line 1))\n",
            "Obtaining file:///content/neuspell (from -r extras-requirements.txt (line 2))\n",
            "Requirement already satisfied: transformers in /usr/local/lib/python3.7/dist-packages (from neuspell==1.0.0->-r extras-requirements.txt (line 1)) (4.6.1)\n",
            "Requirement already satisfied: tqdm in /usr/local/lib/python3.7/dist-packages (from neuspell==1.0.0->-r extras-requirements.txt (line 1)) (4.41.1)\n",
            "Requirement already satisfied: torch>=1.6.0 in /usr/local/lib/python3.7/dist-packages (from neuspell==1.0.0->-r extras-requirements.txt (line 1)) (1.8.1+cu101)\n",
            "Requirement already satisfied: numpy in /usr/local/lib/python3.7/dist-packages (from neuspell==1.0.0->-r extras-requirements.txt (line 1)) (1.19.5)\n",
            "Requirement already satisfied: jsonlines in /usr/local/lib/python3.7/dist-packages (from neuspell==1.0.0->-r extras-requirements.txt (line 1)) (2.0.0)\n",
            "Requirement already satisfied: sentencepiece in /usr/local/lib/python3.7/dist-packages (from neuspell==1.0.0->-r extras-requirements.txt (line 1)) (0.1.95)\n",
            "Requirement already satisfied: pytorch_pretrained_bert in /usr/local/lib/python3.7/dist-packages (from neuspell==1.0.0->-r extras-requirements.txt (line 1)) (0.6.2)\n",
            "Requirement already satisfied: spacy in /usr/local/lib/python3.7/dist-packages (from neuspell==1.0.0->-r extras-requirements.txt (line 1)) (2.2.4)\n",
            "Collecting allennlp==1.5.0\n",
            "\u001b[?25l  Downloading https://files.pythonhosted.org/packages/31/56/1d3c00a8cec0d5d672c7a29980e0a468ea6287dc6e7ffd235cc6012c784d/allennlp-1.5.0-py3-none-any.whl (517kB)\n",
            "\u001b[K     |████████████████████████████████| 522kB 8.4MB/s \n",
            "\u001b[?25hRequirement already satisfied: regex!=2019.12.17 in /usr/local/lib/python3.7/dist-packages (from transformers->neuspell==1.0.0->-r extras-requirements.txt (line 1)) (2019.12.20)\n",
            "Requirement already satisfied: importlib-metadata; python_version < \"3.8\" in /usr/local/lib/python3.7/dist-packages (from transformers->neuspell==1.0.0->-r extras-requirements.txt (line 1)) (4.0.1)\n",
            "Requirement already satisfied: requests in /usr/local/lib/python3.7/dist-packages (from transformers->neuspell==1.0.0->-r extras-requirements.txt (line 1)) (2.23.0)\n",
            "Requirement already satisfied: filelock in /usr/local/lib/python3.7/dist-packages (from transformers->neuspell==1.0.0->-r extras-requirements.txt (line 1)) (3.0.12)\n",
            "Requirement already satisfied: sacremoses in /usr/local/lib/python3.7/dist-packages (from transformers->neuspell==1.0.0->-r extras-requirements.txt (line 1)) (0.0.45)\n",
            "Requirement already satisfied: tokenizers<0.11,>=0.10.1 in /usr/local/lib/python3.7/dist-packages (from transformers->neuspell==1.0.0->-r extras-requirements.txt (line 1)) (0.10.3)\n",
            "Requirement already satisfied: huggingface-hub==0.0.8 in /usr/local/lib/python3.7/dist-packages (from transformers->neuspell==1.0.0->-r extras-requirements.txt (line 1)) (0.0.8)\n",
            "Requirement already satisfied: packaging in /usr/local/lib/python3.7/dist-packages (from transformers->neuspell==1.0.0->-r extras-requirements.txt (line 1)) (20.9)\n",
            "Requirement already satisfied: typing-extensions in /usr/local/lib/python3.7/dist-packages (from torch>=1.6.0->neuspell==1.0.0->-r extras-requirements.txt (line 1)) (3.7.4.3)\n",
            "Requirement already satisfied: boto3 in /usr/local/lib/python3.7/dist-packages (from pytorch_pretrained_bert->neuspell==1.0.0->-r extras-requirements.txt (line 1)) (1.17.84)\n",
            "Requirement already satisfied: cymem<2.1.0,>=2.0.2 in /usr/local/lib/python3.7/dist-packages (from spacy->neuspell==1.0.0->-r extras-requirements.txt (line 1)) (2.0.5)\n",
            "Requirement already satisfied: srsly<1.1.0,>=1.0.2 in /usr/local/lib/python3.7/dist-packages (from spacy->neuspell==1.0.0->-r extras-requirements.txt (line 1)) (1.0.5)\n",
            "Requirement already satisfied: murmurhash<1.1.0,>=0.28.0 in /usr/local/lib/python3.7/dist-packages (from spacy->neuspell==1.0.0->-r extras-requirements.txt (line 1)) (1.0.5)\n",
            "Requirement already satisfied: setuptools in /usr/local/lib/python3.7/dist-packages (from spacy->neuspell==1.0.0->-r extras-requirements.txt (line 1)) (56.1.0)\n",
            "Requirement already satisfied: preshed<3.1.0,>=3.0.2 in /usr/local/lib/python3.7/dist-packages (from spacy->neuspell==1.0.0->-r extras-requirements.txt (line 1)) (3.0.5)\n",
            "Requirement already satisfied: blis<0.5.0,>=0.4.0 in /usr/local/lib/python3.7/dist-packages (from spacy->neuspell==1.0.0->-r extras-requirements.txt (line 1)) (0.4.1)\n",
            "Requirement already satisfied: wasabi<1.1.0,>=0.4.0 in /usr/local/lib/python3.7/dist-packages (from spacy->neuspell==1.0.0->-r extras-requirements.txt (line 1)) (0.8.2)\n",
            "Requirement already satisfied: plac<1.2.0,>=0.9.6 in /usr/local/lib/python3.7/dist-packages (from spacy->neuspell==1.0.0->-r extras-requirements.txt (line 1)) (1.1.3)\n",
            "Requirement already satisfied: catalogue<1.1.0,>=0.0.7 in /usr/local/lib/python3.7/dist-packages (from spacy->neuspell==1.0.0->-r extras-requirements.txt (line 1)) (1.0.0)\n",
            "Requirement already satisfied: thinc==7.4.0 in /usr/local/lib/python3.7/dist-packages (from spacy->neuspell==1.0.0->-r extras-requirements.txt (line 1)) (7.4.0)\n",
            "Collecting overrides==3.1.0\n",
            "  Downloading https://files.pythonhosted.org/packages/ff/b1/10f69c00947518e6676bbd43e739733048de64b8dd998e9c2d5a71f44c5d/overrides-3.1.0.tar.gz\n",
            "Requirement already satisfied: nltk in /usr/local/lib/python3.7/dist-packages (from allennlp==1.5.0->neuspell==1.0.0->-r extras-requirements.txt (line 2)) (3.2.5)\n",
            "Requirement already satisfied: scikit-learn in /usr/local/lib/python3.7/dist-packages (from allennlp==1.5.0->neuspell==1.0.0->-r extras-requirements.txt (line 2)) (0.22.2.post1)\n",
            "Requirement already satisfied: pytest in /usr/local/lib/python3.7/dist-packages (from allennlp==1.5.0->neuspell==1.0.0->-r extras-requirements.txt (line 2)) (3.6.4)\n",
            "Collecting jsonpickle\n",
            "  Downloading https://files.pythonhosted.org/packages/bb/1a/f2db026d4d682303793559f1c2bb425ba3ec0d6fd7ac63397790443f2461/jsonpickle-2.0.0-py2.py3-none-any.whl\n",
            "Requirement already satisfied: h5py in /usr/local/lib/python3.7/dist-packages (from allennlp==1.5.0->neuspell==1.0.0->-r extras-requirements.txt (line 2)) (3.1.0)\n",
            "Requirement already satisfied: scipy in /usr/local/lib/python3.7/dist-packages (from allennlp==1.5.0->neuspell==1.0.0->-r extras-requirements.txt (line 2)) (1.4.1)\n",
            "Collecting tensorboardX>=1.2\n",
            "\u001b[?25l  Downloading https://files.pythonhosted.org/packages/07/84/46421bd3e0e89a92682b1a38b40efc22dafb6d8e3d947e4ceefd4a5fabc7/tensorboardX-2.2-py2.py3-none-any.whl (120kB)\n",
            "\u001b[K     |████████████████████████████████| 122kB 57.8MB/s \n",
            "\u001b[?25hCollecting jsonnet>=0.10.0; sys_platform != \"win32\"\n",
            "\u001b[?25l  Downloading https://files.pythonhosted.org/packages/42/40/6f16e5ac994b16fa71c24310f97174ce07d3a97b433275589265c6b94d2b/jsonnet-0.17.0.tar.gz (259kB)\n",
            "\u001b[K     |████████████████████████████████| 266kB 49.4MB/s \n",
            "\u001b[?25hRequirement already satisfied: zipp>=0.5 in /usr/local/lib/python3.7/dist-packages (from importlib-metadata; python_version < \"3.8\"->transformers->neuspell==1.0.0->-r extras-requirements.txt (line 1)) (3.4.1)\n",
            "Requirement already satisfied: chardet<4,>=3.0.2 in /usr/local/lib/python3.7/dist-packages (from requests->transformers->neuspell==1.0.0->-r extras-requirements.txt (line 1)) (3.0.4)\n",
            "Requirement already satisfied: urllib3!=1.25.0,!=1.25.1,<1.26,>=1.21.1 in /usr/local/lib/python3.7/dist-packages (from requests->transformers->neuspell==1.0.0->-r extras-requirements.txt (line 1)) (1.25.4)\n",
            "Requirement already satisfied: idna<3,>=2.5 in /usr/local/lib/python3.7/dist-packages (from requests->transformers->neuspell==1.0.0->-r extras-requirements.txt (line 1)) (2.10)\n",
            "Requirement already satisfied: certifi>=2017.4.17 in /usr/local/lib/python3.7/dist-packages (from requests->transformers->neuspell==1.0.0->-r extras-requirements.txt (line 1)) (2020.12.5)\n",
            "Requirement already satisfied: six in /usr/local/lib/python3.7/dist-packages (from sacremoses->transformers->neuspell==1.0.0->-r extras-requirements.txt (line 1)) (1.15.0)\n",
            "Requirement already satisfied: joblib in /usr/local/lib/python3.7/dist-packages (from sacremoses->transformers->neuspell==1.0.0->-r extras-requirements.txt (line 1)) (1.0.1)\n",
            "Requirement already satisfied: click in /usr/local/lib/python3.7/dist-packages (from sacremoses->transformers->neuspell==1.0.0->-r extras-requirements.txt (line 1)) (7.1.2)\n",
            "Requirement already satisfied: pyparsing>=2.0.2 in /usr/local/lib/python3.7/dist-packages (from packaging->transformers->neuspell==1.0.0->-r extras-requirements.txt (line 1)) (2.4.7)\n",
            "Requirement already satisfied: botocore<1.21.0,>=1.20.84 in /usr/local/lib/python3.7/dist-packages (from boto3->pytorch_pretrained_bert->neuspell==1.0.0->-r extras-requirements.txt (line 1)) (1.20.84)\n",
            "Requirement already satisfied: jmespath<1.0.0,>=0.7.1 in /usr/local/lib/python3.7/dist-packages (from boto3->pytorch_pretrained_bert->neuspell==1.0.0->-r extras-requirements.txt (line 1)) (0.10.0)\n",
            "Requirement already satisfied: s3transfer<0.5.0,>=0.4.0 in /usr/local/lib/python3.7/dist-packages (from boto3->pytorch_pretrained_bert->neuspell==1.0.0->-r extras-requirements.txt (line 1)) (0.4.2)\n",
            "Requirement already satisfied: pluggy<0.8,>=0.5 in /usr/local/lib/python3.7/dist-packages (from pytest->allennlp==1.5.0->neuspell==1.0.0->-r extras-requirements.txt (line 2)) (0.7.1)\n",
            "Requirement already satisfied: atomicwrites>=1.0 in /usr/local/lib/python3.7/dist-packages (from pytest->allennlp==1.5.0->neuspell==1.0.0->-r extras-requirements.txt (line 2)) (1.4.0)\n",
            "Requirement already satisfied: py>=1.5.0 in /usr/local/lib/python3.7/dist-packages (from pytest->allennlp==1.5.0->neuspell==1.0.0->-r extras-requirements.txt (line 2)) (1.10.0)\n",
            "Requirement already satisfied: more-itertools>=4.0.0 in /usr/local/lib/python3.7/dist-packages (from pytest->allennlp==1.5.0->neuspell==1.0.0->-r extras-requirements.txt (line 2)) (8.7.0)\n",
            "Requirement already satisfied: attrs>=17.4.0 in /usr/local/lib/python3.7/dist-packages (from pytest->allennlp==1.5.0->neuspell==1.0.0->-r extras-requirements.txt (line 2)) (21.2.0)\n",
            "Requirement already satisfied: cached-property; python_version < \"3.8\" in /usr/local/lib/python3.7/dist-packages (from h5py->allennlp==1.5.0->neuspell==1.0.0->-r extras-requirements.txt (line 2)) (1.5.2)\n",
            "Requirement already satisfied: protobuf>=3.8.0 in /usr/local/lib/python3.7/dist-packages (from tensorboardX>=1.2->allennlp==1.5.0->neuspell==1.0.0->-r extras-requirements.txt (line 2)) (3.12.4)\n",
            "Requirement already satisfied: python-dateutil<3.0.0,>=2.1 in /usr/local/lib/python3.7/dist-packages (from botocore<1.21.0,>=1.20.84->boto3->pytorch_pretrained_bert->neuspell==1.0.0->-r extras-requirements.txt (line 1)) (2.8.1)\n",
            "Building wheels for collected packages: overrides, jsonnet\n",
            "  Building wheel for overrides (setup.py) ... \u001b[?25l\u001b[?25hdone\n",
            "  Created wheel for overrides: filename=overrides-3.1.0-cp37-none-any.whl size=10174 sha256=39e54eac84ed19b8e1dc9ce2f601b308106d649d116f35a6866c052bf95f931e\n",
            "  Stored in directory: /root/.cache/pip/wheels/5c/24/13/6ef8600e6f147c95e595f1289a86a3cc82ed65df57582c65a9\n",
            "  Building wheel for jsonnet (setup.py) ... \u001b[?25l\u001b[?25hdone\n",
            "  Created wheel for jsonnet: filename=jsonnet-0.17.0-cp37-cp37m-linux_x86_64.whl size=3388764 sha256=6e3041fd699601065dcbc4c0f8c038f492df4ae4ca7d87d29cd6ca3a590842ef\n",
            "  Stored in directory: /root/.cache/pip/wheels/26/7a/37/7dbcc30a6b4efd17b91ad1f0128b7bbf84813bd4e1cfb8c1e3\n",
            "Successfully built overrides jsonnet\n",
            "\u001b[31mERROR: allennlp 1.5.0 has requirement torch<1.8.0,>=1.6.0, but you'll have torch 1.8.1+cu101 which is incompatible.\u001b[0m\n",
            "\u001b[31mERROR: allennlp 1.5.0 has requirement transformers<4.3,>=4.1, but you'll have transformers 4.6.1 which is incompatible.\u001b[0m\n",
            "Installing collected packages: overrides, jsonpickle, tensorboardX, jsonnet, allennlp, neuspell\n",
            "  Found existing installation: neuspell 1.0.0\n",
            "    Can't uninstall 'neuspell'. No files were found to uninstall.\n",
            "  Running setup.py develop for neuspell\n",
            "Successfully installed allennlp-1.5.0 jsonnet-0.17.0 jsonpickle-2.0.0 neuspell overrides-3.1.0 tensorboardX-2.2\n"
          ],
          "name": "stdout"
        }
      ]
    },
    {
      "cell_type": "code",
      "metadata": {
        "colab": {
          "base_uri": "https://localhost:8080/"
        },
        "id": "KFTbuKdqos-z",
        "outputId": "e117ab06-e769-4774-caee-0a49044b9ae8"
      },
      "source": [
        "!pip install torch==1.6.0"
      ],
      "execution_count": 7,
      "outputs": [
        {
          "output_type": "stream",
          "text": [
            "Collecting torch==1.6.0\n",
            "\u001b[?25l  Downloading https://files.pythonhosted.org/packages/5d/5e/35140615fc1f925023f489e71086a9ecc188053d263d3594237281284d82/torch-1.6.0-cp37-cp37m-manylinux1_x86_64.whl (748.8MB)\n",
            "\u001b[K     |████████████████████████████████| 748.8MB 23kB/s \n",
            "\u001b[?25hRequirement already satisfied: future in /usr/local/lib/python3.7/dist-packages (from torch==1.6.0) (0.16.0)\n",
            "Requirement already satisfied: numpy in /usr/local/lib/python3.7/dist-packages (from torch==1.6.0) (1.19.5)\n",
            "\u001b[31mERROR: torchvision 0.9.1+cu101 has requirement torch==1.8.1, but you'll have torch 1.6.0 which is incompatible.\u001b[0m\n",
            "\u001b[31mERROR: torchtext 0.9.1 has requirement torch==1.8.1, but you'll have torch 1.6.0 which is incompatible.\u001b[0m\n",
            "\u001b[31mERROR: allennlp 1.5.0 has requirement transformers<4.3,>=4.1, but you'll have transformers 4.6.1 which is incompatible.\u001b[0m\n",
            "Installing collected packages: torch\n",
            "  Found existing installation: torch 1.8.1+cu101\n",
            "    Uninstalling torch-1.8.1+cu101:\n",
            "      Successfully uninstalled torch-1.8.1+cu101\n",
            "Successfully installed torch-1.6.0\n"
          ],
          "name": "stdout"
        }
      ]
    },
    {
      "cell_type": "code",
      "metadata": {
        "colab": {
          "base_uri": "https://localhost:8080/"
        },
        "id": "se7YcT-Tphfd",
        "outputId": "c38c4b89-9a84-496c-bfcf-52d1c5a15944"
      },
      "source": [
        "!pip install transformers==4.1"
      ],
      "execution_count": 8,
      "outputs": [
        {
          "output_type": "stream",
          "text": [
            "Collecting transformers==4.1\n",
            "\u001b[?25l  Downloading https://files.pythonhosted.org/packages/58/40/b1b8b0cad8eb37a7f9362a6c3930445bdf9dd745cdf6cbfce682fed4aef0/transformers-4.1.0-py3-none-any.whl (1.5MB)\n",
            "\r\u001b[K     |▏                               | 10kB 19.6MB/s eta 0:00:01\r\u001b[K     |▍                               | 20kB 19.7MB/s eta 0:00:01\r\u001b[K     |▋                               | 30kB 15.9MB/s eta 0:00:01\r\u001b[K     |▉                               | 40kB 14.4MB/s eta 0:00:01\r\u001b[K     |█                               | 51kB 8.0MB/s eta 0:00:01\r\u001b[K     |█▎                              | 61kB 8.3MB/s eta 0:00:01\r\u001b[K     |█▌                              | 71kB 8.9MB/s eta 0:00:01\r\u001b[K     |█▊                              | 81kB 9.9MB/s eta 0:00:01\r\u001b[K     |██                              | 92kB 9.4MB/s eta 0:00:01\r\u001b[K     |██▏                             | 102kB 7.8MB/s eta 0:00:01\r\u001b[K     |██▍                             | 112kB 7.8MB/s eta 0:00:01\r\u001b[K     |██▋                             | 122kB 7.8MB/s eta 0:00:01\r\u001b[K     |██▉                             | 133kB 7.8MB/s eta 0:00:01\r\u001b[K     |███                             | 143kB 7.8MB/s eta 0:00:01\r\u001b[K     |███▎                            | 153kB 7.8MB/s eta 0:00:01\r\u001b[K     |███▌                            | 163kB 7.8MB/s eta 0:00:01\r\u001b[K     |███▊                            | 174kB 7.8MB/s eta 0:00:01\r\u001b[K     |████                            | 184kB 7.8MB/s eta 0:00:01\r\u001b[K     |████▏                           | 194kB 7.8MB/s eta 0:00:01\r\u001b[K     |████▎                           | 204kB 7.8MB/s eta 0:00:01\r\u001b[K     |████▌                           | 215kB 7.8MB/s eta 0:00:01\r\u001b[K     |████▊                           | 225kB 7.8MB/s eta 0:00:01\r\u001b[K     |█████                           | 235kB 7.8MB/s eta 0:00:01\r\u001b[K     |█████▏                          | 245kB 7.8MB/s eta 0:00:01\r\u001b[K     |█████▍                          | 256kB 7.8MB/s eta 0:00:01\r\u001b[K     |█████▋                          | 266kB 7.8MB/s eta 0:00:01\r\u001b[K     |█████▉                          | 276kB 7.8MB/s eta 0:00:01\r\u001b[K     |██████                          | 286kB 7.8MB/s eta 0:00:01\r\u001b[K     |██████▎                         | 296kB 7.8MB/s eta 0:00:01\r\u001b[K     |██████▌                         | 307kB 7.8MB/s eta 0:00:01\r\u001b[K     |██████▊                         | 317kB 7.8MB/s eta 0:00:01\r\u001b[K     |███████                         | 327kB 7.8MB/s eta 0:00:01\r\u001b[K     |███████▏                        | 337kB 7.8MB/s eta 0:00:01\r\u001b[K     |███████▍                        | 348kB 7.8MB/s eta 0:00:01\r\u001b[K     |███████▋                        | 358kB 7.8MB/s eta 0:00:01\r\u001b[K     |███████▉                        | 368kB 7.8MB/s eta 0:00:01\r\u001b[K     |████████                        | 378kB 7.8MB/s eta 0:00:01\r\u001b[K     |████████▎                       | 389kB 7.8MB/s eta 0:00:01\r\u001b[K     |████████▌                       | 399kB 7.8MB/s eta 0:00:01\r\u001b[K     |████████▋                       | 409kB 7.8MB/s eta 0:00:01\r\u001b[K     |████████▉                       | 419kB 7.8MB/s eta 0:00:01\r\u001b[K     |█████████                       | 430kB 7.8MB/s eta 0:00:01\r\u001b[K     |█████████▎                      | 440kB 7.8MB/s eta 0:00:01\r\u001b[K     |█████████▌                      | 450kB 7.8MB/s eta 0:00:01\r\u001b[K     |█████████▊                      | 460kB 7.8MB/s eta 0:00:01\r\u001b[K     |██████████                      | 471kB 7.8MB/s eta 0:00:01\r\u001b[K     |██████████▏                     | 481kB 7.8MB/s eta 0:00:01\r\u001b[K     |██████████▍                     | 491kB 7.8MB/s eta 0:00:01\r\u001b[K     |██████████▋                     | 501kB 7.8MB/s eta 0:00:01\r\u001b[K     |██████████▉                     | 512kB 7.8MB/s eta 0:00:01\r\u001b[K     |███████████                     | 522kB 7.8MB/s eta 0:00:01\r\u001b[K     |███████████▎                    | 532kB 7.8MB/s eta 0:00:01\r\u001b[K     |███████████▌                    | 542kB 7.8MB/s eta 0:00:01\r\u001b[K     |███████████▊                    | 552kB 7.8MB/s eta 0:00:01\r\u001b[K     |████████████                    | 563kB 7.8MB/s eta 0:00:01\r\u001b[K     |████████████▏                   | 573kB 7.8MB/s eta 0:00:01\r\u001b[K     |████████████▍                   | 583kB 7.8MB/s eta 0:00:01\r\u001b[K     |████████████▋                   | 593kB 7.8MB/s eta 0:00:01\r\u001b[K     |████████████▉                   | 604kB 7.8MB/s eta 0:00:01\r\u001b[K     |█████████████                   | 614kB 7.8MB/s eta 0:00:01\r\u001b[K     |█████████████▏                  | 624kB 7.8MB/s eta 0:00:01\r\u001b[K     |█████████████▍                  | 634kB 7.8MB/s eta 0:00:01\r\u001b[K     |█████████████▋                  | 645kB 7.8MB/s eta 0:00:01\r\u001b[K     |█████████████▉                  | 655kB 7.8MB/s eta 0:00:01\r\u001b[K     |██████████████                  | 665kB 7.8MB/s eta 0:00:01\r\u001b[K     |██████████████▎                 | 675kB 7.8MB/s eta 0:00:01\r\u001b[K     |██████████████▌                 | 686kB 7.8MB/s eta 0:00:01\r\u001b[K     |██████████████▊                 | 696kB 7.8MB/s eta 0:00:01\r\u001b[K     |███████████████                 | 706kB 7.8MB/s eta 0:00:01\r\u001b[K     |███████████████▏                | 716kB 7.8MB/s eta 0:00:01\r\u001b[K     |███████████████▍                | 727kB 7.8MB/s eta 0:00:01\r\u001b[K     |███████████████▋                | 737kB 7.8MB/s eta 0:00:01\r\u001b[K     |███████████████▉                | 747kB 7.8MB/s eta 0:00:01\r\u001b[K     |████████████████                | 757kB 7.8MB/s eta 0:00:01\r\u001b[K     |████████████████▎               | 768kB 7.8MB/s eta 0:00:01\r\u001b[K     |████████████████▌               | 778kB 7.8MB/s eta 0:00:01\r\u001b[K     |████████████████▊               | 788kB 7.8MB/s eta 0:00:01\r\u001b[K     |█████████████████               | 798kB 7.8MB/s eta 0:00:01\r\u001b[K     |█████████████████               | 808kB 7.8MB/s eta 0:00:01\r\u001b[K     |█████████████████▎              | 819kB 7.8MB/s eta 0:00:01\r\u001b[K     |█████████████████▌              | 829kB 7.8MB/s eta 0:00:01\r\u001b[K     |█████████████████▊              | 839kB 7.8MB/s eta 0:00:01\r\u001b[K     |██████████████████              | 849kB 7.8MB/s eta 0:00:01\r\u001b[K     |██████████████████▏             | 860kB 7.8MB/s eta 0:00:01\r\u001b[K     |██████████████████▍             | 870kB 7.8MB/s eta 0:00:01\r\u001b[K     |██████████████████▋             | 880kB 7.8MB/s eta 0:00:01\r\u001b[K     |██████████████████▉             | 890kB 7.8MB/s eta 0:00:01\r\u001b[K     |███████████████████             | 901kB 7.8MB/s eta 0:00:01\r\u001b[K     |███████████████████▎            | 911kB 7.8MB/s eta 0:00:01\r\u001b[K     |███████████████████▌            | 921kB 7.8MB/s eta 0:00:01\r\u001b[K     |███████████████████▊            | 931kB 7.8MB/s eta 0:00:01\r\u001b[K     |████████████████████            | 942kB 7.8MB/s eta 0:00:01\r\u001b[K     |████████████████████▏           | 952kB 7.8MB/s eta 0:00:01\r\u001b[K     |████████████████████▍           | 962kB 7.8MB/s eta 0:00:01\r\u001b[K     |████████████████████▋           | 972kB 7.8MB/s eta 0:00:01\r\u001b[K     |████████████████████▉           | 983kB 7.8MB/s eta 0:00:01\r\u001b[K     |█████████████████████           | 993kB 7.8MB/s eta 0:00:01\r\u001b[K     |█████████████████████▎          | 1.0MB 7.8MB/s eta 0:00:01\r\u001b[K     |█████████████████████▍          | 1.0MB 7.8MB/s eta 0:00:01\r\u001b[K     |█████████████████████▋          | 1.0MB 7.8MB/s eta 0:00:01\r\u001b[K     |█████████████████████▉          | 1.0MB 7.8MB/s eta 0:00:01\r\u001b[K     |██████████████████████          | 1.0MB 7.8MB/s eta 0:00:01\r\u001b[K     |██████████████████████▎         | 1.1MB 7.8MB/s eta 0:00:01\r\u001b[K     |██████████████████████▌         | 1.1MB 7.8MB/s eta 0:00:01\r\u001b[K     |██████████████████████▊         | 1.1MB 7.8MB/s eta 0:00:01\r\u001b[K     |███████████████████████         | 1.1MB 7.8MB/s eta 0:00:01\r\u001b[K     |███████████████████████▏        | 1.1MB 7.8MB/s eta 0:00:01\r\u001b[K     |███████████████████████▍        | 1.1MB 7.8MB/s eta 0:00:01\r\u001b[K     |███████████████████████▋        | 1.1MB 7.8MB/s eta 0:00:01\r\u001b[K     |███████████████████████▉        | 1.1MB 7.8MB/s eta 0:00:01\r\u001b[K     |████████████████████████        | 1.1MB 7.8MB/s eta 0:00:01\r\u001b[K     |████████████████████████▎       | 1.1MB 7.8MB/s eta 0:00:01\r\u001b[K     |████████████████████████▌       | 1.2MB 7.8MB/s eta 0:00:01\r\u001b[K     |████████████████████████▊       | 1.2MB 7.8MB/s eta 0:00:01\r\u001b[K     |█████████████████████████       | 1.2MB 7.8MB/s eta 0:00:01\r\u001b[K     |█████████████████████████▏      | 1.2MB 7.8MB/s eta 0:00:01\r\u001b[K     |█████████████████████████▍      | 1.2MB 7.8MB/s eta 0:00:01\r\u001b[K     |█████████████████████████▋      | 1.2MB 7.8MB/s eta 0:00:01\r\u001b[K     |█████████████████████████▊      | 1.2MB 7.8MB/s eta 0:00:01\r\u001b[K     |██████████████████████████      | 1.2MB 7.8MB/s eta 0:00:01\r\u001b[K     |██████████████████████████▏     | 1.2MB 7.8MB/s eta 0:00:01\r\u001b[K     |██████████████████████████▍     | 1.2MB 7.8MB/s eta 0:00:01\r\u001b[K     |██████████████████████████▋     | 1.3MB 7.8MB/s eta 0:00:01\r\u001b[K     |██████████████████████████▉     | 1.3MB 7.8MB/s eta 0:00:01\r\u001b[K     |███████████████████████████     | 1.3MB 7.8MB/s eta 0:00:01\r\u001b[K     |███████████████████████████▎    | 1.3MB 7.8MB/s eta 0:00:01\r\u001b[K     |███████████████████████████▌    | 1.3MB 7.8MB/s eta 0:00:01\r\u001b[K     |███████████████████████████▊    | 1.3MB 7.8MB/s eta 0:00:01\r\u001b[K     |████████████████████████████    | 1.3MB 7.8MB/s eta 0:00:01\r\u001b[K     |████████████████████████████▏   | 1.3MB 7.8MB/s eta 0:00:01\r\u001b[K     |████████████████████████████▍   | 1.3MB 7.8MB/s eta 0:00:01\r\u001b[K     |████████████████████████████▋   | 1.4MB 7.8MB/s eta 0:00:01\r\u001b[K     |████████████████████████████▉   | 1.4MB 7.8MB/s eta 0:00:01\r\u001b[K     |█████████████████████████████   | 1.4MB 7.8MB/s eta 0:00:01\r\u001b[K     |█████████████████████████████▎  | 1.4MB 7.8MB/s eta 0:00:01\r\u001b[K     |█████████████████████████████▌  | 1.4MB 7.8MB/s eta 0:00:01\r\u001b[K     |█████████████████████████████▊  | 1.4MB 7.8MB/s eta 0:00:01\r\u001b[K     |██████████████████████████████  | 1.4MB 7.8MB/s eta 0:00:01\r\u001b[K     |██████████████████████████████  | 1.4MB 7.8MB/s eta 0:00:01\r\u001b[K     |██████████████████████████████▎ | 1.4MB 7.8MB/s eta 0:00:01\r\u001b[K     |██████████████████████████████▌ | 1.4MB 7.8MB/s eta 0:00:01\r\u001b[K     |██████████████████████████████▊ | 1.5MB 7.8MB/s eta 0:00:01\r\u001b[K     |███████████████████████████████ | 1.5MB 7.8MB/s eta 0:00:01\r\u001b[K     |███████████████████████████████▏| 1.5MB 7.8MB/s eta 0:00:01\r\u001b[K     |███████████████████████████████▍| 1.5MB 7.8MB/s eta 0:00:01\r\u001b[K     |███████████████████████████████▋| 1.5MB 7.8MB/s eta 0:00:01\r\u001b[K     |███████████████████████████████▉| 1.5MB 7.8MB/s eta 0:00:01\r\u001b[K     |████████████████████████████████| 1.5MB 7.8MB/s \n",
            "\u001b[?25hRequirement already satisfied: packaging in /usr/local/lib/python3.7/dist-packages (from transformers==4.1) (20.9)\n",
            "Requirement already satisfied: filelock in /usr/local/lib/python3.7/dist-packages (from transformers==4.1) (3.0.12)\n",
            "Collecting tokenizers==0.9.4\n",
            "\u001b[?25l  Downloading https://files.pythonhosted.org/packages/fb/36/59e4a62254c5fcb43894c6b0e9403ec6f4238cc2422a003ed2e6279a1784/tokenizers-0.9.4-cp37-cp37m-manylinux2010_x86_64.whl (2.9MB)\n",
            "\u001b[K     |████████████████████████████████| 2.9MB 62.5MB/s \n",
            "\u001b[?25hRequirement already satisfied: sacremoses in /usr/local/lib/python3.7/dist-packages (from transformers==4.1) (0.0.45)\n",
            "Requirement already satisfied: requests in /usr/local/lib/python3.7/dist-packages (from transformers==4.1) (2.23.0)\n",
            "Requirement already satisfied: numpy in /usr/local/lib/python3.7/dist-packages (from transformers==4.1) (1.19.5)\n",
            "Requirement already satisfied: tqdm>=4.27 in /usr/local/lib/python3.7/dist-packages (from transformers==4.1) (4.41.1)\n",
            "Requirement already satisfied: regex!=2019.12.17 in /usr/local/lib/python3.7/dist-packages (from transformers==4.1) (2019.12.20)\n",
            "Requirement already satisfied: pyparsing>=2.0.2 in /usr/local/lib/python3.7/dist-packages (from packaging->transformers==4.1) (2.4.7)\n",
            "Requirement already satisfied: six in /usr/local/lib/python3.7/dist-packages (from sacremoses->transformers==4.1) (1.15.0)\n",
            "Requirement already satisfied: click in /usr/local/lib/python3.7/dist-packages (from sacremoses->transformers==4.1) (7.1.2)\n",
            "Requirement already satisfied: joblib in /usr/local/lib/python3.7/dist-packages (from sacremoses->transformers==4.1) (1.0.1)\n",
            "Requirement already satisfied: certifi>=2017.4.17 in /usr/local/lib/python3.7/dist-packages (from requests->transformers==4.1) (2020.12.5)\n",
            "Requirement already satisfied: idna<3,>=2.5 in /usr/local/lib/python3.7/dist-packages (from requests->transformers==4.1) (2.10)\n",
            "Requirement already satisfied: urllib3!=1.25.0,!=1.25.1,<1.26,>=1.21.1 in /usr/local/lib/python3.7/dist-packages (from requests->transformers==4.1) (1.25.4)\n",
            "Requirement already satisfied: chardet<4,>=3.0.2 in /usr/local/lib/python3.7/dist-packages (from requests->transformers==4.1) (3.0.4)\n",
            "Installing collected packages: tokenizers, transformers\n",
            "  Found existing installation: tokenizers 0.10.3\n",
            "    Uninstalling tokenizers-0.10.3:\n",
            "      Successfully uninstalled tokenizers-0.10.3\n",
            "  Found existing installation: transformers 4.6.1\n",
            "    Uninstalling transformers-4.6.1:\n",
            "      Successfully uninstalled transformers-4.6.1\n",
            "Successfully installed tokenizers-0.9.4 transformers-4.1.0\n"
          ],
          "name": "stdout"
        }
      ]
    },
    {
      "cell_type": "code",
      "metadata": {
        "colab": {
          "base_uri": "https://localhost:8080/",
          "height": 229,
          "referenced_widgets": [
            "1e08208594f0443995e8a3c8e197b1eb",
            "2d2fbff20e0d437186dd7f351c0a5c17",
            "a97cdac90b1444ddaaadba957eb8b6f4",
            "3f55c01697e947e1a3681ac54cb30f1f",
            "b2fcfe5de04a47c1bb10c51f27879520",
            "8229348a59204468816c9fbd60a5469c",
            "dac91be6294a4f3aaf640caffe28b72c",
            "885deddf0065442b9856205ee4c4dd32",
            "c4f1247ee8a44f9bad68ca7716aae7a1",
            "9155a581886945929667493e736ccadd",
            "26b1944adfb64a13a57b63448e9ee0f6",
            "3d8d7aa766d641f3b25446b45a225e2a",
            "50c70d289235469c9863572899d5205d",
            "474fe2cd9a4a4e948e471389d721a086",
            "889c64121eb5440e8754286f651a3758",
            "411809ca7b4e42c8826581d292c7c495",
            "df7992c17a5a4c14b28299ce832baf75",
            "155802aada204bedbc22bfe003c41df6",
            "e36f5d1fc7d6445baa89e372b0bc6ffb",
            "ac64e6fb880444a89cb379bdc1dbea62",
            "f46d7bf30fbb41d9850c4c54491bb953",
            "426df903b7dd497ea4320a840e3a796e",
            "34b386aec9704acdae0bf4b1e8159675",
            "a22240c894be4d99986c25adb771cdff",
            "13d60e62fac841d986c56ba943699563",
            "df5b384c0ead4a5496d464f6f810f13c",
            "26e23254cb3649a390bee00ca24bc4d5",
            "23637443957f42aba13d1de402195b7e",
            "22c1ed101091473ab4c713ab57c33acb",
            "444f96fc3bc34bde86a2b349053c3705",
            "393b63f2ca7849bd85f72d1480d063ac",
            "1d65353959124ec68e56ce5050c7aa98"
          ]
        },
        "id": "xaaDd1X7DZll",
        "outputId": "238736e0-739f-409e-a3e5-d7e75d5e2c74"
      },
      "source": [
        "import neuspell"
      ],
      "execution_count": 9,
      "outputs": [
        {
          "output_type": "stream",
          "text": [
            "data folder is set to `/content/neuspell/neuspell/../data` script\n"
          ],
          "name": "stdout"
        },
        {
          "output_type": "display_data",
          "data": {
            "application/vnd.jupyter.widget-view+json": {
              "model_id": "1e08208594f0443995e8a3c8e197b1eb",
              "version_minor": 0,
              "version_major": 2
            },
            "text/plain": [
              "HBox(children=(FloatProgress(value=0.0, description='Downloading', max=1042301.0, style=ProgressStyle(descript…"
            ]
          },
          "metadata": {
            "tags": []
          }
        },
        {
          "output_type": "stream",
          "text": [
            "\n"
          ],
          "name": "stdout"
        },
        {
          "output_type": "display_data",
          "data": {
            "application/vnd.jupyter.widget-view+json": {
              "model_id": "c4f1247ee8a44f9bad68ca7716aae7a1",
              "version_minor": 0,
              "version_major": 2
            },
            "text/plain": [
              "HBox(children=(FloatProgress(value=0.0, description='Downloading', max=456318.0, style=ProgressStyle(descripti…"
            ]
          },
          "metadata": {
            "tags": []
          }
        },
        {
          "output_type": "stream",
          "text": [
            "\n"
          ],
          "name": "stdout"
        },
        {
          "output_type": "display_data",
          "data": {
            "application/vnd.jupyter.widget-view+json": {
              "model_id": "df7992c17a5a4c14b28299ce832baf75",
              "version_minor": 0,
              "version_major": 2
            },
            "text/plain": [
              "HBox(children=(FloatProgress(value=0.0, description='Downloading', max=718.0, style=ProgressStyle(description_…"
            ]
          },
          "metadata": {
            "tags": []
          }
        },
        {
          "output_type": "stream",
          "text": [
            "\n"
          ],
          "name": "stdout"
        },
        {
          "output_type": "display_data",
          "data": {
            "application/vnd.jupyter.widget-view+json": {
              "model_id": "13d60e62fac841d986c56ba943699563",
              "version_minor": 0,
              "version_major": 2
            },
            "text/plain": [
              "HBox(children=(FloatProgress(value=0.0, description='Downloading', max=1520013706.0, style=ProgressStyle(descr…"
            ]
          },
          "metadata": {
            "tags": []
          }
        },
        {
          "output_type": "stream",
          "text": [
            "\n"
          ],
          "name": "stdout"
        }
      ]
    },
    {
      "cell_type": "code",
      "metadata": {
        "colab": {
          "base_uri": "https://localhost:8080/"
        },
        "id": "r16B7f6EqCzu",
        "outputId": "4bf0dd72-60ef-4da4-9baf-73f0de91a2c1"
      },
      "source": [
        "%cd data/traintest\n",
        "!python download_datafiles.py "
      ],
      "execution_count": 10,
      "outputs": [
        {
          "output_type": "stream",
          "text": [
            "/content/neuspell/data/traintest\n",
            "./wo_context created\n"
          ],
          "name": "stdout"
        }
      ]
    },
    {
      "cell_type": "code",
      "metadata": {
        "colab": {
          "base_uri": "https://localhost:8080/"
        },
        "id": "yWAH8SYjqWqt",
        "outputId": "2e8f7601-2efe-4fb3-f75c-50ade95a5ec2"
      },
      "source": [
        "%cd /content/neuspell"
      ],
      "execution_count": 11,
      "outputs": [
        {
          "output_type": "stream",
          "text": [
            "/content/neuspell\n"
          ],
          "name": "stdout"
        }
      ]
    },
    {
      "cell_type": "markdown",
      "metadata": {
        "id": "PIX83hQaU_4S"
      },
      "source": [
        "# Library"
      ]
    },
    {
      "cell_type": "code",
      "metadata": {
        "id": "nZMoUfq1xOso"
      },
      "source": [
        "import torch\n",
        "from torch import nn\n",
        "from torch.nn.utils.rnn import pad_sequence\n",
        "from torch.nn.utils.rnn import pack_padded_sequence, pad_packed_sequence\n",
        "import torch.nn.functional as F\n",
        "import numpy as np\n",
        "\n",
        "import time\n",
        "\n",
        "from neuspell.seq_modeling.subwordbert import load_model\n",
        "from neuspell.seq_modeling.helpers import load_data, train_validation_split, batch_accuracy_func\n",
        "from neuspell.seq_modeling.helpers import get_tokens, progressBar\n",
        "from neuspell.seq_modeling.helpers import batch_iter, labelize, tokenize, bert_tokenize_for_valid_examples\n",
        "\n",
        "from neuspell.seq_modeling.helpers import load_vocab_dict, save_vocab_dict"
      ],
      "execution_count": 12,
      "outputs": []
    },
    {
      "cell_type": "markdown",
      "metadata": {
        "id": "Wsq2r8BYxQRd"
      },
      "source": [
        "# Train"
      ]
    },
    {
      "cell_type": "markdown",
      "metadata": {
        "id": "8TKBAuP2_7KL"
      },
      "source": [
        "## Load dataset, vocab"
      ]
    },
    {
      "cell_type": "code",
      "metadata": {
        "colab": {
          "base_uri": "https://localhost:8080/"
        },
        "id": "o1vujZqTxWBj",
        "outputId": "b2b0e26e-3357-499e-8bad-7ecbefc04bfb"
      },
      "source": [
        "train_data = load_data('/content/neuspell/data/traintest/','test.1blm','test.1blm.noise.prob')\n",
        "\n",
        "train_data, valid_data = train_validation_split(train_data, 0.90, seed=1)\n",
        "\n",
        "vocab_ref = {}\n",
        "\n",
        "vocab = get_tokens([i[0] for i in train_data],\n",
        "                           keep_simple=True,\n",
        "                           min_max_freq=(2,float(\"inf\")),\n",
        "                           topk=100000,\n",
        "                           intersect=vocab_ref,\n",
        "                           load_char_tokens=True)\n",
        "\n",
        "# save_vocab_dict('/content/drive/MyDrive/NLP/bert_vocab.pkl', vocab)"
      ],
      "execution_count": 13,
      "outputs": [
        {
          "output_type": "stream",
          "text": [
            "273134it [00:00, 416209.48it/s]\n",
            "273134it [00:00, 1342082.54it/s]\n",
            "  0%|          | 0/245821 [00:00<?, ?it/s]"
          ],
          "name": "stderr"
        },
        {
          "output_type": "stream",
          "text": [
            "loaded tuples of (corr,incorr) examples from /content/neuspell/data/traintest/\n"
          ],
          "name": "stdout"
        },
        {
          "output_type": "stream",
          "text": [
            "100%|██████████| 245821/245821 [00:01<00:00, 157681.03it/s]\n"
          ],
          "name": "stderr"
        },
        {
          "output_type": "stream",
          "text": [
            "Total tokens found: 155272\n"
          ],
          "name": "stdout"
        },
        {
          "output_type": "stream",
          "text": [
            "\r  0%|          | 0/245821 [00:00<?, ?it/s]"
          ],
          "name": "stderr"
        },
        {
          "output_type": "stream",
          "text": [
            "Total tokens retained: 139243\n",
            "Total tokens retained: 67965\n",
            "Total tokens retained: 67965\n",
            "loading character tokens\n"
          ],
          "name": "stdout"
        },
        {
          "output_type": "stream",
          "text": [
            "100%|██████████| 245821/245821 [00:01<00:00, 233813.43it/s]"
          ],
          "name": "stderr"
        },
        {
          "output_type": "stream",
          "text": [
            "number of unique chars found: 98\n",
            "{'<<CHAR_UNK>>': 0, '<<CHAR_PAD>>': 1, '<<CHAR_START>>': 2, '<<CHAR_END>>': 3, 'H': 4, 'e': 5, ' ': 6, 'w': 7, 'a': 8, 's': 9, 'b': 10, 'r': 11, 'i': 12, 'f': 13, 'l': 14, 'y': 15, 'h': 16, 'o': 17, 'p': 18, 't': 19, 'z': 20, 'd': 21, 'n': 22, 'c': 23, 'k': 24, 'j': 25, 'u': 26, '.': 27, 'A': 28, 'm': 29, 'B': 30, 'g': 31, 'G': 32, 'M': 33, '3': 34, 'v': 35, ',': 36, '7': 37, '6': 38, '2': 39, 'T': 40, 'D': 41, 'S': 42, 'E': 43, '1': 44, '-': 45, 'x': 46, '4': 47, '9': 48, '(': 49, 'U': 50, 'P': 51, 'I': 52, ')': 53, \"'\": 54, ';': 55, 'q': 56, '\"': 57, '?': 58, 'Y': 59, 'C': 60, 'O': 61, 'K': 62, 'L': 63, 'N': 64, 'R': 65, 'W': 66, '0': 67, '8': 68, 'J': 69, ':': 70, 'F': 71, '5': 72, '%': 73, 'V': 74, '/': 75, '$': 76, 'Z': 77, 'Q': 78, '!': 79, '[': 80, ']': 81, 'X': 82, '&': 83, '@': 84, '+': 85, '_': 86, '#': 87, '*': 88, '|': 89, '>': 90, '^': 91, '\\\\': 92, '=': 93, '<': 94, '~': 95, '{': 96, '}': 97}\n"
          ],
          "name": "stdout"
        },
        {
          "output_type": "stream",
          "text": [
            "\n"
          ],
          "name": "stderr"
        }
      ]
    },
    {
      "cell_type": "markdown",
      "metadata": {
        "id": "N-Y6NsXyADRe"
      },
      "source": [
        "## Load model"
      ]
    },
    {
      "cell_type": "code",
      "metadata": {
        "colab": {
          "base_uri": "https://localhost:8080/",
          "height": 131,
          "referenced_widgets": [
            "0f47758cba9c46a5b71226790db4ba52",
            "77daf1bab0124af2aeaba604e7cd5a2d",
            "6f0660646bc74b2499e2d7ad267164b9",
            "1f776c7b720f4c9eaae13fc21796f544",
            "c285f0efa694478f9c595f844d43ddb4",
            "ee92481deed44c518953c4608bc1418a",
            "fb1406e698c645c895ecbbd4f4b5e1fe",
            "4d08d5ffba7146e3940cfd808a4d100a",
            "9efd8a723a604396bbae9c43d37c6fec",
            "74a60099756b4c41a586c6e95bc8e5fd",
            "9a3b2250df50423196386965fa7088d6",
            "526475c6e4614816a6c696081a5fdbf2",
            "414220c4607a4b7da68f7b1c3a848307",
            "7023fc83805046afb777cafe1c42c298",
            "19f55e651466404d821836675023b7f7",
            "ae8154ec73694c1286dd316c825eae64"
          ]
        },
        "id": "jOxXin23x1Q1",
        "outputId": "969268b0-5806-46de-a9df-897d97721257"
      },
      "source": [
        "bert_pretrained_name_or_path = \"bert-base-multilingual-cased\"\n",
        "model = load_model(vocab,\"bert-base-multilingual-cased\")\n",
        "model = model.cuda()\n",
        "\n",
        "VALID_BATCH_SIZE = 32\n",
        "\n",
        "data_iter = batch_iter(train_data, batch_size=VALID_BATCH_SIZE, shuffle=False)\n",
        "\n",
        "TRAIN_BATCH_SIZE = 32\n",
        "\n",
        "DEVICE = 'cuda'\n"
      ],
      "execution_count": 14,
      "outputs": [
        {
          "output_type": "display_data",
          "data": {
            "application/vnd.jupyter.widget-view+json": {
              "model_id": "0f47758cba9c46a5b71226790db4ba52",
              "version_minor": 0,
              "version_major": 2
            },
            "text/plain": [
              "HBox(children=(FloatProgress(value=0.0, description='Downloading', max=625.0, style=ProgressStyle(description_…"
            ]
          },
          "metadata": {
            "tags": []
          }
        },
        {
          "output_type": "stream",
          "text": [
            "\n"
          ],
          "name": "stdout"
        },
        {
          "output_type": "display_data",
          "data": {
            "application/vnd.jupyter.widget-view+json": {
              "model_id": "9efd8a723a604396bbae9c43d37c6fec",
              "version_minor": 0,
              "version_major": 2
            },
            "text/plain": [
              "HBox(children=(FloatProgress(value=0.0, description='Downloading', max=714314041.0, style=ProgressStyle(descri…"
            ]
          },
          "metadata": {
            "tags": []
          }
        },
        {
          "output_type": "stream",
          "text": [
            "\n",
            "Number of parameters in the model: 230120832\n"
          ],
          "name": "stdout"
        }
      ]
    },
    {
      "cell_type": "markdown",
      "metadata": {
        "id": "QiOvZITX_wpf"
      },
      "source": [
        "## freeze layers"
      ]
    },
    {
      "cell_type": "code",
      "metadata": {
        "id": "SKOHTfURHwZH"
      },
      "source": [
        "# for layers in model.bert_model.encoder.layer[:11]:\n",
        "#     for param in layers.parameters():\n",
        "#         param.requires_grad = False"
      ],
      "execution_count": 15,
      "outputs": []
    },
    {
      "cell_type": "markdown",
      "metadata": {
        "id": "W-NZQEzCAFiq"
      },
      "source": [
        "## Bert optimizer"
      ]
    },
    {
      "cell_type": "code",
      "metadata": {
        "id": "XCxdnfu1AJQw"
      },
      "source": [
        "START_EPOCH = 1\n",
        "N_EPOCHS = 3\n",
        "\n",
        "GRADIENT_ACC = 4\n",
        "max_dev_acc, argmax_dev_acc = -1, -1"
      ],
      "execution_count": 16,
      "outputs": []
    },
    {
      "cell_type": "code",
      "metadata": {
        "id": "J_2wJjsRKvZH"
      },
      "source": [
        "# from pytorch_pretrained_bert import BertAdam\n",
        "\n",
        "# param_optimizer = list(model.named_parameters())\n",
        "# no_decay = ['bias', 'LayerNorm.bias', 'LayerNorm.weight']\n",
        "# optimizer_grouped_parameters = [\n",
        "#     {'params': [p for n, p in param_optimizer if not any(nd in n for nd in no_decay)], 'weight_decay': 0.01},\n",
        "#     {'params': [p for n, p in param_optimizer if any(nd in n for nd in no_decay)], 'weight_decay': 0.0}\n",
        "# ]\n",
        "# t_total = int(len(train_data) / TRAIN_BATCH_SIZE / GRADIENT_ACC * N_EPOCHS)\n",
        "# optimizer = BertAdam(optimizer_grouped_parameters,lr=5e-5,warmup=0.1,t_total=t_total)\n",
        "optimizer = torch.optim.Adam(model.parameters(), lr=1e-4)\n",
        "\n"
      ],
      "execution_count": 17,
      "outputs": []
    },
    {
      "cell_type": "markdown",
      "metadata": {
        "id": "YJdS9f_0AJyZ"
      },
      "source": [
        "## Set epoch, start training"
      ]
    },
    {
      "cell_type": "code",
      "metadata": {
        "id": "CVAs4jIal7Pf"
      },
      "source": [
        ""
      ],
      "execution_count": 17,
      "outputs": []
    },
    {
      "cell_type": "code",
      "metadata": {
        "id": "dK4WyCzJLbfl"
      },
      "source": [
        "BERT_TOKENIZER = None\n",
        "import transformers\n",
        "from typing import List\n",
        "BERT_MAX_SEQ_LEN = 512\n",
        "\n",
        "def merge_subtokens(tokens: List):\n",
        "    merged_tokens = []\n",
        "    for token in tokens:\n",
        "        if token.startswith(\"##\"):\n",
        "            merged_tokens[-1] = merged_tokens[-1] + token[2:]\n",
        "        else:\n",
        "            merged_tokens.append(token)\n",
        "    text = \" \".join(merged_tokens)\n",
        "    return text\n",
        "    \n",
        "def _custom_bert_tokenize_sentence(text):\n",
        "    tokens = BERT_TOKENIZER.tokenize(text)\n",
        "    tokens = tokens[:BERT_MAX_SEQ_LEN - 2]  # 2 allowed for [CLS] and [SEP]\n",
        "    idxs = np.array([idx for idx, token in enumerate(tokens) if not token.startswith(\"##\")] + [len(tokens)])\n",
        "    split_sizes = (idxs[1:] - idxs[0:-1]).tolist()\n",
        "    # NOTE: BERT tokenizer does more than just splitting at whitespace and tokenizing. So be careful.\n",
        "    # -----> assert len(split_sizes)==len(text.split()), print(len(tokens), len(split_sizes), len(text.split()), split_sizes, text)\n",
        "    # -----> hence do the following:\n",
        "    text = merge_subtokens(tokens)\n",
        "    assert len(split_sizes) == len(text.split()), print(len(tokens), len(split_sizes), len(text.split()), split_sizes,\n",
        "                                                        text)\n",
        "    return text, tokens, split_sizes\n",
        "\n",
        "def _custom_bert_tokenize_sentences(list_of_texts):\n",
        "    out = [_custom_bert_tokenize_sentence(text) for text in list_of_texts]\n",
        "    texts, tokens, split_sizes = list(zip(*out))\n",
        "    return [*texts], [*tokens], [*split_sizes]\n",
        "\n",
        "def _simple_bert_tokenize_sentences(list_of_texts):\n",
        "    return [merge_subtokens(BERT_TOKENIZER.tokenize(text)[:BERT_MAX_SEQ_LEN - 2]) for text in list_of_texts]\n",
        "\n",
        "def bert_tokenize_for_valid_examples(batch_orginal_sentences, batch_noisy_sentences, bert_pretrained_name_or_path=bert_pretrained_name_or_path):\n",
        "    \"\"\"\n",
        "    inputs:\n",
        "        batch_noisy_sentences: List[str]\n",
        "            a list of textual sentences to tokenized\n",
        "        batch_orginal_sentences: List[str]\n",
        "            a list of texts to make sure lengths of input and output are same in the seq-modeling task\n",
        "        bert_pretrained_name_or_path:\n",
        "            a huggingface path for loading a custom bert model\n",
        "    outputs (only of batch_noisy_sentences):\n",
        "        batch_attention_masks, batch_input_ids, batch_token_type_ids\n",
        "            2d tensors of shape (bs,max_len)\n",
        "        batch_splits: List[List[Int]]\n",
        "            specifies #sub-tokens for each word in each textual string after sub-word tokenization\n",
        "    \"\"\"\n",
        "    global BERT_TOKENIZER\n",
        "\n",
        "    if BERT_TOKENIZER is None:  # gets initialized during the first call to this method\n",
        "        if bert_pretrained_name_or_path:\n",
        "            BERT_TOKENIZER = transformers.BertTokenizer.from_pretrained(bert_pretrained_name_or_path)\n",
        "            BERT_TOKENIZER.do_basic_tokenize = True\n",
        "            BERT_TOKENIZER.tokenize_chinese_chars = False\n",
        "        else:\n",
        "            BERT_TOKENIZER = transformers.BertTokenizer.from_pretrained(bert_pretrained_name_or_path)\n",
        "            BERT_TOKENIZER.do_basic_tokenize = True\n",
        "            BERT_TOKENIZER.tokenize_chinese_chars = False\n",
        "\n",
        "    _batch_orginal_sentences = _simple_bert_tokenize_sentences(batch_orginal_sentences)\n",
        "    _batch_noisy_sentences, _batch_tokens, _batch_splits = _custom_bert_tokenize_sentences(batch_noisy_sentences)\n",
        "\n",
        "    valid_idxs = [idx for idx, (a, b) in enumerate(zip(_batch_orginal_sentences, _batch_noisy_sentences)) if\n",
        "                  len(a.split()) == len(b.split())]\n",
        "    batch_orginal_sentences = [line for idx, line in enumerate(_batch_orginal_sentences) if idx in valid_idxs]\n",
        "    batch_noisy_sentences = [line for idx, line in enumerate(_batch_noisy_sentences) if idx in valid_idxs]\n",
        "    batch_tokens = [line for idx, line in enumerate(_batch_tokens) if idx in valid_idxs]\n",
        "    batch_splits = [line for idx, line in enumerate(_batch_splits) if idx in valid_idxs]\n",
        "\n",
        "    batch_bert_dict = {\n",
        "        \"attention_mask\": [],\n",
        "        \"input_ids\": [],\n",
        "        # \"token_type_ids\": []\n",
        "    }\n",
        "    if len(valid_idxs) > 0:\n",
        "        batch_encoded_dicts = [BERT_TOKENIZER.encode_plus(tokens) for tokens in batch_tokens]\n",
        "        batch_attention_masks = pad_sequence(\n",
        "            [torch.tensor(encoded_dict[\"attention_mask\"]) for encoded_dict in batch_encoded_dicts], batch_first=True,\n",
        "            padding_value=0)\n",
        "        batch_input_ids = pad_sequence(\n",
        "            [torch.tensor(encoded_dict[\"input_ids\"]) for encoded_dict in batch_encoded_dicts], batch_first=True,\n",
        "            padding_value=0)\n",
        "        # batch_token_type_ids = pad_sequence(\n",
        "        #     [torch.tensor(encoded_dict[\"token_type_ids\"]) for encoded_dict in batch_encoded_dicts], batch_first=True,\n",
        "        #     padding_value=0)\n",
        "        batch_bert_dict = {\"attention_mask\": batch_attention_masks,\n",
        "                           \"input_ids\": batch_input_ids,\n",
        "                           # \"token_type_ids\": batch_token_type_ids\n",
        "                           }\n",
        "\n",
        "    return batch_orginal_sentences, batch_noisy_sentences, batch_bert_dict, batch_splits"
      ],
      "execution_count": 18,
      "outputs": []
    },
    {
      "cell_type": "code",
      "metadata": {
        "colab": {
          "base_uri": "https://localhost:8080/"
        },
        "id": "jqh28V51yCxO",
        "outputId": "fe85b119-fd29-4f83-d997-3b0494ad6a50"
      },
      "source": [
        "# train and eval\n",
        "\n",
        "for epoch_id in range(START_EPOCH,N_EPOCHS+1):\n",
        "\n",
        "    print(f\"In epoch: {epoch_id}\")\n",
        "\n",
        "    # train loss and backprop\n",
        "    train_loss = 0.\n",
        "    train_acc = 0.\n",
        "    train_acc_count = 0.\n",
        "    print(\"train_data size: {}\".format(len(train_data)))\n",
        "    \n",
        "    train_data_iter = batch_iter(train_data, batch_size=TRAIN_BATCH_SIZE, shuffle=True)\n",
        "    nbatches = int(np.ceil(len(train_data)/TRAIN_BATCH_SIZE))\n",
        "    optimizer.zero_grad()\n",
        "\n",
        "    for batch_id, (batch_labels,batch_sentences) in enumerate(train_data_iter):\n",
        "        optimizer.zero_grad()\n",
        "        st_time = time.time()\n",
        "\n",
        "        # set batch data for bert\n",
        "        batch_labels_, batch_sentences_, batch_bert_inp, batch_bert_splits = bert_tokenize_for_valid_examples(batch_labels,batch_sentences,bert_pretrained_name_or_path=bert_pretrained_name_or_path)                \n",
        "        if len(batch_labels_)==0:\n",
        "            print(\"################\")\n",
        "            print(\"Not training the following lines due to pre-processing mismatch: \\n\")\n",
        "            print([(a,b) for a,b in zip(batch_labels,batch_sentences)])\n",
        "            print(\"################\")\n",
        "            continue\n",
        "        else:\n",
        "            batch_labels, batch_sentences = batch_labels_, batch_sentences_\n",
        "\n",
        "        batch_bert_inp = {k:v.to(DEVICE) for k,v in batch_bert_inp.items()}\n",
        "\n",
        "        # set batch data for others\n",
        "        batch_labels, batch_lengths = labelize(batch_labels, vocab)\n",
        "        batch_lengths = batch_lengths.to(DEVICE)\n",
        "        batch_labels = batch_labels.to(DEVICE)\n",
        "\n",
        "        # forward\n",
        "        model.train()\n",
        "        \n",
        "        loss = model(batch_bert_inp, batch_bert_splits, targets=batch_labels)\n",
        "        \n",
        "        batch_loss = loss.cpu().detach().numpy()\n",
        "        train_loss += batch_loss\n",
        "\n",
        "        # backward\n",
        "        # if GRADIENT_ACC > 1:\n",
        "        #     loss = loss / GRADIENT_ACC\n",
        "        loss.backward()\n",
        "        # step\n",
        "        # if (batch_id + 1) % GRADIENT_ACC == 0 or batch_id >= nbatches - 1:\n",
        "            # torch.nn.utils.clip_grad_norm_(model.parameters(), 1.0)\n",
        "        optimizer.step()\n",
        "            # scheduler.step()\n",
        "        # optimizer.zero_grad()\n",
        "\n",
        "        # compute accuracy in numpy\n",
        "        if batch_id%10000==0:\n",
        "\n",
        "            train_acc_count += 1\n",
        "\n",
        "            model.eval()\n",
        "            with torch.no_grad():\n",
        "                _, batch_predictions = model(batch_bert_inp, batch_bert_splits, targets=batch_labels)\n",
        "\n",
        "            model.train()\n",
        "\n",
        "            batch_labels = batch_labels.cpu().detach().numpy()\n",
        "            batch_lengths = batch_lengths.cpu().detach().numpy()\n",
        "            ncorr,ntotal = batch_accuracy_func(batch_predictions,batch_labels,batch_lengths)\n",
        "            batch_acc = ncorr/ntotal\n",
        "            train_acc += batch_acc     \n",
        "\n",
        "        # update progress\n",
        "        progressBar(batch_id+1,\n",
        "                    int(np.ceil(len(train_data) / TRAIN_BATCH_SIZE)), \n",
        "                    [\"batch_time\",\"batch_loss\",\"avg_batch_loss\",\"batch_acc\",\"avg_batch_acc\"],\n",
        "                    [time.time()-st_time,batch_loss,train_loss/(batch_id+1),batch_acc,train_acc/train_acc_count]) \n",
        "    \n",
        "    print(f\"\\nEpoch {epoch_id} train_loss: {train_loss/(batch_id+1)}\")\n",
        "\n",
        "    # save model every epoch\n",
        "    model_name = \"bert_epoch_\" + str(epoch_id) + '.pt'\n",
        "    # torch.save(model.state_dict(), \n",
        "    #         '/content/drive/MyDrive/NLP/'+model_name)\n",
        "\n",
        "    # valid loss\n",
        "    valid_loss = 0.\n",
        "    valid_acc = 0.\n",
        "    print(\"valid_data size: {}\".format(len(valid_data)))\n",
        "\n",
        "    valid_data_iter = batch_iter(valid_data, batch_size=VALID_BATCH_SIZE, shuffle=False)\n",
        "\n",
        "    for batch_id, (batch_labels,batch_sentences) in enumerate(valid_data_iter):\n",
        "\n",
        "        st_time = time.time()\n",
        "        # set batch data for bert\n",
        "        # batch_labels_, batch_sentences_, batch_bert_inp, batch_bert_splits = bert_tokenize_for_valid_examples(batch_labels,batch_sentences)\n",
        "\n",
        "        batch_labels, batch_sentences, batch_bert_inp, batch_bert_splits = bert_tokenize_for_valid_examples(batch_labels,batch_sentences, bert_pretrained_name_or_path=bert_pretrained_name_or_path)\n",
        "        \"\"\"\n",
        "        if len(batch_labels_)==0:\n",
        "            print(\"################\")\n",
        "            print(\"Not validating the following lines due to pre-processing mismatch: \\n\")\n",
        "            print([(a,b) for a,b in zip(batch_labels,batch_sentences)])\n",
        "            print(\"################\")\n",
        "            continue\n",
        "        else:\n",
        "        \n",
        "            batch_labels, batch_sentences = batch_labels_, batch_sentences_\n",
        "        \"\"\"\n",
        "\n",
        "        batch_bert_inp = {k:v.to(DEVICE) for k,v in batch_bert_inp.items()}\n",
        "\n",
        "\n",
        "        # set batch data for others\n",
        "        batch_labels, batch_lengths = labelize(batch_labels, vocab)\n",
        "        batch_lengths = batch_lengths.to(DEVICE)\n",
        "        batch_labels = batch_labels.to(DEVICE)\n",
        "\n",
        "        # forward\n",
        "        model.eval()\n",
        "        with torch.no_grad():\n",
        "            batch_loss, batch_predictions = model(batch_bert_inp, batch_bert_splits, targets=batch_labels)\n",
        "        model.train()        \n",
        "        valid_loss += batch_loss\n",
        "        # compute accuracy in numpy\n",
        "        batch_labels = batch_labels.cpu().detach().numpy()\n",
        "        batch_lengths = batch_lengths.cpu().detach().numpy()\n",
        "        ncorr,ntotal = batch_accuracy_func(batch_predictions,batch_labels,batch_lengths)\n",
        "        batch_acc = ncorr/ntotal\n",
        "        valid_acc += batch_acc\n",
        "        # update progress\n",
        "        progressBar(batch_id+1,\n",
        "                    int(np.ceil(len(valid_data) / VALID_BATCH_SIZE)), \n",
        "                    [\"batch_time\",\"batch_loss\",\"avg_batch_loss\",\"batch_acc\",\"avg_batch_acc\"], \n",
        "                    [time.time()-st_time,batch_loss,valid_loss/(batch_id+1),batch_acc,valid_acc/(batch_id+1)])\n",
        "\n",
        "    print(f\"\\nEpoch {epoch_id} valid_loss: {valid_loss/(batch_id+1)}\")\n",
        "    torch.save({\n",
        "            'epoch': epoch_id,\n",
        "            'model_state_dict': model.state_dict(),\n",
        "            'optimizer_state_dict': optimizer.state_dict(),\n",
        "            'loss': valid_loss}, f'/content/gdrive/MyDrive/mbertf11epoch:{epoch_id}valid_acc{valid_acc/(batch_id+1)}.hdf5')\n",
        "\n",
        "  "
      ],
      "execution_count": 24,
      "outputs": [
        {
          "output_type": "stream",
          "text": [
            "In epoch: 3\n",
            "train_data size: 245821\n",
            "Percent: [----------------------------->] 100% || batch_time: 0.2789 || batch_loss: 0.1385 || avg_batch_loss: 0.1623 || batch_acc: 0.9840 || avg_batch_acc: 0.9840 \n",
            "Epoch 3 train_loss: 0.1623160207449645\n",
            "valid_data size: 27313\n",
            "Percent: [----------------------------->] 100% || batch_time: 0.0839 || batch_loss: 0.1913 || avg_batch_loss: 0.1716 || batch_acc: 0.9727 || avg_batch_acc: 0.9653 \n",
            "Epoch 3 valid_loss: 0.1716180169296209\n",
            "In epoch: 4\n",
            "train_data size: 245821\n",
            "Percent: [----------------------------->] 100% || batch_time: 0.2558 || batch_loss: 0.2028 || avg_batch_loss: 0.0944 || batch_acc: 0.9813 || avg_batch_acc: 0.9813 \n",
            "Epoch 4 train_loss: 0.09435173692179281\n",
            "valid_data size: 27313\n",
            "Percent: [----------------------------->] 100% || batch_time: 0.0848 || batch_loss: 0.2039 || avg_batch_loss: 0.1453 || batch_acc: 0.9590 || avg_batch_acc: 0.9694 \n",
            "Epoch 4 valid_loss: 0.14533012390433345\n",
            "In epoch: 5\n",
            "train_data size: 245821\n",
            "Percent: [----------------------------->] 100% || batch_time: 0.2991 || batch_loss: 0.0787 || avg_batch_loss: 0.0604 || batch_acc: 0.9947 || avg_batch_acc: 0.9947 \n",
            "Epoch 5 train_loss: 0.06043520945664306\n",
            "valid_data size: 27313\n",
            "Percent: [----------------------------->] 100% || batch_time: 0.0843 || batch_loss: 0.1978 || avg_batch_loss: 0.1432 || batch_acc: 0.9658 || avg_batch_acc: 0.9700 \n",
            "Epoch 5 valid_loss: 0.14318628162058372\n"
          ],
          "name": "stdout"
        }
      ]
    },
    {
      "cell_type": "markdown",
      "metadata": {
        "id": "nUbevWLeAUvb"
      },
      "source": [
        "## Evaluation"
      ]
    },
    {
      "cell_type": "code",
      "metadata": {
        "colab": {
          "base_uri": "https://localhost:8080/"
        },
        "id": "lG7dhU-1khjT",
        "outputId": "8ff464ce-93e9-41f2-a14c-549eefc101be"
      },
      "source": [
        "checkpoint = torch.load(\"/content/gdrive/MyDrive/87weights/mbertepoch:5valid_acc0.9700927981703746.hdf5\",map_location='cpu')\n",
        "model.load_state_dict(checkpoint['model_state_dict'])"
      ],
      "execution_count": 19,
      "outputs": [
        {
          "output_type": "execute_result",
          "data": {
            "text/plain": [
              "<All keys matched successfully>"
            ]
          },
          "metadata": {
            "tags": []
          },
          "execution_count": 19
        }
      ]
    },
    {
      "cell_type": "code",
      "metadata": {
        "id": "CjMltC6WnFcB"
      },
      "source": [
        "from tqdm import tqdm\n",
        "from neuspell.seq_modeling.evals import get_metrics\n",
        "\n",
        "def untokenize_without_unks(batch_predictions, batch_lengths, vocab, batch_clean_sentences, backoff=\"pass-through\"):\n",
        "    assert backoff in [\"neutral\", \"pass-through\"], print(f\"selected backoff strategy not implemented: {backoff}\")\n",
        "    idx2token = vocab[\"idx2token\"]\n",
        "    unktoken = vocab[\"token2idx\"][vocab[\"unk_token\"]]\n",
        "    assert len(batch_predictions) == len(batch_lengths) == len(batch_clean_sentences)\n",
        "    batch_clean_sentences = [sent.split() for sent in batch_clean_sentences]\n",
        "    if backoff == \"pass-through\":\n",
        "        batch_predictions = \\\n",
        "            [\" \".join([idx2token[idx] if idx != unktoken else clean_[i] for i, idx in enumerate(pred_[:len_])]) \\\n",
        "             for pred_, len_, clean_ in zip(batch_predictions, batch_lengths, batch_clean_sentences)]\n",
        "    elif backoff == \"neutral\":\n",
        "        batch_predictions = \\\n",
        "            [\" \".join([idx2token[idx] if idx != unktoken else \"a\" for i, idx in enumerate(pred_[:len_])]) \\\n",
        "             for pred_, len_, clean_ in zip(batch_predictions, batch_lengths, batch_clean_sentences)]\n",
        "    return batch_predictions\n",
        "\n",
        "def batch_iter(data, batch_size, shuffle):\n",
        "    \"\"\"\n",
        "    each data item is a tuple of lables and text\n",
        "    \"\"\"\n",
        "    n_batches = int(np.ceil(len(data) / batch_size))\n",
        "    indices = list(range(len(data)))\n",
        "    if shuffle:  np.random.shuffle(indices)\n",
        "\n",
        "    for i in range(n_batches):\n",
        "        batch_indices = indices[i * batch_size: (i + 1) * batch_size]\n",
        "        batch_labels = [data[idx][0] for idx in batch_indices]\n",
        "        batch_sentences = [data[idx][1] for idx in batch_indices]\n",
        "\n",
        "        yield (batch_labels, batch_sentences)\n",
        "\n",
        "def model_inference(model, data, topk, device, batch_size=16, vocab_=None):\n",
        "    \"\"\"\n",
        "    model: an instance of SubwordBert\n",
        "    data: list of tuples, with each tuple consisting of correct and incorrect \n",
        "            sentence string (would be split at whitespaces)\n",
        "    topk: how many of the topk softmax predictions are considered for metrics calculations\n",
        "    \"\"\"\n",
        "    if vocab_ is not None:\n",
        "        vocab = vocab_\n",
        "    print(\"###############################################\")\n",
        "    inference_st_time = time.time()\n",
        "    _corr2corr, _corr2incorr, _incorr2corr, _incorr2incorr = 0, 0, 0, 0\n",
        "    _mistakes = []\n",
        "    VALID_batch_size = batch_size\n",
        "    valid_loss = 0.\n",
        "    valid_acc = 0.\n",
        "    print(\"data size: {}\".format(len(data)))\n",
        "    data_iter = batch_iter(data, batch_size=VALID_batch_size, shuffle=False)\n",
        "    model.eval()\n",
        "    model.to(device)\n",
        "    for batch_id, (batch_labels, batch_sentences) in tqdm(enumerate(data_iter)):\n",
        "        torch.cuda.empty_cache()\n",
        "        st_time = time.time()\n",
        "        # set batch data for bert\n",
        "        batch_labels_, batch_sentences_, batch_bert_inp, batch_bert_splits = bert_tokenize_for_valid_examples(\n",
        "            batch_labels, batch_sentences, bert_pretrained_name_or_path=bert_pretrained_name_or_path)\n",
        "        if len(batch_labels_) == 0:\n",
        "            print(\"################\")\n",
        "            print(\"Not predicting the following lines due to pre-processing mismatch: \\n\")\n",
        "            print([(a, b) for a, b in zip(batch_labels, batch_sentences)])\n",
        "            print(\"################\")\n",
        "            continue\n",
        "        else:\n",
        "            batch_labels, batch_sentences = batch_labels_, batch_sentences_\n",
        "        batch_bert_inp = {k: v.to(device) for k, v in batch_bert_inp.items()}\n",
        "        # set batch data for others\n",
        "        batch_labels_ids, batch_lengths = labelize(batch_labels, vocab)\n",
        "        # batch_lengths = batch_lengths.to(device)\n",
        "        batch_labels_ids = batch_labels_ids.to(device)\n",
        "        # forward\n",
        "        try:\n",
        "            with torch.no_grad():\n",
        "                \"\"\"\n",
        "                NEW: batch_predictions can now be of shape (batch_size,batch_max_seq_len,topk) if topk>1, else (batch_size,batch_max_seq_len)\n",
        "                \"\"\"\n",
        "                batch_loss, batch_predictions = model(batch_bert_inp, batch_bert_splits, targets=batch_labels_ids,\n",
        "                                                      topk=topk)\n",
        "        except RuntimeError:\n",
        "            print(f\"batch_bert_inp:{len(batch_bert_inp.keys())},batch_labels_ids:{batch_labels_ids.shape}\")\n",
        "            raise Exception(\"\")\n",
        "        valid_loss += batch_loss\n",
        "        # compute accuracy in numpy\n",
        "        batch_labels_ids = batch_labels_ids.cpu().detach().numpy()\n",
        "        batch_lengths = batch_lengths.cpu().detach().numpy()\n",
        "        # based on topk, obtain either strings of batch_predictions or list of tokens\n",
        "        if topk == 1:\n",
        "            batch_predictions = untokenize_without_unks(batch_predictions, batch_lengths, vocab, batch_sentences)\n",
        "        else:\n",
        "            batch_predictions = untokenize_without_unks2(batch_predictions, batch_lengths, vocab, batch_sentences,\n",
        "                                                         topk=None)\n",
        "        # corr2corr, corr2incorr, incorr2corr, incorr2incorr, mistakes = \\\n",
        "        #    get_metrics(batch_labels,batch_sentences,batch_predictions,check_until_topk=topk,return_mistakes=True)\n",
        "        # _mistakes.extend(mistakes)\n",
        "        # batch_labels = [line.lower() for line in batch_labels]\n",
        "        # batch_sentences = [line.lower() for line in batch_sentences]\n",
        "        # batch_predictions = [line.lower() for line in batch_predictions]\n",
        "        corr2corr, corr2incorr, incorr2corr, incorr2incorr = \\\n",
        "            get_metrics(batch_labels, batch_sentences, batch_predictions, check_until_topk=topk, return_mistakes=False)\n",
        "        _corr2corr += corr2corr\n",
        "        _corr2incorr += corr2incorr\n",
        "        _incorr2corr += incorr2corr\n",
        "        _incorr2incorr += incorr2incorr\n",
        "\n",
        "        # delete\n",
        "        del batch_loss\n",
        "        del batch_predictions\n",
        "        del batch_labels, batch_lengths, batch_bert_inp\n",
        "        torch.cuda.empty_cache()\n",
        "\n",
        "        '''\n",
        "        # update progress\n",
        "        progressBar(batch_id+1,\n",
        "                    int(np.ceil(len(data) / VALID_batch_size)), \n",
        "                    [\"batch_time\",\"batch_loss\",\"avg_batch_loss\",\"batch_acc\",\"avg_batch_acc\"], \n",
        "                    [time.time()-st_time,batch_loss,valid_loss/(batch_id+1),None,None])\n",
        "        '''\n",
        "    print(f\"\\nEpoch {None} valid_loss: {valid_loss / (batch_id + 1)}\")\n",
        "    print(\"total inference time for this data is: {:4f} secs\".format(time.time() - inference_st_time))\n",
        "    print(\"###############################################\")\n",
        "    print(\"\")\n",
        "    # for mistake in _mistakes:\n",
        "    #    print(mistake)\n",
        "    print(\"\")\n",
        "    print(\"total token count: {}\".format(_corr2corr + _corr2incorr + _incorr2corr + _incorr2incorr))\n",
        "    print(\n",
        "        f\"_corr2corr:{_corr2corr}, _corr2incorr:{_corr2incorr}, _incorr2corr:{_incorr2corr}, _incorr2incorr:{_incorr2incorr}\")\n",
        "    print(f\"accuracy is {(_corr2corr + _incorr2corr) / (_corr2corr + _corr2incorr + _incorr2corr + _incorr2incorr)}\")\n",
        "    print(f\"word correction rate is {(_incorr2corr) / (_incorr2corr + _incorr2incorr)}\")\n",
        "    print(\"###############################################\")\n",
        "    return"
      ],
      "execution_count": 20,
      "outputs": []
    },
    {
      "cell_type": "code",
      "metadata": {
        "colab": {
          "base_uri": "https://localhost:8080/",
          "height": 351,
          "referenced_widgets": [
            "25ff9c6c300c4f2cbcd40a24c2a56ea8",
            "08b3a779aa884e7ba1f4b53142430ad7",
            "1d45f8086e6e4c729a05658c37518928",
            "005f562d2592478da2ecf21b1216674d",
            "b91bb93a47624d71b6ebefdcdfce4332",
            "cf879440f4714a6bae623f19246d4b58",
            "6e61518b868346509e480cf686c1500a",
            "7bacd9ee1f7b4298982f9e3c126ce4fb"
          ]
        },
        "id": "xCtk0JhWyGW9",
        "outputId": "dad296f0-8d8d-4a60-ab0c-917ea5948400"
      },
      "source": [
        "# from neuspell.seq_modeling.subwordbert import model_inference\n",
        "\n",
        "test_data = load_data('/content/neuspell/data/traintest/','test.bea60k','test.bea60k.noise')\n",
        "\n",
        "predicted_result = model_inference(model, test_data, 1, 'cuda', 16, vocab)"
      ],
      "execution_count": 21,
      "outputs": [
        {
          "output_type": "stream",
          "text": [
            "63044it [00:00, 520326.38it/s]\n",
            "63044it [00:00, 1492960.51it/s]\n",
            "0it [00:00, ?it/s]"
          ],
          "name": "stderr"
        },
        {
          "output_type": "stream",
          "text": [
            "loaded tuples of (corr,incorr) examples from /content/neuspell/data/traintest/\n",
            "###############################################\n",
            "data size: 63044\n"
          ],
          "name": "stdout"
        },
        {
          "output_type": "display_data",
          "data": {
            "application/vnd.jupyter.widget-view+json": {
              "model_id": "25ff9c6c300c4f2cbcd40a24c2a56ea8",
              "version_minor": 0,
              "version_major": 2
            },
            "text/plain": [
              "HBox(children=(FloatProgress(value=0.0, description='Downloading', max=995526.0, style=ProgressStyle(descripti…"
            ]
          },
          "metadata": {
            "tags": []
          }
        },
        {
          "output_type": "stream",
          "text": [
            "\n"
          ],
          "name": "stdout"
        },
        {
          "output_type": "stream",
          "text": [
            "3941it [05:35, 11.75it/s]"
          ],
          "name": "stderr"
        },
        {
          "output_type": "stream",
          "text": [
            "\n",
            "Epoch None valid_loss: 0.21542136480042082\n",
            "total inference time for this data is: 335.464222 secs\n",
            "###############################################\n",
            "\n",
            "\n",
            "total token count: 1059069\n",
            "_corr2corr:971959, _corr2incorr:17100, _incorr2corr:50599, _incorr2incorr:19411\n",
            "accuracy is 0.965525381254668\n",
            "word correction rate is 0.722739608627339\n",
            "###############################################\n"
          ],
          "name": "stdout"
        },
        {
          "output_type": "stream",
          "text": [
            "\n"
          ],
          "name": "stderr"
        }
      ]
    },
    {
      "cell_type": "code",
      "metadata": {
        "colab": {
          "base_uri": "https://localhost:8080/"
        },
        "id": "Oc33y9sNNUQk",
        "outputId": "bcfebd8b-9d3f-43a9-d226-bf4abd09dc21"
      },
      "source": [
        "\n",
        "test_data = load_data('/content/neuspell/data/traintest/','test.jfleg','test.jfleg.noise')\n",
        "\n",
        "predicted_result = model_inference(model, test_data, 1, 'cuda', 16, vocab)"
      ],
      "execution_count": 22,
      "outputs": [
        {
          "output_type": "stream",
          "text": [
            "1601it [00:00, 415820.22it/s]\n",
            "1601it [00:00, 570864.64it/s]\n",
            "0it [00:00, ?it/s]"
          ],
          "name": "stderr"
        },
        {
          "output_type": "stream",
          "text": [
            "loaded tuples of (corr,incorr) examples from /content/neuspell/data/traintest/\n",
            "###############################################\n",
            "data size: 1601\n"
          ],
          "name": "stdout"
        },
        {
          "output_type": "stream",
          "text": [
            "101it [00:09, 10.12it/s]"
          ],
          "name": "stderr"
        },
        {
          "output_type": "stream",
          "text": [
            "\n",
            "Epoch None valid_loss: 0.16091428798540394\n",
            "total inference time for this data is: 9.993878 secs\n",
            "###############################################\n",
            "\n",
            "\n",
            "total token count: 33473\n",
            "_corr2corr:31076, _corr2incorr:387, _incorr2corr:1589, _incorr2incorr:421\n",
            "accuracy is 0.9758611418157919\n",
            "word correction rate is 0.790547263681592\n",
            "###############################################\n"
          ],
          "name": "stdout"
        },
        {
          "output_type": "stream",
          "text": [
            "\n"
          ],
          "name": "stderr"
        }
      ]
    }
  ]
}