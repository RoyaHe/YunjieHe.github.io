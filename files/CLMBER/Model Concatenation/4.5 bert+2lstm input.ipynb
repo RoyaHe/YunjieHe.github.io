{
  "nbformat": 4,
  "nbformat_minor": 0,
  "metadata": {
    "colab": {
      "name": "<Done> bert+2lstm_input",
      "provenance": [],
      "collapsed_sections": [
        "sJsBpETWrSlk"
      ],
      "machine_shape": "hm"
    },
    "kernelspec": {
      "name": "python3",
      "display_name": "Python 3"
    },
    "language_info": {
      "name": "python"
    },
    "widgets": {
      "application/vnd.jupyter.widget-state+json": {
        "cb283eee2e4746099c09744c032e2b51": {
          "model_module": "@jupyter-widgets/controls",
          "model_name": "HBoxModel",
          "state": {
            "_view_name": "HBoxView",
            "_dom_classes": [],
            "_model_name": "HBoxModel",
            "_view_module": "@jupyter-widgets/controls",
            "_model_module_version": "1.5.0",
            "_view_count": null,
            "_view_module_version": "1.5.0",
            "box_style": "",
            "layout": "IPY_MODEL_c1d0be6ac22846ef901ad9a30ad7709f",
            "_model_module": "@jupyter-widgets/controls",
            "children": [
              "IPY_MODEL_dcf3c02dc42046df9a8d2139b3db4f81",
              "IPY_MODEL_35c60e707883426da058a84205bb23c9"
            ]
          }
        },
        "c1d0be6ac22846ef901ad9a30ad7709f": {
          "model_module": "@jupyter-widgets/base",
          "model_name": "LayoutModel",
          "state": {
            "_view_name": "LayoutView",
            "grid_template_rows": null,
            "right": null,
            "justify_content": null,
            "_view_module": "@jupyter-widgets/base",
            "overflow": null,
            "_model_module_version": "1.2.0",
            "_view_count": null,
            "flex_flow": null,
            "width": null,
            "min_width": null,
            "border": null,
            "align_items": null,
            "bottom": null,
            "_model_module": "@jupyter-widgets/base",
            "top": null,
            "grid_column": null,
            "overflow_y": null,
            "overflow_x": null,
            "grid_auto_flow": null,
            "grid_area": null,
            "grid_template_columns": null,
            "flex": null,
            "_model_name": "LayoutModel",
            "justify_items": null,
            "grid_row": null,
            "max_height": null,
            "align_content": null,
            "visibility": null,
            "align_self": null,
            "height": null,
            "min_height": null,
            "padding": null,
            "grid_auto_rows": null,
            "grid_gap": null,
            "max_width": null,
            "order": null,
            "_view_module_version": "1.2.0",
            "grid_template_areas": null,
            "object_position": null,
            "object_fit": null,
            "grid_auto_columns": null,
            "margin": null,
            "display": null,
            "left": null
          }
        },
        "dcf3c02dc42046df9a8d2139b3db4f81": {
          "model_module": "@jupyter-widgets/controls",
          "model_name": "FloatProgressModel",
          "state": {
            "_view_name": "ProgressView",
            "style": "IPY_MODEL_457187314ff34ebc904d028cf654a199",
            "_dom_classes": [],
            "description": "Downloading: 100%",
            "_model_name": "FloatProgressModel",
            "bar_style": "success",
            "max": 1042301,
            "_view_module": "@jupyter-widgets/controls",
            "_model_module_version": "1.5.0",
            "value": 1042301,
            "_view_count": null,
            "_view_module_version": "1.5.0",
            "orientation": "horizontal",
            "min": 0,
            "description_tooltip": null,
            "_model_module": "@jupyter-widgets/controls",
            "layout": "IPY_MODEL_ee93d49a193e4dc88052c7c555e85052"
          }
        },
        "35c60e707883426da058a84205bb23c9": {
          "model_module": "@jupyter-widgets/controls",
          "model_name": "HTMLModel",
          "state": {
            "_view_name": "HTMLView",
            "style": "IPY_MODEL_740c1047cc914f8e9d6710ba91b1476c",
            "_dom_classes": [],
            "description": "",
            "_model_name": "HTMLModel",
            "placeholder": "​",
            "_view_module": "@jupyter-widgets/controls",
            "_model_module_version": "1.5.0",
            "value": " 1.04M/1.04M [00:03&lt;00:00, 334kB/s]",
            "_view_count": null,
            "_view_module_version": "1.5.0",
            "description_tooltip": null,
            "_model_module": "@jupyter-widgets/controls",
            "layout": "IPY_MODEL_a585816da6e94b719074d0e9ec9a2a20"
          }
        },
        "457187314ff34ebc904d028cf654a199": {
          "model_module": "@jupyter-widgets/controls",
          "model_name": "ProgressStyleModel",
          "state": {
            "_view_name": "StyleView",
            "_model_name": "ProgressStyleModel",
            "description_width": "initial",
            "_view_module": "@jupyter-widgets/base",
            "_model_module_version": "1.5.0",
            "_view_count": null,
            "_view_module_version": "1.2.0",
            "bar_color": null,
            "_model_module": "@jupyter-widgets/controls"
          }
        },
        "ee93d49a193e4dc88052c7c555e85052": {
          "model_module": "@jupyter-widgets/base",
          "model_name": "LayoutModel",
          "state": {
            "_view_name": "LayoutView",
            "grid_template_rows": null,
            "right": null,
            "justify_content": null,
            "_view_module": "@jupyter-widgets/base",
            "overflow": null,
            "_model_module_version": "1.2.0",
            "_view_count": null,
            "flex_flow": null,
            "width": null,
            "min_width": null,
            "border": null,
            "align_items": null,
            "bottom": null,
            "_model_module": "@jupyter-widgets/base",
            "top": null,
            "grid_column": null,
            "overflow_y": null,
            "overflow_x": null,
            "grid_auto_flow": null,
            "grid_area": null,
            "grid_template_columns": null,
            "flex": null,
            "_model_name": "LayoutModel",
            "justify_items": null,
            "grid_row": null,
            "max_height": null,
            "align_content": null,
            "visibility": null,
            "align_self": null,
            "height": null,
            "min_height": null,
            "padding": null,
            "grid_auto_rows": null,
            "grid_gap": null,
            "max_width": null,
            "order": null,
            "_view_module_version": "1.2.0",
            "grid_template_areas": null,
            "object_position": null,
            "object_fit": null,
            "grid_auto_columns": null,
            "margin": null,
            "display": null,
            "left": null
          }
        },
        "740c1047cc914f8e9d6710ba91b1476c": {
          "model_module": "@jupyter-widgets/controls",
          "model_name": "DescriptionStyleModel",
          "state": {
            "_view_name": "StyleView",
            "_model_name": "DescriptionStyleModel",
            "description_width": "",
            "_view_module": "@jupyter-widgets/base",
            "_model_module_version": "1.5.0",
            "_view_count": null,
            "_view_module_version": "1.2.0",
            "_model_module": "@jupyter-widgets/controls"
          }
        },
        "a585816da6e94b719074d0e9ec9a2a20": {
          "model_module": "@jupyter-widgets/base",
          "model_name": "LayoutModel",
          "state": {
            "_view_name": "LayoutView",
            "grid_template_rows": null,
            "right": null,
            "justify_content": null,
            "_view_module": "@jupyter-widgets/base",
            "overflow": null,
            "_model_module_version": "1.2.0",
            "_view_count": null,
            "flex_flow": null,
            "width": null,
            "min_width": null,
            "border": null,
            "align_items": null,
            "bottom": null,
            "_model_module": "@jupyter-widgets/base",
            "top": null,
            "grid_column": null,
            "overflow_y": null,
            "overflow_x": null,
            "grid_auto_flow": null,
            "grid_area": null,
            "grid_template_columns": null,
            "flex": null,
            "_model_name": "LayoutModel",
            "justify_items": null,
            "grid_row": null,
            "max_height": null,
            "align_content": null,
            "visibility": null,
            "align_self": null,
            "height": null,
            "min_height": null,
            "padding": null,
            "grid_auto_rows": null,
            "grid_gap": null,
            "max_width": null,
            "order": null,
            "_view_module_version": "1.2.0",
            "grid_template_areas": null,
            "object_position": null,
            "object_fit": null,
            "grid_auto_columns": null,
            "margin": null,
            "display": null,
            "left": null
          }
        },
        "ddefa251bf744a0ab30feded13692608": {
          "model_module": "@jupyter-widgets/controls",
          "model_name": "HBoxModel",
          "state": {
            "_view_name": "HBoxView",
            "_dom_classes": [],
            "_model_name": "HBoxModel",
            "_view_module": "@jupyter-widgets/controls",
            "_model_module_version": "1.5.0",
            "_view_count": null,
            "_view_module_version": "1.5.0",
            "box_style": "",
            "layout": "IPY_MODEL_a42a766b5b1d4894ab8337e654c21ea1",
            "_model_module": "@jupyter-widgets/controls",
            "children": [
              "IPY_MODEL_d4b7cfbb4cef48cc8677090c0b292826",
              "IPY_MODEL_7958bed0b02f47ce8ac908d4ba8e6c66"
            ]
          }
        },
        "a42a766b5b1d4894ab8337e654c21ea1": {
          "model_module": "@jupyter-widgets/base",
          "model_name": "LayoutModel",
          "state": {
            "_view_name": "LayoutView",
            "grid_template_rows": null,
            "right": null,
            "justify_content": null,
            "_view_module": "@jupyter-widgets/base",
            "overflow": null,
            "_model_module_version": "1.2.0",
            "_view_count": null,
            "flex_flow": null,
            "width": null,
            "min_width": null,
            "border": null,
            "align_items": null,
            "bottom": null,
            "_model_module": "@jupyter-widgets/base",
            "top": null,
            "grid_column": null,
            "overflow_y": null,
            "overflow_x": null,
            "grid_auto_flow": null,
            "grid_area": null,
            "grid_template_columns": null,
            "flex": null,
            "_model_name": "LayoutModel",
            "justify_items": null,
            "grid_row": null,
            "max_height": null,
            "align_content": null,
            "visibility": null,
            "align_self": null,
            "height": null,
            "min_height": null,
            "padding": null,
            "grid_auto_rows": null,
            "grid_gap": null,
            "max_width": null,
            "order": null,
            "_view_module_version": "1.2.0",
            "grid_template_areas": null,
            "object_position": null,
            "object_fit": null,
            "grid_auto_columns": null,
            "margin": null,
            "display": null,
            "left": null
          }
        },
        "d4b7cfbb4cef48cc8677090c0b292826": {
          "model_module": "@jupyter-widgets/controls",
          "model_name": "FloatProgressModel",
          "state": {
            "_view_name": "ProgressView",
            "style": "IPY_MODEL_3c6283d5a09646bdbbb940e8efd6d6a3",
            "_dom_classes": [],
            "description": "Downloading: 100%",
            "_model_name": "FloatProgressModel",
            "bar_style": "success",
            "max": 456318,
            "_view_module": "@jupyter-widgets/controls",
            "_model_module_version": "1.5.0",
            "value": 456318,
            "_view_count": null,
            "_view_module_version": "1.5.0",
            "orientation": "horizontal",
            "min": 0,
            "description_tooltip": null,
            "_model_module": "@jupyter-widgets/controls",
            "layout": "IPY_MODEL_49b332273b264baa84ab73bd43aec538"
          }
        },
        "7958bed0b02f47ce8ac908d4ba8e6c66": {
          "model_module": "@jupyter-widgets/controls",
          "model_name": "HTMLModel",
          "state": {
            "_view_name": "HTMLView",
            "style": "IPY_MODEL_62daf31d903e40599651c83d50e5d0b4",
            "_dom_classes": [],
            "description": "",
            "_model_name": "HTMLModel",
            "placeholder": "​",
            "_view_module": "@jupyter-widgets/controls",
            "_model_module_version": "1.5.0",
            "value": " 456k/456k [00:00&lt;00:00, 487kB/s]",
            "_view_count": null,
            "_view_module_version": "1.5.0",
            "description_tooltip": null,
            "_model_module": "@jupyter-widgets/controls",
            "layout": "IPY_MODEL_70d9eb44c5564f1dbad2e51c8a93efe0"
          }
        },
        "3c6283d5a09646bdbbb940e8efd6d6a3": {
          "model_module": "@jupyter-widgets/controls",
          "model_name": "ProgressStyleModel",
          "state": {
            "_view_name": "StyleView",
            "_model_name": "ProgressStyleModel",
            "description_width": "initial",
            "_view_module": "@jupyter-widgets/base",
            "_model_module_version": "1.5.0",
            "_view_count": null,
            "_view_module_version": "1.2.0",
            "bar_color": null,
            "_model_module": "@jupyter-widgets/controls"
          }
        },
        "49b332273b264baa84ab73bd43aec538": {
          "model_module": "@jupyter-widgets/base",
          "model_name": "LayoutModel",
          "state": {
            "_view_name": "LayoutView",
            "grid_template_rows": null,
            "right": null,
            "justify_content": null,
            "_view_module": "@jupyter-widgets/base",
            "overflow": null,
            "_model_module_version": "1.2.0",
            "_view_count": null,
            "flex_flow": null,
            "width": null,
            "min_width": null,
            "border": null,
            "align_items": null,
            "bottom": null,
            "_model_module": "@jupyter-widgets/base",
            "top": null,
            "grid_column": null,
            "overflow_y": null,
            "overflow_x": null,
            "grid_auto_flow": null,
            "grid_area": null,
            "grid_template_columns": null,
            "flex": null,
            "_model_name": "LayoutModel",
            "justify_items": null,
            "grid_row": null,
            "max_height": null,
            "align_content": null,
            "visibility": null,
            "align_self": null,
            "height": null,
            "min_height": null,
            "padding": null,
            "grid_auto_rows": null,
            "grid_gap": null,
            "max_width": null,
            "order": null,
            "_view_module_version": "1.2.0",
            "grid_template_areas": null,
            "object_position": null,
            "object_fit": null,
            "grid_auto_columns": null,
            "margin": null,
            "display": null,
            "left": null
          }
        },
        "62daf31d903e40599651c83d50e5d0b4": {
          "model_module": "@jupyter-widgets/controls",
          "model_name": "DescriptionStyleModel",
          "state": {
            "_view_name": "StyleView",
            "_model_name": "DescriptionStyleModel",
            "description_width": "",
            "_view_module": "@jupyter-widgets/base",
            "_model_module_version": "1.5.0",
            "_view_count": null,
            "_view_module_version": "1.2.0",
            "_model_module": "@jupyter-widgets/controls"
          }
        },
        "70d9eb44c5564f1dbad2e51c8a93efe0": {
          "model_module": "@jupyter-widgets/base",
          "model_name": "LayoutModel",
          "state": {
            "_view_name": "LayoutView",
            "grid_template_rows": null,
            "right": null,
            "justify_content": null,
            "_view_module": "@jupyter-widgets/base",
            "overflow": null,
            "_model_module_version": "1.2.0",
            "_view_count": null,
            "flex_flow": null,
            "width": null,
            "min_width": null,
            "border": null,
            "align_items": null,
            "bottom": null,
            "_model_module": "@jupyter-widgets/base",
            "top": null,
            "grid_column": null,
            "overflow_y": null,
            "overflow_x": null,
            "grid_auto_flow": null,
            "grid_area": null,
            "grid_template_columns": null,
            "flex": null,
            "_model_name": "LayoutModel",
            "justify_items": null,
            "grid_row": null,
            "max_height": null,
            "align_content": null,
            "visibility": null,
            "align_self": null,
            "height": null,
            "min_height": null,
            "padding": null,
            "grid_auto_rows": null,
            "grid_gap": null,
            "max_width": null,
            "order": null,
            "_view_module_version": "1.2.0",
            "grid_template_areas": null,
            "object_position": null,
            "object_fit": null,
            "grid_auto_columns": null,
            "margin": null,
            "display": null,
            "left": null
          }
        },
        "0c2c1dfdd1394152abb5617da31ac5a5": {
          "model_module": "@jupyter-widgets/controls",
          "model_name": "HBoxModel",
          "state": {
            "_view_name": "HBoxView",
            "_dom_classes": [],
            "_model_name": "HBoxModel",
            "_view_module": "@jupyter-widgets/controls",
            "_model_module_version": "1.5.0",
            "_view_count": null,
            "_view_module_version": "1.5.0",
            "box_style": "",
            "layout": "IPY_MODEL_08e9c5d8943f4ce29ba8eb09587f6834",
            "_model_module": "@jupyter-widgets/controls",
            "children": [
              "IPY_MODEL_09ffb5fe987348cd9b11ad020be60f20",
              "IPY_MODEL_b79b8e831b4344288137a560fcdd8c00"
            ]
          }
        },
        "08e9c5d8943f4ce29ba8eb09587f6834": {
          "model_module": "@jupyter-widgets/base",
          "model_name": "LayoutModel",
          "state": {
            "_view_name": "LayoutView",
            "grid_template_rows": null,
            "right": null,
            "justify_content": null,
            "_view_module": "@jupyter-widgets/base",
            "overflow": null,
            "_model_module_version": "1.2.0",
            "_view_count": null,
            "flex_flow": null,
            "width": null,
            "min_width": null,
            "border": null,
            "align_items": null,
            "bottom": null,
            "_model_module": "@jupyter-widgets/base",
            "top": null,
            "grid_column": null,
            "overflow_y": null,
            "overflow_x": null,
            "grid_auto_flow": null,
            "grid_area": null,
            "grid_template_columns": null,
            "flex": null,
            "_model_name": "LayoutModel",
            "justify_items": null,
            "grid_row": null,
            "max_height": null,
            "align_content": null,
            "visibility": null,
            "align_self": null,
            "height": null,
            "min_height": null,
            "padding": null,
            "grid_auto_rows": null,
            "grid_gap": null,
            "max_width": null,
            "order": null,
            "_view_module_version": "1.2.0",
            "grid_template_areas": null,
            "object_position": null,
            "object_fit": null,
            "grid_auto_columns": null,
            "margin": null,
            "display": null,
            "left": null
          }
        },
        "09ffb5fe987348cd9b11ad020be60f20": {
          "model_module": "@jupyter-widgets/controls",
          "model_name": "FloatProgressModel",
          "state": {
            "_view_name": "ProgressView",
            "style": "IPY_MODEL_488b37aec9bd4a5a91f50f752100b647",
            "_dom_classes": [],
            "description": "Downloading: 100%",
            "_model_name": "FloatProgressModel",
            "bar_style": "success",
            "max": 718,
            "_view_module": "@jupyter-widgets/controls",
            "_model_module_version": "1.5.0",
            "value": 718,
            "_view_count": null,
            "_view_module_version": "1.5.0",
            "orientation": "horizontal",
            "min": 0,
            "description_tooltip": null,
            "_model_module": "@jupyter-widgets/controls",
            "layout": "IPY_MODEL_9655407b8e824fb183c0055d7ad711ca"
          }
        },
        "b79b8e831b4344288137a560fcdd8c00": {
          "model_module": "@jupyter-widgets/controls",
          "model_name": "HTMLModel",
          "state": {
            "_view_name": "HTMLView",
            "style": "IPY_MODEL_6f820a1396ea45fd80ac7fb57915b6e5",
            "_dom_classes": [],
            "description": "",
            "_model_name": "HTMLModel",
            "placeholder": "​",
            "_view_module": "@jupyter-widgets/controls",
            "_model_module_version": "1.5.0",
            "value": " 718/718 [01:06&lt;00:00, 10.9B/s]",
            "_view_count": null,
            "_view_module_version": "1.5.0",
            "description_tooltip": null,
            "_model_module": "@jupyter-widgets/controls",
            "layout": "IPY_MODEL_156d9cac2a384af3aaa81ddc7b24731d"
          }
        },
        "488b37aec9bd4a5a91f50f752100b647": {
          "model_module": "@jupyter-widgets/controls",
          "model_name": "ProgressStyleModel",
          "state": {
            "_view_name": "StyleView",
            "_model_name": "ProgressStyleModel",
            "description_width": "initial",
            "_view_module": "@jupyter-widgets/base",
            "_model_module_version": "1.5.0",
            "_view_count": null,
            "_view_module_version": "1.2.0",
            "bar_color": null,
            "_model_module": "@jupyter-widgets/controls"
          }
        },
        "9655407b8e824fb183c0055d7ad711ca": {
          "model_module": "@jupyter-widgets/base",
          "model_name": "LayoutModel",
          "state": {
            "_view_name": "LayoutView",
            "grid_template_rows": null,
            "right": null,
            "justify_content": null,
            "_view_module": "@jupyter-widgets/base",
            "overflow": null,
            "_model_module_version": "1.2.0",
            "_view_count": null,
            "flex_flow": null,
            "width": null,
            "min_width": null,
            "border": null,
            "align_items": null,
            "bottom": null,
            "_model_module": "@jupyter-widgets/base",
            "top": null,
            "grid_column": null,
            "overflow_y": null,
            "overflow_x": null,
            "grid_auto_flow": null,
            "grid_area": null,
            "grid_template_columns": null,
            "flex": null,
            "_model_name": "LayoutModel",
            "justify_items": null,
            "grid_row": null,
            "max_height": null,
            "align_content": null,
            "visibility": null,
            "align_self": null,
            "height": null,
            "min_height": null,
            "padding": null,
            "grid_auto_rows": null,
            "grid_gap": null,
            "max_width": null,
            "order": null,
            "_view_module_version": "1.2.0",
            "grid_template_areas": null,
            "object_position": null,
            "object_fit": null,
            "grid_auto_columns": null,
            "margin": null,
            "display": null,
            "left": null
          }
        },
        "6f820a1396ea45fd80ac7fb57915b6e5": {
          "model_module": "@jupyter-widgets/controls",
          "model_name": "DescriptionStyleModel",
          "state": {
            "_view_name": "StyleView",
            "_model_name": "DescriptionStyleModel",
            "description_width": "",
            "_view_module": "@jupyter-widgets/base",
            "_model_module_version": "1.5.0",
            "_view_count": null,
            "_view_module_version": "1.2.0",
            "_model_module": "@jupyter-widgets/controls"
          }
        },
        "156d9cac2a384af3aaa81ddc7b24731d": {
          "model_module": "@jupyter-widgets/base",
          "model_name": "LayoutModel",
          "state": {
            "_view_name": "LayoutView",
            "grid_template_rows": null,
            "right": null,
            "justify_content": null,
            "_view_module": "@jupyter-widgets/base",
            "overflow": null,
            "_model_module_version": "1.2.0",
            "_view_count": null,
            "flex_flow": null,
            "width": null,
            "min_width": null,
            "border": null,
            "align_items": null,
            "bottom": null,
            "_model_module": "@jupyter-widgets/base",
            "top": null,
            "grid_column": null,
            "overflow_y": null,
            "overflow_x": null,
            "grid_auto_flow": null,
            "grid_area": null,
            "grid_template_columns": null,
            "flex": null,
            "_model_name": "LayoutModel",
            "justify_items": null,
            "grid_row": null,
            "max_height": null,
            "align_content": null,
            "visibility": null,
            "align_self": null,
            "height": null,
            "min_height": null,
            "padding": null,
            "grid_auto_rows": null,
            "grid_gap": null,
            "max_width": null,
            "order": null,
            "_view_module_version": "1.2.0",
            "grid_template_areas": null,
            "object_position": null,
            "object_fit": null,
            "grid_auto_columns": null,
            "margin": null,
            "display": null,
            "left": null
          }
        },
        "088fd110146e4e9d85d4541c2bb07c80": {
          "model_module": "@jupyter-widgets/controls",
          "model_name": "HBoxModel",
          "state": {
            "_view_name": "HBoxView",
            "_dom_classes": [],
            "_model_name": "HBoxModel",
            "_view_module": "@jupyter-widgets/controls",
            "_model_module_version": "1.5.0",
            "_view_count": null,
            "_view_module_version": "1.5.0",
            "box_style": "",
            "layout": "IPY_MODEL_4c59824ba31948759291f47d66a79274",
            "_model_module": "@jupyter-widgets/controls",
            "children": [
              "IPY_MODEL_4554e7aba88a45a7973b18b5b5620b8d",
              "IPY_MODEL_e8e12f01fbfd4f88aef34b368c08967b"
            ]
          }
        },
        "4c59824ba31948759291f47d66a79274": {
          "model_module": "@jupyter-widgets/base",
          "model_name": "LayoutModel",
          "state": {
            "_view_name": "LayoutView",
            "grid_template_rows": null,
            "right": null,
            "justify_content": null,
            "_view_module": "@jupyter-widgets/base",
            "overflow": null,
            "_model_module_version": "1.2.0",
            "_view_count": null,
            "flex_flow": null,
            "width": null,
            "min_width": null,
            "border": null,
            "align_items": null,
            "bottom": null,
            "_model_module": "@jupyter-widgets/base",
            "top": null,
            "grid_column": null,
            "overflow_y": null,
            "overflow_x": null,
            "grid_auto_flow": null,
            "grid_area": null,
            "grid_template_columns": null,
            "flex": null,
            "_model_name": "LayoutModel",
            "justify_items": null,
            "grid_row": null,
            "max_height": null,
            "align_content": null,
            "visibility": null,
            "align_self": null,
            "height": null,
            "min_height": null,
            "padding": null,
            "grid_auto_rows": null,
            "grid_gap": null,
            "max_width": null,
            "order": null,
            "_view_module_version": "1.2.0",
            "grid_template_areas": null,
            "object_position": null,
            "object_fit": null,
            "grid_auto_columns": null,
            "margin": null,
            "display": null,
            "left": null
          }
        },
        "4554e7aba88a45a7973b18b5b5620b8d": {
          "model_module": "@jupyter-widgets/controls",
          "model_name": "FloatProgressModel",
          "state": {
            "_view_name": "ProgressView",
            "style": "IPY_MODEL_bd1c71ee5aba49c1942ebf060cf7f787",
            "_dom_classes": [],
            "description": "Downloading: 100%",
            "_model_name": "FloatProgressModel",
            "bar_style": "success",
            "max": 1520013706,
            "_view_module": "@jupyter-widgets/controls",
            "_model_module_version": "1.5.0",
            "value": 1520013706,
            "_view_count": null,
            "_view_module_version": "1.5.0",
            "orientation": "horizontal",
            "min": 0,
            "description_tooltip": null,
            "_model_module": "@jupyter-widgets/controls",
            "layout": "IPY_MODEL_64472cdce8144ae08acdfd5d6596a2d7"
          }
        },
        "e8e12f01fbfd4f88aef34b368c08967b": {
          "model_module": "@jupyter-widgets/controls",
          "model_name": "HTMLModel",
          "state": {
            "_view_name": "HTMLView",
            "style": "IPY_MODEL_e78fe9e2c5464795bab508258890effe",
            "_dom_classes": [],
            "description": "",
            "_model_name": "HTMLModel",
            "placeholder": "​",
            "_view_module": "@jupyter-widgets/controls",
            "_model_module_version": "1.5.0",
            "value": " 1.52G/1.52G [01:05&lt;00:00, 23.3MB/s]",
            "_view_count": null,
            "_view_module_version": "1.5.0",
            "description_tooltip": null,
            "_model_module": "@jupyter-widgets/controls",
            "layout": "IPY_MODEL_4cbcf755286a4f03a32257a43c4ed834"
          }
        },
        "bd1c71ee5aba49c1942ebf060cf7f787": {
          "model_module": "@jupyter-widgets/controls",
          "model_name": "ProgressStyleModel",
          "state": {
            "_view_name": "StyleView",
            "_model_name": "ProgressStyleModel",
            "description_width": "initial",
            "_view_module": "@jupyter-widgets/base",
            "_model_module_version": "1.5.0",
            "_view_count": null,
            "_view_module_version": "1.2.0",
            "bar_color": null,
            "_model_module": "@jupyter-widgets/controls"
          }
        },
        "64472cdce8144ae08acdfd5d6596a2d7": {
          "model_module": "@jupyter-widgets/base",
          "model_name": "LayoutModel",
          "state": {
            "_view_name": "LayoutView",
            "grid_template_rows": null,
            "right": null,
            "justify_content": null,
            "_view_module": "@jupyter-widgets/base",
            "overflow": null,
            "_model_module_version": "1.2.0",
            "_view_count": null,
            "flex_flow": null,
            "width": null,
            "min_width": null,
            "border": null,
            "align_items": null,
            "bottom": null,
            "_model_module": "@jupyter-widgets/base",
            "top": null,
            "grid_column": null,
            "overflow_y": null,
            "overflow_x": null,
            "grid_auto_flow": null,
            "grid_area": null,
            "grid_template_columns": null,
            "flex": null,
            "_model_name": "LayoutModel",
            "justify_items": null,
            "grid_row": null,
            "max_height": null,
            "align_content": null,
            "visibility": null,
            "align_self": null,
            "height": null,
            "min_height": null,
            "padding": null,
            "grid_auto_rows": null,
            "grid_gap": null,
            "max_width": null,
            "order": null,
            "_view_module_version": "1.2.0",
            "grid_template_areas": null,
            "object_position": null,
            "object_fit": null,
            "grid_auto_columns": null,
            "margin": null,
            "display": null,
            "left": null
          }
        },
        "e78fe9e2c5464795bab508258890effe": {
          "model_module": "@jupyter-widgets/controls",
          "model_name": "DescriptionStyleModel",
          "state": {
            "_view_name": "StyleView",
            "_model_name": "DescriptionStyleModel",
            "description_width": "",
            "_view_module": "@jupyter-widgets/base",
            "_model_module_version": "1.5.0",
            "_view_count": null,
            "_view_module_version": "1.2.0",
            "_model_module": "@jupyter-widgets/controls"
          }
        },
        "4cbcf755286a4f03a32257a43c4ed834": {
          "model_module": "@jupyter-widgets/base",
          "model_name": "LayoutModel",
          "state": {
            "_view_name": "LayoutView",
            "grid_template_rows": null,
            "right": null,
            "justify_content": null,
            "_view_module": "@jupyter-widgets/base",
            "overflow": null,
            "_model_module_version": "1.2.0",
            "_view_count": null,
            "flex_flow": null,
            "width": null,
            "min_width": null,
            "border": null,
            "align_items": null,
            "bottom": null,
            "_model_module": "@jupyter-widgets/base",
            "top": null,
            "grid_column": null,
            "overflow_y": null,
            "overflow_x": null,
            "grid_auto_flow": null,
            "grid_area": null,
            "grid_template_columns": null,
            "flex": null,
            "_model_name": "LayoutModel",
            "justify_items": null,
            "grid_row": null,
            "max_height": null,
            "align_content": null,
            "visibility": null,
            "align_self": null,
            "height": null,
            "min_height": null,
            "padding": null,
            "grid_auto_rows": null,
            "grid_gap": null,
            "max_width": null,
            "order": null,
            "_view_module_version": "1.2.0",
            "grid_template_areas": null,
            "object_position": null,
            "object_fit": null,
            "grid_auto_columns": null,
            "margin": null,
            "display": null,
            "left": null
          }
        },
        "3b043b1043d24c5c88cb5b12c6ef487d": {
          "model_module": "@jupyter-widgets/controls",
          "model_name": "HBoxModel",
          "state": {
            "_view_name": "HBoxView",
            "_dom_classes": [],
            "_model_name": "HBoxModel",
            "_view_module": "@jupyter-widgets/controls",
            "_model_module_version": "1.5.0",
            "_view_count": null,
            "_view_module_version": "1.5.0",
            "box_style": "",
            "layout": "IPY_MODEL_ad4c32e77cea4a018e8a45fb1bc2b5ff",
            "_model_module": "@jupyter-widgets/controls",
            "children": [
              "IPY_MODEL_da90aa6ba0b3462ca185ad5f04d506b3",
              "IPY_MODEL_d2f28c1e6c50473ba00ee0be73bec442"
            ]
          }
        },
        "ad4c32e77cea4a018e8a45fb1bc2b5ff": {
          "model_module": "@jupyter-widgets/base",
          "model_name": "LayoutModel",
          "state": {
            "_view_name": "LayoutView",
            "grid_template_rows": null,
            "right": null,
            "justify_content": null,
            "_view_module": "@jupyter-widgets/base",
            "overflow": null,
            "_model_module_version": "1.2.0",
            "_view_count": null,
            "flex_flow": null,
            "width": null,
            "min_width": null,
            "border": null,
            "align_items": null,
            "bottom": null,
            "_model_module": "@jupyter-widgets/base",
            "top": null,
            "grid_column": null,
            "overflow_y": null,
            "overflow_x": null,
            "grid_auto_flow": null,
            "grid_area": null,
            "grid_template_columns": null,
            "flex": null,
            "_model_name": "LayoutModel",
            "justify_items": null,
            "grid_row": null,
            "max_height": null,
            "align_content": null,
            "visibility": null,
            "align_self": null,
            "height": null,
            "min_height": null,
            "padding": null,
            "grid_auto_rows": null,
            "grid_gap": null,
            "max_width": null,
            "order": null,
            "_view_module_version": "1.2.0",
            "grid_template_areas": null,
            "object_position": null,
            "object_fit": null,
            "grid_auto_columns": null,
            "margin": null,
            "display": null,
            "left": null
          }
        },
        "da90aa6ba0b3462ca185ad5f04d506b3": {
          "model_module": "@jupyter-widgets/controls",
          "model_name": "FloatProgressModel",
          "state": {
            "_view_name": "ProgressView",
            "style": "IPY_MODEL_c80458d8dfd4437bbda87d1a0e596d71",
            "_dom_classes": [],
            "description": "Downloading: 100%",
            "_model_name": "FloatProgressModel",
            "bar_style": "success",
            "max": 570,
            "_view_module": "@jupyter-widgets/controls",
            "_model_module_version": "1.5.0",
            "value": 570,
            "_view_count": null,
            "_view_module_version": "1.5.0",
            "orientation": "horizontal",
            "min": 0,
            "description_tooltip": null,
            "_model_module": "@jupyter-widgets/controls",
            "layout": "IPY_MODEL_5825047727104f7bbb444698cca7a68c"
          }
        },
        "d2f28c1e6c50473ba00ee0be73bec442": {
          "model_module": "@jupyter-widgets/controls",
          "model_name": "HTMLModel",
          "state": {
            "_view_name": "HTMLView",
            "style": "IPY_MODEL_3eaa0e4279e44666a50e3e15ac98274e",
            "_dom_classes": [],
            "description": "",
            "_model_name": "HTMLModel",
            "placeholder": "​",
            "_view_module": "@jupyter-widgets/controls",
            "_model_module_version": "1.5.0",
            "value": " 570/570 [00:01&lt;00:00, 466B/s]",
            "_view_count": null,
            "_view_module_version": "1.5.0",
            "description_tooltip": null,
            "_model_module": "@jupyter-widgets/controls",
            "layout": "IPY_MODEL_ac42db9903be45b2b188e70f12f55839"
          }
        },
        "c80458d8dfd4437bbda87d1a0e596d71": {
          "model_module": "@jupyter-widgets/controls",
          "model_name": "ProgressStyleModel",
          "state": {
            "_view_name": "StyleView",
            "_model_name": "ProgressStyleModel",
            "description_width": "initial",
            "_view_module": "@jupyter-widgets/base",
            "_model_module_version": "1.5.0",
            "_view_count": null,
            "_view_module_version": "1.2.0",
            "bar_color": null,
            "_model_module": "@jupyter-widgets/controls"
          }
        },
        "5825047727104f7bbb444698cca7a68c": {
          "model_module": "@jupyter-widgets/base",
          "model_name": "LayoutModel",
          "state": {
            "_view_name": "LayoutView",
            "grid_template_rows": null,
            "right": null,
            "justify_content": null,
            "_view_module": "@jupyter-widgets/base",
            "overflow": null,
            "_model_module_version": "1.2.0",
            "_view_count": null,
            "flex_flow": null,
            "width": null,
            "min_width": null,
            "border": null,
            "align_items": null,
            "bottom": null,
            "_model_module": "@jupyter-widgets/base",
            "top": null,
            "grid_column": null,
            "overflow_y": null,
            "overflow_x": null,
            "grid_auto_flow": null,
            "grid_area": null,
            "grid_template_columns": null,
            "flex": null,
            "_model_name": "LayoutModel",
            "justify_items": null,
            "grid_row": null,
            "max_height": null,
            "align_content": null,
            "visibility": null,
            "align_self": null,
            "height": null,
            "min_height": null,
            "padding": null,
            "grid_auto_rows": null,
            "grid_gap": null,
            "max_width": null,
            "order": null,
            "_view_module_version": "1.2.0",
            "grid_template_areas": null,
            "object_position": null,
            "object_fit": null,
            "grid_auto_columns": null,
            "margin": null,
            "display": null,
            "left": null
          }
        },
        "3eaa0e4279e44666a50e3e15ac98274e": {
          "model_module": "@jupyter-widgets/controls",
          "model_name": "DescriptionStyleModel",
          "state": {
            "_view_name": "StyleView",
            "_model_name": "DescriptionStyleModel",
            "description_width": "",
            "_view_module": "@jupyter-widgets/base",
            "_model_module_version": "1.5.0",
            "_view_count": null,
            "_view_module_version": "1.2.0",
            "_model_module": "@jupyter-widgets/controls"
          }
        },
        "ac42db9903be45b2b188e70f12f55839": {
          "model_module": "@jupyter-widgets/base",
          "model_name": "LayoutModel",
          "state": {
            "_view_name": "LayoutView",
            "grid_template_rows": null,
            "right": null,
            "justify_content": null,
            "_view_module": "@jupyter-widgets/base",
            "overflow": null,
            "_model_module_version": "1.2.0",
            "_view_count": null,
            "flex_flow": null,
            "width": null,
            "min_width": null,
            "border": null,
            "align_items": null,
            "bottom": null,
            "_model_module": "@jupyter-widgets/base",
            "top": null,
            "grid_column": null,
            "overflow_y": null,
            "overflow_x": null,
            "grid_auto_flow": null,
            "grid_area": null,
            "grid_template_columns": null,
            "flex": null,
            "_model_name": "LayoutModel",
            "justify_items": null,
            "grid_row": null,
            "max_height": null,
            "align_content": null,
            "visibility": null,
            "align_self": null,
            "height": null,
            "min_height": null,
            "padding": null,
            "grid_auto_rows": null,
            "grid_gap": null,
            "max_width": null,
            "order": null,
            "_view_module_version": "1.2.0",
            "grid_template_areas": null,
            "object_position": null,
            "object_fit": null,
            "grid_auto_columns": null,
            "margin": null,
            "display": null,
            "left": null
          }
        },
        "f965149d34dd41c19049a13187dcdc00": {
          "model_module": "@jupyter-widgets/controls",
          "model_name": "HBoxModel",
          "state": {
            "_view_name": "HBoxView",
            "_dom_classes": [],
            "_model_name": "HBoxModel",
            "_view_module": "@jupyter-widgets/controls",
            "_model_module_version": "1.5.0",
            "_view_count": null,
            "_view_module_version": "1.5.0",
            "box_style": "",
            "layout": "IPY_MODEL_3a58e556a7ec4afbaa230d5ed00dcc6e",
            "_model_module": "@jupyter-widgets/controls",
            "children": [
              "IPY_MODEL_8e6a5f680c5e445bb72f420ba447ec94",
              "IPY_MODEL_0e55159a8c274e3bac6fce25d187b20b"
            ]
          }
        },
        "3a58e556a7ec4afbaa230d5ed00dcc6e": {
          "model_module": "@jupyter-widgets/base",
          "model_name": "LayoutModel",
          "state": {
            "_view_name": "LayoutView",
            "grid_template_rows": null,
            "right": null,
            "justify_content": null,
            "_view_module": "@jupyter-widgets/base",
            "overflow": null,
            "_model_module_version": "1.2.0",
            "_view_count": null,
            "flex_flow": null,
            "width": null,
            "min_width": null,
            "border": null,
            "align_items": null,
            "bottom": null,
            "_model_module": "@jupyter-widgets/base",
            "top": null,
            "grid_column": null,
            "overflow_y": null,
            "overflow_x": null,
            "grid_auto_flow": null,
            "grid_area": null,
            "grid_template_columns": null,
            "flex": null,
            "_model_name": "LayoutModel",
            "justify_items": null,
            "grid_row": null,
            "max_height": null,
            "align_content": null,
            "visibility": null,
            "align_self": null,
            "height": null,
            "min_height": null,
            "padding": null,
            "grid_auto_rows": null,
            "grid_gap": null,
            "max_width": null,
            "order": null,
            "_view_module_version": "1.2.0",
            "grid_template_areas": null,
            "object_position": null,
            "object_fit": null,
            "grid_auto_columns": null,
            "margin": null,
            "display": null,
            "left": null
          }
        },
        "8e6a5f680c5e445bb72f420ba447ec94": {
          "model_module": "@jupyter-widgets/controls",
          "model_name": "FloatProgressModel",
          "state": {
            "_view_name": "ProgressView",
            "style": "IPY_MODEL_daf7e81203254a349cc00fa58d1c7375",
            "_dom_classes": [],
            "description": "Downloading: 100%",
            "_model_name": "FloatProgressModel",
            "bar_style": "success",
            "max": 435779157,
            "_view_module": "@jupyter-widgets/controls",
            "_model_module_version": "1.5.0",
            "value": 435779157,
            "_view_count": null,
            "_view_module_version": "1.5.0",
            "orientation": "horizontal",
            "min": 0,
            "description_tooltip": null,
            "_model_module": "@jupyter-widgets/controls",
            "layout": "IPY_MODEL_3e5a5f73fa5c47188083e7783fd76770"
          }
        },
        "0e55159a8c274e3bac6fce25d187b20b": {
          "model_module": "@jupyter-widgets/controls",
          "model_name": "HTMLModel",
          "state": {
            "_view_name": "HTMLView",
            "style": "IPY_MODEL_c70175140ad5406f90c7d412765639fc",
            "_dom_classes": [],
            "description": "",
            "_model_name": "HTMLModel",
            "placeholder": "​",
            "_view_module": "@jupyter-widgets/controls",
            "_model_module_version": "1.5.0",
            "value": " 436M/436M [00:12&lt;00:00, 34.9MB/s]",
            "_view_count": null,
            "_view_module_version": "1.5.0",
            "description_tooltip": null,
            "_model_module": "@jupyter-widgets/controls",
            "layout": "IPY_MODEL_6964ec0655eb48a5a91e91f441bcda6d"
          }
        },
        "daf7e81203254a349cc00fa58d1c7375": {
          "model_module": "@jupyter-widgets/controls",
          "model_name": "ProgressStyleModel",
          "state": {
            "_view_name": "StyleView",
            "_model_name": "ProgressStyleModel",
            "description_width": "initial",
            "_view_module": "@jupyter-widgets/base",
            "_model_module_version": "1.5.0",
            "_view_count": null,
            "_view_module_version": "1.2.0",
            "bar_color": null,
            "_model_module": "@jupyter-widgets/controls"
          }
        },
        "3e5a5f73fa5c47188083e7783fd76770": {
          "model_module": "@jupyter-widgets/base",
          "model_name": "LayoutModel",
          "state": {
            "_view_name": "LayoutView",
            "grid_template_rows": null,
            "right": null,
            "justify_content": null,
            "_view_module": "@jupyter-widgets/base",
            "overflow": null,
            "_model_module_version": "1.2.0",
            "_view_count": null,
            "flex_flow": null,
            "width": null,
            "min_width": null,
            "border": null,
            "align_items": null,
            "bottom": null,
            "_model_module": "@jupyter-widgets/base",
            "top": null,
            "grid_column": null,
            "overflow_y": null,
            "overflow_x": null,
            "grid_auto_flow": null,
            "grid_area": null,
            "grid_template_columns": null,
            "flex": null,
            "_model_name": "LayoutModel",
            "justify_items": null,
            "grid_row": null,
            "max_height": null,
            "align_content": null,
            "visibility": null,
            "align_self": null,
            "height": null,
            "min_height": null,
            "padding": null,
            "grid_auto_rows": null,
            "grid_gap": null,
            "max_width": null,
            "order": null,
            "_view_module_version": "1.2.0",
            "grid_template_areas": null,
            "object_position": null,
            "object_fit": null,
            "grid_auto_columns": null,
            "margin": null,
            "display": null,
            "left": null
          }
        },
        "c70175140ad5406f90c7d412765639fc": {
          "model_module": "@jupyter-widgets/controls",
          "model_name": "DescriptionStyleModel",
          "state": {
            "_view_name": "StyleView",
            "_model_name": "DescriptionStyleModel",
            "description_width": "",
            "_view_module": "@jupyter-widgets/base",
            "_model_module_version": "1.5.0",
            "_view_count": null,
            "_view_module_version": "1.2.0",
            "_model_module": "@jupyter-widgets/controls"
          }
        },
        "6964ec0655eb48a5a91e91f441bcda6d": {
          "model_module": "@jupyter-widgets/base",
          "model_name": "LayoutModel",
          "state": {
            "_view_name": "LayoutView",
            "grid_template_rows": null,
            "right": null,
            "justify_content": null,
            "_view_module": "@jupyter-widgets/base",
            "overflow": null,
            "_model_module_version": "1.2.0",
            "_view_count": null,
            "flex_flow": null,
            "width": null,
            "min_width": null,
            "border": null,
            "align_items": null,
            "bottom": null,
            "_model_module": "@jupyter-widgets/base",
            "top": null,
            "grid_column": null,
            "overflow_y": null,
            "overflow_x": null,
            "grid_auto_flow": null,
            "grid_area": null,
            "grid_template_columns": null,
            "flex": null,
            "_model_name": "LayoutModel",
            "justify_items": null,
            "grid_row": null,
            "max_height": null,
            "align_content": null,
            "visibility": null,
            "align_self": null,
            "height": null,
            "min_height": null,
            "padding": null,
            "grid_auto_rows": null,
            "grid_gap": null,
            "max_width": null,
            "order": null,
            "_view_module_version": "1.2.0",
            "grid_template_areas": null,
            "object_position": null,
            "object_fit": null,
            "grid_auto_columns": null,
            "margin": null,
            "display": null,
            "left": null
          }
        },
        "4389c9ce6d2d422ab98249d2fe5f1deb": {
          "model_module": "@jupyter-widgets/controls",
          "model_name": "HBoxModel",
          "state": {
            "_view_name": "HBoxView",
            "_dom_classes": [],
            "_model_name": "HBoxModel",
            "_view_module": "@jupyter-widgets/controls",
            "_model_module_version": "1.5.0",
            "_view_count": null,
            "_view_module_version": "1.5.0",
            "box_style": "",
            "layout": "IPY_MODEL_7c0d3a1d40e1442fa59bd000a9002e12",
            "_model_module": "@jupyter-widgets/controls",
            "children": [
              "IPY_MODEL_3c280af799d94fceae1a4d94c0716316",
              "IPY_MODEL_0114bb9b3f1c4793b20310a328c46bc0"
            ]
          }
        },
        "7c0d3a1d40e1442fa59bd000a9002e12": {
          "model_module": "@jupyter-widgets/base",
          "model_name": "LayoutModel",
          "state": {
            "_view_name": "LayoutView",
            "grid_template_rows": null,
            "right": null,
            "justify_content": null,
            "_view_module": "@jupyter-widgets/base",
            "overflow": null,
            "_model_module_version": "1.2.0",
            "_view_count": null,
            "flex_flow": null,
            "width": null,
            "min_width": null,
            "border": null,
            "align_items": null,
            "bottom": null,
            "_model_module": "@jupyter-widgets/base",
            "top": null,
            "grid_column": null,
            "overflow_y": null,
            "overflow_x": null,
            "grid_auto_flow": null,
            "grid_area": null,
            "grid_template_columns": null,
            "flex": null,
            "_model_name": "LayoutModel",
            "justify_items": null,
            "grid_row": null,
            "max_height": null,
            "align_content": null,
            "visibility": null,
            "align_self": null,
            "height": null,
            "min_height": null,
            "padding": null,
            "grid_auto_rows": null,
            "grid_gap": null,
            "max_width": null,
            "order": null,
            "_view_module_version": "1.2.0",
            "grid_template_areas": null,
            "object_position": null,
            "object_fit": null,
            "grid_auto_columns": null,
            "margin": null,
            "display": null,
            "left": null
          }
        },
        "3c280af799d94fceae1a4d94c0716316": {
          "model_module": "@jupyter-widgets/controls",
          "model_name": "FloatProgressModel",
          "state": {
            "_view_name": "ProgressView",
            "style": "IPY_MODEL_8b0acbb0737c4e86811bb22adb6aa813",
            "_dom_classes": [],
            "description": "Downloading: 100%",
            "_model_name": "FloatProgressModel",
            "bar_style": "success",
            "max": 213450,
            "_view_module": "@jupyter-widgets/controls",
            "_model_module_version": "1.5.0",
            "value": 213450,
            "_view_count": null,
            "_view_module_version": "1.5.0",
            "orientation": "horizontal",
            "min": 0,
            "description_tooltip": null,
            "_model_module": "@jupyter-widgets/controls",
            "layout": "IPY_MODEL_23a839b05c47455a9aa3d39e4bbcda40"
          }
        },
        "0114bb9b3f1c4793b20310a328c46bc0": {
          "model_module": "@jupyter-widgets/controls",
          "model_name": "HTMLModel",
          "state": {
            "_view_name": "HTMLView",
            "style": "IPY_MODEL_67f3694984094ed39988272e095095fa",
            "_dom_classes": [],
            "description": "",
            "_model_name": "HTMLModel",
            "placeholder": "​",
            "_view_module": "@jupyter-widgets/controls",
            "_model_module_version": "1.5.0",
            "value": " 213k/213k [00:00&lt;00:00, 284kB/s]",
            "_view_count": null,
            "_view_module_version": "1.5.0",
            "description_tooltip": null,
            "_model_module": "@jupyter-widgets/controls",
            "layout": "IPY_MODEL_3eecd1585deb495b9b7ce0d3008e6a51"
          }
        },
        "8b0acbb0737c4e86811bb22adb6aa813": {
          "model_module": "@jupyter-widgets/controls",
          "model_name": "ProgressStyleModel",
          "state": {
            "_view_name": "StyleView",
            "_model_name": "ProgressStyleModel",
            "description_width": "initial",
            "_view_module": "@jupyter-widgets/base",
            "_model_module_version": "1.5.0",
            "_view_count": null,
            "_view_module_version": "1.2.0",
            "bar_color": null,
            "_model_module": "@jupyter-widgets/controls"
          }
        },
        "23a839b05c47455a9aa3d39e4bbcda40": {
          "model_module": "@jupyter-widgets/base",
          "model_name": "LayoutModel",
          "state": {
            "_view_name": "LayoutView",
            "grid_template_rows": null,
            "right": null,
            "justify_content": null,
            "_view_module": "@jupyter-widgets/base",
            "overflow": null,
            "_model_module_version": "1.2.0",
            "_view_count": null,
            "flex_flow": null,
            "width": null,
            "min_width": null,
            "border": null,
            "align_items": null,
            "bottom": null,
            "_model_module": "@jupyter-widgets/base",
            "top": null,
            "grid_column": null,
            "overflow_y": null,
            "overflow_x": null,
            "grid_auto_flow": null,
            "grid_area": null,
            "grid_template_columns": null,
            "flex": null,
            "_model_name": "LayoutModel",
            "justify_items": null,
            "grid_row": null,
            "max_height": null,
            "align_content": null,
            "visibility": null,
            "align_self": null,
            "height": null,
            "min_height": null,
            "padding": null,
            "grid_auto_rows": null,
            "grid_gap": null,
            "max_width": null,
            "order": null,
            "_view_module_version": "1.2.0",
            "grid_template_areas": null,
            "object_position": null,
            "object_fit": null,
            "grid_auto_columns": null,
            "margin": null,
            "display": null,
            "left": null
          }
        },
        "67f3694984094ed39988272e095095fa": {
          "model_module": "@jupyter-widgets/controls",
          "model_name": "DescriptionStyleModel",
          "state": {
            "_view_name": "StyleView",
            "_model_name": "DescriptionStyleModel",
            "description_width": "",
            "_view_module": "@jupyter-widgets/base",
            "_model_module_version": "1.5.0",
            "_view_count": null,
            "_view_module_version": "1.2.0",
            "_model_module": "@jupyter-widgets/controls"
          }
        },
        "3eecd1585deb495b9b7ce0d3008e6a51": {
          "model_module": "@jupyter-widgets/base",
          "model_name": "LayoutModel",
          "state": {
            "_view_name": "LayoutView",
            "grid_template_rows": null,
            "right": null,
            "justify_content": null,
            "_view_module": "@jupyter-widgets/base",
            "overflow": null,
            "_model_module_version": "1.2.0",
            "_view_count": null,
            "flex_flow": null,
            "width": null,
            "min_width": null,
            "border": null,
            "align_items": null,
            "bottom": null,
            "_model_module": "@jupyter-widgets/base",
            "top": null,
            "grid_column": null,
            "overflow_y": null,
            "overflow_x": null,
            "grid_auto_flow": null,
            "grid_area": null,
            "grid_template_columns": null,
            "flex": null,
            "_model_name": "LayoutModel",
            "justify_items": null,
            "grid_row": null,
            "max_height": null,
            "align_content": null,
            "visibility": null,
            "align_self": null,
            "height": null,
            "min_height": null,
            "padding": null,
            "grid_auto_rows": null,
            "grid_gap": null,
            "max_width": null,
            "order": null,
            "_view_module_version": "1.2.0",
            "grid_template_areas": null,
            "object_position": null,
            "object_fit": null,
            "grid_auto_columns": null,
            "margin": null,
            "display": null,
            "left": null
          }
        }
      }
    },
    "accelerator": "GPU"
  },
  "cells": [
    {
      "cell_type": "markdown",
      "metadata": {
        "id": "sJsBpETWrSlk"
      },
      "source": [
        "# Setup"
      ]
    },
    {
      "cell_type": "code",
      "metadata": {
        "colab": {
          "base_uri": "https://localhost:8080/"
        },
        "id": "Y5DJt9KGoSf5",
        "outputId": "145464b0-a757-4249-ed11-7a014cb1d1e5"
      },
      "source": [
        "!git clone https://github.com/neuspell/neuspell\n",
        "%cd neuspell"
      ],
      "execution_count": 1,
      "outputs": [
        {
          "output_type": "stream",
          "text": [
            "Cloning into 'neuspell'...\n",
            "remote: Enumerating objects: 653, done.\u001b[K\n",
            "remote: Counting objects: 100% (456/456), done.\u001b[K\n",
            "remote: Compressing objects: 100% (287/287), done.\u001b[K\n",
            "remote: Total 653 (delta 280), reused 303 (delta 151), pack-reused 197\u001b[K\n",
            "Receiving objects: 100% (653/653), 74.43 MiB | 22.85 MiB/s, done.\n",
            "Resolving deltas: 100% (306/306), done.\n",
            "/content/neuspell\n"
          ],
          "name": "stdout"
        }
      ]
    },
    {
      "cell_type": "code",
      "metadata": {
        "colab": {
          "base_uri": "https://localhost:8080/"
        },
        "id": "fiymHeLeoZfU",
        "outputId": "fa8d4f57-8e8e-4d00-dcc6-56c3a2b4c274"
      },
      "source": [
        "!pip install -e ."
      ],
      "execution_count": 2,
      "outputs": [
        {
          "output_type": "stream",
          "text": [
            "Obtaining file:///content/neuspell\n",
            "Collecting transformers\n",
            "\u001b[?25l  Downloading https://files.pythonhosted.org/packages/d8/b2/57495b5309f09fa501866e225c84532d1fd89536ea62406b2181933fb418/transformers-4.5.1-py3-none-any.whl (2.1MB)\n",
            "\u001b[K     |████████████████████████████████| 2.1MB 5.8MB/s \n",
            "\u001b[?25hRequirement already satisfied: tqdm in /usr/local/lib/python3.7/dist-packages (from neuspell==1.0.0) (4.41.1)\n",
            "Requirement already satisfied: torch>=1.6.0 in /usr/local/lib/python3.7/dist-packages (from neuspell==1.0.0) (1.8.1+cu101)\n",
            "Requirement already satisfied: numpy in /usr/local/lib/python3.7/dist-packages (from neuspell==1.0.0) (1.19.5)\n",
            "Collecting jsonlines\n",
            "  Downloading https://files.pythonhosted.org/packages/d4/58/06f430ff7607a2929f80f07bfd820acbc508a4e977542fefcc522cde9dff/jsonlines-2.0.0-py3-none-any.whl\n",
            "Collecting sentencepiece\n",
            "\u001b[?25l  Downloading https://files.pythonhosted.org/packages/f5/99/e0808cb947ba10f575839c43e8fafc9cc44e4a7a2c8f79c60db48220a577/sentencepiece-0.1.95-cp37-cp37m-manylinux2014_x86_64.whl (1.2MB)\n",
            "\u001b[K     |████████████████████████████████| 1.2MB 17.7MB/s \n",
            "\u001b[?25hCollecting pytorch_pretrained_bert\n",
            "\u001b[?25l  Downloading https://files.pythonhosted.org/packages/d7/e0/c08d5553b89973d9a240605b9c12404bcf8227590de62bae27acbcfe076b/pytorch_pretrained_bert-0.6.2-py3-none-any.whl (123kB)\n",
            "\u001b[K     |████████████████████████████████| 133kB 44.8MB/s \n",
            "\u001b[?25hCollecting sacremoses\n",
            "\u001b[?25l  Downloading https://files.pythonhosted.org/packages/75/ee/67241dc87f266093c533a2d4d3d69438e57d7a90abb216fa076e7d475d4a/sacremoses-0.0.45-py3-none-any.whl (895kB)\n",
            "\u001b[K     |████████████████████████████████| 901kB 52.2MB/s \n",
            "\u001b[?25hRequirement already satisfied: regex!=2019.12.17 in /usr/local/lib/python3.7/dist-packages (from transformers->neuspell==1.0.0) (2019.12.20)\n",
            "Requirement already satisfied: filelock in /usr/local/lib/python3.7/dist-packages (from transformers->neuspell==1.0.0) (3.0.12)\n",
            "Requirement already satisfied: packaging in /usr/local/lib/python3.7/dist-packages (from transformers->neuspell==1.0.0) (20.9)\n",
            "Collecting tokenizers<0.11,>=0.10.1\n",
            "\u001b[?25l  Downloading https://files.pythonhosted.org/packages/ae/04/5b870f26a858552025a62f1649c20d29d2672c02ff3c3fb4c688ca46467a/tokenizers-0.10.2-cp37-cp37m-manylinux2010_x86_64.whl (3.3MB)\n",
            "\u001b[K     |████████████████████████████████| 3.3MB 72.2MB/s \n",
            "\u001b[?25hRequirement already satisfied: requests in /usr/local/lib/python3.7/dist-packages (from transformers->neuspell==1.0.0) (2.23.0)\n",
            "Requirement already satisfied: importlib-metadata; python_version < \"3.8\" in /usr/local/lib/python3.7/dist-packages (from transformers->neuspell==1.0.0) (3.10.1)\n",
            "Requirement already satisfied: typing-extensions in /usr/local/lib/python3.7/dist-packages (from torch>=1.6.0->neuspell==1.0.0) (3.7.4.3)\n",
            "Collecting boto3\n",
            "\u001b[?25l  Downloading https://files.pythonhosted.org/packages/d2/8f/42959300c543b4d34bc9f9b54954471a33384c181084ed84f070763d7f37/boto3-1.17.62-py2.py3-none-any.whl (131kB)\n",
            "\u001b[K     |████████████████████████████████| 133kB 58.5MB/s \n",
            "\u001b[?25hRequirement already satisfied: joblib in /usr/local/lib/python3.7/dist-packages (from sacremoses->transformers->neuspell==1.0.0) (1.0.1)\n",
            "Requirement already satisfied: six in /usr/local/lib/python3.7/dist-packages (from sacremoses->transformers->neuspell==1.0.0) (1.15.0)\n",
            "Requirement already satisfied: click in /usr/local/lib/python3.7/dist-packages (from sacremoses->transformers->neuspell==1.0.0) (7.1.2)\n",
            "Requirement already satisfied: pyparsing>=2.0.2 in /usr/local/lib/python3.7/dist-packages (from packaging->transformers->neuspell==1.0.0) (2.4.7)\n",
            "Requirement already satisfied: chardet<4,>=3.0.2 in /usr/local/lib/python3.7/dist-packages (from requests->transformers->neuspell==1.0.0) (3.0.4)\n",
            "Requirement already satisfied: certifi>=2017.4.17 in /usr/local/lib/python3.7/dist-packages (from requests->transformers->neuspell==1.0.0) (2020.12.5)\n",
            "Requirement already satisfied: idna<3,>=2.5 in /usr/local/lib/python3.7/dist-packages (from requests->transformers->neuspell==1.0.0) (2.10)\n",
            "Requirement already satisfied: urllib3!=1.25.0,!=1.25.1,<1.26,>=1.21.1 in /usr/local/lib/python3.7/dist-packages (from requests->transformers->neuspell==1.0.0) (1.24.3)\n",
            "Requirement already satisfied: zipp>=0.5 in /usr/local/lib/python3.7/dist-packages (from importlib-metadata; python_version < \"3.8\"->transformers->neuspell==1.0.0) (3.4.1)\n",
            "Collecting jmespath<1.0.0,>=0.7.1\n",
            "  Downloading https://files.pythonhosted.org/packages/07/cb/5f001272b6faeb23c1c9e0acc04d48eaaf5c862c17709d20e3469c6e0139/jmespath-0.10.0-py2.py3-none-any.whl\n",
            "Collecting s3transfer<0.5.0,>=0.4.0\n",
            "\u001b[?25l  Downloading https://files.pythonhosted.org/packages/63/d0/693477c688348654ddc21dcdce0817653a294aa43f41771084c25e7ff9c7/s3transfer-0.4.2-py2.py3-none-any.whl (79kB)\n",
            "\u001b[K     |████████████████████████████████| 81kB 12.6MB/s \n",
            "\u001b[?25hCollecting botocore<1.21.0,>=1.20.62\n",
            "\u001b[?25l  Downloading https://files.pythonhosted.org/packages/bd/60/ba830f93176fdc23166043298173ee2aecd5cf150f1ede51d6506f021deb/botocore-1.20.62-py2.py3-none-any.whl (7.5MB)\n",
            "\u001b[K     |████████████████████████████████| 7.5MB 56.1MB/s \n",
            "\u001b[?25hRequirement already satisfied: python-dateutil<3.0.0,>=2.1 in /usr/local/lib/python3.7/dist-packages (from botocore<1.21.0,>=1.20.62->boto3->pytorch_pretrained_bert->neuspell==1.0.0) (2.8.1)\n",
            "\u001b[31mERROR: botocore 1.20.62 has requirement urllib3<1.27,>=1.25.4, but you'll have urllib3 1.24.3 which is incompatible.\u001b[0m\n",
            "Installing collected packages: sacremoses, tokenizers, transformers, jsonlines, sentencepiece, jmespath, botocore, s3transfer, boto3, pytorch-pretrained-bert, neuspell\n",
            "  Running setup.py develop for neuspell\n",
            "Successfully installed boto3-1.17.62 botocore-1.20.62 jmespath-0.10.0 jsonlines-2.0.0 neuspell pytorch-pretrained-bert-0.6.2 s3transfer-0.4.2 sacremoses-0.0.45 sentencepiece-0.1.95 tokenizers-0.10.2 transformers-4.5.1\n"
          ],
          "name": "stdout"
        }
      ]
    },
    {
      "cell_type": "code",
      "metadata": {
        "colab": {
          "base_uri": "https://localhost:8080/"
        },
        "id": "8LolSwfmocil",
        "outputId": "29057550-b623-4f28-89ca-8d6ae2c20850"
      },
      "source": [
        "!pip install urllib3==1.25.4"
      ],
      "execution_count": 3,
      "outputs": [
        {
          "output_type": "stream",
          "text": [
            "Collecting urllib3==1.25.4\n",
            "\u001b[?25l  Downloading https://files.pythonhosted.org/packages/91/0d/7777358f672a14b7ae0dfcd29f949f409f913e0578190d6bfa68eb55864b/urllib3-1.25.4-py2.py3-none-any.whl (125kB)\n",
            "\r\u001b[K     |██▋                             | 10kB 24.9MB/s eta 0:00:01\r\u001b[K     |█████▏                          | 20kB 9.5MB/s eta 0:00:01\r\u001b[K     |███████▉                        | 30kB 8.0MB/s eta 0:00:01\r\u001b[K     |██████████▍                     | 40kB 7.4MB/s eta 0:00:01\r\u001b[K     |█████████████                   | 51kB 4.3MB/s eta 0:00:01\r\u001b[K     |███████████████▋                | 61kB 4.9MB/s eta 0:00:01\r\u001b[K     |██████████████████▎             | 71kB 5.0MB/s eta 0:00:01\r\u001b[K     |████████████████████▉           | 81kB 5.4MB/s eta 0:00:01\r\u001b[K     |███████████████████████▌        | 92kB 5.2MB/s eta 0:00:01\r\u001b[K     |██████████████████████████      | 102kB 4.3MB/s eta 0:00:01\r\u001b[K     |████████████████████████████▊   | 112kB 4.3MB/s eta 0:00:01\r\u001b[K     |███████████████████████████████▎| 122kB 4.3MB/s eta 0:00:01\r\u001b[K     |████████████████████████████████| 133kB 4.3MB/s \n",
            "\u001b[31mERROR: datascience 0.10.6 has requirement folium==0.2.1, but you'll have folium 0.8.3 which is incompatible.\u001b[0m\n",
            "\u001b[?25hInstalling collected packages: urllib3\n",
            "  Found existing installation: urllib3 1.24.3\n",
            "    Uninstalling urllib3-1.24.3:\n",
            "      Successfully uninstalled urllib3-1.24.3\n",
            "Successfully installed urllib3-1.25.4\n"
          ],
          "name": "stdout"
        }
      ]
    },
    {
      "cell_type": "code",
      "metadata": {
        "colab": {
          "base_uri": "https://localhost:8080/"
        },
        "id": "0owUYWg2pKTQ",
        "outputId": "48c11881-d02a-4baa-fba9-daeee57015f0"
      },
      "source": [
        "!pip install folium==0.2.1"
      ],
      "execution_count": 4,
      "outputs": [
        {
          "output_type": "stream",
          "text": [
            "Collecting folium==0.2.1\n",
            "\u001b[?25l  Downloading https://files.pythonhosted.org/packages/72/dd/75ced7437bfa7cb9a88b96ee0177953062803c3b4cde411a97d98c35adaf/folium-0.2.1.tar.gz (69kB)\n",
            "\r\u001b[K     |████▊                           | 10kB 28.3MB/s eta 0:00:01\r\u001b[K     |█████████▍                      | 20kB 10.5MB/s eta 0:00:01\r\u001b[K     |██████████████                  | 30kB 8.4MB/s eta 0:00:01\r\u001b[K     |██████████████████▊             | 40kB 7.5MB/s eta 0:00:01\r\u001b[K     |███████████████████████▍        | 51kB 4.3MB/s eta 0:00:01\r\u001b[K     |████████████████████████████    | 61kB 4.9MB/s eta 0:00:01\r\u001b[K     |████████████████████████████████| 71kB 3.9MB/s \n",
            "\u001b[?25hRequirement already satisfied: Jinja2 in /usr/local/lib/python3.7/dist-packages (from folium==0.2.1) (2.11.3)\n",
            "Requirement already satisfied: MarkupSafe>=0.23 in /usr/local/lib/python3.7/dist-packages (from Jinja2->folium==0.2.1) (1.1.1)\n",
            "Building wheels for collected packages: folium\n",
            "  Building wheel for folium (setup.py) ... \u001b[?25l\u001b[?25hdone\n",
            "  Created wheel for folium: filename=folium-0.2.1-cp37-none-any.whl size=79979 sha256=61ebcacd5da9e9b607b24a7d93b35fbaa54549cf35396e0d7ebbf08d7a1f0266\n",
            "  Stored in directory: /root/.cache/pip/wheels/b8/09/f0/52d2ef419c2aaf4fb149f92a33e0008bdce7ae816f0dd8f0c5\n",
            "Successfully built folium\n",
            "Installing collected packages: folium\n",
            "  Found existing installation: folium 0.8.3\n",
            "    Uninstalling folium-0.8.3:\n",
            "      Successfully uninstalled folium-0.8.3\n",
            "Successfully installed folium-0.2.1\n"
          ],
          "name": "stdout"
        }
      ]
    },
    {
      "cell_type": "code",
      "metadata": {
        "colab": {
          "base_uri": "https://localhost:8080/"
        },
        "id": "nBqDR09Konge",
        "outputId": "91355011-4a46-497d-b7c6-524c982b6f6d"
      },
      "source": [
        "!pip install -r extras-requirements.txt"
      ],
      "execution_count": 5,
      "outputs": [
        {
          "output_type": "stream",
          "text": [
            "Obtaining file:///content/neuspell (from -r extras-requirements.txt (line 1))\n",
            "Obtaining file:///content/neuspell (from -r extras-requirements.txt (line 2))\n",
            "Requirement already satisfied: transformers in /usr/local/lib/python3.7/dist-packages (from neuspell==1.0.0->-r extras-requirements.txt (line 1)) (4.5.1)\n",
            "Requirement already satisfied: tqdm in /usr/local/lib/python3.7/dist-packages (from neuspell==1.0.0->-r extras-requirements.txt (line 1)) (4.41.1)\n",
            "Requirement already satisfied: torch>=1.6.0 in /usr/local/lib/python3.7/dist-packages (from neuspell==1.0.0->-r extras-requirements.txt (line 1)) (1.8.1+cu101)\n",
            "Requirement already satisfied: numpy in /usr/local/lib/python3.7/dist-packages (from neuspell==1.0.0->-r extras-requirements.txt (line 1)) (1.19.5)\n",
            "Requirement already satisfied: jsonlines in /usr/local/lib/python3.7/dist-packages (from neuspell==1.0.0->-r extras-requirements.txt (line 1)) (2.0.0)\n",
            "Requirement already satisfied: sentencepiece in /usr/local/lib/python3.7/dist-packages (from neuspell==1.0.0->-r extras-requirements.txt (line 1)) (0.1.95)\n",
            "Requirement already satisfied: pytorch_pretrained_bert in /usr/local/lib/python3.7/dist-packages (from neuspell==1.0.0->-r extras-requirements.txt (line 1)) (0.6.2)\n",
            "Requirement already satisfied: spacy in /usr/local/lib/python3.7/dist-packages (from neuspell==1.0.0->-r extras-requirements.txt (line 1)) (2.2.4)\n",
            "Collecting allennlp==1.5.0\n",
            "\u001b[?25l  Downloading https://files.pythonhosted.org/packages/31/56/1d3c00a8cec0d5d672c7a29980e0a468ea6287dc6e7ffd235cc6012c784d/allennlp-1.5.0-py3-none-any.whl (517kB)\n",
            "\u001b[K     |████████████████████████████████| 522kB 5.4MB/s \n",
            "\u001b[?25hRequirement already satisfied: tokenizers<0.11,>=0.10.1 in /usr/local/lib/python3.7/dist-packages (from transformers->neuspell==1.0.0->-r extras-requirements.txt (line 1)) (0.10.2)\n",
            "Requirement already satisfied: sacremoses in /usr/local/lib/python3.7/dist-packages (from transformers->neuspell==1.0.0->-r extras-requirements.txt (line 1)) (0.0.45)\n",
            "Requirement already satisfied: requests in /usr/local/lib/python3.7/dist-packages (from transformers->neuspell==1.0.0->-r extras-requirements.txt (line 1)) (2.23.0)\n",
            "Requirement already satisfied: importlib-metadata; python_version < \"3.8\" in /usr/local/lib/python3.7/dist-packages (from transformers->neuspell==1.0.0->-r extras-requirements.txt (line 1)) (3.10.1)\n",
            "Requirement already satisfied: regex!=2019.12.17 in /usr/local/lib/python3.7/dist-packages (from transformers->neuspell==1.0.0->-r extras-requirements.txt (line 1)) (2019.12.20)\n",
            "Requirement already satisfied: filelock in /usr/local/lib/python3.7/dist-packages (from transformers->neuspell==1.0.0->-r extras-requirements.txt (line 1)) (3.0.12)\n",
            "Requirement already satisfied: packaging in /usr/local/lib/python3.7/dist-packages (from transformers->neuspell==1.0.0->-r extras-requirements.txt (line 1)) (20.9)\n",
            "Requirement already satisfied: typing-extensions in /usr/local/lib/python3.7/dist-packages (from torch>=1.6.0->neuspell==1.0.0->-r extras-requirements.txt (line 1)) (3.7.4.3)\n",
            "Requirement already satisfied: boto3 in /usr/local/lib/python3.7/dist-packages (from pytorch_pretrained_bert->neuspell==1.0.0->-r extras-requirements.txt (line 1)) (1.17.62)\n",
            "Requirement already satisfied: murmurhash<1.1.0,>=0.28.0 in /usr/local/lib/python3.7/dist-packages (from spacy->neuspell==1.0.0->-r extras-requirements.txt (line 1)) (1.0.5)\n",
            "Requirement already satisfied: cymem<2.1.0,>=2.0.2 in /usr/local/lib/python3.7/dist-packages (from spacy->neuspell==1.0.0->-r extras-requirements.txt (line 1)) (2.0.5)\n",
            "Requirement already satisfied: srsly<1.1.0,>=1.0.2 in /usr/local/lib/python3.7/dist-packages (from spacy->neuspell==1.0.0->-r extras-requirements.txt (line 1)) (1.0.5)\n",
            "Requirement already satisfied: blis<0.5.0,>=0.4.0 in /usr/local/lib/python3.7/dist-packages (from spacy->neuspell==1.0.0->-r extras-requirements.txt (line 1)) (0.4.1)\n",
            "Requirement already satisfied: catalogue<1.1.0,>=0.0.7 in /usr/local/lib/python3.7/dist-packages (from spacy->neuspell==1.0.0->-r extras-requirements.txt (line 1)) (1.0.0)\n",
            "Requirement already satisfied: preshed<3.1.0,>=3.0.2 in /usr/local/lib/python3.7/dist-packages (from spacy->neuspell==1.0.0->-r extras-requirements.txt (line 1)) (3.0.5)\n",
            "Requirement already satisfied: plac<1.2.0,>=0.9.6 in /usr/local/lib/python3.7/dist-packages (from spacy->neuspell==1.0.0->-r extras-requirements.txt (line 1)) (1.1.3)\n",
            "Requirement already satisfied: thinc==7.4.0 in /usr/local/lib/python3.7/dist-packages (from spacy->neuspell==1.0.0->-r extras-requirements.txt (line 1)) (7.4.0)\n",
            "Requirement already satisfied: wasabi<1.1.0,>=0.4.0 in /usr/local/lib/python3.7/dist-packages (from spacy->neuspell==1.0.0->-r extras-requirements.txt (line 1)) (0.8.2)\n",
            "Requirement already satisfied: setuptools in /usr/local/lib/python3.7/dist-packages (from spacy->neuspell==1.0.0->-r extras-requirements.txt (line 1)) (56.0.0)\n",
            "Collecting tensorboardX>=1.2\n",
            "\u001b[?25l  Downloading https://files.pythonhosted.org/packages/07/84/46421bd3e0e89a92682b1a38b40efc22dafb6d8e3d947e4ceefd4a5fabc7/tensorboardX-2.2-py2.py3-none-any.whl (120kB)\n",
            "\u001b[K     |████████████████████████████████| 122kB 17.2MB/s \n",
            "\u001b[?25hRequirement already satisfied: pytest in /usr/local/lib/python3.7/dist-packages (from allennlp==1.5.0->neuspell==1.0.0->-r extras-requirements.txt (line 2)) (3.6.4)\n",
            "Collecting jsonpickle\n",
            "  Downloading https://files.pythonhosted.org/packages/bb/1a/f2db026d4d682303793559f1c2bb425ba3ec0d6fd7ac63397790443f2461/jsonpickle-2.0.0-py2.py3-none-any.whl\n",
            "Collecting jsonnet>=0.10.0; sys_platform != \"win32\"\n",
            "\u001b[?25l  Downloading https://files.pythonhosted.org/packages/42/40/6f16e5ac994b16fa71c24310f97174ce07d3a97b433275589265c6b94d2b/jsonnet-0.17.0.tar.gz (259kB)\n",
            "\u001b[K     |████████████████████████████████| 266kB 15.8MB/s \n",
            "\u001b[?25hRequirement already satisfied: nltk in /usr/local/lib/python3.7/dist-packages (from allennlp==1.5.0->neuspell==1.0.0->-r extras-requirements.txt (line 2)) (3.2.5)\n",
            "Requirement already satisfied: h5py in /usr/local/lib/python3.7/dist-packages (from allennlp==1.5.0->neuspell==1.0.0->-r extras-requirements.txt (line 2)) (2.10.0)\n",
            "Requirement already satisfied: scikit-learn in /usr/local/lib/python3.7/dist-packages (from allennlp==1.5.0->neuspell==1.0.0->-r extras-requirements.txt (line 2)) (0.22.2.post1)\n",
            "Requirement already satisfied: scipy in /usr/local/lib/python3.7/dist-packages (from allennlp==1.5.0->neuspell==1.0.0->-r extras-requirements.txt (line 2)) (1.4.1)\n",
            "Collecting overrides==3.1.0\n",
            "  Downloading https://files.pythonhosted.org/packages/ff/b1/10f69c00947518e6676bbd43e739733048de64b8dd998e9c2d5a71f44c5d/overrides-3.1.0.tar.gz\n",
            "Requirement already satisfied: six in /usr/local/lib/python3.7/dist-packages (from sacremoses->transformers->neuspell==1.0.0->-r extras-requirements.txt (line 1)) (1.15.0)\n",
            "Requirement already satisfied: joblib in /usr/local/lib/python3.7/dist-packages (from sacremoses->transformers->neuspell==1.0.0->-r extras-requirements.txt (line 1)) (1.0.1)\n",
            "Requirement already satisfied: click in /usr/local/lib/python3.7/dist-packages (from sacremoses->transformers->neuspell==1.0.0->-r extras-requirements.txt (line 1)) (7.1.2)\n",
            "Requirement already satisfied: idna<3,>=2.5 in /usr/local/lib/python3.7/dist-packages (from requests->transformers->neuspell==1.0.0->-r extras-requirements.txt (line 1)) (2.10)\n",
            "Requirement already satisfied: certifi>=2017.4.17 in /usr/local/lib/python3.7/dist-packages (from requests->transformers->neuspell==1.0.0->-r extras-requirements.txt (line 1)) (2020.12.5)\n",
            "Requirement already satisfied: chardet<4,>=3.0.2 in /usr/local/lib/python3.7/dist-packages (from requests->transformers->neuspell==1.0.0->-r extras-requirements.txt (line 1)) (3.0.4)\n",
            "Requirement already satisfied: urllib3!=1.25.0,!=1.25.1,<1.26,>=1.21.1 in /usr/local/lib/python3.7/dist-packages (from requests->transformers->neuspell==1.0.0->-r extras-requirements.txt (line 1)) (1.25.4)\n",
            "Requirement already satisfied: zipp>=0.5 in /usr/local/lib/python3.7/dist-packages (from importlib-metadata; python_version < \"3.8\"->transformers->neuspell==1.0.0->-r extras-requirements.txt (line 1)) (3.4.1)\n",
            "Requirement already satisfied: pyparsing>=2.0.2 in /usr/local/lib/python3.7/dist-packages (from packaging->transformers->neuspell==1.0.0->-r extras-requirements.txt (line 1)) (2.4.7)\n",
            "Requirement already satisfied: botocore<1.21.0,>=1.20.62 in /usr/local/lib/python3.7/dist-packages (from boto3->pytorch_pretrained_bert->neuspell==1.0.0->-r extras-requirements.txt (line 1)) (1.20.62)\n",
            "Requirement already satisfied: jmespath<1.0.0,>=0.7.1 in /usr/local/lib/python3.7/dist-packages (from boto3->pytorch_pretrained_bert->neuspell==1.0.0->-r extras-requirements.txt (line 1)) (0.10.0)\n",
            "Requirement already satisfied: s3transfer<0.5.0,>=0.4.0 in /usr/local/lib/python3.7/dist-packages (from boto3->pytorch_pretrained_bert->neuspell==1.0.0->-r extras-requirements.txt (line 1)) (0.4.2)\n",
            "Requirement already satisfied: protobuf>=3.8.0 in /usr/local/lib/python3.7/dist-packages (from tensorboardX>=1.2->allennlp==1.5.0->neuspell==1.0.0->-r extras-requirements.txt (line 2)) (3.12.4)\n",
            "Requirement already satisfied: atomicwrites>=1.0 in /usr/local/lib/python3.7/dist-packages (from pytest->allennlp==1.5.0->neuspell==1.0.0->-r extras-requirements.txt (line 2)) (1.4.0)\n",
            "Requirement already satisfied: py>=1.5.0 in /usr/local/lib/python3.7/dist-packages (from pytest->allennlp==1.5.0->neuspell==1.0.0->-r extras-requirements.txt (line 2)) (1.10.0)\n",
            "Requirement already satisfied: more-itertools>=4.0.0 in /usr/local/lib/python3.7/dist-packages (from pytest->allennlp==1.5.0->neuspell==1.0.0->-r extras-requirements.txt (line 2)) (8.7.0)\n",
            "Requirement already satisfied: attrs>=17.4.0 in /usr/local/lib/python3.7/dist-packages (from pytest->allennlp==1.5.0->neuspell==1.0.0->-r extras-requirements.txt (line 2)) (20.3.0)\n",
            "Requirement already satisfied: pluggy<0.8,>=0.5 in /usr/local/lib/python3.7/dist-packages (from pytest->allennlp==1.5.0->neuspell==1.0.0->-r extras-requirements.txt (line 2)) (0.7.1)\n",
            "Requirement already satisfied: python-dateutil<3.0.0,>=2.1 in /usr/local/lib/python3.7/dist-packages (from botocore<1.21.0,>=1.20.62->boto3->pytorch_pretrained_bert->neuspell==1.0.0->-r extras-requirements.txt (line 1)) (2.8.1)\n",
            "Building wheels for collected packages: jsonnet, overrides\n",
            "  Building wheel for jsonnet (setup.py) ... \u001b[?25l\u001b[?25hdone\n",
            "  Created wheel for jsonnet: filename=jsonnet-0.17.0-cp37-cp37m-linux_x86_64.whl size=3388776 sha256=6246b71555ce5588f1ddb12f5da905bb8252a371b145be90896a37fea7609933\n",
            "  Stored in directory: /root/.cache/pip/wheels/26/7a/37/7dbcc30a6b4efd17b91ad1f0128b7bbf84813bd4e1cfb8c1e3\n",
            "  Building wheel for overrides (setup.py) ... \u001b[?25l\u001b[?25hdone\n",
            "  Created wheel for overrides: filename=overrides-3.1.0-cp37-none-any.whl size=10174 sha256=91b7ba0f9ae6e88c534fa34aaaad07d22f43aa70d8b76fddf3b876eae567ed44\n",
            "  Stored in directory: /root/.cache/pip/wheels/5c/24/13/6ef8600e6f147c95e595f1289a86a3cc82ed65df57582c65a9\n",
            "Successfully built jsonnet overrides\n",
            "\u001b[31mERROR: allennlp 1.5.0 has requirement torch<1.8.0,>=1.6.0, but you'll have torch 1.8.1+cu101 which is incompatible.\u001b[0m\n",
            "\u001b[31mERROR: allennlp 1.5.0 has requirement transformers<4.3,>=4.1, but you'll have transformers 4.5.1 which is incompatible.\u001b[0m\n",
            "Installing collected packages: tensorboardX, jsonpickle, jsonnet, overrides, allennlp, neuspell\n",
            "  Found existing installation: neuspell 1.0.0\n",
            "    Can't uninstall 'neuspell'. No files were found to uninstall.\n",
            "  Running setup.py develop for neuspell\n",
            "Successfully installed allennlp-1.5.0 jsonnet-0.17.0 jsonpickle-2.0.0 neuspell overrides-3.1.0 tensorboardX-2.2\n"
          ],
          "name": "stdout"
        }
      ]
    },
    {
      "cell_type": "code",
      "metadata": {
        "colab": {
          "base_uri": "https://localhost:8080/"
        },
        "id": "KFTbuKdqos-z",
        "outputId": "4ba512e0-c0fd-4a63-dce1-5c68fd0a8a28"
      },
      "source": [
        "!pip install torch==1.6.0"
      ],
      "execution_count": 6,
      "outputs": [
        {
          "output_type": "stream",
          "text": [
            "Collecting torch==1.6.0\n",
            "\u001b[?25l  Downloading https://files.pythonhosted.org/packages/5d/5e/35140615fc1f925023f489e71086a9ecc188053d263d3594237281284d82/torch-1.6.0-cp37-cp37m-manylinux1_x86_64.whl (748.8MB)\n",
            "\u001b[K     |████████████████████████████████| 748.8MB 22kB/s \n",
            "\u001b[?25hRequirement already satisfied: future in /usr/local/lib/python3.7/dist-packages (from torch==1.6.0) (0.16.0)\n",
            "Requirement already satisfied: numpy in /usr/local/lib/python3.7/dist-packages (from torch==1.6.0) (1.19.5)\n",
            "\u001b[31mERROR: torchvision 0.9.1+cu101 has requirement torch==1.8.1, but you'll have torch 1.6.0 which is incompatible.\u001b[0m\n",
            "\u001b[31mERROR: torchtext 0.9.1 has requirement torch==1.8.1, but you'll have torch 1.6.0 which is incompatible.\u001b[0m\n",
            "\u001b[31mERROR: allennlp 1.5.0 has requirement transformers<4.3,>=4.1, but you'll have transformers 4.5.1 which is incompatible.\u001b[0m\n",
            "Installing collected packages: torch\n",
            "  Found existing installation: torch 1.8.1+cu101\n",
            "    Uninstalling torch-1.8.1+cu101:\n",
            "      Successfully uninstalled torch-1.8.1+cu101\n",
            "Successfully installed torch-1.6.0\n"
          ],
          "name": "stdout"
        }
      ]
    },
    {
      "cell_type": "code",
      "metadata": {
        "colab": {
          "base_uri": "https://localhost:8080/"
        },
        "id": "se7YcT-Tphfd",
        "outputId": "c3397305-388f-47bf-e782-1d32e944ca38"
      },
      "source": [
        "!pip install transformers==4.1"
      ],
      "execution_count": 7,
      "outputs": [
        {
          "output_type": "stream",
          "text": [
            "Collecting transformers==4.1\n",
            "\u001b[?25l  Downloading https://files.pythonhosted.org/packages/58/40/b1b8b0cad8eb37a7f9362a6c3930445bdf9dd745cdf6cbfce682fed4aef0/transformers-4.1.0-py3-none-any.whl (1.5MB)\n",
            "\u001b[K     |████████████████████████████████| 1.5MB 4.2MB/s \n",
            "\u001b[?25hRequirement already satisfied: filelock in /usr/local/lib/python3.7/dist-packages (from transformers==4.1) (3.0.12)\n",
            "Requirement already satisfied: requests in /usr/local/lib/python3.7/dist-packages (from transformers==4.1) (2.23.0)\n",
            "Requirement already satisfied: packaging in /usr/local/lib/python3.7/dist-packages (from transformers==4.1) (20.9)\n",
            "Requirement already satisfied: tqdm>=4.27 in /usr/local/lib/python3.7/dist-packages (from transformers==4.1) (4.41.1)\n",
            "Requirement already satisfied: sacremoses in /usr/local/lib/python3.7/dist-packages (from transformers==4.1) (0.0.45)\n",
            "Requirement already satisfied: numpy in /usr/local/lib/python3.7/dist-packages (from transformers==4.1) (1.19.5)\n",
            "Collecting tokenizers==0.9.4\n",
            "\u001b[?25l  Downloading https://files.pythonhosted.org/packages/fb/36/59e4a62254c5fcb43894c6b0e9403ec6f4238cc2422a003ed2e6279a1784/tokenizers-0.9.4-cp37-cp37m-manylinux2010_x86_64.whl (2.9MB)\n",
            "\u001b[K     |████████████████████████████████| 2.9MB 24.8MB/s \n",
            "\u001b[?25hRequirement already satisfied: regex!=2019.12.17 in /usr/local/lib/python3.7/dist-packages (from transformers==4.1) (2019.12.20)\n",
            "Requirement already satisfied: certifi>=2017.4.17 in /usr/local/lib/python3.7/dist-packages (from requests->transformers==4.1) (2020.12.5)\n",
            "Requirement already satisfied: chardet<4,>=3.0.2 in /usr/local/lib/python3.7/dist-packages (from requests->transformers==4.1) (3.0.4)\n",
            "Requirement already satisfied: idna<3,>=2.5 in /usr/local/lib/python3.7/dist-packages (from requests->transformers==4.1) (2.10)\n",
            "Requirement already satisfied: urllib3!=1.25.0,!=1.25.1,<1.26,>=1.21.1 in /usr/local/lib/python3.7/dist-packages (from requests->transformers==4.1) (1.25.4)\n",
            "Requirement already satisfied: pyparsing>=2.0.2 in /usr/local/lib/python3.7/dist-packages (from packaging->transformers==4.1) (2.4.7)\n",
            "Requirement already satisfied: click in /usr/local/lib/python3.7/dist-packages (from sacremoses->transformers==4.1) (7.1.2)\n",
            "Requirement already satisfied: joblib in /usr/local/lib/python3.7/dist-packages (from sacremoses->transformers==4.1) (1.0.1)\n",
            "Requirement already satisfied: six in /usr/local/lib/python3.7/dist-packages (from sacremoses->transformers==4.1) (1.15.0)\n",
            "Installing collected packages: tokenizers, transformers\n",
            "  Found existing installation: tokenizers 0.10.2\n",
            "    Uninstalling tokenizers-0.10.2:\n",
            "      Successfully uninstalled tokenizers-0.10.2\n",
            "  Found existing installation: transformers 4.5.1\n",
            "    Uninstalling transformers-4.5.1:\n",
            "      Successfully uninstalled transformers-4.5.1\n",
            "Successfully installed tokenizers-0.9.4 transformers-4.1.0\n"
          ],
          "name": "stdout"
        }
      ]
    },
    {
      "cell_type": "code",
      "metadata": {
        "colab": {
          "base_uri": "https://localhost:8080/"
        },
        "id": "x6XeME2AkwcR",
        "outputId": "686757eb-2122-4798-90a7-8011899d3af9"
      },
      "source": [
        "%cd data/traintest\n",
        "\n",
        "import requests\n",
        "import os\n",
        "\n",
        "def download_file_from_google_drive(id, destination):\n",
        "    URL = \"https://docs.google.com/uc?export=download\"\n",
        "\n",
        "    session = requests.Session()\n",
        "\n",
        "    response = session.get(URL, params = { 'id' : id }, stream = True)\n",
        "    token = get_confirm_token(response)\n",
        "\n",
        "    if token:\n",
        "        params = { 'id' : id, 'confirm' : token }\n",
        "        response = session.get(URL, params = params, stream = True)\n",
        "\n",
        "    save_response_content(response, destination)    \n",
        "\n",
        "def get_confirm_token(response):\n",
        "    for key, value in response.cookies.items():\n",
        "        if key.startswith('download_warning'):\n",
        "            return value\n",
        "\n",
        "    return None\n",
        "\n",
        "def save_response_content(response, destination):\n",
        "    CHUNK_SIZE = 32768\n",
        "\n",
        "    with open(destination, \"wb\") as f:\n",
        "        for chunk in response.iter_content(CHUNK_SIZE):\n",
        "            if chunk: # filter out keep-alive new chunks\n",
        "                f.write(chunk)\n",
        "\n",
        "def create_paths(path_: str):\n",
        "    if not os.path.exists(path_):\n",
        "        os.makedirs(path_)\n",
        "        print(f\"{path_} created\")\n",
        "    else:\n",
        "        print(f\"{path_} already exists\")\n",
        "\n",
        "\n",
        "download_file_from_google_drive('1ZlEQKf3HMMk66F7DGFPnh-PA2cbt5K0F', 'test.1blm')\n",
        "download_file_from_google_drive('1wZ6nrIYANNN3ZoHgacIg9P3UmHnBb9Wa', 'test.1blm.noise.prob')\n",
        "\n",
        "\n",
        "\n",
        "download_file_from_google_drive('10VtrEThrDIiuFJf0gj4LeGDdP-y-yR--', 'test.bea60k')\n",
        "download_file_from_google_drive('16AMIb6FVltgRR8xv8h7qacDUX8cOQK9d', 'test.bea60k.noise')\n",
        "\n",
        "download_file_from_google_drive('1jHR2f3JwnskDphQcaTXr0hLlp60qJxUl', 'test.jfleg')\n",
        "download_file_from_google_drive('1sccH7dRhyctKAIQXBZEBmUWEiTN_-o6q', 'test.jfleg.noise')\n",
        "\n",
        "\n",
        "\n",
        "%cd /content/neuspell"
      ],
      "execution_count": 8,
      "outputs": [
        {
          "output_type": "stream",
          "text": [
            "/content/neuspell/data/traintest\n",
            "/content/neuspell\n"
          ],
          "name": "stdout"
        }
      ]
    },
    {
      "cell_type": "code",
      "metadata": {
        "id": "xaaDd1X7DZll",
        "colab": {
          "base_uri": "https://localhost:8080/",
          "height": 0,
          "referenced_widgets": [
            "cb283eee2e4746099c09744c032e2b51",
            "c1d0be6ac22846ef901ad9a30ad7709f",
            "dcf3c02dc42046df9a8d2139b3db4f81",
            "35c60e707883426da058a84205bb23c9",
            "457187314ff34ebc904d028cf654a199",
            "ee93d49a193e4dc88052c7c555e85052",
            "740c1047cc914f8e9d6710ba91b1476c",
            "a585816da6e94b719074d0e9ec9a2a20",
            "ddefa251bf744a0ab30feded13692608",
            "a42a766b5b1d4894ab8337e654c21ea1",
            "d4b7cfbb4cef48cc8677090c0b292826",
            "7958bed0b02f47ce8ac908d4ba8e6c66",
            "3c6283d5a09646bdbbb940e8efd6d6a3",
            "49b332273b264baa84ab73bd43aec538",
            "62daf31d903e40599651c83d50e5d0b4",
            "70d9eb44c5564f1dbad2e51c8a93efe0",
            "0c2c1dfdd1394152abb5617da31ac5a5",
            "08e9c5d8943f4ce29ba8eb09587f6834",
            "09ffb5fe987348cd9b11ad020be60f20",
            "b79b8e831b4344288137a560fcdd8c00",
            "488b37aec9bd4a5a91f50f752100b647",
            "9655407b8e824fb183c0055d7ad711ca",
            "6f820a1396ea45fd80ac7fb57915b6e5",
            "156d9cac2a384af3aaa81ddc7b24731d",
            "088fd110146e4e9d85d4541c2bb07c80",
            "4c59824ba31948759291f47d66a79274",
            "4554e7aba88a45a7973b18b5b5620b8d",
            "e8e12f01fbfd4f88aef34b368c08967b",
            "bd1c71ee5aba49c1942ebf060cf7f787",
            "64472cdce8144ae08acdfd5d6596a2d7",
            "e78fe9e2c5464795bab508258890effe",
            "4cbcf755286a4f03a32257a43c4ed834"
          ]
        },
        "outputId": "6eb54283-7537-4c78-d080-2f76ba66cebd"
      },
      "source": [
        "import neuspell"
      ],
      "execution_count": 9,
      "outputs": [
        {
          "output_type": "stream",
          "text": [
            "data folder is set to `/content/neuspell/neuspell/../data` script\n"
          ],
          "name": "stdout"
        },
        {
          "output_type": "display_data",
          "data": {
            "application/vnd.jupyter.widget-view+json": {
              "model_id": "cb283eee2e4746099c09744c032e2b51",
              "version_minor": 0,
              "version_major": 2
            },
            "text/plain": [
              "HBox(children=(FloatProgress(value=0.0, description='Downloading', max=1042301.0, style=ProgressStyle(descript…"
            ]
          },
          "metadata": {
            "tags": []
          }
        },
        {
          "output_type": "stream",
          "text": [
            "\n"
          ],
          "name": "stdout"
        },
        {
          "output_type": "display_data",
          "data": {
            "application/vnd.jupyter.widget-view+json": {
              "model_id": "ddefa251bf744a0ab30feded13692608",
              "version_minor": 0,
              "version_major": 2
            },
            "text/plain": [
              "HBox(children=(FloatProgress(value=0.0, description='Downloading', max=456318.0, style=ProgressStyle(descripti…"
            ]
          },
          "metadata": {
            "tags": []
          }
        },
        {
          "output_type": "stream",
          "text": [
            "\n"
          ],
          "name": "stdout"
        },
        {
          "output_type": "display_data",
          "data": {
            "application/vnd.jupyter.widget-view+json": {
              "model_id": "0c2c1dfdd1394152abb5617da31ac5a5",
              "version_minor": 0,
              "version_major": 2
            },
            "text/plain": [
              "HBox(children=(FloatProgress(value=0.0, description='Downloading', max=718.0, style=ProgressStyle(description_…"
            ]
          },
          "metadata": {
            "tags": []
          }
        },
        {
          "output_type": "stream",
          "text": [
            "\n"
          ],
          "name": "stdout"
        },
        {
          "output_type": "display_data",
          "data": {
            "application/vnd.jupyter.widget-view+json": {
              "model_id": "088fd110146e4e9d85d4541c2bb07c80",
              "version_minor": 0,
              "version_major": 2
            },
            "text/plain": [
              "HBox(children=(FloatProgress(value=0.0, description='Downloading', max=1520013706.0, style=ProgressStyle(descr…"
            ]
          },
          "metadata": {
            "tags": []
          }
        },
        {
          "output_type": "stream",
          "text": [
            "\n"
          ],
          "name": "stdout"
        }
      ]
    },
    {
      "cell_type": "markdown",
      "metadata": {
        "id": "vUv2f0_UB7pz"
      },
      "source": [
        "# Train"
      ]
    },
    {
      "cell_type": "code",
      "metadata": {
        "colab": {
          "base_uri": "https://localhost:8080/"
        },
        "id": "yEwvFFaDEV1U",
        "outputId": "2331a124-311c-4484-bbd7-de93dc79b3a6"
      },
      "source": [
        "from google.colab import drive\n",
        "drive.mount('/content/drive')"
      ],
      "execution_count": 11,
      "outputs": [
        {
          "output_type": "stream",
          "text": [
            "Mounted at /content/drive\n"
          ],
          "name": "stdout"
        }
      ]
    },
    {
      "cell_type": "markdown",
      "metadata": {
        "id": "m5TIGxA0rX11"
      },
      "source": [
        "## Library"
      ]
    },
    {
      "cell_type": "code",
      "metadata": {
        "id": "9QdAX3mHqfyV",
        "colab": {
          "base_uri": "https://localhost:8080/"
        },
        "outputId": "ee972280-4dc0-4cdf-a8fe-cb9f596e0937"
      },
      "source": [
        "import torch\n",
        "from torch import nn\n",
        "from torch.nn.utils.rnn import pad_sequence\n",
        "from torch.nn.utils.rnn import pack_padded_sequence, pad_packed_sequence\n",
        "import torch.nn.functional as F\n",
        "import numpy as np\n",
        "\n",
        "import time\n",
        "\n",
        "from neuspell.seq_modeling.helpers import load_data, train_validation_split, batch_accuracy_func\n",
        "from neuspell.seq_modeling.helpers import get_tokens, progressBar\n",
        "from neuspell.seq_modeling.helpers import batch_iter, labelize, tokenize, char_tokenize,bert_tokenize_for_valid_examples\n",
        "\n",
        "from neuspell.seq_modeling.helpers import load_vocab_dict, save_vocab_dict\n",
        "\n",
        "import matplotlib.pyplot as plt\n",
        "\n",
        "%matplotlib inline\n",
        "%config InlineBackend.figure_format = 'retina'"
      ],
      "execution_count": 1,
      "outputs": [
        {
          "output_type": "stream",
          "text": [
            "data folder is set to `/content/neuspell/neuspell/../data` script\n"
          ],
          "name": "stdout"
        }
      ]
    },
    {
      "cell_type": "code",
      "metadata": {
        "cellView": "form",
        "id": "boQQSbZM3W6d"
      },
      "source": [
        "#@title helper function\n",
        "import transformers\n",
        "def get_pretrained_bert(pretrained_name_or_path=None):\n",
        "    pretrained_name_or_path = pretrained_name_or_path or DEFAULT_BERT_PRETRAINED_NAME_OR_PATH\n",
        "    return transformers.AutoModel.from_pretrained(pretrained_name_or_path)\n",
        "\n",
        "def get_model_nparams(model):\n",
        "    ntotal = 0\n",
        "    for param in list(model.parameters()):\n",
        "        temp = 1\n",
        "        for sz in list(param.size()): temp *= sz\n",
        "        ntotal += temp\n",
        "    return ntotal\n",
        "\n",
        "from tqdm import tqdm\n",
        "\n",
        "def untokenize_without_unks(batch_predictions, batch_lengths, vocab, batch_clean_sentences, backoff=\"pass-through\"):\n",
        "    assert backoff in [\"neutral\", \"pass-through\"], print(f\"selected backoff strategy not implemented: {backoff}\")\n",
        "    idx2token = vocab[\"idx2token\"]\n",
        "    unktoken = vocab[\"token2idx\"][vocab[\"unk_token\"]]\n",
        "    assert len(batch_predictions) == len(batch_lengths) == len(batch_clean_sentences)\n",
        "    batch_clean_sentences = [sent.split() for sent in batch_clean_sentences]\n",
        "    if backoff == \"pass-through\":\n",
        "        batch_predictions = \\\n",
        "            [\" \".join([idx2token[idx] if idx != unktoken else clean_[i] for i, idx in enumerate(pred_[:len_])]) \\\n",
        "             for pred_, len_, clean_ in zip(batch_predictions, batch_lengths, batch_clean_sentences)]\n",
        "    elif backoff == \"neutral\":\n",
        "        batch_predictions = \\\n",
        "            [\" \".join([idx2token[idx] if idx != unktoken else \"a\" for i, idx in enumerate(pred_[:len_])]) \\\n",
        "             for pred_, len_, clean_ in zip(batch_predictions, batch_lengths, batch_clean_sentences)]\n",
        "    return batch_predictions\n",
        "\n",
        "def __get_data(inp):\n",
        "    if isinstance(inp, list):\n",
        "        data = inp\n",
        "    elif isinstance(inp, str):\n",
        "        data = __load_data(inp)\n",
        "    else:\n",
        "        raise Exception(\"arg inp must be either clean_data or a path to fetch clean_data\")\n",
        "    return data\n",
        "\n",
        "def get_metrics(clean, corrupt, predictions, check_until_topk=1, return_mistakes=False, window=7,\n",
        "                return_selected_lines=False, selected_lines=None):\n",
        "    \"\"\"\n",
        "    clean: \n",
        "        a list of clean sentences, same number of sentences as batch size\n",
        "        a path to obtain the lines of clean sentences\n",
        "    corrupt: \n",
        "        a list of corrupt sentences, same number of sentences as batch size\n",
        "        a path to obtain the lines of clean sentences\n",
        "    predictions:\n",
        "        is a list of list of lists or\n",
        "        is a list[list[str]] or 2D numpy array (each of which are tokens from vocab)\n",
        "            first dimension being batch size\n",
        "            the second being for ntokens in that sentence \n",
        "            the third being for 1 or topk prediction(s) of words\n",
        "        is a list of sentences\n",
        "            first dimension being batch size\n",
        "            the second being for ntokens in that sentence\n",
        "    check_until_topk:\n",
        "        compute accuracy, etc. by checking topk words\n",
        "    \"\"\"\n",
        "\n",
        "    clean_data = __get_data(clean)\n",
        "    corrupt_data = __get_data(corrupt)\n",
        "    assert len(clean_data) == len(corrupt_data) == len(predictions)\n",
        "\n",
        "    if isinstance(predictions[0], str):\n",
        "        predictions = [line.split() for line in predictions]  # to list[list[str]]\n",
        "\n",
        "    is_correct_prediction = None\n",
        "    if isinstance(predictions[0][0], str):\n",
        "        is_correct_prediction = lambda clean_token, corrupt_token: clean_token == corrupt_token\n",
        "    elif isinstance(predictions[0][0], list):\n",
        "        is_correct_prediction = lambda clean_token, preds_list: clean_token in preds_list[:check_until_topk]\n",
        "    else:\n",
        "        raise Exception(\"invalid format for predictions\")\n",
        "\n",
        "    if return_mistakes:\n",
        "        mistakes = []\n",
        "        # mistakes.append( (\"clean_token\", \"corrupt_token\",\"prediction_tokens\",\"corrupt_context\") )\n",
        "\n",
        "    corr2corr, corr2incorr, incorr2corr, incorr2incorr = 0, 0, 0, 0\n",
        "    nlines = []\n",
        "    if selected_lines is not None:\n",
        "        assert isinstance(selected_lines, dict), print(f\"{type(selected_lines)} typefound when expecting type dict\")\n",
        "        print(f\"evaluating only for selected lines: {len(selected_lines)}/{len(clean_data)}\")\n",
        "    for i, (clean_line, corrupt_line, predictions_) in enumerate(zip(clean_data, corrupt_data, predictions)):\n",
        "        if selected_lines is not None:\n",
        "            if not i in selected_lines:\n",
        "                continue\n",
        "\n",
        "        clean_line_tokens, corrupt_line_tokens = clean_line.split(), corrupt_line.split()\n",
        "        assert len(clean_line_tokens) == len(corrupt_line_tokens)\n",
        "\n",
        "        # predictions_ can be of a list of shape (len(clean_line_tokens),topk) or a list of\n",
        "        #   (len(clean_line_tokens),) tokens\n",
        "        if return_selected_lines:\n",
        "            if len(clean_line_tokens) != len(predictions_):\n",
        "                continue\n",
        "        predictions_ = predictions_[:len(clean_line_tokens)]\n",
        "\n",
        "        nlines.append(i)\n",
        "        for i, (clean_token, corrupt_token, prediction_tokens) in enumerate(\n",
        "                zip(clean_line_tokens, corrupt_line_tokens, predictions_)):\n",
        "            if clean_token == corrupt_token and is_correct_prediction(clean_token, prediction_tokens):\n",
        "                corr2corr += 1\n",
        "            elif clean_token == corrupt_token and not is_correct_prediction(clean_token, prediction_tokens):\n",
        "                corr2incorr += 1\n",
        "            elif clean_token != corrupt_token and is_correct_prediction(clean_token, prediction_tokens):\n",
        "                incorr2corr += 1\n",
        "            elif clean_token != corrupt_token and not is_correct_prediction(clean_token, prediction_tokens):\n",
        "                incorr2incorr += 1\n",
        "                if return_mistakes: \\\n",
        "                        mistakes.append((clean_token,\n",
        "                                         corrupt_token,\n",
        "                                         prediction_tokens,\n",
        "                                         \" \".join(corrupt_line_tokens[\n",
        "                                                  max(i - window, 0):min(i + window + 1, len(corrupt_line_tokens))]))\n",
        "                                        )\n",
        "\n",
        "    if return_selected_lines:\n",
        "        print(f\"#lines evaluated: {len(nlines)}/{len(clean_data)}\")\n",
        "        if return_mistakes:\n",
        "            return corr2corr, corr2incorr, incorr2corr, incorr2incorr, mistakes, nlines\n",
        "        else:\n",
        "            return corr2corr, corr2incorr, incorr2corr, incorr2incorr, nlines\n",
        "    else:\n",
        "        if return_mistakes:\n",
        "            return corr2corr, corr2incorr, incorr2corr, incorr2incorr, mistakes\n",
        "        else:\n",
        "            return corr2corr, corr2incorr, incorr2corr, incorr2incorr"
      ],
      "execution_count": 2,
      "outputs": []
    },
    {
      "cell_type": "code",
      "metadata": {
        "id": "HN2uCvAB7ZAy"
      },
      "source": [
        "def model_inference(model, data, topk, device, batch_size=16, vocab_=None):\n",
        "\n",
        "    if vocab_ is not None:\n",
        "        vocab = vocab_\n",
        "    print(\"###############################################\")\n",
        "    inference_st_time = time.time()\n",
        "    _corr2corr, _corr2incorr, _incorr2corr, _incorr2incorr = 0, 0, 0, 0\n",
        "    _mistakes = []\n",
        "    VALID_batch_size = batch_size\n",
        "    valid_loss = 0.\n",
        "    valid_acc = 0.\n",
        "    print(\"data size: {}\".format(len(data)))\n",
        "\n",
        "    data_iter = batch_iter(data, batch_size=VALID_batch_size, shuffle=False)\n",
        "    model.eval()\n",
        "    model.to(device)\n",
        "    for batch_id, (batch_labels,batch_sentences) in tqdm(enumerate(data_iter)):\n",
        "\n",
        "        st_time = time.time()\n",
        "\n",
        "        # set batch data for bert\n",
        "        batch_labels_, batch_sentences_, batch_bert_inp, batch_bert_splits = bert_tokenize_for_valid_examples(batch_labels,batch_sentences)                \n",
        "        if len(batch_labels_)==0:\n",
        "            print(\"################\")\n",
        "            print(\"Not training the following lines due to pre-processing mismatch: \\n\")\n",
        "            print([(a,b) for a,b in zip(batch_labels,batch_sentences)])\n",
        "            print(\"################\")\n",
        "            continue\n",
        "        else:\n",
        "            batch_labels, batch_sentences = batch_labels_, batch_sentences_\n",
        "\n",
        "        batch_bert_inp = {k:v.to(device) for k,v in batch_bert_inp.items()}\n",
        "\n",
        "        batch_labels_ids, batch_lengths = labelize(batch_labels, vocab)\n",
        "        batch_idxs, _, batch_char_lengths = char_tokenize(batch_sentences, vocab, return_nchars=True)\n",
        "\n",
        "        #assert (batch_lengths_ == batch_lengths).all() == True\n",
        "        assert len(batch_bert_splits) == len(batch_idxs)\n",
        "        \n",
        "        # set batch data for others\n",
        "        batch_idxs = [batch_idxs_.to(device) for batch_idxs_ in batch_idxs]\n",
        "        batch_char_lengths = [batch_char_lengths_.to(device) for batch_char_lengths_ in batch_char_lengths]\n",
        "        batch_labels_ids = batch_labels_ids.to(device)\n",
        "    \n",
        "\n",
        "        # forward\n",
        "        model.eval()\n",
        "        with torch.no_grad():\n",
        "            batch_loss, batch_predictions = model(batch_idxs, batch_char_lengths, batch_lengths, batch_bert_inp, batch_bert_splits, targets=batch_labels_ids)\n",
        "       \n",
        "        valid_loss += batch_loss\n",
        "\n",
        "        # compute accuracy in numpy\n",
        "        batch_labels_ids = batch_labels_ids.cpu().detach().numpy()\n",
        "        batch_lengths = batch_lengths.cpu().detach().numpy()\n",
        "        # based on topk, obtain either strings of batch_predictions or list of tokens\n",
        "        if topk == 1:\n",
        "            batch_predictions = untokenize_without_unks(batch_predictions, batch_lengths, vocab, batch_sentences)\n",
        "        else:\n",
        "            batch_predictions = untokenize_without_unks2(batch_predictions, batch_lengths, vocab, batch_sentences,\n",
        "                                                         topk=None)\n",
        "        # corr2corr, corr2incorr, incorr2corr, incorr2incorr, mistakes = \\\n",
        "        #    get_metrics(batch_labels,batch_sentences,batch_predictions,check_until_topk=topk,return_mistakes=True)\n",
        "        # _mistakes.extend(mistakes)\n",
        "        # batch_labels = [line.lower() for line in batch_labels]\n",
        "        # batch_sentences = [line.lower() for line in batch_sentences]\n",
        "        # batch_predictions = [line.lower() for line in batch_predictions]\n",
        "\n",
        "        corr2corr, corr2incorr, incorr2corr, incorr2incorr = \\\n",
        "            get_metrics(batch_labels, batch_sentences, batch_predictions, check_until_topk=topk, return_mistakes=False)\n",
        "        _corr2corr += corr2corr\n",
        "        _corr2incorr += corr2incorr\n",
        "        _incorr2corr += incorr2corr\n",
        "        _incorr2incorr += incorr2incorr\n",
        "\n",
        "        # delete\n",
        "        del batch_loss\n",
        "        del batch_predictions\n",
        "        del batch_labels, batch_lengths, batch_idxs, batch_bert_inp\n",
        "        torch.cuda.empty_cache()\n",
        "\n",
        "        '''\n",
        "        # update progress\n",
        "        progressBar(batch_id+1,\n",
        "                    int(np.ceil(len(data) / VALID_batch_size)), \n",
        "                    [\"batch_time\",\"batch_loss\",\"avg_batch_loss\",\"batch_acc\",\"avg_batch_acc\"], \n",
        "                    [time.time()-st_time,batch_loss,valid_loss/(batch_id+1),None,None])\n",
        "        '''\n",
        "    print(f\"\\nEpoch {None} valid_loss: {valid_loss / (batch_id + 1)}\")\n",
        "    print(\"total inference time for this data is: {:4f} secs\".format(time.time() - inference_st_time))\n",
        "    print(\"###############################################\")\n",
        "    print(\"\")\n",
        "    # for mistake in _mistakes:\n",
        "    #    print(mistake)\n",
        "    print(\"\")\n",
        "    print(\"total token count: {}\".format(_corr2corr + _corr2incorr + _incorr2corr + _incorr2incorr))\n",
        "    print(\n",
        "        f\"_corr2corr:{_corr2corr}, _corr2incorr:{_corr2incorr}, _incorr2corr:{_incorr2corr}, _incorr2incorr:{_incorr2incorr}\")\n",
        "    print(f\"accuracy is {(_corr2corr + _incorr2corr) / (_corr2corr + _corr2incorr + _incorr2corr + _incorr2incorr)}\")\n",
        "    print(f\"word correction rate is {(_incorr2corr) / (_incorr2corr + _incorr2incorr)}\")\n",
        "    print(\"###############################################\")\n",
        "    return\n"
      ],
      "execution_count": 3,
      "outputs": []
    },
    {
      "cell_type": "code",
      "metadata": {
        "id": "T7xQPqr_sVyK"
      },
      "source": [
        "class CharLSTMModel(nn.Module):\n",
        "    def __init__(self, nembs, embdim, padding_idx, hidden_size, num_layers, bidirectional, output_combination):\n",
        "        super(CharLSTMModel, self).__init__()\n",
        "\n",
        "        # Embeddings\n",
        "        self.embeddings = nn.Embedding(nembs, embdim, padding_idx=padding_idx)\n",
        "        # torch.nn.init.normal_(self.embeddings.weight.data, std=1.0)\n",
        "        self.embeddings.weight.requires_grad = True\n",
        "\n",
        "        # lstm module\n",
        "        # expected input dim: [BS,max_nwords,*] and batch_lengths as [BS] for pack_padded_sequence\n",
        "        self.lstmmodule = nn.LSTM(embdim, hidden_size, num_layers, batch_first=True, dropout=0.3,\n",
        "                                  bidirectional=bidirectional)\n",
        "        self.lstmmodule_outdim = hidden_size * 2 if bidirectional else hidden_size\n",
        "\n",
        "        # output\n",
        "        assert output_combination in [\"end\", \"max\", \"mean\"], print(\n",
        "            'invalid output_combination; required one of {\"end\",\"max\",\"mean\"}')\n",
        "        self.output_combination = output_combination\n",
        "\n",
        "    def forward(self, batch_tensor, batch_lengths):\n",
        "\n",
        "        batch_size = len(batch_tensor)\n",
        "        # print(\"************ stage 2\")\n",
        "\n",
        "        # [BS, max_seq_len]->[BS, max_seq_len, emb_dim]\n",
        "        embs = self.embeddings(batch_tensor)\n",
        "\n",
        "        # lstm\n",
        "        # dim: [BS,max_nwords,*]->[BS,max_nwords,self.lstmmodule_outdim]\n",
        "        embs_packed = pack_padded_sequence(embs, batch_lengths, batch_first=True, enforce_sorted=False)\n",
        "        lstm_encodings, (last_hidden_states, last_cell_states) = self.lstmmodule(embs_packed)\n",
        "        lstm_encodings, _ = pad_packed_sequence(lstm_encodings, batch_first=True, padding_value=0)\n",
        "\n",
        "        # [BS, max_seq_len, self.lstmmodule_outdim]->[BS, self.lstmmodule_outdim]\n",
        "        if self.output_combination == \"end\":\n",
        "            last_seq_idxs = torch.LongTensor([x - 1 for x in batch_lengths])\n",
        "            source_encodings = lstm_encodings[range(lstm_encodings.shape[0]), last_seq_idxs, :]\n",
        "        elif self.output_combination == \"max\":\n",
        "            source_encodings, _ = torch.max(lstm_encodings, dim=1)\n",
        "        elif self.output_combination == \"mean\":\n",
        "            sum_ = torch.sum(lstm_encodings, dim=1)\n",
        "            lens_ = batch_lengths.unsqueeze(dim=1).expand(batch_size, self.lstmmodule_outdim)\n",
        "            assert sum_.size() == lens_.size()\n",
        "            source_encodings = torch.div(sum_, lens_)\n",
        "        else:\n",
        "            raise NotImplementedError\n",
        "\n",
        "        return source_encodings"
      ],
      "execution_count": 4,
      "outputs": []
    },
    {
      "cell_type": "markdown",
      "metadata": {
        "id": "3L4XXGedzKEJ"
      },
      "source": [
        "## Define model"
      ]
    },
    {
      "cell_type": "code",
      "metadata": {
        "id": "lfFaiObXzS9f"
      },
      "source": [
        "class BERTLSTM(nn.Module):\n",
        "    # init时抄抄lstmlstm\n",
        "    def __init__(self, nchars, char_emb_dim, char_padding_idx, padding_idx, output_dim, early_concat=False,\n",
        "                 bert_pretrained_name_or_path=None, freeze_bert=False):\n",
        "        super(BERTLSTM, self).__init__()\n",
        "\n",
        "        self.bert_dropout = torch.nn.Dropout(0.2)\n",
        "        self.bert_model = get_pretrained_bert(bert_pretrained_name_or_path)\n",
        "        self.bertmodule_outdim = self.bert_model.config.hidden_size\n",
        "        self.early_concat = early_concat  # if True, (bert+sc)->lstm->linear, else ((sc->lstm)+bert)->linear\n",
        "        if freeze_bert:\n",
        "            # Uncomment to freeze BERT layers\n",
        "            for param in self.bert_model.parameters():\n",
        "                param.requires_grad = False\n",
        "\n",
        "\n",
        "        # charlstm\n",
        "        hidden_size, num_layers, bidirectional, output_combination = 256, 1, True, \"end\"\n",
        "        self.charlstmmodule = CharLSTMModel(nchars, char_emb_dim, char_padding_idx, hidden_size, num_layers,\n",
        "                                            bidirectional, output_combination)\n",
        "        self.charlstmmodule_outdim = self.charlstmmodule.lstmmodule_outdim\n",
        "\n",
        "        # lstm module\n",
        "        bidirectional, hidden_size, nlayers = True, 512, 2\n",
        "\n",
        "        if self.early_concat:\n",
        "            self.lstmmodule_indim = self.charlstmmodule_outdim + self.bertmodule_outdim\n",
        "\n",
        "            self.lstmmodule = nn.LSTM(self.lstmmodule_indim, hidden_size, nlayers,\n",
        "                                  batch_first=True, dropout=0.3, bidirectional=bidirectional)\n",
        "            self.lstmmodule_outdim = hidden_size * 2 if bidirectional else hidden_size\n",
        "\n",
        "            self.encodings_outdim = self.lstmmodule_outdim\n",
        "        else:\n",
        "            \n",
        "            self.lstmmodule_indim = self.charlstmmodule_outdim\n",
        "\n",
        "            self.lstmmodule = nn.LSTM(self.lstmmodule_indim, hidden_size, nlayers,\n",
        "                                  batch_first=True, dropout=0.3, bidirectional=bidirectional)\n",
        "            self.lstmmodule_outdim = hidden_size * 2 if bidirectional else hidden_size\n",
        "\n",
        "            self.encodings_outdim = self.lstmmodule_outdim + self.bertmodule_outdim\n",
        "\n",
        "\n",
        "        # output module\n",
        "        assert output_dim > 0\n",
        "        self.dropout = nn.Dropout(p=0.4)\n",
        "        self.dense = nn.Linear(self.encodings_outdim, output_dim)\n",
        "\n",
        "        # loss\n",
        "        # See https://pytorch.org/docs/stable/nn.html#crossentropyloss\n",
        "        self.criterion = nn.CrossEntropyLoss(reduction='mean', ignore_index=padding_idx)\n",
        "\n",
        "    @property\n",
        "    def device(self) -> torch.device:\n",
        "        return next(self.parameters()).device\n",
        "\n",
        "    def get_merged_encodings(self, bert_seq_encodings, seq_splits, mode='avg'):\n",
        "        bert_seq_encodings = bert_seq_encodings[:sum(seq_splits) + 2, :]  # 2 for [CLS] and [SEP]\n",
        "        bert_seq_encodings = bert_seq_encodings[1:-1, :]\n",
        "        # a tuple of tensors\n",
        "        split_encoding = torch.split(bert_seq_encodings, seq_splits, dim=0)\n",
        "        batched_encodings = pad_sequence(split_encoding, batch_first=True, padding_value=0)\n",
        "        if mode == 'avg':\n",
        "            seq_splits = torch.tensor(seq_splits).reshape(-1, 1).to(self.device)\n",
        "            out = torch.div(torch.sum(batched_encodings, dim=1), seq_splits)\n",
        "        elif mode == \"add\":\n",
        "            out = torch.sum(batched_encodings, dim=1)\n",
        "        else:\n",
        "            raise Exception(\"Not Implemented\")\n",
        "        return out\n",
        "\n",
        "    # forward这里，前几个也抄抄lstmlstm\n",
        "    def forward(self,\n",
        "                batch_idxs: \"list[pad_sequence]\",\n",
        "                batch_char_lengths: \"list[tensor]\",\n",
        "                batch_lengths: \"tensor\",\n",
        "                batch_bert_dict: \"{'input_ids':tensor, 'attention_mask':tensor, 'token_type_ids':tensor}\",\n",
        "                batch_splits: \"list[list[int]]\",\n",
        "                aux_word_embs: \"tensor\" = None,\n",
        "                targets: \"tensor\" = None,\n",
        "                topk=1):\n",
        "\n",
        "        if aux_word_embs is not None:\n",
        "            raise Exception(\"dimensions of aux_word_embs not used in __init__()\")\n",
        "\n",
        "        # bert\n",
        "        # BS X max_nsubwords x self.bertmodule_outdim\n",
        "        bert_encodings = self.bert_model(**batch_bert_dict, return_dict=False)[0]\n",
        "        bert_encodings = self.bert_dropout(bert_encodings)\n",
        "        # BS X max_nwords x self.bertmodule_outdim\n",
        "        bert_merged_encodings = pad_sequence(\n",
        "            [self.get_merged_encodings(bert_seq_encodings, seq_splits, mode='avg') \\\n",
        "             for bert_seq_encodings, seq_splits in zip(bert_encodings, batch_splits)],\n",
        "            batch_first=True,\n",
        "            padding_value=0\n",
        "        )\n",
        "\n",
        "\n",
        "        batch_size = len(batch_idxs)\n",
        "\n",
        "        # charlstm\n",
        "        charlstm_encodings = [self.charlstmmodule(pad_sequence_, lens) for pad_sequence_, lens in\n",
        "                              zip(batch_idxs, batch_char_lengths)]\n",
        "        charlstm_encodings = pad_sequence(charlstm_encodings, batch_first=True, padding_value=0)\n",
        "\n",
        "        if self.early_concat:\n",
        "\n",
        "            intermediate_encodings = torch.cat((charlstm_encodings, bert_merged_encodings), dim=2)\n",
        "            if aux_word_embs is not None:\n",
        "                intermediate_encodings = torch.cat((intermediate_encodings, aux_word_embs), dim=2)\n",
        "\n",
        "            # lstm\n",
        "            # dim: [BS,max_nwords,*]->[BS,max_nwords,self.lstmmodule_outdim]\n",
        "            intermediate_encodings = pack_padded_sequence(intermediate_encodings, batch_lengths,\n",
        "                                                          batch_first=True, enforce_sorted=False)\n",
        "            lstm_encodings, (last_hidden_states, last_cell_states) = self.lstmmodule(intermediate_encodings)\n",
        "            lstm_encodings, _ = pad_packed_sequence(lstm_encodings, batch_first=True, padding_value=0)\n",
        "\n",
        "            # out\n",
        "            final_encodings = lstm_encodings\n",
        "\n",
        "        else:\n",
        "\n",
        "            intermediate_encodings = charlstm_encodings\n",
        "\n",
        "            if aux_word_embs is not None:\n",
        "                intermediate_encodings = torch.cat((intermediate_encodings, aux_word_embs), dim=2)\n",
        "\n",
        "            # lstm\n",
        "            # dim: [BS,max_nwords,*]->[BS,max_nwords,self.lstmmodule_outdim]\n",
        "            intermediate_encodings = pack_padded_sequence(intermediate_encodings, batch_lengths,\n",
        "                                                          batch_first=True, enforce_sorted=False)\n",
        "            lstm_encodings, (last_hidden_states, last_cell_states) = self.lstmmodule(intermediate_encodings)\n",
        "            lstm_encodings, _ = pad_packed_sequence(lstm_encodings, batch_first=True, padding_value=0)\n",
        "\n",
        "            # out\n",
        "            final_encodings = torch.cat((lstm_encodings, bert_merged_encodings), dim=2)\n",
        "\n",
        "\n",
        "        # dense\n",
        "        # [BS,max_nwords,self.encodings_outdim]->[BS,max_nwords,output_dim]\n",
        "        logits = self.dense(self.dropout(final_encodings))\n",
        "\n",
        "        # loss\n",
        "        if targets is not None:\n",
        "            assert len(targets) == batch_size  # targets:[[BS,max_nwords]\n",
        "            logits_permuted = logits.permute(0, 2, 1)  # logits: [BS,output_dim,max_nwords]\n",
        "            loss = self.criterion(logits_permuted, targets)\n",
        "\n",
        "        # eval preds\n",
        "        if not self.training:\n",
        "            probs = F.softmax(logits, dim=-1)  # [BS,max_nwords,output_dim]\n",
        "            if topk > 1:\n",
        "                topk_values, topk_inds = \\\n",
        "                    torch.topk(probs, topk, dim=-1, largest=True,\n",
        "                               sorted=True)  # -> (Tensor, LongTensor) of [BS,max_nwords,topk]\n",
        "            elif topk == 1:\n",
        "                topk_inds = torch.argmax(probs, dim=-1)  # [BS,max_nwords]\n",
        "\n",
        "            # Note that for those positions with padded_idx,\n",
        "            #   the arg_max_prob above computes a index because \n",
        "            #   the bias term leads to non-uniform values in those positions\n",
        "\n",
        "            return loss.cpu().detach().numpy(), topk_inds.cpu().detach().numpy()\n",
        "        return loss"
      ],
      "execution_count": 5,
      "outputs": []
    },
    {
      "cell_type": "code",
      "metadata": {
        "id": "H2Dbkm7T075w"
      },
      "source": [
        "def load_bertlstm(vocab, early_concat = False, bert_pretrained_name_or_path=None, verbose=False):\n",
        "    CHAR_EMBS_DIM = 100\n",
        "    model = BERTLSTM(len(vocab[\"chartoken2idx\"]),\n",
        "                     CHAR_EMBS_DIM,\n",
        "                     vocab[\"chartoken2idx\"][vocab[\"char_pad_token\"]],\n",
        "                     vocab[\"token2idx\"][vocab[\"pad_token\"]],\n",
        "                     len(vocab[\"token_freq\"]),\n",
        "                     early_concat,\n",
        "                     bert_pretrained_name_or_path=bert_pretrained_name_or_path\n",
        "                     )\n",
        "        \n",
        "    if verbose:\n",
        "        print(model)\n",
        "    print(f\"Number of parameters in the model: {get_model_nparams(model)}\")\n",
        "\n",
        "    return model"
      ],
      "execution_count": 6,
      "outputs": []
    },
    {
      "cell_type": "markdown",
      "metadata": {
        "id": "KvC1jC11HUmN"
      },
      "source": [
        "## Load data"
      ]
    },
    {
      "cell_type": "code",
      "metadata": {
        "colab": {
          "base_uri": "https://localhost:8080/"
        },
        "id": "7rq_Oru8G7cm",
        "outputId": "d00930f5-ae47-446d-a626-9773ba6fdeef"
      },
      "source": [
        "train_data = load_data('/content/neuspell/data/traintest/','test.1blm','test.1blm.noise.prob')\n",
        "\n",
        "train_data, valid_data = train_validation_split(train_data, 0.90, seed=1)\n",
        "\n",
        "vocab_ref = {}\n",
        "\n",
        "vocab = get_tokens([i[0] for i in train_data],\n",
        "                           keep_simple=True,\n",
        "                           min_max_freq=(2,float(\"inf\")),\n",
        "                           topk=100000,\n",
        "                           intersect=vocab_ref,\n",
        "                           load_char_tokens=True)\n",
        "\n",
        "test_data_60k = load_data('/content/neuspell/data/traintest/','test.bea60k','test.bea60k.noise')\n",
        "test_data_jfleg = load_data('/content/neuspell/data/traintest/','test.jfleg','test.jfleg.noise')"
      ],
      "execution_count": 7,
      "outputs": [
        {
          "output_type": "stream",
          "text": [
            "273134it [00:00, 364868.68it/s]\n",
            "273134it [00:00, 1434736.58it/s]\n",
            "  0%|          | 0/245821 [00:00<?, ?it/s]"
          ],
          "name": "stderr"
        },
        {
          "output_type": "stream",
          "text": [
            "loaded tuples of (corr,incorr) examples from /content/neuspell/data/traintest/\n"
          ],
          "name": "stdout"
        },
        {
          "output_type": "stream",
          "text": [
            "100%|██████████| 245821/245821 [00:01<00:00, 167206.59it/s]\n"
          ],
          "name": "stderr"
        },
        {
          "output_type": "stream",
          "text": [
            "Total tokens found: 155272\n"
          ],
          "name": "stdout"
        },
        {
          "output_type": "stream",
          "text": [
            "\r  0%|          | 0/245821 [00:00<?, ?it/s]"
          ],
          "name": "stderr"
        },
        {
          "output_type": "stream",
          "text": [
            "Total tokens retained: 139243\n",
            "Total tokens retained: 67965\n",
            "Total tokens retained: 67965\n",
            "loading character tokens\n"
          ],
          "name": "stdout"
        },
        {
          "output_type": "stream",
          "text": [
            "100%|██████████| 245821/245821 [00:01<00:00, 203135.51it/s]\n",
            "0it [00:00, ?it/s]"
          ],
          "name": "stderr"
        },
        {
          "output_type": "stream",
          "text": [
            "number of unique chars found: 98\n",
            "{'<<CHAR_UNK>>': 0, '<<CHAR_PAD>>': 1, '<<CHAR_START>>': 2, '<<CHAR_END>>': 3, 'H': 4, 'e': 5, ' ': 6, 'w': 7, 'a': 8, 's': 9, 'b': 10, 'r': 11, 'i': 12, 'f': 13, 'l': 14, 'y': 15, 'h': 16, 'o': 17, 'p': 18, 't': 19, 'z': 20, 'd': 21, 'n': 22, 'c': 23, 'k': 24, 'j': 25, 'u': 26, '.': 27, 'A': 28, 'm': 29, 'B': 30, 'g': 31, 'G': 32, 'M': 33, '3': 34, 'v': 35, ',': 36, '7': 37, '6': 38, '2': 39, 'T': 40, 'D': 41, 'S': 42, 'E': 43, '1': 44, '-': 45, 'x': 46, '4': 47, '9': 48, '(': 49, 'U': 50, 'P': 51, 'I': 52, ')': 53, \"'\": 54, ';': 55, 'q': 56, '\"': 57, '?': 58, 'Y': 59, 'C': 60, 'O': 61, 'K': 62, 'L': 63, 'N': 64, 'R': 65, 'W': 66, '0': 67, '8': 68, 'J': 69, ':': 70, 'F': 71, '5': 72, '%': 73, 'V': 74, '/': 75, '$': 76, 'Z': 77, 'Q': 78, '!': 79, '[': 80, ']': 81, 'X': 82, '&': 83, '@': 84, '+': 85, '_': 86, '#': 87, '*': 88, '|': 89, '>': 90, '^': 91, '\\\\': 92, '=': 93, '<': 94, '~': 95, '{': 96, '}': 97}\n"
          ],
          "name": "stdout"
        },
        {
          "output_type": "stream",
          "text": [
            "63044it [00:00, 462835.35it/s]\n",
            "63044it [00:00, 1665663.22it/s]\n",
            "1601it [00:00, 360793.07it/s]\n",
            "1601it [00:00, 1172120.91it/s]"
          ],
          "name": "stderr"
        },
        {
          "output_type": "stream",
          "text": [
            "loaded tuples of (corr,incorr) examples from /content/neuspell/data/traintest/\n",
            "loaded tuples of (corr,incorr) examples from /content/neuspell/data/traintest/\n"
          ],
          "name": "stdout"
        },
        {
          "output_type": "stream",
          "text": [
            "\n"
          ],
          "name": "stderr"
        }
      ]
    },
    {
      "cell_type": "markdown",
      "metadata": {
        "id": "0SdgDf9UHWal"
      },
      "source": [
        "## Load model and optimizer"
      ]
    },
    {
      "cell_type": "markdown",
      "metadata": {
        "id": "1AjSznYr1dS9"
      },
      "source": [
        "pure BERT: Number of parameters in the model: 160577664"
      ]
    },
    {
      "cell_type": "code",
      "metadata": {
        "colab": {
          "base_uri": "https://localhost:8080/"
        },
        "id": "DQbDhja-EyRh",
        "outputId": "b950dd05-40ed-4d4a-b2b7-878adee7b667"
      },
      "source": [
        "##@title load pre train\n",
        "\n",
        "# load pretrained model\n",
        "\n",
        "model_name = '2lstm_bert_input_epoch_6.pt'\n",
        "\n",
        "model = load_bertlstm(vocab, True, \"bert-base-cased\")\n",
        "\n",
        "model.load_state_dict(torch.load('/content/drive/MyDrive/NLP/'+model_name))\n",
        "\n",
        "model = model.cuda()\n",
        "\n",
        "# load pretrained optimizer\n",
        "\n",
        "optimizer_name = '2lstm_bert_input_optimizer_epoch_6.pt'\n",
        "\n",
        "optimizer = torch.optim.Adam(model.parameters(), lr=1e-4)\n",
        "\n",
        "optimizer.load_state_dict(torch.load('/content/drive/MyDrive/NLP/'+optimizer_name))\n",
        "\n",
        "\n",
        "VALID_BATCH_SIZE = 32\n",
        "\n",
        "data_iter = batch_iter(train_data, batch_size=VALID_BATCH_SIZE, shuffle=False)\n",
        "\n",
        "TRAIN_BATCH_SIZE = 32\n",
        "\n",
        "DEVICE = 'cuda'"
      ],
      "execution_count": 8,
      "outputs": [
        {
          "output_type": "stream",
          "text": [
            "/usr/local/lib/python3.7/dist-packages/torch/nn/modules/rnn.py:60: UserWarning: dropout option adds dropout after all but last recurrent layer, so non-zero dropout expects num_layers greater than 1, but got dropout=0.3 and num_layers=1\n",
            "  \"num_layers={}\".format(dropout, num_layers))\n"
          ],
          "name": "stderr"
        },
        {
          "output_type": "stream",
          "text": [
            "Number of parameters in the model: 192368328\n"
          ],
          "name": "stdout"
        }
      ]
    },
    {
      "cell_type": "code",
      "metadata": {
        "colab": {
          "base_uri": "https://localhost:8080/",
          "height": 186,
          "referenced_widgets": [
            "3b043b1043d24c5c88cb5b12c6ef487d",
            "ad4c32e77cea4a018e8a45fb1bc2b5ff",
            "da90aa6ba0b3462ca185ad5f04d506b3",
            "d2f28c1e6c50473ba00ee0be73bec442",
            "c80458d8dfd4437bbda87d1a0e596d71",
            "5825047727104f7bbb444698cca7a68c",
            "3eaa0e4279e44666a50e3e15ac98274e",
            "ac42db9903be45b2b188e70f12f55839",
            "f965149d34dd41c19049a13187dcdc00",
            "3a58e556a7ec4afbaa230d5ed00dcc6e",
            "8e6a5f680c5e445bb72f420ba447ec94",
            "0e55159a8c274e3bac6fce25d187b20b",
            "daf7e81203254a349cc00fa58d1c7375",
            "3e5a5f73fa5c47188083e7783fd76770",
            "c70175140ad5406f90c7d412765639fc",
            "6964ec0655eb48a5a91e91f441bcda6d"
          ]
        },
        "id": "tmIg1EH9x8wo",
        "cellView": "form",
        "outputId": "3864dcaa-43bc-4289-c704-26e9ecbcceec"
      },
      "source": [
        "#@title train from scratch\n",
        "model = load_bertlstm(vocab, True, \"bert-base-cased\")\n",
        "\n",
        "# True: sc + bert -> lstm > linear\n",
        "# False : sc -> lstm, (sclstm + bert) -> linear\n",
        "\n",
        "model = model.cuda()\n",
        "\n",
        "VALID_BATCH_SIZE = 32\n",
        "\n",
        "data_iter = batch_iter(train_data, batch_size=VALID_BATCH_SIZE, shuffle=False)\n",
        "\n",
        "TRAIN_BATCH_SIZE = 32\n",
        "\n",
        "DEVICE = 'cuda'\n",
        "\n",
        "#DEVICE = 'cpu'\n",
        "\n",
        "optimizer = torch.optim.Adam(model.parameters(), lr=1e-4)"
      ],
      "execution_count": 19,
      "outputs": [
        {
          "output_type": "display_data",
          "data": {
            "application/vnd.jupyter.widget-view+json": {
              "model_id": "3b043b1043d24c5c88cb5b12c6ef487d",
              "version_minor": 0,
              "version_major": 2
            },
            "text/plain": [
              "HBox(children=(FloatProgress(value=0.0, description='Downloading', max=570.0, style=ProgressStyle(description_…"
            ]
          },
          "metadata": {
            "tags": []
          }
        },
        {
          "output_type": "stream",
          "text": [
            "\n"
          ],
          "name": "stdout"
        },
        {
          "output_type": "display_data",
          "data": {
            "application/vnd.jupyter.widget-view+json": {
              "model_id": "f965149d34dd41c19049a13187dcdc00",
              "version_minor": 0,
              "version_major": 2
            },
            "text/plain": [
              "HBox(children=(FloatProgress(value=0.0, description='Downloading', max=435779157.0, style=ProgressStyle(descri…"
            ]
          },
          "metadata": {
            "tags": []
          }
        },
        {
          "output_type": "stream",
          "text": [
            "\n"
          ],
          "name": "stdout"
        },
        {
          "output_type": "stream",
          "text": [
            "/usr/local/lib/python3.7/dist-packages/torch/nn/modules/rnn.py:60: UserWarning: dropout option adds dropout after all but last recurrent layer, so non-zero dropout expects num_layers greater than 1, but got dropout=0.3 and num_layers=1\n",
            "  \"num_layers={}\".format(dropout, num_layers))\n"
          ],
          "name": "stderr"
        },
        {
          "output_type": "stream",
          "text": [
            "Number of parameters in the model: 192368328\n"
          ],
          "name": "stdout"
        }
      ]
    },
    {
      "cell_type": "markdown",
      "metadata": {
        "id": "0cCTG_k_CVm7"
      },
      "source": [
        "## Set epoch"
      ]
    },
    {
      "cell_type": "code",
      "metadata": {
        "id": "7C07k93TCW9Q"
      },
      "source": [
        "START_EPOCH = 1\n",
        "N_EPOCHS = 6"
      ],
      "execution_count": 20,
      "outputs": []
    },
    {
      "cell_type": "markdown",
      "metadata": {
        "id": "DcE_X40QHXxb"
      },
      "source": [
        "## Training"
      ]
    },
    {
      "cell_type": "markdown",
      "metadata": {
        "id": "GOBFdGhbkOj3"
      },
      "source": [
        "bert和sclstm的输入放一块"
      ]
    },
    {
      "cell_type": "markdown",
      "metadata": {
        "id": "AXLjw2XoZCOs"
      },
      "source": [
        "epoch 13\n",
        "\n",
        "bea60k\n",
        "\n",
        "95.12 / 65.64\n",
        "\n",
        "jfleg\n",
        "\n",
        "97.17 / 74.78\n"
      ]
    },
    {
      "cell_type": "code",
      "metadata": {
        "colab": {
          "base_uri": "https://localhost:8080/",
          "height": 1000
        },
        "id": "deK6M6DVe2m7",
        "outputId": "62d9f11d-17f8-4e66-ffb8-bc37676625c1"
      },
      "source": [
        "MODEL_NAME = '2lstm_bert_input'\n",
        "\n",
        "total_train_loss = []\n",
        "total_val_loss = []\n",
        "\n",
        "START_EPOCH = 11\n",
        "N_EPOCHS = 13\n",
        "\n",
        "# train and eval\n",
        "for epoch_id in range(START_EPOCH,N_EPOCHS+1):\n",
        "\n",
        "    print(f\"------------------------- In epoch: {epoch_id} -------------------------\")\n",
        "\n",
        "    # train loss and backprop\n",
        "    train_loss = 0.\n",
        "    train_acc = 0.\n",
        "    train_acc_count = 0.\n",
        "    #print(\"train_data size: {}\".format(len(train_data)))\n",
        "    \n",
        "    train_data_iter = batch_iter(train_data, batch_size=TRAIN_BATCH_SIZE, shuffle=True)\n",
        "    nbatches = int(np.ceil(len(train_data)/TRAIN_BATCH_SIZE))\n",
        "\n",
        "\n",
        "    for batch_id, (batch_labels,batch_sentences) in enumerate(train_data_iter):\n",
        "      \n",
        "        optimizer.zero_grad()\n",
        "        st_time = time.time()\n",
        "\n",
        "        # set batch data for bert\n",
        "        batch_labels_, batch_sentences_, batch_bert_inp, batch_bert_splits = bert_tokenize_for_valid_examples(batch_labels,batch_sentences)                \n",
        "        if len(batch_labels_)==0:\n",
        "            print(\"################\")\n",
        "            print(\"Not training the following lines due to pre-processing mismatch: \\n\")\n",
        "            print([(a,b) for a,b in zip(batch_labels,batch_sentences)])\n",
        "            print(\"################\")\n",
        "            continue\n",
        "        else:\n",
        "            batch_labels, batch_sentences = batch_labels_, batch_sentences_\n",
        "\n",
        "        batch_bert_inp = {k:v.to(DEVICE) for k,v in batch_bert_inp.items()}\n",
        "\n",
        "        batch_idxs, _, batch_char_lengths = char_tokenize(batch_sentences, vocab, return_nchars=True)\n",
        "\n",
        "        \n",
        "        # set batch data for others\n",
        "        batch_idxs = [batch_idxs_.to(DEVICE) for batch_idxs_ in batch_idxs]\n",
        "        batch_char_lengths = [batch_char_lengths_.to(DEVICE) for batch_char_lengths_ in batch_char_lengths]\n",
        "\n",
        "\n",
        "        batch_labels, batch_lengths = labelize(batch_labels, vocab)\n",
        "        batch_lengths = batch_lengths.to(DEVICE)\n",
        "        batch_labels = batch_labels.to(DEVICE)\n",
        "\n",
        "        # forward\n",
        "        model.train()\n",
        "\n",
        "        loss = model(batch_idxs, batch_char_lengths, batch_lengths, batch_bert_inp, batch_bert_splits, targets=batch_labels)\n",
        "        \n",
        "        batch_loss = loss.cpu().detach().numpy()\n",
        "        train_loss += batch_loss\n",
        "\n",
        "        # backward\n",
        "        loss.backward()\n",
        "\n",
        "        optimizer.step()\n",
        "\n",
        "        # compute accuracy in numpy\n",
        "        if batch_id%10000==0:\n",
        "\n",
        "            train_acc_count += 1\n",
        "\n",
        "            model.eval()\n",
        "            with torch.no_grad():\n",
        "                _, batch_predictions = model(batch_idxs, batch_char_lengths, batch_lengths, batch_bert_inp, batch_bert_splits, targets=batch_labels)\n",
        "\n",
        "            model.train()\n",
        "\n",
        "            batch_labels = batch_labels.cpu().detach().numpy()\n",
        "            batch_lengths = batch_lengths.cpu().detach().numpy()\n",
        "            ncorr,ntotal = batch_accuracy_func(batch_predictions,batch_labels,batch_lengths)\n",
        "            batch_acc = ncorr/ntotal\n",
        "            train_acc += batch_acc     \n",
        "\n",
        "        # update progress\n",
        "        progressBar(batch_id+1,\n",
        "                    int(np.ceil(len(train_data) / TRAIN_BATCH_SIZE)), \n",
        "                    [\"batch_time\",\"batch_loss\",\"avg_batch_loss\",\"batch_acc\",\"avg_batch_acc\"],\n",
        "                    [time.time()-st_time,batch_loss,train_loss/(batch_id+1),batch_acc,train_acc/train_acc_count]) \n",
        "    \n",
        "    print(f\"\\nEpoch {epoch_id} train_loss: {train_loss/(batch_id+1)}\")\n",
        "\n",
        "    mean_batch_loss = train_loss / nbatches\n",
        "    total_train_loss.append(mean_batch_loss)\n",
        "\n",
        "\n",
        "    # save model and optimizer every epoch\n",
        "    model_name = MODEL_NAME + \"_epoch_\" + str(epoch_id) + '.pt'\n",
        "    torch.save(model.state_dict(), \n",
        "            '/content/drive/MyDrive/NLP/'+model_name)\n",
        "    \n",
        "    # save optimizer\n",
        "    optimizer_name = MODEL_NAME + \"_optimizer_epoch_\" + str(epoch_id) + '.pt'\n",
        "    torch.save(optimizer.state_dict(), \n",
        "        '/content/drive/MyDrive/NLP/'+optimizer_name)\n",
        "\n",
        "    # valid loss\n",
        "    valid_loss = 0.\n",
        "    valid_acc = 0.\n",
        "    #print(\"valid_data size: {}\".format(len(valid_data)))\n",
        "\n",
        "    valid_data_iter = batch_iter(valid_data, batch_size=VALID_BATCH_SIZE, shuffle=False)\n",
        "    val_nbatches = int(np.ceil(len(valid_data)/VALID_BATCH_SIZE))\n",
        "\n",
        "    for batch_id, (batch_labels,batch_sentences) in enumerate(valid_data_iter):\n",
        "\n",
        "        st_time = time.time()\n",
        "        # set batch data for bert\n",
        "        # batch_labels_, batch_sentences_, batch_bert_inp, batch_bert_splits = bert_tokenize_for_valid_examples(batch_labels,batch_sentences)\n",
        "\n",
        "        # set batch data for bert\n",
        "        batch_labels_, batch_sentences_, batch_bert_inp, batch_bert_splits = bert_tokenize_for_valid_examples(batch_labels,batch_sentences)                \n",
        "        if len(batch_labels_)==0:\n",
        "            print(\"################\")\n",
        "            print(\"Not training the following lines due to pre-processing mismatch: \\n\")\n",
        "            print([(a,b) for a,b in zip(batch_labels,batch_sentences)])\n",
        "            print(\"################\")\n",
        "            continue\n",
        "        else:\n",
        "            batch_labels, batch_sentences = batch_labels_, batch_sentences_\n",
        "\n",
        "        batch_bert_inp = {k:v.to(DEVICE) for k,v in batch_bert_inp.items()}\n",
        "\n",
        "        batch_idxs, _, batch_char_lengths = char_tokenize(batch_sentences, vocab, return_nchars=True)\n",
        "\n",
        "        \n",
        "        # set batch data for others\n",
        "        batch_idxs = [batch_idxs_.to(DEVICE) for batch_idxs_ in batch_idxs]\n",
        "        batch_char_lengths = [batch_char_lengths_.to(DEVICE) for batch_char_lengths_ in batch_char_lengths]\n",
        "\n",
        "        # set batch data for others\n",
        "        batch_labels, batch_lengths = labelize(batch_labels, vocab)\n",
        "        batch_lengths = batch_lengths.to(DEVICE)\n",
        "        batch_labels = batch_labels.to(DEVICE)\n",
        "\n",
        "        # forward\n",
        "        model.eval()\n",
        "        with torch.no_grad():\n",
        "            batch_loss, batch_predictions = model(batch_idxs, batch_char_lengths, batch_lengths, batch_bert_inp, batch_bert_splits, targets=batch_labels)\n",
        "        model.train()        \n",
        "        valid_loss += batch_loss\n",
        "        # compute accuracy in numpy\n",
        "        batch_labels = batch_labels.cpu().detach().numpy()\n",
        "        batch_lengths = batch_lengths.cpu().detach().numpy()\n",
        "        ncorr,ntotal = batch_accuracy_func(batch_predictions,batch_labels,batch_lengths)\n",
        "        batch_acc = ncorr/ntotal\n",
        "        valid_acc += batch_acc\n",
        "        # update progress\n",
        "        progressBar(batch_id+1,\n",
        "                    int(np.ceil(len(valid_data) / VALID_BATCH_SIZE)), \n",
        "                    [\"batch_time\",\"batch_loss\",\"avg_batch_loss\",\"batch_acc\",\"avg_batch_acc\"], \n",
        "                    [time.time()-st_time,batch_loss,valid_loss/(batch_id+1),batch_acc,valid_acc/(batch_id+1)])\n",
        "\n",
        "    print(f\"\\nEpoch {epoch_id} valid_loss: {valid_loss/(batch_id+1)}\")\n",
        "\n",
        "    mean_val_loss = valid_loss / val_nbatches\n",
        "    total_val_loss.append(mean_val_loss)\n",
        "    \n",
        "    if epoch_id >= 2:\n",
        "        plt.figure(epoch_id)\n",
        "        plt.plot(total_train_loss, label='train')\n",
        "        plt.plot(total_val_loss, label='validation')\n",
        "        plt.legend(fontsize=15)\n",
        "        plt.show()\n",
        "    \n",
        "    print(\"||||||||||||||||||||||||| BEA60K |||||||||||||||||||||||||\")\n",
        "    \n",
        "    predicted_result = model_inference(model, test_data_60k, 1, DEVICE, 16, vocab)\n",
        "\n",
        "    print(\"||||||||||||||||||||||||| JFLEG |||||||||||||||||||||||||\")\n",
        "\n",
        "    predicted_result = model_inference(model, test_data_jfleg, 1, DEVICE, 16, vocab)\n",
        "  "
      ],
      "execution_count": 10,
      "outputs": [
        {
          "output_type": "stream",
          "text": [
            "------------------------- In epoch: 11 -------------------------\n",
            "Percent: [----------------------------->] 100% || batch_time: 0.5543 || batch_loss: 0.0976 || avg_batch_loss: 0.0747 || batch_acc: 0.9987 || avg_batch_acc: 0.9987 \n",
            "Epoch 11 train_loss: 0.07466844253002457\n",
            "Percent: [----------------------------->] 100% || batch_time: 0.1355 || batch_loss: 0.1950 || avg_batch_loss: 0.1807 || batch_acc: 0.9636 || avg_batch_acc: 0.9645 \n",
            "Epoch 11 valid_loss: 0.18072702634460194\n"
          ],
          "name": "stdout"
        },
        {
          "output_type": "display_data",
          "data": {
            "image/png": "[encoded data removed]",
            "text/plain": [
              "<Figure size 432x288 with 1 Axes>"
            ]
          },
          "metadata": {
            "tags": [],
            "image/png": {
              "height": 248,
              "width": 378
            }
          }
        },
        {
          "output_type": "stream",
          "text": [
            "\r0it [00:00, ?it/s]"
          ],
          "name": "stderr"
        },
        {
          "output_type": "stream",
          "text": [
            "||||||||||||||||||||||||| BEA60K |||||||||||||||||||||||||\n",
            "###############################################\n",
            "data size: 63044\n"
          ],
          "name": "stdout"
        },
        {
          "output_type": "stream",
          "text": [
            "3941it [07:26,  8.83it/s]\n",
            "1it [00:00,  7.78it/s]"
          ],
          "name": "stderr"
        },
        {
          "output_type": "stream",
          "text": [
            "\n",
            "Epoch None valid_loss: 0.3322940427451698\n",
            "total inference time for this data is: 446.366290 secs\n",
            "###############################################\n",
            "\n",
            "\n",
            "total token count: 1059069\n",
            "_corr2corr:960282, _corr2incorr:28777, _incorr2corr:45583, _incorr2incorr:24427\n",
            "accuracy is 0.9497634242905797\n",
            "word correction rate is 0.6510927010427082\n",
            "###############################################\n",
            "||||||||||||||||||||||||| JFLEG |||||||||||||||||||||||||\n",
            "###############################################\n",
            "data size: 1601\n"
          ],
          "name": "stdout"
        },
        {
          "output_type": "stream",
          "text": [
            "101it [00:13,  7.67it/s]\n"
          ],
          "name": "stderr"
        },
        {
          "output_type": "stream",
          "text": [
            "\n",
            "Epoch None valid_loss: 0.19413782211739827\n",
            "total inference time for this data is: 13.175660 secs\n",
            "###############################################\n",
            "\n",
            "\n",
            "total token count: 33473\n",
            "_corr2corr:31012, _corr2incorr:451, _incorr2corr:1503, _incorr2incorr:507\n",
            "accuracy is 0.9713799181429809\n",
            "word correction rate is 0.7477611940298508\n",
            "###############################################\n",
            "------------------------- In epoch: 12 -------------------------\n",
            "Percent: [----------------------------->] 100% || batch_time: 0.5094 || batch_loss: 0.0749 || avg_batch_loss: 0.0664 || batch_acc: 0.9987 || avg_batch_acc: 0.9987 \n",
            "Epoch 12 train_loss: 0.06640736812827985\n",
            "Percent: [----------------------------->] 100% || batch_time: 0.1353 || batch_loss: 0.1677 || avg_batch_loss: 0.1775 || batch_acc: 0.9727 || avg_batch_acc: 0.9648 \n",
            "Epoch 12 valid_loss: 0.17753384948928405\n"
          ],
          "name": "stdout"
        },
        {
          "output_type": "display_data",
          "data": {
            "image/png": "[encoded data removed]",
            "text/plain": [
              "<Figure size 432x288 with 1 Axes>"
            ]
          },
          "metadata": {
            "tags": [],
            "image/png": {
              "height": 248,
              "width": 378
            }
          }
        },
        {
          "output_type": "stream",
          "text": [
            "\r0it [00:00, ?it/s]"
          ],
          "name": "stderr"
        },
        {
          "output_type": "stream",
          "text": [
            "||||||||||||||||||||||||| BEA60K |||||||||||||||||||||||||\n",
            "###############################################\n",
            "data size: 63044\n"
          ],
          "name": "stdout"
        },
        {
          "output_type": "stream",
          "text": [
            "3941it [07:26,  8.84it/s]\n",
            "1it [00:00,  7.84it/s]"
          ],
          "name": "stderr"
        },
        {
          "output_type": "stream",
          "text": [
            "\n",
            "Epoch None valid_loss: 0.3325767409679355\n",
            "total inference time for this data is: 446.057421 secs\n",
            "###############################################\n",
            "\n",
            "\n",
            "total token count: 1059069\n",
            "_corr2corr:960783, _corr2incorr:28276, _incorr2corr:45940, _incorr2incorr:24070\n",
            "accuracy is 0.9505735698051779\n",
            "word correction rate is 0.6561919725753463\n",
            "###############################################\n",
            "||||||||||||||||||||||||| JFLEG |||||||||||||||||||||||||\n",
            "###############################################\n",
            "data size: 1601\n"
          ],
          "name": "stdout"
        },
        {
          "output_type": "stream",
          "text": [
            "101it [00:13,  7.64it/s]\n"
          ],
          "name": "stderr"
        },
        {
          "output_type": "stream",
          "text": [
            "\n",
            "Epoch None valid_loss: 0.19542244050909977\n",
            "total inference time for this data is: 13.233408 secs\n",
            "###############################################\n",
            "\n",
            "\n",
            "total token count: 33473\n",
            "_corr2corr:30997, _corr2incorr:466, _incorr2corr:1522, _incorr2incorr:488\n",
            "accuracy is 0.9714994174409225\n",
            "word correction rate is 0.7572139303482587\n",
            "###############################################\n",
            "------------------------- In epoch: 13 -------------------------\n",
            "Percent: [----------------------------->] 100% || batch_time: 0.4919 || batch_loss: 0.0717 || avg_batch_loss: 0.0609 || batch_acc: 0.9935 || avg_batch_acc: 0.9935 \n",
            "Epoch 13 train_loss: 0.060889441755412846\n",
            "Percent: [----------------------------->] 100% || batch_time: 0.1351 || batch_loss: 0.1679 || avg_batch_loss: 0.1734 || batch_acc: 0.9727 || avg_batch_acc: 0.9655 \n",
            "Epoch 13 valid_loss: 0.17344524360216054\n"
          ],
          "name": "stdout"
        },
        {
          "output_type": "display_data",
          "data": {
            "image/png": "[encoded data removed]",
            "text/plain": [
              "<Figure size 432x288 with 1 Axes>"
            ]
          },
          "metadata": {
            "tags": [],
            "image/png": {
              "width": 378,
              "height": 248
            },
            "needs_background": "light"
          }
        },
        {
          "output_type": "stream",
          "text": [
            "\r0it [00:00, ?it/s]"
          ],
          "name": "stderr"
        },
        {
          "output_type": "stream",
          "text": [
            "||||||||||||||||||||||||| BEA60K |||||||||||||||||||||||||\n",
            "###############################################\n",
            "data size: 63044\n"
          ],
          "name": "stdout"
        },
        {
          "output_type": "stream",
          "text": [
            "3941it [07:26,  8.82it/s]\n",
            "1it [00:00,  7.81it/s]"
          ],
          "name": "stderr"
        },
        {
          "output_type": "stream",
          "text": [
            "\n",
            "Epoch None valid_loss: 0.34929466052550373\n",
            "total inference time for this data is: 446.934515 secs\n",
            "###############################################\n",
            "\n",
            "\n",
            "total token count: 1059069\n",
            "_corr2corr:961441, _corr2incorr:27618, _incorr2corr:45958, _incorr2incorr:24052\n",
            "accuracy is 0.951211866271225\n",
            "word correction rate is 0.6564490787030425\n",
            "###############################################\n",
            "||||||||||||||||||||||||| JFLEG |||||||||||||||||||||||||\n",
            "###############################################\n",
            "data size: 1601\n"
          ],
          "name": "stdout"
        },
        {
          "output_type": "stream",
          "text": [
            "101it [00:13,  7.66it/s]"
          ],
          "name": "stderr"
        },
        {
          "output_type": "stream",
          "text": [
            "\n",
            "Epoch None valid_loss: 0.20783412069229795\n",
            "total inference time for this data is: 13.192201 secs\n",
            "###############################################\n",
            "\n",
            "\n",
            "total token count: 33473\n",
            "_corr2corr:31024, _corr2incorr:439, _incorr2corr:1503, _incorr2incorr:507\n",
            "accuracy is 0.9717384160368058\n",
            "word correction rate is 0.7477611940298508\n",
            "###############################################\n"
          ],
          "name": "stdout"
        },
        {
          "output_type": "stream",
          "text": [
            "\n"
          ],
          "name": "stderr"
        }
      ]
    },
    {
      "cell_type": "code",
      "metadata": {
        "colab": {
          "base_uri": "https://localhost:8080/",
          "height": 1000
        },
        "id": "AUDnHokcFSce",
        "outputId": "f61fa0dc-c2df-4a90-c36f-9ce098b31644"
      },
      "source": [
        "MODEL_NAME = '2lstm_bert_input'\n",
        "\n",
        "total_train_loss = []\n",
        "total_val_loss = []\n",
        "\n",
        "START_EPOCH = 7\n",
        "N_EPOCHS = 10\n",
        "\n",
        "# train and eval\n",
        "for epoch_id in range(START_EPOCH,N_EPOCHS+1):\n",
        "\n",
        "    print(f\"------------------------- In epoch: {epoch_id} -------------------------\")\n",
        "\n",
        "    # train loss and backprop\n",
        "    train_loss = 0.\n",
        "    train_acc = 0.\n",
        "    train_acc_count = 0.\n",
        "    #print(\"train_data size: {}\".format(len(train_data)))\n",
        "    \n",
        "    train_data_iter = batch_iter(train_data, batch_size=TRAIN_BATCH_SIZE, shuffle=True)\n",
        "    nbatches = int(np.ceil(len(train_data)/TRAIN_BATCH_SIZE))\n",
        "\n",
        "\n",
        "    for batch_id, (batch_labels,batch_sentences) in enumerate(train_data_iter):\n",
        "      \n",
        "        optimizer.zero_grad()\n",
        "        st_time = time.time()\n",
        "\n",
        "        # set batch data for bert\n",
        "        batch_labels_, batch_sentences_, batch_bert_inp, batch_bert_splits = bert_tokenize_for_valid_examples(batch_labels,batch_sentences)                \n",
        "        if len(batch_labels_)==0:\n",
        "            print(\"################\")\n",
        "            print(\"Not training the following lines due to pre-processing mismatch: \\n\")\n",
        "            print([(a,b) for a,b in zip(batch_labels,batch_sentences)])\n",
        "            print(\"################\")\n",
        "            continue\n",
        "        else:\n",
        "            batch_labels, batch_sentences = batch_labels_, batch_sentences_\n",
        "\n",
        "        batch_bert_inp = {k:v.to(DEVICE) for k,v in batch_bert_inp.items()}\n",
        "\n",
        "        batch_idxs, _, batch_char_lengths = char_tokenize(batch_sentences, vocab, return_nchars=True)\n",
        "\n",
        "        \n",
        "        # set batch data for others\n",
        "        batch_idxs = [batch_idxs_.to(DEVICE) for batch_idxs_ in batch_idxs]\n",
        "        batch_char_lengths = [batch_char_lengths_.to(DEVICE) for batch_char_lengths_ in batch_char_lengths]\n",
        "\n",
        "\n",
        "        batch_labels, batch_lengths = labelize(batch_labels, vocab)\n",
        "        batch_lengths = batch_lengths.to(DEVICE)\n",
        "        batch_labels = batch_labels.to(DEVICE)\n",
        "\n",
        "        # forward\n",
        "        model.train()\n",
        "\n",
        "        loss = model(batch_idxs, batch_char_lengths, batch_lengths, batch_bert_inp, batch_bert_splits, targets=batch_labels)\n",
        "        \n",
        "        batch_loss = loss.cpu().detach().numpy()\n",
        "        train_loss += batch_loss\n",
        "\n",
        "        # backward\n",
        "        loss.backward()\n",
        "\n",
        "        optimizer.step()\n",
        "\n",
        "        # compute accuracy in numpy\n",
        "        if batch_id%10000==0:\n",
        "\n",
        "            train_acc_count += 1\n",
        "\n",
        "            model.eval()\n",
        "            with torch.no_grad():\n",
        "                _, batch_predictions = model(batch_idxs, batch_char_lengths, batch_lengths, batch_bert_inp, batch_bert_splits, targets=batch_labels)\n",
        "\n",
        "            model.train()\n",
        "\n",
        "            batch_labels = batch_labels.cpu().detach().numpy()\n",
        "            batch_lengths = batch_lengths.cpu().detach().numpy()\n",
        "            ncorr,ntotal = batch_accuracy_func(batch_predictions,batch_labels,batch_lengths)\n",
        "            batch_acc = ncorr/ntotal\n",
        "            train_acc += batch_acc     \n",
        "\n",
        "        # update progress\n",
        "        progressBar(batch_id+1,\n",
        "                    int(np.ceil(len(train_data) / TRAIN_BATCH_SIZE)), \n",
        "                    [\"batch_time\",\"batch_loss\",\"avg_batch_loss\",\"batch_acc\",\"avg_batch_acc\"],\n",
        "                    [time.time()-st_time,batch_loss,train_loss/(batch_id+1),batch_acc,train_acc/train_acc_count]) \n",
        "    \n",
        "    print(f\"\\nEpoch {epoch_id} train_loss: {train_loss/(batch_id+1)}\")\n",
        "\n",
        "    mean_batch_loss = train_loss / nbatches\n",
        "    total_train_loss.append(mean_batch_loss)\n",
        "\n",
        "\n",
        "    # save model and optimizer every epoch\n",
        "    model_name = MODEL_NAME + \"_epoch_\" + str(epoch_id) + '.pt'\n",
        "    torch.save(model.state_dict(), \n",
        "            '/content/drive/MyDrive/NLP/'+model_name)\n",
        "    \n",
        "    # save optimizer\n",
        "    optimizer_name = MODEL_NAME + \"_optimizer_epoch_\" + str(epoch_id) + '.pt'\n",
        "    torch.save(optimizer.state_dict(), \n",
        "        '/content/drive/MyDrive/NLP/'+optimizer_name)\n",
        "\n",
        "    # valid loss\n",
        "    valid_loss = 0.\n",
        "    valid_acc = 0.\n",
        "    #print(\"valid_data size: {}\".format(len(valid_data)))\n",
        "\n",
        "    valid_data_iter = batch_iter(valid_data, batch_size=VALID_BATCH_SIZE, shuffle=False)\n",
        "    val_nbatches = int(np.ceil(len(valid_data)/VALID_BATCH_SIZE))\n",
        "\n",
        "    for batch_id, (batch_labels,batch_sentences) in enumerate(valid_data_iter):\n",
        "\n",
        "        st_time = time.time()\n",
        "        # set batch data for bert\n",
        "        # batch_labels_, batch_sentences_, batch_bert_inp, batch_bert_splits = bert_tokenize_for_valid_examples(batch_labels,batch_sentences)\n",
        "\n",
        "        # set batch data for bert\n",
        "        batch_labels_, batch_sentences_, batch_bert_inp, batch_bert_splits = bert_tokenize_for_valid_examples(batch_labels,batch_sentences)                \n",
        "        if len(batch_labels_)==0:\n",
        "            print(\"################\")\n",
        "            print(\"Not training the following lines due to pre-processing mismatch: \\n\")\n",
        "            print([(a,b) for a,b in zip(batch_labels,batch_sentences)])\n",
        "            print(\"################\")\n",
        "            continue\n",
        "        else:\n",
        "            batch_labels, batch_sentences = batch_labels_, batch_sentences_\n",
        "\n",
        "        batch_bert_inp = {k:v.to(DEVICE) for k,v in batch_bert_inp.items()}\n",
        "\n",
        "        batch_idxs, _, batch_char_lengths = char_tokenize(batch_sentences, vocab, return_nchars=True)\n",
        "\n",
        "        \n",
        "        # set batch data for others\n",
        "        batch_idxs = [batch_idxs_.to(DEVICE) for batch_idxs_ in batch_idxs]\n",
        "        batch_char_lengths = [batch_char_lengths_.to(DEVICE) for batch_char_lengths_ in batch_char_lengths]\n",
        "\n",
        "        # set batch data for others\n",
        "        batch_labels, batch_lengths = labelize(batch_labels, vocab)\n",
        "        batch_lengths = batch_lengths.to(DEVICE)\n",
        "        batch_labels = batch_labels.to(DEVICE)\n",
        "\n",
        "        # forward\n",
        "        model.eval()\n",
        "        with torch.no_grad():\n",
        "            batch_loss, batch_predictions = model(batch_idxs, batch_char_lengths, batch_lengths, batch_bert_inp, batch_bert_splits, targets=batch_labels)\n",
        "        model.train()        \n",
        "        valid_loss += batch_loss\n",
        "        # compute accuracy in numpy\n",
        "        batch_labels = batch_labels.cpu().detach().numpy()\n",
        "        batch_lengths = batch_lengths.cpu().detach().numpy()\n",
        "        ncorr,ntotal = batch_accuracy_func(batch_predictions,batch_labels,batch_lengths)\n",
        "        batch_acc = ncorr/ntotal\n",
        "        valid_acc += batch_acc\n",
        "        # update progress\n",
        "        progressBar(batch_id+1,\n",
        "                    int(np.ceil(len(valid_data) / VALID_BATCH_SIZE)), \n",
        "                    [\"batch_time\",\"batch_loss\",\"avg_batch_loss\",\"batch_acc\",\"avg_batch_acc\"], \n",
        "                    [time.time()-st_time,batch_loss,valid_loss/(batch_id+1),batch_acc,valid_acc/(batch_id+1)])\n",
        "\n",
        "    print(f\"\\nEpoch {epoch_id} valid_loss: {valid_loss/(batch_id+1)}\")\n",
        "\n",
        "    mean_val_loss = valid_loss / val_nbatches\n",
        "    total_val_loss.append(mean_val_loss)\n",
        "    \n",
        "    if epoch_id >= 2:\n",
        "        plt.figure(epoch_id)\n",
        "        plt.plot(total_train_loss, label='train')\n",
        "        plt.plot(total_val_loss, label='validation')\n",
        "        plt.legend(fontsize=15)\n",
        "        plt.show()\n",
        "    \n",
        "    print(\"||||||||||||||||||||||||| BEA60K |||||||||||||||||||||||||\")\n",
        "    \n",
        "    predicted_result = model_inference(model, test_data_60k, 1, DEVICE, 16, vocab)\n",
        "\n",
        "    print(\"||||||||||||||||||||||||| JFLEG |||||||||||||||||||||||||\")\n",
        "\n",
        "    predicted_result = model_inference(model, test_data_jfleg, 1, DEVICE, 16, vocab)\n",
        "  "
      ],
      "execution_count": 9,
      "outputs": [
        {
          "output_type": "stream",
          "text": [
            "------------------------- In epoch: 7 -------------------------\n",
            "Percent: [----------------------------->] 100% || batch_time: 0.4930 || batch_loss: 0.1287 || avg_batch_loss: 0.1458 || batch_acc: 0.9908 || avg_batch_acc: 0.9908 \n",
            "Epoch 7 train_loss: 0.14575169567213692\n",
            "Percent: [----------------------------->] 100% || batch_time: 0.1351 || batch_loss: 0.2138 || avg_batch_loss: 0.2119 || batch_acc: 0.9590 || avg_batch_acc: 0.9604 \n",
            "Epoch 7 valid_loss: 0.2118858505537694\n"
          ],
          "name": "stdout"
        },
        {
          "output_type": "display_data",
          "data": {
            "image/png": "[encoded data removed]",
            "text/plain": [
              "<Figure size 432x288 with 1 Axes>"
            ]
          },
          "metadata": {
            "tags": [],
            "image/png": {
              "height": 248,
              "width": 378
            }
          }
        },
        {
          "output_type": "stream",
          "text": [
            "||||||||||||||||||||||||| BEA60K |||||||||||||||||||||||||\n",
            "###############################################\n",
            "data size: 63044\n"
          ],
          "name": "stdout"
        },
        {
          "output_type": "stream",
          "text": [
            "3941it [07:26,  8.83it/s]\n",
            "1it [00:00,  7.48it/s]"
          ],
          "name": "stderr"
        },
        {
          "output_type": "stream",
          "text": [
            "\n",
            "Epoch None valid_loss: 0.3504049458168305\n",
            "total inference time for this data is: 446.251428 secs\n",
            "###############################################\n",
            "\n",
            "\n",
            "total token count: 1059069\n",
            "_corr2corr:960985, _corr2incorr:28074, _incorr2corr:44446, _incorr2incorr:25564\n",
            "accuracy is 0.9493536304055732\n",
            "word correction rate is 0.6348521639765747\n",
            "###############################################\n",
            "||||||||||||||||||||||||| JFLEG |||||||||||||||||||||||||\n",
            "###############################################\n",
            "data size: 1601\n"
          ],
          "name": "stdout"
        },
        {
          "output_type": "stream",
          "text": [
            "101it [00:13,  7.63it/s]\n"
          ],
          "name": "stderr"
        },
        {
          "output_type": "stream",
          "text": [
            "\n",
            "Epoch None valid_loss: 0.21001693628507084\n",
            "total inference time for this data is: 13.254770 secs\n",
            "###############################################\n",
            "\n",
            "\n",
            "total token count: 33473\n",
            "_corr2corr:31010, _corr2incorr:453, _incorr2corr:1495, _incorr2incorr:515\n",
            "accuracy is 0.9710811698981269\n",
            "word correction rate is 0.7437810945273632\n",
            "###############################################\n",
            "------------------------- In epoch: 8 -------------------------\n",
            "Percent: [----------------------------->] 100% || batch_time: 0.4863 || batch_loss: 0.1232 || avg_batch_loss: 0.1216 || batch_acc: 0.9893 || avg_batch_acc: 0.9893 \n",
            "Epoch 8 train_loss: 0.12162531565499474\n",
            "Percent: [----------------------------->] 100% || batch_time: 0.1355 || batch_loss: 0.1864 || avg_batch_loss: 0.1985 || batch_acc: 0.9658 || avg_batch_acc: 0.9619 \n",
            "Epoch 8 valid_loss: 0.19847598267976518\n"
          ],
          "name": "stdout"
        },
        {
          "output_type": "display_data",
          "data": {
            "image/png": "[encoded data removed]",
            "text/plain": [
              "<Figure size 432x288 with 1 Axes>"
            ]
          },
          "metadata": {
            "tags": [],
            "image/png": {
              "height": 248,
              "width": 378
            }
          }
        },
        {
          "output_type": "stream",
          "text": [
            "\r0it [00:00, ?it/s]"
          ],
          "name": "stderr"
        },
        {
          "output_type": "stream",
          "text": [
            "||||||||||||||||||||||||| BEA60K |||||||||||||||||||||||||\n",
            "###############################################\n",
            "data size: 63044\n"
          ],
          "name": "stdout"
        },
        {
          "output_type": "stream",
          "text": [
            "3941it [07:27,  8.81it/s]\n",
            "1it [00:00,  7.84it/s]"
          ],
          "name": "stderr"
        },
        {
          "output_type": "stream",
          "text": [
            "\n",
            "Epoch None valid_loss: 0.3069032485890104\n",
            "total inference time for this data is: 447.101948 secs\n",
            "###############################################\n",
            "\n",
            "\n",
            "total token count: 1059069\n",
            "_corr2corr:962671, _corr2incorr:26388, _incorr2corr:44737, _incorr2incorr:25273\n",
            "accuracy is 0.9512203643010985\n",
            "word correction rate is 0.6390087130409942\n",
            "###############################################\n",
            "||||||||||||||||||||||||| JFLEG |||||||||||||||||||||||||\n",
            "###############################################\n",
            "data size: 1601\n"
          ],
          "name": "stdout"
        },
        {
          "output_type": "stream",
          "text": [
            "101it [00:13,  7.64it/s]\n"
          ],
          "name": "stderr"
        },
        {
          "output_type": "stream",
          "text": [
            "\n",
            "Epoch None valid_loss: 0.19378584366992557\n",
            "total inference time for this data is: 13.229893 secs\n",
            "###############################################\n",
            "\n",
            "\n",
            "total token count: 33473\n",
            "_corr2corr:31030, _corr2incorr:433, _incorr2corr:1490, _incorr2incorr:520\n",
            "accuracy is 0.971529292265408\n",
            "word correction rate is 0.7412935323383084\n",
            "###############################################\n",
            "------------------------- In epoch: 9 -------------------------\n",
            "Percent: [----------------------------->] 100% || batch_time: 0.5103 || batch_loss: 0.1207 || avg_batch_loss: 0.1017 || batch_acc: 0.9889 || avg_batch_acc: 0.9889 \n",
            "Epoch 9 train_loss: 0.1016661149799529\n",
            "Percent: [----------------------------->] 100% || batch_time: 0.1376 || batch_loss: 0.1932 || avg_batch_loss: 0.1933 || batch_acc: 0.9636 || avg_batch_acc: 0.9627 \n",
            "Epoch 9 valid_loss: 0.19328904957172463\n"
          ],
          "name": "stdout"
        },
        {
          "output_type": "display_data",
          "data": {
            "image/png": "[encoded data removed]",
            "text/plain": [
              "<Figure size 432x288 with 1 Axes>"
            ]
          },
          "metadata": {
            "tags": [],
            "image/png": {
              "height": 248,
              "width": 378
            }
          }
        },
        {
          "output_type": "stream",
          "text": [
            "\r0it [00:00, ?it/s]"
          ],
          "name": "stderr"
        },
        {
          "output_type": "stream",
          "text": [
            "||||||||||||||||||||||||| BEA60K |||||||||||||||||||||||||\n",
            "###############################################\n",
            "data size: 63044\n"
          ],
          "name": "stdout"
        },
        {
          "output_type": "stream",
          "text": [
            "3941it [07:27,  8.81it/s]\n",
            "1it [00:00,  7.81it/s]"
          ],
          "name": "stderr"
        },
        {
          "output_type": "stream",
          "text": [
            "\n",
            "Epoch None valid_loss: 0.33436433718211533\n",
            "total inference time for this data is: 447.158419 secs\n",
            "###############################################\n",
            "\n",
            "\n",
            "total token count: 1059069\n",
            "_corr2corr:960858, _corr2incorr:28201, _incorr2corr:45341, _incorr2incorr:24669\n",
            "accuracy is 0.9500787956214373\n",
            "word correction rate is 0.6476360519925725\n",
            "###############################################\n",
            "||||||||||||||||||||||||| JFLEG |||||||||||||||||||||||||\n",
            "###############################################\n",
            "data size: 1601\n"
          ],
          "name": "stdout"
        },
        {
          "output_type": "stream",
          "text": [
            "101it [00:13,  7.61it/s]\n"
          ],
          "name": "stderr"
        },
        {
          "output_type": "stream",
          "text": [
            "\n",
            "Epoch None valid_loss: 0.20858868714975248\n",
            "total inference time for this data is: 13.288103 secs\n",
            "###############################################\n",
            "\n",
            "\n",
            "total token count: 33473\n",
            "_corr2corr:30976, _corr2incorr:487, _incorr2corr:1491, _incorr2incorr:519\n",
            "accuracy is 0.9699459265676814\n",
            "word correction rate is 0.7417910447761195\n",
            "###############################################\n",
            "------------------------- In epoch: 10 -------------------------\n",
            "Percent: [----------------------------->] 100% || batch_time: 0.4898 || batch_loss: 0.1774 || avg_batch_loss: 0.0866 || batch_acc: 0.9943 || avg_batch_acc: 0.9943 \n",
            "Epoch 10 train_loss: 0.0865758027453669\n",
            "Percent: [----------------------------->] 100% || batch_time: 0.1352 || batch_loss: 0.1645 || avg_batch_loss: 0.1824 || batch_acc: 0.9772 || avg_batch_acc: 0.9641 \n",
            "Epoch 10 valid_loss: 0.18243966455761107\n"
          ],
          "name": "stdout"
        },
        {
          "output_type": "display_data",
          "data": {
            "image/png": "[encoded data removed]",
            "text/plain": [
              "<Figure size 432x288 with 1 Axes>"
            ]
          },
          "metadata": {
            "tags": [],
            "image/png": {
              "width": 378,
              "height": 248
            },
            "needs_background": "light"
          }
        },
        {
          "output_type": "stream",
          "text": [
            "\r0it [00:00, ?it/s]"
          ],
          "name": "stderr"
        },
        {
          "output_type": "stream",
          "text": [
            "||||||||||||||||||||||||| BEA60K |||||||||||||||||||||||||\n",
            "###############################################\n",
            "data size: 63044\n"
          ],
          "name": "stdout"
        },
        {
          "output_type": "stream",
          "text": [
            "3941it [07:27,  8.81it/s]\n",
            "1it [00:00,  7.84it/s]"
          ],
          "name": "stderr"
        },
        {
          "output_type": "stream",
          "text": [
            "\n",
            "Epoch None valid_loss: 0.3508300087165368\n",
            "total inference time for this data is: 447.116301 secs\n",
            "###############################################\n",
            "\n",
            "\n",
            "total token count: 1059069\n",
            "_corr2corr:961595, _corr2incorr:27464, _incorr2corr:45330, _incorr2incorr:24680\n",
            "accuracy is 0.9507643033645589\n",
            "word correction rate is 0.6474789315812027\n",
            "###############################################\n",
            "||||||||||||||||||||||||| JFLEG |||||||||||||||||||||||||\n",
            "###############################################\n",
            "data size: 1601\n"
          ],
          "name": "stdout"
        },
        {
          "output_type": "stream",
          "text": [
            "101it [00:13,  7.66it/s]"
          ],
          "name": "stderr"
        },
        {
          "output_type": "stream",
          "text": [
            "\n",
            "Epoch None valid_loss: 0.20401067100465298\n",
            "total inference time for this data is: 13.199579 secs\n",
            "###############################################\n",
            "\n",
            "\n",
            "total token count: 33473\n",
            "_corr2corr:31030, _corr2incorr:433, _incorr2corr:1506, _incorr2incorr:504\n",
            "accuracy is 0.9720072894571744\n",
            "word correction rate is 0.7492537313432835\n",
            "###############################################\n"
          ],
          "name": "stdout"
        },
        {
          "output_type": "stream",
          "text": [
            "\n"
          ],
          "name": "stderr"
        }
      ]
    },
    {
      "cell_type": "code",
      "metadata": {
        "colab": {
          "base_uri": "https://localhost:8080/",
          "height": 1000,
          "referenced_widgets": [
            "4389c9ce6d2d422ab98249d2fe5f1deb",
            "7c0d3a1d40e1442fa59bd000a9002e12",
            "3c280af799d94fceae1a4d94c0716316",
            "0114bb9b3f1c4793b20310a328c46bc0",
            "8b0acbb0737c4e86811bb22adb6aa813",
            "23a839b05c47455a9aa3d39e4bbcda40",
            "67f3694984094ed39988272e095095fa",
            "3eecd1585deb495b9b7ce0d3008e6a51"
          ]
        },
        "id": "FwxGfJ8OxDZ7",
        "outputId": "d9529592-c9f2-4d60-e05b-6fce6762176d"
      },
      "source": [
        "MODEL_NAME = '2lstm_bert_input'\n",
        "\n",
        "total_train_loss = []\n",
        "total_val_loss = []\n",
        "\n",
        "# train and eval\n",
        "for epoch_id in range(START_EPOCH,N_EPOCHS+1):\n",
        "\n",
        "    print(f\"------------------------- In epoch: {epoch_id} -------------------------\")\n",
        "\n",
        "    # train loss and backprop\n",
        "    train_loss = 0.\n",
        "    train_acc = 0.\n",
        "    train_acc_count = 0.\n",
        "    #print(\"train_data size: {}\".format(len(train_data)))\n",
        "    \n",
        "    train_data_iter = batch_iter(train_data, batch_size=TRAIN_BATCH_SIZE, shuffle=True)\n",
        "    nbatches = int(np.ceil(len(train_data)/TRAIN_BATCH_SIZE))\n",
        "\n",
        "\n",
        "    for batch_id, (batch_labels,batch_sentences) in enumerate(train_data_iter):\n",
        "      \n",
        "        optimizer.zero_grad()\n",
        "        st_time = time.time()\n",
        "\n",
        "        # set batch data for bert\n",
        "        batch_labels_, batch_sentences_, batch_bert_inp, batch_bert_splits = bert_tokenize_for_valid_examples(batch_labels,batch_sentences)                \n",
        "        if len(batch_labels_)==0:\n",
        "            print(\"################\")\n",
        "            print(\"Not training the following lines due to pre-processing mismatch: \\n\")\n",
        "            print([(a,b) for a,b in zip(batch_labels,batch_sentences)])\n",
        "            print(\"################\")\n",
        "            continue\n",
        "        else:\n",
        "            batch_labels, batch_sentences = batch_labels_, batch_sentences_\n",
        "\n",
        "        batch_bert_inp = {k:v.to(DEVICE) for k,v in batch_bert_inp.items()}\n",
        "\n",
        "        batch_idxs, _, batch_char_lengths = char_tokenize(batch_sentences, vocab, return_nchars=True)\n",
        "\n",
        "        \n",
        "        # set batch data for others\n",
        "        batch_idxs = [batch_idxs_.to(DEVICE) for batch_idxs_ in batch_idxs]\n",
        "        batch_char_lengths = [batch_char_lengths_.to(DEVICE) for batch_char_lengths_ in batch_char_lengths]\n",
        "\n",
        "\n",
        "        batch_labels, batch_lengths = labelize(batch_labels, vocab)\n",
        "        batch_lengths = batch_lengths.to(DEVICE)\n",
        "        batch_labels = batch_labels.to(DEVICE)\n",
        "\n",
        "        # forward\n",
        "        model.train()\n",
        "\n",
        "        loss = model(batch_idxs, batch_char_lengths, batch_lengths, batch_bert_inp, batch_bert_splits, targets=batch_labels)\n",
        "        \n",
        "        batch_loss = loss.cpu().detach().numpy()\n",
        "        train_loss += batch_loss\n",
        "\n",
        "        # backward\n",
        "        loss.backward()\n",
        "\n",
        "        optimizer.step()\n",
        "\n",
        "        # compute accuracy in numpy\n",
        "        if batch_id%10000==0:\n",
        "\n",
        "            train_acc_count += 1\n",
        "\n",
        "            model.eval()\n",
        "            with torch.no_grad():\n",
        "                _, batch_predictions = model(batch_idxs, batch_char_lengths, batch_lengths, batch_bert_inp, batch_bert_splits, targets=batch_labels)\n",
        "\n",
        "            model.train()\n",
        "\n",
        "            batch_labels = batch_labels.cpu().detach().numpy()\n",
        "            batch_lengths = batch_lengths.cpu().detach().numpy()\n",
        "            ncorr,ntotal = batch_accuracy_func(batch_predictions,batch_labels,batch_lengths)\n",
        "            batch_acc = ncorr/ntotal\n",
        "            train_acc += batch_acc     \n",
        "\n",
        "        # update progress\n",
        "        progressBar(batch_id+1,\n",
        "                    int(np.ceil(len(train_data) / TRAIN_BATCH_SIZE)), \n",
        "                    [\"batch_time\",\"batch_loss\",\"avg_batch_loss\",\"batch_acc\",\"avg_batch_acc\"],\n",
        "                    [time.time()-st_time,batch_loss,train_loss/(batch_id+1),batch_acc,train_acc/train_acc_count]) \n",
        "    \n",
        "    print(f\"\\nEpoch {epoch_id} train_loss: {train_loss/(batch_id+1)}\")\n",
        "\n",
        "    mean_batch_loss = train_loss / nbatches\n",
        "    total_train_loss.append(mean_batch_loss)\n",
        "\n",
        "\n",
        "    # save model and optimizer every epoch\n",
        "    model_name = MODEL_NAME + \"_epoch_\" + str(epoch_id) + '.pt'\n",
        "    torch.save(model.state_dict(), \n",
        "            '/content/drive/MyDrive/NLP/'+model_name)\n",
        "    \n",
        "    # save optimizer\n",
        "    optimizer_name = MODEL_NAME + \"_optimizer_epoch_\" + str(epoch_id) + '.pt'\n",
        "    torch.save(optimizer.state_dict(), \n",
        "        '/content/drive/MyDrive/NLP/'+optimizer_name)\n",
        "\n",
        "    # valid loss\n",
        "    valid_loss = 0.\n",
        "    valid_acc = 0.\n",
        "    #print(\"valid_data size: {}\".format(len(valid_data)))\n",
        "\n",
        "    valid_data_iter = batch_iter(valid_data, batch_size=VALID_BATCH_SIZE, shuffle=False)\n",
        "    val_nbatches = int(np.ceil(len(valid_data)/VALID_BATCH_SIZE))\n",
        "\n",
        "    for batch_id, (batch_labels,batch_sentences) in enumerate(valid_data_iter):\n",
        "\n",
        "        st_time = time.time()\n",
        "        # set batch data for bert\n",
        "        # batch_labels_, batch_sentences_, batch_bert_inp, batch_bert_splits = bert_tokenize_for_valid_examples(batch_labels,batch_sentences)\n",
        "\n",
        "        # set batch data for bert\n",
        "        batch_labels_, batch_sentences_, batch_bert_inp, batch_bert_splits = bert_tokenize_for_valid_examples(batch_labels,batch_sentences)                \n",
        "        if len(batch_labels_)==0:\n",
        "            print(\"################\")\n",
        "            print(\"Not training the following lines due to pre-processing mismatch: \\n\")\n",
        "            print([(a,b) for a,b in zip(batch_labels,batch_sentences)])\n",
        "            print(\"################\")\n",
        "            continue\n",
        "        else:\n",
        "            batch_labels, batch_sentences = batch_labels_, batch_sentences_\n",
        "\n",
        "        batch_bert_inp = {k:v.to(DEVICE) for k,v in batch_bert_inp.items()}\n",
        "\n",
        "        batch_idxs, _, batch_char_lengths = char_tokenize(batch_sentences, vocab, return_nchars=True)\n",
        "\n",
        "        \n",
        "        # set batch data for others\n",
        "        batch_idxs = [batch_idxs_.to(DEVICE) for batch_idxs_ in batch_idxs]\n",
        "        batch_char_lengths = [batch_char_lengths_.to(DEVICE) for batch_char_lengths_ in batch_char_lengths]\n",
        "\n",
        "        # set batch data for others\n",
        "        batch_labels, batch_lengths = labelize(batch_labels, vocab)\n",
        "        batch_lengths = batch_lengths.to(DEVICE)\n",
        "        batch_labels = batch_labels.to(DEVICE)\n",
        "\n",
        "        # forward\n",
        "        model.eval()\n",
        "        with torch.no_grad():\n",
        "            batch_loss, batch_predictions = model(batch_idxs, batch_char_lengths, batch_lengths, batch_bert_inp, batch_bert_splits, targets=batch_labels)\n",
        "        model.train()        \n",
        "        valid_loss += batch_loss\n",
        "        # compute accuracy in numpy\n",
        "        batch_labels = batch_labels.cpu().detach().numpy()\n",
        "        batch_lengths = batch_lengths.cpu().detach().numpy()\n",
        "        ncorr,ntotal = batch_accuracy_func(batch_predictions,batch_labels,batch_lengths)\n",
        "        batch_acc = ncorr/ntotal\n",
        "        valid_acc += batch_acc\n",
        "        # update progress\n",
        "        progressBar(batch_id+1,\n",
        "                    int(np.ceil(len(valid_data) / VALID_BATCH_SIZE)), \n",
        "                    [\"batch_time\",\"batch_loss\",\"avg_batch_loss\",\"batch_acc\",\"avg_batch_acc\"], \n",
        "                    [time.time()-st_time,batch_loss,valid_loss/(batch_id+1),batch_acc,valid_acc/(batch_id+1)])\n",
        "\n",
        "    print(f\"\\nEpoch {epoch_id} valid_loss: {valid_loss/(batch_id+1)}\")\n",
        "\n",
        "    mean_val_loss = valid_loss / val_nbatches\n",
        "    total_val_loss.append(mean_val_loss)\n",
        "    \n",
        "    if epoch_id >= 2:\n",
        "        plt.figure(epoch_id)\n",
        "        plt.plot(total_train_loss, label='train')\n",
        "        plt.plot(total_val_loss, label='validation')\n",
        "        plt.legend(fontsize=15)\n",
        "        plt.show()\n",
        "    \n",
        "    print(\"||||||||||||||||||||||||| BEA60K |||||||||||||||||||||||||\")\n",
        "    \n",
        "    predicted_result = model_inference(model, test_data_60k, 1, DEVICE, 16, vocab)\n",
        "\n",
        "    print(\"||||||||||||||||||||||||| JFLEG |||||||||||||||||||||||||\")\n",
        "\n",
        "    predicted_result = model_inference(model, test_data_jfleg, 1, DEVICE, 16, vocab)\n",
        "  "
      ],
      "execution_count": 21,
      "outputs": [
        {
          "output_type": "stream",
          "text": [
            "------------------------- In epoch: 1 -------------------------\n"
          ],
          "name": "stdout"
        },
        {
          "output_type": "display_data",
          "data": {
            "application/vnd.jupyter.widget-view+json": {
              "model_id": "4389c9ce6d2d422ab98249d2fe5f1deb",
              "version_major": 2,
              "version_minor": 0
            },
            "text/plain": [
              "HBox(children=(FloatProgress(value=0.0, description='Downloading', max=213450.0, style=ProgressStyle(descripti…"
            ]
          },
          "metadata": {
            "tags": []
          }
        },
        {
          "output_type": "stream",
          "text": [
            "\n",
            "Percent: [----------------------------->] 100% || batch_time: 0.4933 || batch_loss: 0.9576 || avg_batch_loss: 2.3481 || batch_acc: 0.0171 || avg_batch_acc: 0.0171 \n",
            "Epoch 1 train_loss: 2.348095876619363\n",
            "Percent: [----------------------------->] 100% || batch_time: 0.1362 || batch_loss: 0.7287 || avg_batch_loss: 0.9274 || batch_acc: 0.9066 || avg_batch_acc: 0.8842 "
          ],
          "name": "stdout"
        },
        {
          "output_type": "stream",
          "text": [
            "\r0it [00:00, ?it/s]"
          ],
          "name": "stderr"
        },
        {
          "output_type": "stream",
          "text": [
            "\n",
            "Epoch 1 valid_loss: 0.9274040870979184\n",
            "||||||||||||||||||||||||| BEA60K |||||||||||||||||||||||||\n",
            "###############################################\n",
            "data size: 63044\n"
          ],
          "name": "stdout"
        },
        {
          "output_type": "stream",
          "text": [
            "3941it [08:01,  8.19it/s]\n",
            "1it [00:00,  7.28it/s]"
          ],
          "name": "stderr"
        },
        {
          "output_type": "stream",
          "text": [
            "\n",
            "Epoch None valid_loss: 0.7410604053570878\n",
            "total inference time for this data is: 481.274443 secs\n",
            "###############################################\n",
            "\n",
            "\n",
            "total token count: 1059069\n",
            "_corr2corr:950182, _corr2incorr:38877, _incorr2corr:27096, _incorr2incorr:42914\n",
            "accuracy is 0.9227708487360125\n",
            "word correction rate is 0.3870304242251107\n",
            "###############################################\n",
            "||||||||||||||||||||||||| JFLEG |||||||||||||||||||||||||\n",
            "###############################################\n",
            "data size: 1601\n"
          ],
          "name": "stdout"
        },
        {
          "output_type": "stream",
          "text": [
            "101it [00:14,  7.16it/s]\n"
          ],
          "name": "stderr"
        },
        {
          "output_type": "stream",
          "text": [
            "\n",
            "Epoch None valid_loss: 0.5763516898202424\n",
            "total inference time for this data is: 14.116046 secs\n",
            "###############################################\n",
            "\n",
            "\n",
            "total token count: 33473\n",
            "_corr2corr:30375, _corr2incorr:1088, _incorr2corr:908, _incorr2incorr:1102\n",
            "accuracy is 0.9345741343769606\n",
            "word correction rate is 0.45174129353233833\n",
            "###############################################\n",
            "------------------------- In epoch: 2 -------------------------\n",
            "Percent: [----------------------------->] 100% || batch_time: 0.4870 || batch_loss: 0.5789 || avg_batch_loss: 0.7509 || batch_acc: 0.8961 || avg_batch_acc: 0.8961 \n",
            "Epoch 2 train_loss: 0.7508860568466735\n",
            "Percent: [----------------------------->] 100% || batch_time: 0.1364 || batch_loss: 0.4123 || avg_batch_loss: 0.5083 || batch_acc: 0.9362 || avg_batch_acc: 0.9307 \n",
            "Epoch 2 valid_loss: 0.5082651955670998\n"
          ],
          "name": "stdout"
        },
        {
          "output_type": "display_data",
          "data": {
            "image/png": "[encoded data removed]",
            "text/plain": [
              "<Figure size 432x288 with 1 Axes>"
            ]
          },
          "metadata": {
            "tags": [],
            "image/png": {
              "height": 248,
              "width": 378
            }
          }
        },
        {
          "output_type": "stream",
          "text": [
            "||||||||||||||||||||||||| BEA60K |||||||||||||||||||||||||\n",
            "###############################################\n",
            "data size: 63044\n"
          ],
          "name": "stdout"
        },
        {
          "output_type": "stream",
          "text": [
            "3941it [08:13,  7.98it/s]\n",
            "1it [00:00,  7.22it/s]"
          ],
          "name": "stderr"
        },
        {
          "output_type": "stream",
          "text": [
            "\n",
            "Epoch None valid_loss: 0.4940934561380152\n",
            "total inference time for this data is: 493.598809 secs\n",
            "###############################################\n",
            "\n",
            "\n",
            "total token count: 1059069\n",
            "_corr2corr:963155, _corr2incorr:25904, _incorr2corr:36171, _incorr2incorr:33839\n",
            "accuracy is 0.9435891334747784\n",
            "word correction rate is 0.5166547636051992\n",
            "###############################################\n",
            "||||||||||||||||||||||||| JFLEG |||||||||||||||||||||||||\n",
            "###############################################\n",
            "data size: 1601\n"
          ],
          "name": "stdout"
        },
        {
          "output_type": "stream",
          "text": [
            "101it [00:14,  7.04it/s]\n"
          ],
          "name": "stderr"
        },
        {
          "output_type": "stream",
          "text": [
            "\n",
            "Epoch None valid_loss: 0.3218418446802857\n",
            "total inference time for this data is: 14.354719 secs\n",
            "###############################################\n",
            "\n",
            "\n",
            "total token count: 33473\n",
            "_corr2corr:30961, _corr2incorr:502, _incorr2corr:1278, _incorr2incorr:732\n",
            "accuracy is 0.9631344665850088\n",
            "word correction rate is 0.6358208955223881\n",
            "###############################################\n",
            "------------------------- In epoch: 3 -------------------------\n",
            "Percent: [----------------------------->] 100% || batch_time: 0.5104 || batch_loss: 0.3768 || avg_batch_loss: 0.4559 || batch_acc: 0.9470 || avg_batch_acc: 0.9470 \n",
            "Epoch 3 train_loss: 0.45585538467658554\n",
            "Percent: [----------------------------->] 100% || batch_time: 0.1366 || batch_loss: 0.3104 || avg_batch_loss: 0.3633 || batch_acc: 0.9567 || avg_batch_acc: 0.9451 \n",
            "Epoch 3 valid_loss: 0.36330174747200145\n"
          ],
          "name": "stdout"
        },
        {
          "output_type": "display_data",
          "data": {
            "image/png": "[encoded data removed]",
            "text/plain": [
              "<Figure size 432x288 with 1 Axes>"
            ]
          },
          "metadata": {
            "tags": [],
            "image/png": {
              "width": 378,
              "height": 248
            },
            "needs_background": "light"
          }
        },
        {
          "output_type": "stream",
          "text": [
            "\r0it [00:00, ?it/s]"
          ],
          "name": "stderr"
        },
        {
          "output_type": "stream",
          "text": [
            "||||||||||||||||||||||||| BEA60K |||||||||||||||||||||||||\n",
            "###############################################\n",
            "data size: 63044\n"
          ],
          "name": "stdout"
        },
        {
          "output_type": "stream",
          "text": [
            "3941it [08:02,  8.17it/s]\n",
            "1it [00:00,  7.29it/s]"
          ],
          "name": "stderr"
        },
        {
          "output_type": "stream",
          "text": [
            "\n",
            "Epoch None valid_loss: 0.41531375367397644\n",
            "total inference time for this data is: 482.166755 secs\n",
            "###############################################\n",
            "\n",
            "\n",
            "total token count: 1059069\n",
            "_corr2corr:962781, _corr2incorr:26278, _incorr2corr:39833, _incorr2incorr:30177\n",
            "accuracy is 0.9466937470551966\n",
            "word correction rate is 0.5689615769175832\n",
            "###############################################\n",
            "||||||||||||||||||||||||| JFLEG |||||||||||||||||||||||||\n",
            "###############################################\n",
            "data size: 1601\n"
          ],
          "name": "stdout"
        },
        {
          "output_type": "stream",
          "text": [
            "101it [00:14,  7.17it/s]\n"
          ],
          "name": "stderr"
        },
        {
          "output_type": "stream",
          "text": [
            "\n",
            "Epoch None valid_loss: 0.2612644622083938\n",
            "total inference time for this data is: 14.103848 secs\n",
            "###############################################\n",
            "\n",
            "\n",
            "total token count: 33473\n",
            "_corr2corr:30982, _corr2incorr:481, _incorr2corr:1352, _incorr2incorr:658\n",
            "accuracy is 0.9659725749111224\n",
            "word correction rate is 0.672636815920398\n",
            "###############################################\n",
            "------------------------- In epoch: 4 -------------------------\n",
            "Percent: [----------------------------->] 100% || batch_time: 0.4967 || batch_loss: 0.4674 || avg_batch_loss: 0.3175 || batch_acc: 0.9569 || avg_batch_acc: 0.9569 \n",
            "Epoch 4 train_loss: 0.3175101988841953\n",
            "Percent: [----------------------------->] 100% || batch_time: 0.1373 || batch_loss: 0.2340 || avg_batch_loss: 0.2918 || batch_acc: 0.9522 || avg_batch_acc: 0.9521 \n",
            "Epoch 4 valid_loss: 0.291750538265398\n"
          ],
          "name": "stdout"
        },
        {
          "output_type": "display_data",
          "data": {
            "image/png": "[encoded data removed]",
            "text/plain": [
              "<Figure size 432x288 with 1 Axes>"
            ]
          },
          "metadata": {
            "tags": [],
            "image/png": {
              "width": 372,
              "height": 248
            },
            "needs_background": "light"
          }
        },
        {
          "output_type": "stream",
          "text": [
            "\r0it [00:00, ?it/s]"
          ],
          "name": "stderr"
        },
        {
          "output_type": "stream",
          "text": [
            "||||||||||||||||||||||||| BEA60K |||||||||||||||||||||||||\n",
            "###############################################\n",
            "data size: 63044\n"
          ],
          "name": "stdout"
        },
        {
          "output_type": "stream",
          "text": [
            "3941it [08:01,  8.18it/s]\n",
            "1it [00:00,  7.29it/s]"
          ],
          "name": "stderr"
        },
        {
          "output_type": "stream",
          "text": [
            "\n",
            "Epoch None valid_loss: 0.3737352838802613\n",
            "total inference time for this data is: 481.842992 secs\n",
            "###############################################\n",
            "\n",
            "\n",
            "total token count: 1059069\n",
            "_corr2corr:960706, _corr2incorr:28353, _incorr2corr:42010, _incorr2incorr:28000\n",
            "accuracy is 0.9467900580604286\n",
            "word correction rate is 0.6000571346950435\n",
            "###############################################\n",
            "||||||||||||||||||||||||| JFLEG |||||||||||||||||||||||||\n",
            "###############################################\n",
            "data size: 1601\n"
          ],
          "name": "stdout"
        },
        {
          "output_type": "stream",
          "text": [
            "101it [00:14,  7.11it/s]\n"
          ],
          "name": "stderr"
        },
        {
          "output_type": "stream",
          "text": [
            "\n",
            "Epoch None valid_loss: 0.22425649720843477\n",
            "total inference time for this data is: 14.215370 secs\n",
            "###############################################\n",
            "\n",
            "\n",
            "total token count: 33473\n",
            "_corr2corr:30987, _corr2incorr:476, _incorr2corr:1414, _incorr2incorr:596\n",
            "accuracy is 0.9679741881516446\n",
            "word correction rate is 0.7034825870646766\n",
            "###############################################\n",
            "------------------------- In epoch: 5 -------------------------\n",
            "Percent: [----------------------------->] 100% || batch_time: 0.5545 || batch_loss: 0.2162 || avg_batch_loss: 0.2376 || batch_acc: 0.9773 || avg_batch_acc: 0.9773 \n",
            "Epoch 5 train_loss: 0.23758319575427814\n",
            "Percent: [----------------------------->] 100% || batch_time: 0.1368 || batch_loss: 0.2061 || avg_batch_loss: 0.2520 || batch_acc: 0.9613 || avg_batch_acc: 0.9559 \n",
            "Epoch 5 valid_loss: 0.2519598744059335\n"
          ],
          "name": "stdout"
        },
        {
          "output_type": "display_data",
          "data": {
            "image/png": "[encoded data removed]",
            "text/plain": [
              "<Figure size 432x288 with 1 Axes>"
            ]
          },
          "metadata": {
            "tags": [],
            "image/png": {
              "width": 372,
              "height": 248
            },
            "needs_background": "light"
          }
        },
        {
          "output_type": "stream",
          "text": [
            "\r0it [00:00, ?it/s]"
          ],
          "name": "stderr"
        },
        {
          "output_type": "stream",
          "text": [
            "||||||||||||||||||||||||| BEA60K |||||||||||||||||||||||||\n",
            "###############################################\n",
            "data size: 63044\n"
          ],
          "name": "stdout"
        },
        {
          "output_type": "stream",
          "text": [
            "3941it [08:00,  8.20it/s]\n",
            "1it [00:00,  7.36it/s]"
          ],
          "name": "stderr"
        },
        {
          "output_type": "stream",
          "text": [
            "\n",
            "Epoch None valid_loss: 0.36480566784096713\n",
            "total inference time for this data is: 480.834913 secs\n",
            "###############################################\n",
            "\n",
            "\n",
            "total token count: 1059069\n",
            "_corr2corr:961489, _corr2incorr:27570, _incorr2corr:43242, _incorr2incorr:26768\n",
            "accuracy is 0.9486926725265303\n",
            "word correction rate is 0.6176546207684617\n",
            "###############################################\n",
            "||||||||||||||||||||||||| JFLEG |||||||||||||||||||||||||\n",
            "###############################################\n",
            "data size: 1601\n"
          ],
          "name": "stdout"
        },
        {
          "output_type": "stream",
          "text": [
            "101it [00:14,  7.18it/s]\n"
          ],
          "name": "stderr"
        },
        {
          "output_type": "stream",
          "text": [
            "\n",
            "Epoch None valid_loss: 0.2219867141972674\n",
            "total inference time for this data is: 14.082109 secs\n",
            "###############################################\n",
            "\n",
            "\n",
            "total token count: 33473\n",
            "_corr2corr:30978, _corr2incorr:485, _incorr2corr:1435, _incorr2incorr:575\n",
            "accuracy is 0.9683326860454695\n",
            "word correction rate is 0.7139303482587065\n",
            "###############################################\n",
            "------------------------- In epoch: 6 -------------------------\n",
            "Percent: [----------------------------->] 100% || batch_time: 0.5158 || batch_loss: 0.1510 || avg_batch_loss: 0.1853 || batch_acc: 0.9833 || avg_batch_acc: 0.9833 \n",
            "Epoch 6 train_loss: 0.1852868326566968\n",
            "Percent: [----------------------------->] 100% || batch_time: 0.1363 || batch_loss: 0.1778 || avg_batch_loss: 0.2263 || batch_acc: 0.9590 || avg_batch_acc: 0.9586 \n",
            "Epoch 6 valid_loss: 0.22633075665255062\n"
          ],
          "name": "stdout"
        },
        {
          "output_type": "display_data",
          "data": {
            "image/png": "[encoded data removed]",
            "text/plain": [
              "<Figure size 432x288 with 1 Axes>"
            ]
          },
          "metadata": {
            "tags": [],
            "image/png": {
              "width": 372,
              "height": 248
            },
            "needs_background": "light"
          }
        },
        {
          "output_type": "stream",
          "text": [
            "\r0it [00:00, ?it/s]"
          ],
          "name": "stderr"
        },
        {
          "output_type": "stream",
          "text": [
            "||||||||||||||||||||||||| BEA60K |||||||||||||||||||||||||\n",
            "###############################################\n",
            "data size: 63044\n"
          ],
          "name": "stdout"
        },
        {
          "output_type": "stream",
          "text": [
            "3941it [08:02,  8.16it/s]\n",
            "1it [00:00,  7.39it/s]"
          ],
          "name": "stderr"
        },
        {
          "output_type": "stream",
          "text": [
            "\n",
            "Epoch None valid_loss: 0.35650509250612844\n",
            "total inference time for this data is: 482.778584 secs\n",
            "###############################################\n",
            "\n",
            "\n",
            "total token count: 1059069\n",
            "_corr2corr:959411, _corr2incorr:29648, _incorr2corr:43845, _incorr2incorr:26165\n",
            "accuracy is 0.947299939852833\n",
            "word correction rate is 0.6262676760462791\n",
            "###############################################\n",
            "||||||||||||||||||||||||| JFLEG |||||||||||||||||||||||||\n",
            "###############################################\n",
            "data size: 1601\n"
          ],
          "name": "stdout"
        },
        {
          "output_type": "stream",
          "text": [
            "101it [00:14,  7.17it/s]"
          ],
          "name": "stderr"
        },
        {
          "output_type": "stream",
          "text": [
            "\n",
            "Epoch None valid_loss: 0.22054780643470218\n",
            "total inference time for this data is: 14.092429 secs\n",
            "###############################################\n",
            "\n",
            "\n",
            "total token count: 33473\n",
            "_corr2corr:30989, _corr2incorr:474, _incorr2corr:1484, _incorr2incorr:526\n",
            "accuracy is 0.9701251755145939\n",
            "word correction rate is 0.7383084577114428\n",
            "###############################################\n"
          ],
          "name": "stdout"
        },
        {
          "output_type": "stream",
          "text": [
            "\n"
          ],
          "name": "stderr"
        }
      ]
    }
  ]
}