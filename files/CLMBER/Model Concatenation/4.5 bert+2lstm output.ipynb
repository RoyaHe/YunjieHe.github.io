{
  "nbformat": 4,
  "nbformat_minor": 0,
  "metadata": {
    "colab": {
      "name": "<Done> bert+2lstm_output",
      "provenance": [],
      "collapsed_sections": [
        "sJsBpETWrSlk"
      ],
      "machine_shape": "hm"
    },
    "kernelspec": {
      "name": "python3",
      "display_name": "Python 3"
    },
    "language_info": {
      "name": "python"
    },
    "widgets": {
      "application/vnd.jupyter.widget-state+json": {
        "81c2d5a5a0dc49e49de0fd66b0bf708d": {
          "model_module": "@jupyter-widgets/controls",
          "model_name": "HBoxModel",
          "state": {
            "_view_name": "HBoxView",
            "_dom_classes": [],
            "_model_name": "HBoxModel",
            "_view_module": "@jupyter-widgets/controls",
            "_model_module_version": "1.5.0",
            "_view_count": null,
            "_view_module_version": "1.5.0",
            "box_style": "",
            "layout": "IPY_MODEL_b085b55b40e64ebf9ffddb2378303596",
            "_model_module": "@jupyter-widgets/controls",
            "children": [
              "IPY_MODEL_1ae030a4d54947a0bc274d5326173a3f",
              "IPY_MODEL_34fcd5758a79479e95117505f48c0bb3"
            ]
          }
        },
        "b085b55b40e64ebf9ffddb2378303596": {
          "model_module": "@jupyter-widgets/base",
          "model_name": "LayoutModel",
          "state": {
            "_view_name": "LayoutView",
            "grid_template_rows": null,
            "right": null,
            "justify_content": null,
            "_view_module": "@jupyter-widgets/base",
            "overflow": null,
            "_model_module_version": "1.2.0",
            "_view_count": null,
            "flex_flow": null,
            "width": null,
            "min_width": null,
            "border": null,
            "align_items": null,
            "bottom": null,
            "_model_module": "@jupyter-widgets/base",
            "top": null,
            "grid_column": null,
            "overflow_y": null,
            "overflow_x": null,
            "grid_auto_flow": null,
            "grid_area": null,
            "grid_template_columns": null,
            "flex": null,
            "_model_name": "LayoutModel",
            "justify_items": null,
            "grid_row": null,
            "max_height": null,
            "align_content": null,
            "visibility": null,
            "align_self": null,
            "height": null,
            "min_height": null,
            "padding": null,
            "grid_auto_rows": null,
            "grid_gap": null,
            "max_width": null,
            "order": null,
            "_view_module_version": "1.2.0",
            "grid_template_areas": null,
            "object_position": null,
            "object_fit": null,
            "grid_auto_columns": null,
            "margin": null,
            "display": null,
            "left": null
          }
        },
        "1ae030a4d54947a0bc274d5326173a3f": {
          "model_module": "@jupyter-widgets/controls",
          "model_name": "FloatProgressModel",
          "state": {
            "_view_name": "ProgressView",
            "style": "IPY_MODEL_0a4596e834284873854b20f577331790",
            "_dom_classes": [],
            "description": "Downloading: 100%",
            "_model_name": "FloatProgressModel",
            "bar_style": "success",
            "max": 570,
            "_view_module": "@jupyter-widgets/controls",
            "_model_module_version": "1.5.0",
            "value": 570,
            "_view_count": null,
            "_view_module_version": "1.5.0",
            "orientation": "horizontal",
            "min": 0,
            "description_tooltip": null,
            "_model_module": "@jupyter-widgets/controls",
            "layout": "IPY_MODEL_e4eb1fcb027248ff91dd9c68df73b066"
          }
        },
        "34fcd5758a79479e95117505f48c0bb3": {
          "model_module": "@jupyter-widgets/controls",
          "model_name": "HTMLModel",
          "state": {
            "_view_name": "HTMLView",
            "style": "IPY_MODEL_b390fcd50965405485d428cc1ab20825",
            "_dom_classes": [],
            "description": "",
            "_model_name": "HTMLModel",
            "placeholder": "​",
            "_view_module": "@jupyter-widgets/controls",
            "_model_module_version": "1.5.0",
            "value": " 570/570 [00:17&lt;00:00, 32.1B/s]",
            "_view_count": null,
            "_view_module_version": "1.5.0",
            "description_tooltip": null,
            "_model_module": "@jupyter-widgets/controls",
            "layout": "IPY_MODEL_c38812c44c434d11b1f2c55e74457388"
          }
        },
        "0a4596e834284873854b20f577331790": {
          "model_module": "@jupyter-widgets/controls",
          "model_name": "ProgressStyleModel",
          "state": {
            "_view_name": "StyleView",
            "_model_name": "ProgressStyleModel",
            "description_width": "initial",
            "_view_module": "@jupyter-widgets/base",
            "_model_module_version": "1.5.0",
            "_view_count": null,
            "_view_module_version": "1.2.0",
            "bar_color": null,
            "_model_module": "@jupyter-widgets/controls"
          }
        },
        "e4eb1fcb027248ff91dd9c68df73b066": {
          "model_module": "@jupyter-widgets/base",
          "model_name": "LayoutModel",
          "state": {
            "_view_name": "LayoutView",
            "grid_template_rows": null,
            "right": null,
            "justify_content": null,
            "_view_module": "@jupyter-widgets/base",
            "overflow": null,
            "_model_module_version": "1.2.0",
            "_view_count": null,
            "flex_flow": null,
            "width": null,
            "min_width": null,
            "border": null,
            "align_items": null,
            "bottom": null,
            "_model_module": "@jupyter-widgets/base",
            "top": null,
            "grid_column": null,
            "overflow_y": null,
            "overflow_x": null,
            "grid_auto_flow": null,
            "grid_area": null,
            "grid_template_columns": null,
            "flex": null,
            "_model_name": "LayoutModel",
            "justify_items": null,
            "grid_row": null,
            "max_height": null,
            "align_content": null,
            "visibility": null,
            "align_self": null,
            "height": null,
            "min_height": null,
            "padding": null,
            "grid_auto_rows": null,
            "grid_gap": null,
            "max_width": null,
            "order": null,
            "_view_module_version": "1.2.0",
            "grid_template_areas": null,
            "object_position": null,
            "object_fit": null,
            "grid_auto_columns": null,
            "margin": null,
            "display": null,
            "left": null
          }
        },
        "b390fcd50965405485d428cc1ab20825": {
          "model_module": "@jupyter-widgets/controls",
          "model_name": "DescriptionStyleModel",
          "state": {
            "_view_name": "StyleView",
            "_model_name": "DescriptionStyleModel",
            "description_width": "",
            "_view_module": "@jupyter-widgets/base",
            "_model_module_version": "1.5.0",
            "_view_count": null,
            "_view_module_version": "1.2.0",
            "_model_module": "@jupyter-widgets/controls"
          }
        },
        "c38812c44c434d11b1f2c55e74457388": {
          "model_module": "@jupyter-widgets/base",
          "model_name": "LayoutModel",
          "state": {
            "_view_name": "LayoutView",
            "grid_template_rows": null,
            "right": null,
            "justify_content": null,
            "_view_module": "@jupyter-widgets/base",
            "overflow": null,
            "_model_module_version": "1.2.0",
            "_view_count": null,
            "flex_flow": null,
            "width": null,
            "min_width": null,
            "border": null,
            "align_items": null,
            "bottom": null,
            "_model_module": "@jupyter-widgets/base",
            "top": null,
            "grid_column": null,
            "overflow_y": null,
            "overflow_x": null,
            "grid_auto_flow": null,
            "grid_area": null,
            "grid_template_columns": null,
            "flex": null,
            "_model_name": "LayoutModel",
            "justify_items": null,
            "grid_row": null,
            "max_height": null,
            "align_content": null,
            "visibility": null,
            "align_self": null,
            "height": null,
            "min_height": null,
            "padding": null,
            "grid_auto_rows": null,
            "grid_gap": null,
            "max_width": null,
            "order": null,
            "_view_module_version": "1.2.0",
            "grid_template_areas": null,
            "object_position": null,
            "object_fit": null,
            "grid_auto_columns": null,
            "margin": null,
            "display": null,
            "left": null
          }
        },
        "c909d2a6a5bf462db8ec5399bd9113a1": {
          "model_module": "@jupyter-widgets/controls",
          "model_name": "HBoxModel",
          "state": {
            "_view_name": "HBoxView",
            "_dom_classes": [],
            "_model_name": "HBoxModel",
            "_view_module": "@jupyter-widgets/controls",
            "_model_module_version": "1.5.0",
            "_view_count": null,
            "_view_module_version": "1.5.0",
            "box_style": "",
            "layout": "IPY_MODEL_e0c85fdb6845441187546d758b1e1075",
            "_model_module": "@jupyter-widgets/controls",
            "children": [
              "IPY_MODEL_6fefad7fcef54e5fb6dbed83227c1c89",
              "IPY_MODEL_ae40779af6a4488b8ecd0f09bad6996f"
            ]
          }
        },
        "e0c85fdb6845441187546d758b1e1075": {
          "model_module": "@jupyter-widgets/base",
          "model_name": "LayoutModel",
          "state": {
            "_view_name": "LayoutView",
            "grid_template_rows": null,
            "right": null,
            "justify_content": null,
            "_view_module": "@jupyter-widgets/base",
            "overflow": null,
            "_model_module_version": "1.2.0",
            "_view_count": null,
            "flex_flow": null,
            "width": null,
            "min_width": null,
            "border": null,
            "align_items": null,
            "bottom": null,
            "_model_module": "@jupyter-widgets/base",
            "top": null,
            "grid_column": null,
            "overflow_y": null,
            "overflow_x": null,
            "grid_auto_flow": null,
            "grid_area": null,
            "grid_template_columns": null,
            "flex": null,
            "_model_name": "LayoutModel",
            "justify_items": null,
            "grid_row": null,
            "max_height": null,
            "align_content": null,
            "visibility": null,
            "align_self": null,
            "height": null,
            "min_height": null,
            "padding": null,
            "grid_auto_rows": null,
            "grid_gap": null,
            "max_width": null,
            "order": null,
            "_view_module_version": "1.2.0",
            "grid_template_areas": null,
            "object_position": null,
            "object_fit": null,
            "grid_auto_columns": null,
            "margin": null,
            "display": null,
            "left": null
          }
        },
        "6fefad7fcef54e5fb6dbed83227c1c89": {
          "model_module": "@jupyter-widgets/controls",
          "model_name": "FloatProgressModel",
          "state": {
            "_view_name": "ProgressView",
            "style": "IPY_MODEL_5df9606d7522400bafa8fcfb7275b0b4",
            "_dom_classes": [],
            "description": "Downloading: 100%",
            "_model_name": "FloatProgressModel",
            "bar_style": "success",
            "max": 435779157,
            "_view_module": "@jupyter-widgets/controls",
            "_model_module_version": "1.5.0",
            "value": 435779157,
            "_view_count": null,
            "_view_module_version": "1.5.0",
            "orientation": "horizontal",
            "min": 0,
            "description_tooltip": null,
            "_model_module": "@jupyter-widgets/controls",
            "layout": "IPY_MODEL_8110593bf4ac4502aee9812f2955150c"
          }
        },
        "ae40779af6a4488b8ecd0f09bad6996f": {
          "model_module": "@jupyter-widgets/controls",
          "model_name": "HTMLModel",
          "state": {
            "_view_name": "HTMLView",
            "style": "IPY_MODEL_21313cb29c4549c4b4e06074cba72d6c",
            "_dom_classes": [],
            "description": "",
            "_model_name": "HTMLModel",
            "placeholder": "​",
            "_view_module": "@jupyter-widgets/controls",
            "_model_module_version": "1.5.0",
            "value": " 436M/436M [00:08&lt;00:00, 52.6MB/s]",
            "_view_count": null,
            "_view_module_version": "1.5.0",
            "description_tooltip": null,
            "_model_module": "@jupyter-widgets/controls",
            "layout": "IPY_MODEL_cf4513af10c648b58990921d767ffa8b"
          }
        },
        "5df9606d7522400bafa8fcfb7275b0b4": {
          "model_module": "@jupyter-widgets/controls",
          "model_name": "ProgressStyleModel",
          "state": {
            "_view_name": "StyleView",
            "_model_name": "ProgressStyleModel",
            "description_width": "initial",
            "_view_module": "@jupyter-widgets/base",
            "_model_module_version": "1.5.0",
            "_view_count": null,
            "_view_module_version": "1.2.0",
            "bar_color": null,
            "_model_module": "@jupyter-widgets/controls"
          }
        },
        "8110593bf4ac4502aee9812f2955150c": {
          "model_module": "@jupyter-widgets/base",
          "model_name": "LayoutModel",
          "state": {
            "_view_name": "LayoutView",
            "grid_template_rows": null,
            "right": null,
            "justify_content": null,
            "_view_module": "@jupyter-widgets/base",
            "overflow": null,
            "_model_module_version": "1.2.0",
            "_view_count": null,
            "flex_flow": null,
            "width": null,
            "min_width": null,
            "border": null,
            "align_items": null,
            "bottom": null,
            "_model_module": "@jupyter-widgets/base",
            "top": null,
            "grid_column": null,
            "overflow_y": null,
            "overflow_x": null,
            "grid_auto_flow": null,
            "grid_area": null,
            "grid_template_columns": null,
            "flex": null,
            "_model_name": "LayoutModel",
            "justify_items": null,
            "grid_row": null,
            "max_height": null,
            "align_content": null,
            "visibility": null,
            "align_self": null,
            "height": null,
            "min_height": null,
            "padding": null,
            "grid_auto_rows": null,
            "grid_gap": null,
            "max_width": null,
            "order": null,
            "_view_module_version": "1.2.0",
            "grid_template_areas": null,
            "object_position": null,
            "object_fit": null,
            "grid_auto_columns": null,
            "margin": null,
            "display": null,
            "left": null
          }
        },
        "21313cb29c4549c4b4e06074cba72d6c": {
          "model_module": "@jupyter-widgets/controls",
          "model_name": "DescriptionStyleModel",
          "state": {
            "_view_name": "StyleView",
            "_model_name": "DescriptionStyleModel",
            "description_width": "",
            "_view_module": "@jupyter-widgets/base",
            "_model_module_version": "1.5.0",
            "_view_count": null,
            "_view_module_version": "1.2.0",
            "_model_module": "@jupyter-widgets/controls"
          }
        },
        "cf4513af10c648b58990921d767ffa8b": {
          "model_module": "@jupyter-widgets/base",
          "model_name": "LayoutModel",
          "state": {
            "_view_name": "LayoutView",
            "grid_template_rows": null,
            "right": null,
            "justify_content": null,
            "_view_module": "@jupyter-widgets/base",
            "overflow": null,
            "_model_module_version": "1.2.0",
            "_view_count": null,
            "flex_flow": null,
            "width": null,
            "min_width": null,
            "border": null,
            "align_items": null,
            "bottom": null,
            "_model_module": "@jupyter-widgets/base",
            "top": null,
            "grid_column": null,
            "overflow_y": null,
            "overflow_x": null,
            "grid_auto_flow": null,
            "grid_area": null,
            "grid_template_columns": null,
            "flex": null,
            "_model_name": "LayoutModel",
            "justify_items": null,
            "grid_row": null,
            "max_height": null,
            "align_content": null,
            "visibility": null,
            "align_self": null,
            "height": null,
            "min_height": null,
            "padding": null,
            "grid_auto_rows": null,
            "grid_gap": null,
            "max_width": null,
            "order": null,
            "_view_module_version": "1.2.0",
            "grid_template_areas": null,
            "object_position": null,
            "object_fit": null,
            "grid_auto_columns": null,
            "margin": null,
            "display": null,
            "left": null
          }
        },
        "dafa68afb4d645cb97d307a93bcbf31d": {
          "model_module": "@jupyter-widgets/controls",
          "model_name": "HBoxModel",
          "state": {
            "_view_name": "HBoxView",
            "_dom_classes": [],
            "_model_name": "HBoxModel",
            "_view_module": "@jupyter-widgets/controls",
            "_model_module_version": "1.5.0",
            "_view_count": null,
            "_view_module_version": "1.5.0",
            "box_style": "",
            "layout": "IPY_MODEL_77d56ca9e39b41f0950bd3b406c46b53",
            "_model_module": "@jupyter-widgets/controls",
            "children": [
              "IPY_MODEL_22a9c667819c4395ac25e7d3b9453f51",
              "IPY_MODEL_d7730e267a304e79b3d36162a35407cd"
            ]
          }
        },
        "77d56ca9e39b41f0950bd3b406c46b53": {
          "model_module": "@jupyter-widgets/base",
          "model_name": "LayoutModel",
          "state": {
            "_view_name": "LayoutView",
            "grid_template_rows": null,
            "right": null,
            "justify_content": null,
            "_view_module": "@jupyter-widgets/base",
            "overflow": null,
            "_model_module_version": "1.2.0",
            "_view_count": null,
            "flex_flow": null,
            "width": null,
            "min_width": null,
            "border": null,
            "align_items": null,
            "bottom": null,
            "_model_module": "@jupyter-widgets/base",
            "top": null,
            "grid_column": null,
            "overflow_y": null,
            "overflow_x": null,
            "grid_auto_flow": null,
            "grid_area": null,
            "grid_template_columns": null,
            "flex": null,
            "_model_name": "LayoutModel",
            "justify_items": null,
            "grid_row": null,
            "max_height": null,
            "align_content": null,
            "visibility": null,
            "align_self": null,
            "height": null,
            "min_height": null,
            "padding": null,
            "grid_auto_rows": null,
            "grid_gap": null,
            "max_width": null,
            "order": null,
            "_view_module_version": "1.2.0",
            "grid_template_areas": null,
            "object_position": null,
            "object_fit": null,
            "grid_auto_columns": null,
            "margin": null,
            "display": null,
            "left": null
          }
        },
        "22a9c667819c4395ac25e7d3b9453f51": {
          "model_module": "@jupyter-widgets/controls",
          "model_name": "FloatProgressModel",
          "state": {
            "_view_name": "ProgressView",
            "style": "IPY_MODEL_b53ff3e26c91437989a10942bc221db4",
            "_dom_classes": [],
            "description": "Downloading: 100%",
            "_model_name": "FloatProgressModel",
            "bar_style": "success",
            "max": 213450,
            "_view_module": "@jupyter-widgets/controls",
            "_model_module_version": "1.5.0",
            "value": 213450,
            "_view_count": null,
            "_view_module_version": "1.5.0",
            "orientation": "horizontal",
            "min": 0,
            "description_tooltip": null,
            "_model_module": "@jupyter-widgets/controls",
            "layout": "IPY_MODEL_806271d668a04f82a09d89cd767bff3d"
          }
        },
        "d7730e267a304e79b3d36162a35407cd": {
          "model_module": "@jupyter-widgets/controls",
          "model_name": "HTMLModel",
          "state": {
            "_view_name": "HTMLView",
            "style": "IPY_MODEL_eed8db6f70594d609f3a8ccbba87eb7c",
            "_dom_classes": [],
            "description": "",
            "_model_name": "HTMLModel",
            "placeholder": "​",
            "_view_module": "@jupyter-widgets/controls",
            "_model_module_version": "1.5.0",
            "value": " 213k/213k [00:00&lt;00:00, 570kB/s]",
            "_view_count": null,
            "_view_module_version": "1.5.0",
            "description_tooltip": null,
            "_model_module": "@jupyter-widgets/controls",
            "layout": "IPY_MODEL_312d50d033934834a4f49abf83387311"
          }
        },
        "b53ff3e26c91437989a10942bc221db4": {
          "model_module": "@jupyter-widgets/controls",
          "model_name": "ProgressStyleModel",
          "state": {
            "_view_name": "StyleView",
            "_model_name": "ProgressStyleModel",
            "description_width": "initial",
            "_view_module": "@jupyter-widgets/base",
            "_model_module_version": "1.5.0",
            "_view_count": null,
            "_view_module_version": "1.2.0",
            "bar_color": null,
            "_model_module": "@jupyter-widgets/controls"
          }
        },
        "806271d668a04f82a09d89cd767bff3d": {
          "model_module": "@jupyter-widgets/base",
          "model_name": "LayoutModel",
          "state": {
            "_view_name": "LayoutView",
            "grid_template_rows": null,
            "right": null,
            "justify_content": null,
            "_view_module": "@jupyter-widgets/base",
            "overflow": null,
            "_model_module_version": "1.2.0",
            "_view_count": null,
            "flex_flow": null,
            "width": null,
            "min_width": null,
            "border": null,
            "align_items": null,
            "bottom": null,
            "_model_module": "@jupyter-widgets/base",
            "top": null,
            "grid_column": null,
            "overflow_y": null,
            "overflow_x": null,
            "grid_auto_flow": null,
            "grid_area": null,
            "grid_template_columns": null,
            "flex": null,
            "_model_name": "LayoutModel",
            "justify_items": null,
            "grid_row": null,
            "max_height": null,
            "align_content": null,
            "visibility": null,
            "align_self": null,
            "height": null,
            "min_height": null,
            "padding": null,
            "grid_auto_rows": null,
            "grid_gap": null,
            "max_width": null,
            "order": null,
            "_view_module_version": "1.2.0",
            "grid_template_areas": null,
            "object_position": null,
            "object_fit": null,
            "grid_auto_columns": null,
            "margin": null,
            "display": null,
            "left": null
          }
        },
        "eed8db6f70594d609f3a8ccbba87eb7c": {
          "model_module": "@jupyter-widgets/controls",
          "model_name": "DescriptionStyleModel",
          "state": {
            "_view_name": "StyleView",
            "_model_name": "DescriptionStyleModel",
            "description_width": "",
            "_view_module": "@jupyter-widgets/base",
            "_model_module_version": "1.5.0",
            "_view_count": null,
            "_view_module_version": "1.2.0",
            "_model_module": "@jupyter-widgets/controls"
          }
        },
        "312d50d033934834a4f49abf83387311": {
          "model_module": "@jupyter-widgets/base",
          "model_name": "LayoutModel",
          "state": {
            "_view_name": "LayoutView",
            "grid_template_rows": null,
            "right": null,
            "justify_content": null,
            "_view_module": "@jupyter-widgets/base",
            "overflow": null,
            "_model_module_version": "1.2.0",
            "_view_count": null,
            "flex_flow": null,
            "width": null,
            "min_width": null,
            "border": null,
            "align_items": null,
            "bottom": null,
            "_model_module": "@jupyter-widgets/base",
            "top": null,
            "grid_column": null,
            "overflow_y": null,
            "overflow_x": null,
            "grid_auto_flow": null,
            "grid_area": null,
            "grid_template_columns": null,
            "flex": null,
            "_model_name": "LayoutModel",
            "justify_items": null,
            "grid_row": null,
            "max_height": null,
            "align_content": null,
            "visibility": null,
            "align_self": null,
            "height": null,
            "min_height": null,
            "padding": null,
            "grid_auto_rows": null,
            "grid_gap": null,
            "max_width": null,
            "order": null,
            "_view_module_version": "1.2.0",
            "grid_template_areas": null,
            "object_position": null,
            "object_fit": null,
            "grid_auto_columns": null,
            "margin": null,
            "display": null,
            "left": null
          }
        }
      }
    },
    "accelerator": "GPU"
  },
  "cells": [
    {
      "cell_type": "markdown",
      "metadata": {
        "id": "sJsBpETWrSlk"
      },
      "source": [
        "# Setup"
      ]
    },
    {
      "cell_type": "code",
      "metadata": {
        "colab": {
          "base_uri": "https://localhost:8080/"
        },
        "id": "Y5DJt9KGoSf5",
        "outputId": "6199ecae-92fc-4ef2-92da-9d35d6110adb"
      },
      "source": [
        "!git clone https://github.com/neuspell/neuspell\n",
        "%cd neuspell"
      ],
      "execution_count": 1,
      "outputs": [
        {
          "output_type": "stream",
          "text": [
            "Cloning into 'neuspell'...\n",
            "remote: Enumerating objects: 653, done.\u001b[K\n",
            "remote: Counting objects: 100% (456/456), done.\u001b[K\n",
            "remote: Compressing objects: 100% (287/287), done.\u001b[K\n",
            "remote: Total 653 (delta 280), reused 303 (delta 151), pack-reused 197\u001b[K\n",
            "Receiving objects: 100% (653/653), 74.43 MiB | 20.94 MiB/s, done.\n",
            "Resolving deltas: 100% (306/306), done.\n",
            "/content/neuspell\n"
          ],
          "name": "stdout"
        }
      ]
    },
    {
      "cell_type": "code",
      "metadata": {
        "colab": {
          "base_uri": "https://localhost:8080/"
        },
        "id": "fiymHeLeoZfU",
        "outputId": "ce8359f8-ba82-47fa-de78-c262769a79ac"
      },
      "source": [
        "!pip install -e ."
      ],
      "execution_count": 2,
      "outputs": [
        {
          "output_type": "stream",
          "text": [
            "Obtaining file:///content/neuspell\n",
            "Collecting transformers\n",
            "\u001b[?25l  Downloading https://files.pythonhosted.org/packages/d8/b2/57495b5309f09fa501866e225c84532d1fd89536ea62406b2181933fb418/transformers-4.5.1-py3-none-any.whl (2.1MB)\n",
            "\u001b[K     |████████████████████████████████| 2.1MB 12.7MB/s \n",
            "\u001b[?25hRequirement already satisfied: tqdm in /usr/local/lib/python3.7/dist-packages (from neuspell==1.0.0) (4.41.1)\n",
            "Requirement already satisfied: torch>=1.6.0 in /usr/local/lib/python3.7/dist-packages (from neuspell==1.0.0) (1.8.1+cu101)\n",
            "Requirement already satisfied: numpy in /usr/local/lib/python3.7/dist-packages (from neuspell==1.0.0) (1.19.5)\n",
            "Collecting jsonlines\n",
            "  Downloading https://files.pythonhosted.org/packages/d4/58/06f430ff7607a2929f80f07bfd820acbc508a4e977542fefcc522cde9dff/jsonlines-2.0.0-py3-none-any.whl\n",
            "Collecting sentencepiece\n",
            "\u001b[?25l  Downloading https://files.pythonhosted.org/packages/f5/99/e0808cb947ba10f575839c43e8fafc9cc44e4a7a2c8f79c60db48220a577/sentencepiece-0.1.95-cp37-cp37m-manylinux2014_x86_64.whl (1.2MB)\n",
            "\u001b[K     |████████████████████████████████| 1.2MB 54.0MB/s \n",
            "\u001b[?25hCollecting pytorch_pretrained_bert\n",
            "\u001b[?25l  Downloading https://files.pythonhosted.org/packages/d7/e0/c08d5553b89973d9a240605b9c12404bcf8227590de62bae27acbcfe076b/pytorch_pretrained_bert-0.6.2-py3-none-any.whl (123kB)\n",
            "\u001b[K     |████████████████████████████████| 133kB 57.5MB/s \n",
            "\u001b[?25hCollecting sacremoses\n",
            "\u001b[?25l  Downloading https://files.pythonhosted.org/packages/75/ee/67241dc87f266093c533a2d4d3d69438e57d7a90abb216fa076e7d475d4a/sacremoses-0.0.45-py3-none-any.whl (895kB)\n",
            "\u001b[K     |████████████████████████████████| 901kB 56.5MB/s \n",
            "\u001b[?25hCollecting tokenizers<0.11,>=0.10.1\n",
            "\u001b[?25l  Downloading https://files.pythonhosted.org/packages/ae/04/5b870f26a858552025a62f1649c20d29d2672c02ff3c3fb4c688ca46467a/tokenizers-0.10.2-cp37-cp37m-manylinux2010_x86_64.whl (3.3MB)\n",
            "\u001b[K     |████████████████████████████████| 3.3MB 52.8MB/s \n",
            "\u001b[?25hRequirement already satisfied: importlib-metadata; python_version < \"3.8\" in /usr/local/lib/python3.7/dist-packages (from transformers->neuspell==1.0.0) (3.10.1)\n",
            "Requirement already satisfied: requests in /usr/local/lib/python3.7/dist-packages (from transformers->neuspell==1.0.0) (2.23.0)\n",
            "Requirement already satisfied: filelock in /usr/local/lib/python3.7/dist-packages (from transformers->neuspell==1.0.0) (3.0.12)\n",
            "Requirement already satisfied: regex!=2019.12.17 in /usr/local/lib/python3.7/dist-packages (from transformers->neuspell==1.0.0) (2019.12.20)\n",
            "Requirement already satisfied: packaging in /usr/local/lib/python3.7/dist-packages (from transformers->neuspell==1.0.0) (20.9)\n",
            "Requirement already satisfied: typing-extensions in /usr/local/lib/python3.7/dist-packages (from torch>=1.6.0->neuspell==1.0.0) (3.7.4.3)\n",
            "Collecting boto3\n",
            "\u001b[?25l  Downloading https://files.pythonhosted.org/packages/d2/8f/42959300c543b4d34bc9f9b54954471a33384c181084ed84f070763d7f37/boto3-1.17.62-py2.py3-none-any.whl (131kB)\n",
            "\u001b[K     |████████████████████████████████| 133kB 51.4MB/s \n",
            "\u001b[?25hRequirement already satisfied: click in /usr/local/lib/python3.7/dist-packages (from sacremoses->transformers->neuspell==1.0.0) (7.1.2)\n",
            "Requirement already satisfied: six in /usr/local/lib/python3.7/dist-packages (from sacremoses->transformers->neuspell==1.0.0) (1.15.0)\n",
            "Requirement already satisfied: joblib in /usr/local/lib/python3.7/dist-packages (from sacremoses->transformers->neuspell==1.0.0) (1.0.1)\n",
            "Requirement already satisfied: zipp>=0.5 in /usr/local/lib/python3.7/dist-packages (from importlib-metadata; python_version < \"3.8\"->transformers->neuspell==1.0.0) (3.4.1)\n",
            "Requirement already satisfied: chardet<4,>=3.0.2 in /usr/local/lib/python3.7/dist-packages (from requests->transformers->neuspell==1.0.0) (3.0.4)\n",
            "Requirement already satisfied: idna<3,>=2.5 in /usr/local/lib/python3.7/dist-packages (from requests->transformers->neuspell==1.0.0) (2.10)\n",
            "Requirement already satisfied: certifi>=2017.4.17 in /usr/local/lib/python3.7/dist-packages (from requests->transformers->neuspell==1.0.0) (2020.12.5)\n",
            "Requirement already satisfied: urllib3!=1.25.0,!=1.25.1,<1.26,>=1.21.1 in /usr/local/lib/python3.7/dist-packages (from requests->transformers->neuspell==1.0.0) (1.24.3)\n",
            "Requirement already satisfied: pyparsing>=2.0.2 in /usr/local/lib/python3.7/dist-packages (from packaging->transformers->neuspell==1.0.0) (2.4.7)\n",
            "Collecting s3transfer<0.5.0,>=0.4.0\n",
            "\u001b[?25l  Downloading https://files.pythonhosted.org/packages/63/d0/693477c688348654ddc21dcdce0817653a294aa43f41771084c25e7ff9c7/s3transfer-0.4.2-py2.py3-none-any.whl (79kB)\n",
            "\u001b[K     |████████████████████████████████| 81kB 10.4MB/s \n",
            "\u001b[?25hCollecting jmespath<1.0.0,>=0.7.1\n",
            "  Downloading https://files.pythonhosted.org/packages/07/cb/5f001272b6faeb23c1c9e0acc04d48eaaf5c862c17709d20e3469c6e0139/jmespath-0.10.0-py2.py3-none-any.whl\n",
            "Collecting botocore<1.21.0,>=1.20.62\n",
            "\u001b[?25l  Downloading https://files.pythonhosted.org/packages/bd/60/ba830f93176fdc23166043298173ee2aecd5cf150f1ede51d6506f021deb/botocore-1.20.62-py2.py3-none-any.whl (7.5MB)\n",
            "\u001b[K     |████████████████████████████████| 7.5MB 53.2MB/s \n",
            "\u001b[?25hRequirement already satisfied: python-dateutil<3.0.0,>=2.1 in /usr/local/lib/python3.7/dist-packages (from botocore<1.21.0,>=1.20.62->boto3->pytorch_pretrained_bert->neuspell==1.0.0) (2.8.1)\n",
            "\u001b[31mERROR: botocore 1.20.62 has requirement urllib3<1.27,>=1.25.4, but you'll have urllib3 1.24.3 which is incompatible.\u001b[0m\n",
            "Installing collected packages: sacremoses, tokenizers, transformers, jsonlines, sentencepiece, jmespath, botocore, s3transfer, boto3, pytorch-pretrained-bert, neuspell\n",
            "  Running setup.py develop for neuspell\n",
            "Successfully installed boto3-1.17.62 botocore-1.20.62 jmespath-0.10.0 jsonlines-2.0.0 neuspell pytorch-pretrained-bert-0.6.2 s3transfer-0.4.2 sacremoses-0.0.45 sentencepiece-0.1.95 tokenizers-0.10.2 transformers-4.5.1\n"
          ],
          "name": "stdout"
        }
      ]
    },
    {
      "cell_type": "code",
      "metadata": {
        "colab": {
          "base_uri": "https://localhost:8080/"
        },
        "id": "8LolSwfmocil",
        "outputId": "78cc2c57-e9d3-404c-9774-f67efd572451"
      },
      "source": [
        "!pip install urllib3==1.25.4"
      ],
      "execution_count": 3,
      "outputs": [
        {
          "output_type": "stream",
          "text": [
            "Collecting urllib3==1.25.4\n",
            "\u001b[?25l  Downloading https://files.pythonhosted.org/packages/91/0d/7777358f672a14b7ae0dfcd29f949f409f913e0578190d6bfa68eb55864b/urllib3-1.25.4-py2.py3-none-any.whl (125kB)\n",
            "\r\u001b[K     |██▋                             | 10kB 17.4MB/s eta 0:00:01\r\u001b[K     |█████▏                          | 20kB 23.9MB/s eta 0:00:01\r\u001b[K     |███████▉                        | 30kB 26.9MB/s eta 0:00:01\r\u001b[K     |██████████▍                     | 40kB 20.5MB/s eta 0:00:01\r\u001b[K     |█████████████                   | 51kB 15.5MB/s eta 0:00:01\r\u001b[K     |███████████████▋                | 61kB 14.3MB/s eta 0:00:01\r\u001b[K     |██████████████████▎             | 71kB 12.1MB/s eta 0:00:01\r\u001b[K     |████████████████████▉           | 81kB 13.2MB/s eta 0:00:01\r\u001b[K     |███████████████████████▌        | 92kB 14.3MB/s eta 0:00:01\r\u001b[K     |██████████████████████████      | 102kB 14.2MB/s eta 0:00:01\r\u001b[K     |████████████████████████████▊   | 112kB 14.2MB/s eta 0:00:01\r\u001b[K     |███████████████████████████████▎| 122kB 14.2MB/s eta 0:00:01\r\u001b[K     |████████████████████████████████| 133kB 14.2MB/s \n",
            "\u001b[31mERROR: datascience 0.10.6 has requirement folium==0.2.1, but you'll have folium 0.8.3 which is incompatible.\u001b[0m\n",
            "\u001b[?25hInstalling collected packages: urllib3\n",
            "  Found existing installation: urllib3 1.24.3\n",
            "    Uninstalling urllib3-1.24.3:\n",
            "      Successfully uninstalled urllib3-1.24.3\n",
            "Successfully installed urllib3-1.25.4\n"
          ],
          "name": "stdout"
        }
      ]
    },
    {
      "cell_type": "code",
      "metadata": {
        "colab": {
          "base_uri": "https://localhost:8080/"
        },
        "id": "0owUYWg2pKTQ",
        "outputId": "743a55da-23e2-4586-8b84-70c154c2fa53"
      },
      "source": [
        "!pip install folium==0.2.1"
      ],
      "execution_count": 4,
      "outputs": [
        {
          "output_type": "stream",
          "text": [
            "Collecting folium==0.2.1\n",
            "\u001b[?25l  Downloading https://files.pythonhosted.org/packages/72/dd/75ced7437bfa7cb9a88b96ee0177953062803c3b4cde411a97d98c35adaf/folium-0.2.1.tar.gz (69kB)\n",
            "\r\u001b[K     |████▊                           | 10kB 20.7MB/s eta 0:00:01\r\u001b[K     |█████████▍                      | 20kB 26.9MB/s eta 0:00:01\r\u001b[K     |██████████████                  | 30kB 27.4MB/s eta 0:00:01\r\u001b[K     |██████████████████▊             | 40kB 19.8MB/s eta 0:00:01\r\u001b[K     |███████████████████████▍        | 51kB 15.4MB/s eta 0:00:01\r\u001b[K     |████████████████████████████    | 61kB 17.4MB/s eta 0:00:01\r\u001b[K     |████████████████████████████████| 71kB 6.8MB/s \n",
            "\u001b[?25hRequirement already satisfied: Jinja2 in /usr/local/lib/python3.7/dist-packages (from folium==0.2.1) (2.11.3)\n",
            "Requirement already satisfied: MarkupSafe>=0.23 in /usr/local/lib/python3.7/dist-packages (from Jinja2->folium==0.2.1) (1.1.1)\n",
            "Building wheels for collected packages: folium\n",
            "  Building wheel for folium (setup.py) ... \u001b[?25l\u001b[?25hdone\n",
            "  Created wheel for folium: filename=folium-0.2.1-cp37-none-any.whl size=79979 sha256=f4089a08c0b68c21b8d6cb3c717426c5971d62034633a4eee8a53a25869f9cd8\n",
            "  Stored in directory: /root/.cache/pip/wheels/b8/09/f0/52d2ef419c2aaf4fb149f92a33e0008bdce7ae816f0dd8f0c5\n",
            "Successfully built folium\n",
            "Installing collected packages: folium\n",
            "  Found existing installation: folium 0.8.3\n",
            "    Uninstalling folium-0.8.3:\n",
            "      Successfully uninstalled folium-0.8.3\n",
            "Successfully installed folium-0.2.1\n"
          ],
          "name": "stdout"
        }
      ]
    },
    {
      "cell_type": "code",
      "metadata": {
        "colab": {
          "base_uri": "https://localhost:8080/"
        },
        "id": "nBqDR09Konge",
        "outputId": "751235a0-1421-458a-dbb1-b2d919eb4789"
      },
      "source": [
        "!pip install -r extras-requirements.txt"
      ],
      "execution_count": null,
      "outputs": [
        {
          "output_type": "stream",
          "text": [
            "Obtaining file:///content/neuspell (from -r extras-requirements.txt (line 1))\n",
            "Obtaining file:///content/neuspell (from -r extras-requirements.txt (line 2))\n",
            "Requirement already satisfied: transformers in /usr/local/lib/python3.7/dist-packages (from neuspell==1.0.0->-r extras-requirements.txt (line 1)) (4.5.1)\n",
            "Requirement already satisfied: tqdm in /usr/local/lib/python3.7/dist-packages (from neuspell==1.0.0->-r extras-requirements.txt (line 1)) (4.41.1)\n",
            "Requirement already satisfied: torch>=1.6.0 in /usr/local/lib/python3.7/dist-packages (from neuspell==1.0.0->-r extras-requirements.txt (line 1)) (1.8.1+cu101)\n",
            "Requirement already satisfied: numpy in /usr/local/lib/python3.7/dist-packages (from neuspell==1.0.0->-r extras-requirements.txt (line 1)) (1.19.5)\n",
            "Requirement already satisfied: jsonlines in /usr/local/lib/python3.7/dist-packages (from neuspell==1.0.0->-r extras-requirements.txt (line 1)) (2.0.0)\n",
            "Requirement already satisfied: sentencepiece in /usr/local/lib/python3.7/dist-packages (from neuspell==1.0.0->-r extras-requirements.txt (line 1)) (0.1.95)\n",
            "Requirement already satisfied: pytorch_pretrained_bert in /usr/local/lib/python3.7/dist-packages (from neuspell==1.0.0->-r extras-requirements.txt (line 1)) (0.6.2)\n",
            "Requirement already satisfied: spacy in /usr/local/lib/python3.7/dist-packages (from neuspell==1.0.0->-r extras-requirements.txt (line 1)) (2.2.4)\n",
            "Collecting allennlp==1.5.0\n",
            "\u001b[?25l  Downloading https://files.pythonhosted.org/packages/31/56/1d3c00a8cec0d5d672c7a29980e0a468ea6287dc6e7ffd235cc6012c784d/allennlp-1.5.0-py3-none-any.whl (517kB)\n",
            "\u001b[K     |████████████████████████████████| 522kB 13.1MB/s \n",
            "\u001b[?25hRequirement already satisfied: regex!=2019.12.17 in /usr/local/lib/python3.7/dist-packages (from transformers->neuspell==1.0.0->-r extras-requirements.txt (line 1)) (2019.12.20)\n",
            "Requirement already satisfied: tokenizers<0.11,>=0.10.1 in /usr/local/lib/python3.7/dist-packages (from transformers->neuspell==1.0.0->-r extras-requirements.txt (line 1)) (0.10.2)\n",
            "Requirement already satisfied: requests in /usr/local/lib/python3.7/dist-packages (from transformers->neuspell==1.0.0->-r extras-requirements.txt (line 1)) (2.23.0)\n",
            "Requirement already satisfied: packaging in /usr/local/lib/python3.7/dist-packages (from transformers->neuspell==1.0.0->-r extras-requirements.txt (line 1)) (20.9)\n",
            "Requirement already satisfied: sacremoses in /usr/local/lib/python3.7/dist-packages (from transformers->neuspell==1.0.0->-r extras-requirements.txt (line 1)) (0.0.45)\n",
            "Requirement already satisfied: importlib-metadata; python_version < \"3.8\" in /usr/local/lib/python3.7/dist-packages (from transformers->neuspell==1.0.0->-r extras-requirements.txt (line 1)) (3.10.1)\n",
            "Requirement already satisfied: filelock in /usr/local/lib/python3.7/dist-packages (from transformers->neuspell==1.0.0->-r extras-requirements.txt (line 1)) (3.0.12)\n",
            "Requirement already satisfied: typing-extensions in /usr/local/lib/python3.7/dist-packages (from torch>=1.6.0->neuspell==1.0.0->-r extras-requirements.txt (line 1)) (3.7.4.3)\n",
            "Requirement already satisfied: boto3 in /usr/local/lib/python3.7/dist-packages (from pytorch_pretrained_bert->neuspell==1.0.0->-r extras-requirements.txt (line 1)) (1.17.62)\n",
            "Requirement already satisfied: thinc==7.4.0 in /usr/local/lib/python3.7/dist-packages (from spacy->neuspell==1.0.0->-r extras-requirements.txt (line 1)) (7.4.0)\n",
            "Requirement already satisfied: cymem<2.1.0,>=2.0.2 in /usr/local/lib/python3.7/dist-packages (from spacy->neuspell==1.0.0->-r extras-requirements.txt (line 1)) (2.0.5)\n",
            "Requirement already satisfied: murmurhash<1.1.0,>=0.28.0 in /usr/local/lib/python3.7/dist-packages (from spacy->neuspell==1.0.0->-r extras-requirements.txt (line 1)) (1.0.5)\n",
            "Requirement already satisfied: plac<1.2.0,>=0.9.6 in /usr/local/lib/python3.7/dist-packages (from spacy->neuspell==1.0.0->-r extras-requirements.txt (line 1)) (1.1.3)\n",
            "Requirement already satisfied: catalogue<1.1.0,>=0.0.7 in /usr/local/lib/python3.7/dist-packages (from spacy->neuspell==1.0.0->-r extras-requirements.txt (line 1)) (1.0.0)\n",
            "Requirement already satisfied: srsly<1.1.0,>=1.0.2 in /usr/local/lib/python3.7/dist-packages (from spacy->neuspell==1.0.0->-r extras-requirements.txt (line 1)) (1.0.5)\n",
            "Requirement already satisfied: blis<0.5.0,>=0.4.0 in /usr/local/lib/python3.7/dist-packages (from spacy->neuspell==1.0.0->-r extras-requirements.txt (line 1)) (0.4.1)\n",
            "Requirement already satisfied: preshed<3.1.0,>=3.0.2 in /usr/local/lib/python3.7/dist-packages (from spacy->neuspell==1.0.0->-r extras-requirements.txt (line 1)) (3.0.5)\n",
            "Requirement already satisfied: wasabi<1.1.0,>=0.4.0 in /usr/local/lib/python3.7/dist-packages (from spacy->neuspell==1.0.0->-r extras-requirements.txt (line 1)) (0.8.2)\n",
            "Requirement already satisfied: setuptools in /usr/local/lib/python3.7/dist-packages (from spacy->neuspell==1.0.0->-r extras-requirements.txt (line 1)) (56.0.0)\n",
            "Requirement already satisfied: scipy in /usr/local/lib/python3.7/dist-packages (from allennlp==1.5.0->neuspell==1.0.0->-r extras-requirements.txt (line 2)) (1.4.1)\n",
            "Collecting tensorboardX>=1.2\n",
            "\u001b[?25l  Downloading https://files.pythonhosted.org/packages/07/84/46421bd3e0e89a92682b1a38b40efc22dafb6d8e3d947e4ceefd4a5fabc7/tensorboardX-2.2-py2.py3-none-any.whl (120kB)\n",
            "\u001b[K     |████████████████████████████████| 122kB 30.7MB/s \n",
            "\u001b[?25hCollecting overrides==3.1.0\n",
            "  Downloading https://files.pythonhosted.org/packages/ff/b1/10f69c00947518e6676bbd43e739733048de64b8dd998e9c2d5a71f44c5d/overrides-3.1.0.tar.gz\n",
            "Requirement already satisfied: nltk in /usr/local/lib/python3.7/dist-packages (from allennlp==1.5.0->neuspell==1.0.0->-r extras-requirements.txt (line 2)) (3.2.5)\n",
            "Requirement already satisfied: scikit-learn in /usr/local/lib/python3.7/dist-packages (from allennlp==1.5.0->neuspell==1.0.0->-r extras-requirements.txt (line 2)) (0.22.2.post1)\n",
            "Requirement already satisfied: pytest in /usr/local/lib/python3.7/dist-packages (from allennlp==1.5.0->neuspell==1.0.0->-r extras-requirements.txt (line 2)) (3.6.4)\n",
            "Collecting jsonnet>=0.10.0; sys_platform != \"win32\"\n",
            "\u001b[?25l  Downloading https://files.pythonhosted.org/packages/42/40/6f16e5ac994b16fa71c24310f97174ce07d3a97b433275589265c6b94d2b/jsonnet-0.17.0.tar.gz (259kB)\n",
            "\u001b[K     |████████████████████████████████| 266kB 24.3MB/s \n",
            "\u001b[?25hCollecting jsonpickle\n",
            "  Downloading https://files.pythonhosted.org/packages/bb/1a/f2db026d4d682303793559f1c2bb425ba3ec0d6fd7ac63397790443f2461/jsonpickle-2.0.0-py2.py3-none-any.whl\n",
            "Requirement already satisfied: h5py in /usr/local/lib/python3.7/dist-packages (from allennlp==1.5.0->neuspell==1.0.0->-r extras-requirements.txt (line 2)) (2.10.0)\n",
            "Requirement already satisfied: chardet<4,>=3.0.2 in /usr/local/lib/python3.7/dist-packages (from requests->transformers->neuspell==1.0.0->-r extras-requirements.txt (line 1)) (3.0.4)\n",
            "Requirement already satisfied: urllib3!=1.25.0,!=1.25.1,<1.26,>=1.21.1 in /usr/local/lib/python3.7/dist-packages (from requests->transformers->neuspell==1.0.0->-r extras-requirements.txt (line 1)) (1.25.4)\n",
            "Requirement already satisfied: idna<3,>=2.5 in /usr/local/lib/python3.7/dist-packages (from requests->transformers->neuspell==1.0.0->-r extras-requirements.txt (line 1)) (2.10)\n",
            "Requirement already satisfied: certifi>=2017.4.17 in /usr/local/lib/python3.7/dist-packages (from requests->transformers->neuspell==1.0.0->-r extras-requirements.txt (line 1)) (2020.12.5)\n",
            "Requirement already satisfied: pyparsing>=2.0.2 in /usr/local/lib/python3.7/dist-packages (from packaging->transformers->neuspell==1.0.0->-r extras-requirements.txt (line 1)) (2.4.7)\n",
            "Requirement already satisfied: click in /usr/local/lib/python3.7/dist-packages (from sacremoses->transformers->neuspell==1.0.0->-r extras-requirements.txt (line 1)) (7.1.2)\n",
            "Requirement already satisfied: joblib in /usr/local/lib/python3.7/dist-packages (from sacremoses->transformers->neuspell==1.0.0->-r extras-requirements.txt (line 1)) (1.0.1)\n",
            "Requirement already satisfied: six in /usr/local/lib/python3.7/dist-packages (from sacremoses->transformers->neuspell==1.0.0->-r extras-requirements.txt (line 1)) (1.15.0)\n",
            "Requirement already satisfied: zipp>=0.5 in /usr/local/lib/python3.7/dist-packages (from importlib-metadata; python_version < \"3.8\"->transformers->neuspell==1.0.0->-r extras-requirements.txt (line 1)) (3.4.1)\n",
            "Requirement already satisfied: s3transfer<0.5.0,>=0.4.0 in /usr/local/lib/python3.7/dist-packages (from boto3->pytorch_pretrained_bert->neuspell==1.0.0->-r extras-requirements.txt (line 1)) (0.4.2)\n",
            "Requirement already satisfied: jmespath<1.0.0,>=0.7.1 in /usr/local/lib/python3.7/dist-packages (from boto3->pytorch_pretrained_bert->neuspell==1.0.0->-r extras-requirements.txt (line 1)) (0.10.0)\n",
            "Requirement already satisfied: botocore<1.21.0,>=1.20.62 in /usr/local/lib/python3.7/dist-packages (from boto3->pytorch_pretrained_bert->neuspell==1.0.0->-r extras-requirements.txt (line 1)) (1.20.62)\n",
            "Requirement already satisfied: protobuf>=3.8.0 in /usr/local/lib/python3.7/dist-packages (from tensorboardX>=1.2->allennlp==1.5.0->neuspell==1.0.0->-r extras-requirements.txt (line 2)) (3.12.4)\n",
            "Requirement already satisfied: attrs>=17.4.0 in /usr/local/lib/python3.7/dist-packages (from pytest->allennlp==1.5.0->neuspell==1.0.0->-r extras-requirements.txt (line 2)) (20.3.0)\n",
            "Requirement already satisfied: py>=1.5.0 in /usr/local/lib/python3.7/dist-packages (from pytest->allennlp==1.5.0->neuspell==1.0.0->-r extras-requirements.txt (line 2)) (1.10.0)\n",
            "Requirement already satisfied: more-itertools>=4.0.0 in /usr/local/lib/python3.7/dist-packages (from pytest->allennlp==1.5.0->neuspell==1.0.0->-r extras-requirements.txt (line 2)) (8.7.0)\n",
            "Requirement already satisfied: pluggy<0.8,>=0.5 in /usr/local/lib/python3.7/dist-packages (from pytest->allennlp==1.5.0->neuspell==1.0.0->-r extras-requirements.txt (line 2)) (0.7.1)\n",
            "Requirement already satisfied: atomicwrites>=1.0 in /usr/local/lib/python3.7/dist-packages (from pytest->allennlp==1.5.0->neuspell==1.0.0->-r extras-requirements.txt (line 2)) (1.4.0)\n",
            "Requirement already satisfied: python-dateutil<3.0.0,>=2.1 in /usr/local/lib/python3.7/dist-packages (from botocore<1.21.0,>=1.20.62->boto3->pytorch_pretrained_bert->neuspell==1.0.0->-r extras-requirements.txt (line 1)) (2.8.1)\n",
            "Building wheels for collected packages: overrides, jsonnet\n",
            "  Building wheel for overrides (setup.py) ... \u001b[?25l\u001b[?25hdone\n",
            "  Created wheel for overrides: filename=overrides-3.1.0-cp37-none-any.whl size=10174 sha256=04eba82c0bb81c43e52aed7cde54dd321ae2a4cf5c2eea68ab71f51702a216af\n",
            "  Stored in directory: /root/.cache/pip/wheels/5c/24/13/6ef8600e6f147c95e595f1289a86a3cc82ed65df57582c65a9\n",
            "  Building wheel for jsonnet (setup.py) ... \u001b[?25l\u001b[?25hdone\n",
            "  Created wheel for jsonnet: filename=jsonnet-0.17.0-cp37-cp37m-linux_x86_64.whl size=3388796 sha256=30bb43790076907dabbf62b27e2dc32c2dfe083a02af791d2a07002a14d97fb7\n",
            "  Stored in directory: /root/.cache/pip/wheels/26/7a/37/7dbcc30a6b4efd17b91ad1f0128b7bbf84813bd4e1cfb8c1e3\n",
            "Successfully built overrides jsonnet\n",
            "\u001b[31mERROR: allennlp 1.5.0 has requirement torch<1.8.0,>=1.6.0, but you'll have torch 1.8.1+cu101 which is incompatible.\u001b[0m\n",
            "\u001b[31mERROR: allennlp 1.5.0 has requirement transformers<4.3,>=4.1, but you'll have transformers 4.5.1 which is incompatible.\u001b[0m\n",
            "Installing collected packages: tensorboardX, overrides, jsonnet, jsonpickle, allennlp, neuspell\n",
            "  Found existing installation: neuspell 1.0.0\n",
            "    Can't uninstall 'neuspell'. No files were found to uninstall.\n",
            "  Running setup.py develop for neuspell\n",
            "Successfully installed allennlp-1.5.0 jsonnet-0.17.0 jsonpickle-2.0.0 neuspell overrides-3.1.0 tensorboardX-2.2\n"
          ],
          "name": "stdout"
        }
      ]
    },
    {
      "cell_type": "code",
      "metadata": {
        "colab": {
          "base_uri": "https://localhost:8080/"
        },
        "id": "KFTbuKdqos-z",
        "outputId": "089c9f24-b248-42ec-eda2-8d038bc2980b"
      },
      "source": [
        "!pip install torch==1.6.0"
      ],
      "execution_count": 6,
      "outputs": [
        {
          "output_type": "stream",
          "text": [
            "Collecting torch==1.6.0\n",
            "\u001b[?25l  Downloading https://files.pythonhosted.org/packages/5d/5e/35140615fc1f925023f489e71086a9ecc188053d263d3594237281284d82/torch-1.6.0-cp37-cp37m-manylinux1_x86_64.whl (748.8MB)\n",
            "\u001b[K     |████████████████████████████████| 748.8MB 22kB/s \n",
            "\u001b[?25hRequirement already satisfied: numpy in /usr/local/lib/python3.7/dist-packages (from torch==1.6.0) (1.19.5)\n",
            "Requirement already satisfied: future in /usr/local/lib/python3.7/dist-packages (from torch==1.6.0) (0.16.0)\n",
            "\u001b[31mERROR: torchvision 0.9.1+cu101 has requirement torch==1.8.1, but you'll have torch 1.6.0 which is incompatible.\u001b[0m\n",
            "\u001b[31mERROR: torchtext 0.9.1 has requirement torch==1.8.1, but you'll have torch 1.6.0 which is incompatible.\u001b[0m\n",
            "\u001b[31mERROR: allennlp 1.5.0 has requirement transformers<4.3,>=4.1, but you'll have transformers 4.5.1 which is incompatible.\u001b[0m\n",
            "Installing collected packages: torch\n",
            "  Found existing installation: torch 1.8.1+cu101\n",
            "    Uninstalling torch-1.8.1+cu101:\n",
            "      Successfully uninstalled torch-1.8.1+cu101\n",
            "Successfully installed torch-1.6.0\n"
          ],
          "name": "stdout"
        }
      ]
    },
    {
      "cell_type": "code",
      "metadata": {
        "colab": {
          "base_uri": "https://localhost:8080/"
        },
        "id": "se7YcT-Tphfd",
        "outputId": "45b44200-2ef0-4cb9-cf5d-3035f44ceef5"
      },
      "source": [
        "!pip install transformers==4.1"
      ],
      "execution_count": 7,
      "outputs": [
        {
          "output_type": "stream",
          "text": [
            "Collecting transformers==4.1\n",
            "\u001b[?25l  Downloading https://files.pythonhosted.org/packages/58/40/b1b8b0cad8eb37a7f9362a6c3930445bdf9dd745cdf6cbfce682fed4aef0/transformers-4.1.0-py3-none-any.whl (1.5MB)\n",
            "\r\u001b[K     |▏                               | 10kB 19.1MB/s eta 0:00:01\r\u001b[K     |▍                               | 20kB 26.1MB/s eta 0:00:01\r\u001b[K     |▋                               | 30kB 25.4MB/s eta 0:00:01\r\u001b[K     |▉                               | 40kB 18.4MB/s eta 0:00:01\r\u001b[K     |█                               | 51kB 18.1MB/s eta 0:00:01\r\u001b[K     |█▎                              | 61kB 15.4MB/s eta 0:00:01\r\u001b[K     |█▌                              | 71kB 15.1MB/s eta 0:00:01\r\u001b[K     |█▊                              | 81kB 16.4MB/s eta 0:00:01\r\u001b[K     |██                              | 92kB 14.4MB/s eta 0:00:01\r\u001b[K     |██▏                             | 102kB 15.1MB/s eta 0:00:01\r\u001b[K     |██▍                             | 112kB 15.1MB/s eta 0:00:01\r\u001b[K     |██▋                             | 122kB 15.1MB/s eta 0:00:01\r\u001b[K     |██▉                             | 133kB 15.1MB/s eta 0:00:01\r\u001b[K     |███                             | 143kB 15.1MB/s eta 0:00:01\r\u001b[K     |███▎                            | 153kB 15.1MB/s eta 0:00:01\r\u001b[K     |███▌                            | 163kB 15.1MB/s eta 0:00:01\r\u001b[K     |███▊                            | 174kB 15.1MB/s eta 0:00:01\r\u001b[K     |████                            | 184kB 15.1MB/s eta 0:00:01\r\u001b[K     |████▏                           | 194kB 15.1MB/s eta 0:00:01\r\u001b[K     |████▎                           | 204kB 15.1MB/s eta 0:00:01\r\u001b[K     |████▌                           | 215kB 15.1MB/s eta 0:00:01\r\u001b[K     |████▊                           | 225kB 15.1MB/s eta 0:00:01\r\u001b[K     |█████                           | 235kB 15.1MB/s eta 0:00:01\r\u001b[K     |█████▏                          | 245kB 15.1MB/s eta 0:00:01\r\u001b[K     |█████▍                          | 256kB 15.1MB/s eta 0:00:01\r\u001b[K     |█████▋                          | 266kB 15.1MB/s eta 0:00:01\r\u001b[K     |█████▉                          | 276kB 15.1MB/s eta 0:00:01\r\u001b[K     |██████                          | 286kB 15.1MB/s eta 0:00:01\r\u001b[K     |██████▎                         | 296kB 15.1MB/s eta 0:00:01\r\u001b[K     |██████▌                         | 307kB 15.1MB/s eta 0:00:01\r\u001b[K     |██████▊                         | 317kB 15.1MB/s eta 0:00:01\r\u001b[K     |███████                         | 327kB 15.1MB/s eta 0:00:01\r\u001b[K     |███████▏                        | 337kB 15.1MB/s eta 0:00:01\r\u001b[K     |███████▍                        | 348kB 15.1MB/s eta 0:00:01\r\u001b[K     |███████▋                        | 358kB 15.1MB/s eta 0:00:01\r\u001b[K     |███████▉                        | 368kB 15.1MB/s eta 0:00:01\r\u001b[K     |████████                        | 378kB 15.1MB/s eta 0:00:01\r\u001b[K     |████████▎                       | 389kB 15.1MB/s eta 0:00:01\r\u001b[K     |████████▌                       | 399kB 15.1MB/s eta 0:00:01\r\u001b[K     |████████▋                       | 409kB 15.1MB/s eta 0:00:01\r\u001b[K     |████████▉                       | 419kB 15.1MB/s eta 0:00:01\r\u001b[K     |█████████                       | 430kB 15.1MB/s eta 0:00:01\r\u001b[K     |█████████▎                      | 440kB 15.1MB/s eta 0:00:01\r\u001b[K     |█████████▌                      | 450kB 15.1MB/s eta 0:00:01\r\u001b[K     |█████████▊                      | 460kB 15.1MB/s eta 0:00:01\r\u001b[K     |██████████                      | 471kB 15.1MB/s eta 0:00:01\r\u001b[K     |██████████▏                     | 481kB 15.1MB/s eta 0:00:01\r\u001b[K     |██████████▍                     | 491kB 15.1MB/s eta 0:00:01\r\u001b[K     |██████████▋                     | 501kB 15.1MB/s eta 0:00:01\r\u001b[K     |██████████▉                     | 512kB 15.1MB/s eta 0:00:01\r\u001b[K     |███████████                     | 522kB 15.1MB/s eta 0:00:01\r\u001b[K     |███████████▎                    | 532kB 15.1MB/s eta 0:00:01\r\u001b[K     |███████████▌                    | 542kB 15.1MB/s eta 0:00:01\r\u001b[K     |███████████▊                    | 552kB 15.1MB/s eta 0:00:01\r\u001b[K     |████████████                    | 563kB 15.1MB/s eta 0:00:01\r\u001b[K     |████████████▏                   | 573kB 15.1MB/s eta 0:00:01\r\u001b[K     |████████████▍                   | 583kB 15.1MB/s eta 0:00:01\r\u001b[K     |████████████▋                   | 593kB 15.1MB/s eta 0:00:01\r\u001b[K     |████████████▉                   | 604kB 15.1MB/s eta 0:00:01\r\u001b[K     |█████████████                   | 614kB 15.1MB/s eta 0:00:01\r\u001b[K     |█████████████▏                  | 624kB 15.1MB/s eta 0:00:01\r\u001b[K     |█████████████▍                  | 634kB 15.1MB/s eta 0:00:01\r\u001b[K     |█████████████▋                  | 645kB 15.1MB/s eta 0:00:01\r\u001b[K     |█████████████▉                  | 655kB 15.1MB/s eta 0:00:01\r\u001b[K     |██████████████                  | 665kB 15.1MB/s eta 0:00:01\r\u001b[K     |██████████████▎                 | 675kB 15.1MB/s eta 0:00:01\r\u001b[K     |██████████████▌                 | 686kB 15.1MB/s eta 0:00:01\r\u001b[K     |██████████████▊                 | 696kB 15.1MB/s eta 0:00:01\r\u001b[K     |███████████████                 | 706kB 15.1MB/s eta 0:00:01\r\u001b[K     |███████████████▏                | 716kB 15.1MB/s eta 0:00:01\r\u001b[K     |███████████████▍                | 727kB 15.1MB/s eta 0:00:01\r\u001b[K     |███████████████▋                | 737kB 15.1MB/s eta 0:00:01\r\u001b[K     |███████████████▉                | 747kB 15.1MB/s eta 0:00:01\r\u001b[K     |████████████████                | 757kB 15.1MB/s eta 0:00:01\r\u001b[K     |████████████████▎               | 768kB 15.1MB/s eta 0:00:01\r\u001b[K     |████████████████▌               | 778kB 15.1MB/s eta 0:00:01\r\u001b[K     |████████████████▊               | 788kB 15.1MB/s eta 0:00:01\r\u001b[K     |█████████████████               | 798kB 15.1MB/s eta 0:00:01\r\u001b[K     |█████████████████               | 808kB 15.1MB/s eta 0:00:01\r\u001b[K     |█████████████████▎              | 819kB 15.1MB/s eta 0:00:01\r\u001b[K     |█████████████████▌              | 829kB 15.1MB/s eta 0:00:01\r\u001b[K     |█████████████████▊              | 839kB 15.1MB/s eta 0:00:01\r\u001b[K     |██████████████████              | 849kB 15.1MB/s eta 0:00:01\r\u001b[K     |██████████████████▏             | 860kB 15.1MB/s eta 0:00:01\r\u001b[K     |██████████████████▍             | 870kB 15.1MB/s eta 0:00:01\r\u001b[K     |██████████████████▋             | 880kB 15.1MB/s eta 0:00:01\r\u001b[K     |██████████████████▉             | 890kB 15.1MB/s eta 0:00:01\r\u001b[K     |███████████████████             | 901kB 15.1MB/s eta 0:00:01\r\u001b[K     |███████████████████▎            | 911kB 15.1MB/s eta 0:00:01\r\u001b[K     |███████████████████▌            | 921kB 15.1MB/s eta 0:00:01\r\u001b[K     |███████████████████▊            | 931kB 15.1MB/s eta 0:00:01\r\u001b[K     |████████████████████            | 942kB 15.1MB/s eta 0:00:01\r\u001b[K     |████████████████████▏           | 952kB 15.1MB/s eta 0:00:01\r\u001b[K     |████████████████████▍           | 962kB 15.1MB/s eta 0:00:01\r\u001b[K     |████████████████████▋           | 972kB 15.1MB/s eta 0:00:01\r\u001b[K     |████████████████████▉           | 983kB 15.1MB/s eta 0:00:01\r\u001b[K     |█████████████████████           | 993kB 15.1MB/s eta 0:00:01\r\u001b[K     |█████████████████████▎          | 1.0MB 15.1MB/s eta 0:00:01\r\u001b[K     |█████████████████████▍          | 1.0MB 15.1MB/s eta 0:00:01\r\u001b[K     |█████████████████████▋          | 1.0MB 15.1MB/s eta 0:00:01\r\u001b[K     |█████████████████████▉          | 1.0MB 15.1MB/s eta 0:00:01\r\u001b[K     |██████████████████████          | 1.0MB 15.1MB/s eta 0:00:01\r\u001b[K     |██████████████████████▎         | 1.1MB 15.1MB/s eta 0:00:01\r\u001b[K     |██████████████████████▌         | 1.1MB 15.1MB/s eta 0:00:01\r\u001b[K     |██████████████████████▊         | 1.1MB 15.1MB/s eta 0:00:01\r\u001b[K     |███████████████████████         | 1.1MB 15.1MB/s eta 0:00:01\r\u001b[K     |███████████████████████▏        | 1.1MB 15.1MB/s eta 0:00:01\r\u001b[K     |███████████████████████▍        | 1.1MB 15.1MB/s eta 0:00:01\r\u001b[K     |███████████████████████▋        | 1.1MB 15.1MB/s eta 0:00:01\r\u001b[K     |███████████████████████▉        | 1.1MB 15.1MB/s eta 0:00:01\r\u001b[K     |████████████████████████        | 1.1MB 15.1MB/s eta 0:00:01\r\u001b[K     |████████████████████████▎       | 1.1MB 15.1MB/s eta 0:00:01\r\u001b[K     |████████████████████████▌       | 1.2MB 15.1MB/s eta 0:00:01\r\u001b[K     |████████████████████████▊       | 1.2MB 15.1MB/s eta 0:00:01\r\u001b[K     |█████████████████████████       | 1.2MB 15.1MB/s eta 0:00:01\r\u001b[K     |█████████████████████████▏      | 1.2MB 15.1MB/s eta 0:00:01\r\u001b[K     |█████████████████████████▍      | 1.2MB 15.1MB/s eta 0:00:01\r\u001b[K     |█████████████████████████▋      | 1.2MB 15.1MB/s eta 0:00:01\r\u001b[K     |█████████████████████████▊      | 1.2MB 15.1MB/s eta 0:00:01\r\u001b[K     |██████████████████████████      | 1.2MB 15.1MB/s eta 0:00:01\r\u001b[K     |██████████████████████████▏     | 1.2MB 15.1MB/s eta 0:00:01\r\u001b[K     |██████████████████████████▍     | 1.2MB 15.1MB/s eta 0:00:01\r\u001b[K     |██████████████████████████▋     | 1.3MB 15.1MB/s eta 0:00:01\r\u001b[K     |██████████████████████████▉     | 1.3MB 15.1MB/s eta 0:00:01\r\u001b[K     |███████████████████████████     | 1.3MB 15.1MB/s eta 0:00:01\r\u001b[K     |███████████████████████████▎    | 1.3MB 15.1MB/s eta 0:00:01\r\u001b[K     |███████████████████████████▌    | 1.3MB 15.1MB/s eta 0:00:01\r\u001b[K     |███████████████████████████▊    | 1.3MB 15.1MB/s eta 0:00:01\r\u001b[K     |████████████████████████████    | 1.3MB 15.1MB/s eta 0:00:01\r\u001b[K     |████████████████████████████▏   | 1.3MB 15.1MB/s eta 0:00:01\r\u001b[K     |████████████████████████████▍   | 1.3MB 15.1MB/s eta 0:00:01\r\u001b[K     |████████████████████████████▋   | 1.4MB 15.1MB/s eta 0:00:01\r\u001b[K     |████████████████████████████▉   | 1.4MB 15.1MB/s eta 0:00:01\r\u001b[K     |█████████████████████████████   | 1.4MB 15.1MB/s eta 0:00:01\r\u001b[K     |█████████████████████████████▎  | 1.4MB 15.1MB/s eta 0:00:01\r\u001b[K     |█████████████████████████████▌  | 1.4MB 15.1MB/s eta 0:00:01\r\u001b[K     |█████████████████████████████▊  | 1.4MB 15.1MB/s eta 0:00:01\r\u001b[K     |██████████████████████████████  | 1.4MB 15.1MB/s eta 0:00:01\r\u001b[K     |██████████████████████████████  | 1.4MB 15.1MB/s eta 0:00:01\r\u001b[K     |██████████████████████████████▎ | 1.4MB 15.1MB/s eta 0:00:01\r\u001b[K     |██████████████████████████████▌ | 1.4MB 15.1MB/s eta 0:00:01\r\u001b[K     |██████████████████████████████▊ | 1.5MB 15.1MB/s eta 0:00:01\r\u001b[K     |███████████████████████████████ | 1.5MB 15.1MB/s eta 0:00:01\r\u001b[K     |███████████████████████████████▏| 1.5MB 15.1MB/s eta 0:00:01\r\u001b[K     |███████████████████████████████▍| 1.5MB 15.1MB/s eta 0:00:01\r\u001b[K     |███████████████████████████████▋| 1.5MB 15.1MB/s eta 0:00:01\r\u001b[K     |███████████████████████████████▉| 1.5MB 15.1MB/s eta 0:00:01\r\u001b[K     |████████████████████████████████| 1.5MB 15.1MB/s \n",
            "\u001b[?25hRequirement already satisfied: requests in /usr/local/lib/python3.7/dist-packages (from transformers==4.1) (2.23.0)\n",
            "Requirement already satisfied: packaging in /usr/local/lib/python3.7/dist-packages (from transformers==4.1) (20.9)\n",
            "Requirement already satisfied: sacremoses in /usr/local/lib/python3.7/dist-packages (from transformers==4.1) (0.0.45)\n",
            "Requirement already satisfied: tqdm>=4.27 in /usr/local/lib/python3.7/dist-packages (from transformers==4.1) (4.41.1)\n",
            "Requirement already satisfied: regex!=2019.12.17 in /usr/local/lib/python3.7/dist-packages (from transformers==4.1) (2019.12.20)\n",
            "Requirement already satisfied: numpy in /usr/local/lib/python3.7/dist-packages (from transformers==4.1) (1.19.5)\n",
            "Requirement already satisfied: filelock in /usr/local/lib/python3.7/dist-packages (from transformers==4.1) (3.0.12)\n",
            "Collecting tokenizers==0.9.4\n",
            "\u001b[?25l  Downloading https://files.pythonhosted.org/packages/fb/36/59e4a62254c5fcb43894c6b0e9403ec6f4238cc2422a003ed2e6279a1784/tokenizers-0.9.4-cp37-cp37m-manylinux2010_x86_64.whl (2.9MB)\n",
            "\u001b[K     |████████████████████████████████| 2.9MB 52.1MB/s \n",
            "\u001b[?25hRequirement already satisfied: urllib3!=1.25.0,!=1.25.1,<1.26,>=1.21.1 in /usr/local/lib/python3.7/dist-packages (from requests->transformers==4.1) (1.25.4)\n",
            "Requirement already satisfied: idna<3,>=2.5 in /usr/local/lib/python3.7/dist-packages (from requests->transformers==4.1) (2.10)\n",
            "Requirement already satisfied: certifi>=2017.4.17 in /usr/local/lib/python3.7/dist-packages (from requests->transformers==4.1) (2020.12.5)\n",
            "Requirement already satisfied: chardet<4,>=3.0.2 in /usr/local/lib/python3.7/dist-packages (from requests->transformers==4.1) (3.0.4)\n",
            "Requirement already satisfied: pyparsing>=2.0.2 in /usr/local/lib/python3.7/dist-packages (from packaging->transformers==4.1) (2.4.7)\n",
            "Requirement already satisfied: six in /usr/local/lib/python3.7/dist-packages (from sacremoses->transformers==4.1) (1.15.0)\n",
            "Requirement already satisfied: click in /usr/local/lib/python3.7/dist-packages (from sacremoses->transformers==4.1) (7.1.2)\n",
            "Requirement already satisfied: joblib in /usr/local/lib/python3.7/dist-packages (from sacremoses->transformers==4.1) (1.0.1)\n",
            "Installing collected packages: tokenizers, transformers\n",
            "  Found existing installation: tokenizers 0.10.2\n",
            "    Uninstalling tokenizers-0.10.2:\n",
            "      Successfully uninstalled tokenizers-0.10.2\n",
            "  Found existing installation: transformers 4.5.1\n",
            "    Uninstalling transformers-4.5.1:\n",
            "      Successfully uninstalled transformers-4.5.1\n",
            "Successfully installed tokenizers-0.9.4 transformers-4.1.0\n"
          ],
          "name": "stdout"
        }
      ]
    },
    {
      "cell_type": "code",
      "metadata": {
        "colab": {
          "base_uri": "https://localhost:8080/"
        },
        "id": "x6XeME2AkwcR",
        "outputId": "4087e1e3-aa66-4b26-c6fb-b7722d514aa6"
      },
      "source": [
        "%cd data/traintest\n",
        "\n",
        "import requests\n",
        "import os\n",
        "\n",
        "def download_file_from_google_drive(id, destination):\n",
        "    URL = \"https://docs.google.com/uc?export=download\"\n",
        "\n",
        "    session = requests.Session()\n",
        "\n",
        "    response = session.get(URL, params = { 'id' : id }, stream = True)\n",
        "    token = get_confirm_token(response)\n",
        "\n",
        "    if token:\n",
        "        params = { 'id' : id, 'confirm' : token }\n",
        "        response = session.get(URL, params = params, stream = True)\n",
        "\n",
        "    save_response_content(response, destination)    \n",
        "\n",
        "def get_confirm_token(response):\n",
        "    for key, value in response.cookies.items():\n",
        "        if key.startswith('download_warning'):\n",
        "            return value\n",
        "\n",
        "    return None\n",
        "\n",
        "def save_response_content(response, destination):\n",
        "    CHUNK_SIZE = 32768\n",
        "\n",
        "    with open(destination, \"wb\") as f:\n",
        "        for chunk in response.iter_content(CHUNK_SIZE):\n",
        "            if chunk: # filter out keep-alive new chunks\n",
        "                f.write(chunk)\n",
        "\n",
        "def create_paths(path_: str):\n",
        "    if not os.path.exists(path_):\n",
        "        os.makedirs(path_)\n",
        "        print(f\"{path_} created\")\n",
        "    else:\n",
        "        print(f\"{path_} already exists\")\n",
        "\n",
        "\n",
        "download_file_from_google_drive('1ZlEQKf3HMMk66F7DGFPnh-PA2cbt5K0F', 'test.1blm')\n",
        "download_file_from_google_drive('1wZ6nrIYANNN3ZoHgacIg9P3UmHnBb9Wa', 'test.1blm.noise.prob')\n",
        "\n",
        "\n",
        "\n",
        "download_file_from_google_drive('10VtrEThrDIiuFJf0gj4LeGDdP-y-yR--', 'test.bea60k')\n",
        "download_file_from_google_drive('16AMIb6FVltgRR8xv8h7qacDUX8cOQK9d', 'test.bea60k.noise')\n",
        "\n",
        "download_file_from_google_drive('1jHR2f3JwnskDphQcaTXr0hLlp60qJxUl', 'test.jfleg')\n",
        "download_file_from_google_drive('1sccH7dRhyctKAIQXBZEBmUWEiTN_-o6q', 'test.jfleg.noise')\n",
        "\n",
        "\n",
        "\n",
        "%cd /content/neuspell"
      ],
      "execution_count": 8,
      "outputs": [
        {
          "output_type": "stream",
          "text": [
            "/content/neuspell/data/traintest\n",
            "/content/neuspell\n"
          ],
          "name": "stdout"
        }
      ]
    },
    {
      "cell_type": "code",
      "metadata": {
        "id": "xaaDd1X7DZll"
      },
      "source": [
        "import neuspell"
      ],
      "execution_count": 11,
      "outputs": []
    },
    {
      "cell_type": "markdown",
      "metadata": {
        "id": "vUv2f0_UB7pz"
      },
      "source": [
        "# Train"
      ]
    },
    {
      "cell_type": "code",
      "metadata": {
        "colab": {
          "base_uri": "https://localhost:8080/"
        },
        "id": "yEwvFFaDEV1U",
        "outputId": "cad0a939-f0b4-47cf-8135-3e5b0e514492"
      },
      "source": [
        "from google.colab import drive\n",
        "drive.mount('/content/drive')"
      ],
      "execution_count": 10,
      "outputs": [
        {
          "output_type": "stream",
          "text": [
            "Mounted at /content/drive\n"
          ],
          "name": "stdout"
        }
      ]
    },
    {
      "cell_type": "markdown",
      "metadata": {
        "id": "m5TIGxA0rX11"
      },
      "source": [
        "## Library"
      ]
    },
    {
      "cell_type": "code",
      "metadata": {
        "id": "9QdAX3mHqfyV"
      },
      "source": [
        "import torch\n",
        "from torch import nn\n",
        "from torch.nn.utils.rnn import pad_sequence\n",
        "from torch.nn.utils.rnn import pack_padded_sequence, pad_packed_sequence\n",
        "import torch.nn.functional as F\n",
        "import numpy as np\n",
        "\n",
        "import time\n",
        "\n",
        "from neuspell.seq_modeling.helpers import load_data, train_validation_split, batch_accuracy_func\n",
        "from neuspell.seq_modeling.helpers import get_tokens, progressBar\n",
        "from neuspell.seq_modeling.helpers import batch_iter, labelize, tokenize, char_tokenize,bert_tokenize_for_valid_examples\n",
        "\n",
        "from neuspell.seq_modeling.helpers import load_vocab_dict, save_vocab_dict\n",
        "\n",
        "import matplotlib.pyplot as plt\n",
        "\n",
        "%matplotlib inline\n",
        "%config InlineBackend.figure_format = 'retina'"
      ],
      "execution_count": 12,
      "outputs": []
    },
    {
      "cell_type": "code",
      "metadata": {
        "cellView": "form",
        "id": "boQQSbZM3W6d"
      },
      "source": [
        "#@title helper function\n",
        "import transformers\n",
        "def get_pretrained_bert(pretrained_name_or_path=None):\n",
        "    pretrained_name_or_path = pretrained_name_or_path or DEFAULT_BERT_PRETRAINED_NAME_OR_PATH\n",
        "    return transformers.AutoModel.from_pretrained(pretrained_name_or_path)\n",
        "\n",
        "def get_model_nparams(model):\n",
        "    ntotal = 0\n",
        "    for param in list(model.parameters()):\n",
        "        temp = 1\n",
        "        for sz in list(param.size()): temp *= sz\n",
        "        ntotal += temp\n",
        "    return ntotal\n",
        "\n",
        "from tqdm import tqdm\n",
        "\n",
        "def untokenize_without_unks(batch_predictions, batch_lengths, vocab, batch_clean_sentences, backoff=\"pass-through\"):\n",
        "    assert backoff in [\"neutral\", \"pass-through\"], print(f\"selected backoff strategy not implemented: {backoff}\")\n",
        "    idx2token = vocab[\"idx2token\"]\n",
        "    unktoken = vocab[\"token2idx\"][vocab[\"unk_token\"]]\n",
        "    assert len(batch_predictions) == len(batch_lengths) == len(batch_clean_sentences)\n",
        "    batch_clean_sentences = [sent.split() for sent in batch_clean_sentences]\n",
        "    if backoff == \"pass-through\":\n",
        "        batch_predictions = \\\n",
        "            [\" \".join([idx2token[idx] if idx != unktoken else clean_[i] for i, idx in enumerate(pred_[:len_])]) \\\n",
        "             for pred_, len_, clean_ in zip(batch_predictions, batch_lengths, batch_clean_sentences)]\n",
        "    elif backoff == \"neutral\":\n",
        "        batch_predictions = \\\n",
        "            [\" \".join([idx2token[idx] if idx != unktoken else \"a\" for i, idx in enumerate(pred_[:len_])]) \\\n",
        "             for pred_, len_, clean_ in zip(batch_predictions, batch_lengths, batch_clean_sentences)]\n",
        "    return batch_predictions\n",
        "\n",
        "def __get_data(inp):\n",
        "    if isinstance(inp, list):\n",
        "        data = inp\n",
        "    elif isinstance(inp, str):\n",
        "        data = __load_data(inp)\n",
        "    else:\n",
        "        raise Exception(\"arg inp must be either clean_data or a path to fetch clean_data\")\n",
        "    return data\n",
        "\n",
        "def get_metrics(clean, corrupt, predictions, check_until_topk=1, return_mistakes=False, window=7,\n",
        "                return_selected_lines=False, selected_lines=None):\n",
        "    \"\"\"\n",
        "    clean: \n",
        "        a list of clean sentences, same number of sentences as batch size\n",
        "        a path to obtain the lines of clean sentences\n",
        "    corrupt: \n",
        "        a list of corrupt sentences, same number of sentences as batch size\n",
        "        a path to obtain the lines of clean sentences\n",
        "    predictions:\n",
        "        is a list of list of lists or\n",
        "        is a list[list[str]] or 2D numpy array (each of which are tokens from vocab)\n",
        "            first dimension being batch size\n",
        "            the second being for ntokens in that sentence \n",
        "            the third being for 1 or topk prediction(s) of words\n",
        "        is a list of sentences\n",
        "            first dimension being batch size\n",
        "            the second being for ntokens in that sentence\n",
        "    check_until_topk:\n",
        "        compute accuracy, etc. by checking topk words\n",
        "    \"\"\"\n",
        "\n",
        "    clean_data = __get_data(clean)\n",
        "    corrupt_data = __get_data(corrupt)\n",
        "    assert len(clean_data) == len(corrupt_data) == len(predictions)\n",
        "\n",
        "    if isinstance(predictions[0], str):\n",
        "        predictions = [line.split() for line in predictions]  # to list[list[str]]\n",
        "\n",
        "    is_correct_prediction = None\n",
        "    if isinstance(predictions[0][0], str):\n",
        "        is_correct_prediction = lambda clean_token, corrupt_token: clean_token == corrupt_token\n",
        "    elif isinstance(predictions[0][0], list):\n",
        "        is_correct_prediction = lambda clean_token, preds_list: clean_token in preds_list[:check_until_topk]\n",
        "    else:\n",
        "        raise Exception(\"invalid format for predictions\")\n",
        "\n",
        "    if return_mistakes:\n",
        "        mistakes = []\n",
        "        # mistakes.append( (\"clean_token\", \"corrupt_token\",\"prediction_tokens\",\"corrupt_context\") )\n",
        "\n",
        "    corr2corr, corr2incorr, incorr2corr, incorr2incorr = 0, 0, 0, 0\n",
        "    nlines = []\n",
        "    if selected_lines is not None:\n",
        "        assert isinstance(selected_lines, dict), print(f\"{type(selected_lines)} typefound when expecting type dict\")\n",
        "        print(f\"evaluating only for selected lines: {len(selected_lines)}/{len(clean_data)}\")\n",
        "    for i, (clean_line, corrupt_line, predictions_) in enumerate(zip(clean_data, corrupt_data, predictions)):\n",
        "        if selected_lines is not None:\n",
        "            if not i in selected_lines:\n",
        "                continue\n",
        "\n",
        "        clean_line_tokens, corrupt_line_tokens = clean_line.split(), corrupt_line.split()\n",
        "        assert len(clean_line_tokens) == len(corrupt_line_tokens)\n",
        "\n",
        "        # predictions_ can be of a list of shape (len(clean_line_tokens),topk) or a list of\n",
        "        #   (len(clean_line_tokens),) tokens\n",
        "        if return_selected_lines:\n",
        "            if len(clean_line_tokens) != len(predictions_):\n",
        "                continue\n",
        "        predictions_ = predictions_[:len(clean_line_tokens)]\n",
        "\n",
        "        nlines.append(i)\n",
        "        for i, (clean_token, corrupt_token, prediction_tokens) in enumerate(\n",
        "                zip(clean_line_tokens, corrupt_line_tokens, predictions_)):\n",
        "            if clean_token == corrupt_token and is_correct_prediction(clean_token, prediction_tokens):\n",
        "                corr2corr += 1\n",
        "            elif clean_token == corrupt_token and not is_correct_prediction(clean_token, prediction_tokens):\n",
        "                corr2incorr += 1\n",
        "            elif clean_token != corrupt_token and is_correct_prediction(clean_token, prediction_tokens):\n",
        "                incorr2corr += 1\n",
        "            elif clean_token != corrupt_token and not is_correct_prediction(clean_token, prediction_tokens):\n",
        "                incorr2incorr += 1\n",
        "                if return_mistakes: \\\n",
        "                        mistakes.append((clean_token,\n",
        "                                         corrupt_token,\n",
        "                                         prediction_tokens,\n",
        "                                         \" \".join(corrupt_line_tokens[\n",
        "                                                  max(i - window, 0):min(i + window + 1, len(corrupt_line_tokens))]))\n",
        "                                        )\n",
        "\n",
        "    if return_selected_lines:\n",
        "        print(f\"#lines evaluated: {len(nlines)}/{len(clean_data)}\")\n",
        "        if return_mistakes:\n",
        "            return corr2corr, corr2incorr, incorr2corr, incorr2incorr, mistakes, nlines\n",
        "        else:\n",
        "            return corr2corr, corr2incorr, incorr2corr, incorr2incorr, nlines\n",
        "    else:\n",
        "        if return_mistakes:\n",
        "            return corr2corr, corr2incorr, incorr2corr, incorr2incorr, mistakes\n",
        "        else:\n",
        "            return corr2corr, corr2incorr, incorr2corr, incorr2incorr"
      ],
      "execution_count": 13,
      "outputs": []
    },
    {
      "cell_type": "code",
      "metadata": {
        "id": "HN2uCvAB7ZAy"
      },
      "source": [
        "def model_inference(model, data, topk, device, batch_size=16, vocab_=None):\n",
        "\n",
        "    if vocab_ is not None:\n",
        "        vocab = vocab_\n",
        "    print(\"###############################################\")\n",
        "    inference_st_time = time.time()\n",
        "    _corr2corr, _corr2incorr, _incorr2corr, _incorr2incorr = 0, 0, 0, 0\n",
        "    _mistakes = []\n",
        "    VALID_batch_size = batch_size\n",
        "    valid_loss = 0.\n",
        "    valid_acc = 0.\n",
        "    print(\"data size: {}\".format(len(data)))\n",
        "\n",
        "    data_iter = batch_iter(data, batch_size=VALID_batch_size, shuffle=False)\n",
        "    model.eval()\n",
        "    model.to(device)\n",
        "    for batch_id, (batch_labels,batch_sentences) in tqdm(enumerate(data_iter)):\n",
        "\n",
        "        st_time = time.time()\n",
        "\n",
        "        # set batch data for bert\n",
        "        batch_labels_, batch_sentences_, batch_bert_inp, batch_bert_splits = bert_tokenize_for_valid_examples(batch_labels,batch_sentences)                \n",
        "        if len(batch_labels_)==0:\n",
        "            print(\"################\")\n",
        "            print(\"Not training the following lines due to pre-processing mismatch: \\n\")\n",
        "            print([(a,b) for a,b in zip(batch_labels,batch_sentences)])\n",
        "            print(\"################\")\n",
        "            continue\n",
        "        else:\n",
        "            batch_labels, batch_sentences = batch_labels_, batch_sentences_\n",
        "\n",
        "        batch_bert_inp = {k:v.to(device) for k,v in batch_bert_inp.items()}\n",
        "\n",
        "        batch_labels_ids, batch_lengths = labelize(batch_labels, vocab)\n",
        "        batch_idxs, _, batch_char_lengths = char_tokenize(batch_sentences, vocab, return_nchars=True)\n",
        "\n",
        "        #assert (batch_lengths_ == batch_lengths).all() == True\n",
        "        assert len(batch_bert_splits) == len(batch_idxs)\n",
        "        \n",
        "        # set batch data for others\n",
        "        batch_idxs = [batch_idxs_.to(device) for batch_idxs_ in batch_idxs]\n",
        "        batch_char_lengths = [batch_char_lengths_.to(device) for batch_char_lengths_ in batch_char_lengths]\n",
        "        batch_labels_ids = batch_labels_ids.to(device)\n",
        "    \n",
        "\n",
        "        # forward\n",
        "        model.eval()\n",
        "        with torch.no_grad():\n",
        "            batch_loss, batch_predictions = model(batch_idxs, batch_char_lengths, batch_lengths, batch_bert_inp, batch_bert_splits, targets=batch_labels_ids)\n",
        "       \n",
        "        valid_loss += batch_loss\n",
        "\n",
        "        # compute accuracy in numpy\n",
        "        batch_labels_ids = batch_labels_ids.cpu().detach().numpy()\n",
        "        batch_lengths = batch_lengths.cpu().detach().numpy()\n",
        "        # based on topk, obtain either strings of batch_predictions or list of tokens\n",
        "        if topk == 1:\n",
        "            batch_predictions = untokenize_without_unks(batch_predictions, batch_lengths, vocab, batch_sentences)\n",
        "        else:\n",
        "            batch_predictions = untokenize_without_unks2(batch_predictions, batch_lengths, vocab, batch_sentences,\n",
        "                                                         topk=None)\n",
        "        # corr2corr, corr2incorr, incorr2corr, incorr2incorr, mistakes = \\\n",
        "        #    get_metrics(batch_labels,batch_sentences,batch_predictions,check_until_topk=topk,return_mistakes=True)\n",
        "        # _mistakes.extend(mistakes)\n",
        "        # batch_labels = [line.lower() for line in batch_labels]\n",
        "        # batch_sentences = [line.lower() for line in batch_sentences]\n",
        "        # batch_predictions = [line.lower() for line in batch_predictions]\n",
        "\n",
        "        corr2corr, corr2incorr, incorr2corr, incorr2incorr = \\\n",
        "            get_metrics(batch_labels, batch_sentences, batch_predictions, check_until_topk=topk, return_mistakes=False)\n",
        "        _corr2corr += corr2corr\n",
        "        _corr2incorr += corr2incorr\n",
        "        _incorr2corr += incorr2corr\n",
        "        _incorr2incorr += incorr2incorr\n",
        "\n",
        "        # delete\n",
        "        del batch_loss\n",
        "        del batch_predictions\n",
        "        del batch_labels, batch_lengths, batch_idxs, batch_bert_inp\n",
        "        torch.cuda.empty_cache()\n",
        "\n",
        "        '''\n",
        "        # update progress\n",
        "        progressBar(batch_id+1,\n",
        "                    int(np.ceil(len(data) / VALID_batch_size)), \n",
        "                    [\"batch_time\",\"batch_loss\",\"avg_batch_loss\",\"batch_acc\",\"avg_batch_acc\"], \n",
        "                    [time.time()-st_time,batch_loss,valid_loss/(batch_id+1),None,None])\n",
        "        '''\n",
        "    print(f\"\\nEpoch {None} valid_loss: {valid_loss / (batch_id + 1)}\")\n",
        "    print(\"total inference time for this data is: {:4f} secs\".format(time.time() - inference_st_time))\n",
        "    print(\"###############################################\")\n",
        "    print(\"\")\n",
        "    # for mistake in _mistakes:\n",
        "    #    print(mistake)\n",
        "    print(\"\")\n",
        "    print(\"total token count: {}\".format(_corr2corr + _corr2incorr + _incorr2corr + _incorr2incorr))\n",
        "    print(\n",
        "        f\"_corr2corr:{_corr2corr}, _corr2incorr:{_corr2incorr}, _incorr2corr:{_incorr2corr}, _incorr2incorr:{_incorr2incorr}\")\n",
        "    print(f\"accuracy is {(_corr2corr + _incorr2corr) / (_corr2corr + _corr2incorr + _incorr2corr + _incorr2incorr)}\")\n",
        "    print(f\"word correction rate is {(_incorr2corr) / (_incorr2corr + _incorr2incorr)}\")\n",
        "    print(\"###############################################\")\n",
        "    return\n"
      ],
      "execution_count": 14,
      "outputs": []
    },
    {
      "cell_type": "code",
      "metadata": {
        "id": "T7xQPqr_sVyK"
      },
      "source": [
        "class CharLSTMModel(nn.Module):\n",
        "    def __init__(self, nembs, embdim, padding_idx, hidden_size, num_layers, bidirectional, output_combination):\n",
        "        super(CharLSTMModel, self).__init__()\n",
        "\n",
        "        # Embeddings\n",
        "        self.embeddings = nn.Embedding(nembs, embdim, padding_idx=padding_idx)\n",
        "        # torch.nn.init.normal_(self.embeddings.weight.data, std=1.0)\n",
        "        self.embeddings.weight.requires_grad = True\n",
        "\n",
        "        # lstm module\n",
        "        # expected input dim: [BS,max_nwords,*] and batch_lengths as [BS] for pack_padded_sequence\n",
        "        self.lstmmodule = nn.LSTM(embdim, hidden_size, num_layers, batch_first=True, dropout=0.3,\n",
        "                                  bidirectional=bidirectional)\n",
        "        self.lstmmodule_outdim = hidden_size * 2 if bidirectional else hidden_size\n",
        "\n",
        "        # output\n",
        "        assert output_combination in [\"end\", \"max\", \"mean\"], print(\n",
        "            'invalid output_combination; required one of {\"end\",\"max\",\"mean\"}')\n",
        "        self.output_combination = output_combination\n",
        "\n",
        "    def forward(self, batch_tensor, batch_lengths):\n",
        "\n",
        "        batch_size = len(batch_tensor)\n",
        "        # print(\"************ stage 2\")\n",
        "\n",
        "        # [BS, max_seq_len]->[BS, max_seq_len, emb_dim]\n",
        "        embs = self.embeddings(batch_tensor)\n",
        "\n",
        "        # lstm\n",
        "        # dim: [BS,max_nwords,*]->[BS,max_nwords,self.lstmmodule_outdim]\n",
        "        embs_packed = pack_padded_sequence(embs, batch_lengths, batch_first=True, enforce_sorted=False)\n",
        "        lstm_encodings, (last_hidden_states, last_cell_states) = self.lstmmodule(embs_packed)\n",
        "        lstm_encodings, _ = pad_packed_sequence(lstm_encodings, batch_first=True, padding_value=0)\n",
        "\n",
        "        # [BS, max_seq_len, self.lstmmodule_outdim]->[BS, self.lstmmodule_outdim]\n",
        "        if self.output_combination == \"end\":\n",
        "            last_seq_idxs = torch.LongTensor([x - 1 for x in batch_lengths])\n",
        "            source_encodings = lstm_encodings[range(lstm_encodings.shape[0]), last_seq_idxs, :]\n",
        "        elif self.output_combination == \"max\":\n",
        "            source_encodings, _ = torch.max(lstm_encodings, dim=1)\n",
        "        elif self.output_combination == \"mean\":\n",
        "            sum_ = torch.sum(lstm_encodings, dim=1)\n",
        "            lens_ = batch_lengths.unsqueeze(dim=1).expand(batch_size, self.lstmmodule_outdim)\n",
        "            assert sum_.size() == lens_.size()\n",
        "            source_encodings = torch.div(sum_, lens_)\n",
        "        else:\n",
        "            raise NotImplementedError\n",
        "\n",
        "        return source_encodings"
      ],
      "execution_count": 15,
      "outputs": []
    },
    {
      "cell_type": "markdown",
      "metadata": {
        "id": "3L4XXGedzKEJ"
      },
      "source": [
        "## Define model"
      ]
    },
    {
      "cell_type": "code",
      "metadata": {
        "id": "lfFaiObXzS9f"
      },
      "source": [
        "class BERTLSTM(nn.Module):\n",
        "    # init时抄抄lstmlstm\n",
        "    def __init__(self, nchars, char_emb_dim, char_padding_idx, padding_idx, output_dim, early_concat=False,\n",
        "                 bert_pretrained_name_or_path=None, freeze_bert=False):\n",
        "        super(BERTLSTM, self).__init__()\n",
        "\n",
        "        self.bert_dropout = torch.nn.Dropout(0.2)\n",
        "        self.bert_model = get_pretrained_bert(bert_pretrained_name_or_path)\n",
        "        self.bertmodule_outdim = self.bert_model.config.hidden_size\n",
        "        self.early_concat = early_concat  # if True, (bert+sc)->lstm->linear, else ((sc->lstm)+bert)->linear\n",
        "        if freeze_bert:\n",
        "            # Uncomment to freeze BERT layers\n",
        "            for param in self.bert_model.parameters():\n",
        "                param.requires_grad = False\n",
        "\n",
        "\n",
        "        # charlstm\n",
        "        hidden_size, num_layers, bidirectional, output_combination = 256, 1, True, \"end\"\n",
        "        self.charlstmmodule = CharLSTMModel(nchars, char_emb_dim, char_padding_idx, hidden_size, num_layers,\n",
        "                                            bidirectional, output_combination)\n",
        "        self.charlstmmodule_outdim = self.charlstmmodule.lstmmodule_outdim\n",
        "\n",
        "        # lstm module\n",
        "        bidirectional, hidden_size, nlayers = True, 512, 2\n",
        "\n",
        "        if self.early_concat:\n",
        "            self.lstmmodule_indim = self.charlstmmodule_outdim + self.bertmodule_outdim\n",
        "\n",
        "            self.lstmmodule = nn.LSTM(self.lstmmodule_indim, hidden_size, nlayers,\n",
        "                                  batch_first=True, dropout=0.3, bidirectional=bidirectional)\n",
        "            self.lstmmodule_outdim = hidden_size * 2 if bidirectional else hidden_size\n",
        "\n",
        "            self.encodings_outdim = self.lstmmodule_outdim\n",
        "        else:\n",
        "            \n",
        "            self.lstmmodule_indim = self.charlstmmodule_outdim\n",
        "\n",
        "            self.lstmmodule = nn.LSTM(self.lstmmodule_indim, hidden_size, nlayers,\n",
        "                                  batch_first=True, dropout=0.3, bidirectional=bidirectional)\n",
        "            self.lstmmodule_outdim = hidden_size * 2 if bidirectional else hidden_size\n",
        "\n",
        "            self.encodings_outdim = self.lstmmodule_outdim + self.bertmodule_outdim\n",
        "\n",
        "\n",
        "        # output module\n",
        "        assert output_dim > 0\n",
        "        self.dropout = nn.Dropout(p=0.4)\n",
        "        self.dense = nn.Linear(self.encodings_outdim, output_dim)\n",
        "\n",
        "        # loss\n",
        "        # See https://pytorch.org/docs/stable/nn.html#crossentropyloss\n",
        "        self.criterion = nn.CrossEntropyLoss(reduction='mean', ignore_index=padding_idx)\n",
        "\n",
        "    @property\n",
        "    def device(self) -> torch.device:\n",
        "        return next(self.parameters()).device\n",
        "\n",
        "    def get_merged_encodings(self, bert_seq_encodings, seq_splits, mode='avg'):\n",
        "        bert_seq_encodings = bert_seq_encodings[:sum(seq_splits) + 2, :]  # 2 for [CLS] and [SEP]\n",
        "        bert_seq_encodings = bert_seq_encodings[1:-1, :]\n",
        "        # a tuple of tensors\n",
        "        split_encoding = torch.split(bert_seq_encodings, seq_splits, dim=0)\n",
        "        batched_encodings = pad_sequence(split_encoding, batch_first=True, padding_value=0)\n",
        "        if mode == 'avg':\n",
        "            seq_splits = torch.tensor(seq_splits).reshape(-1, 1).to(self.device)\n",
        "            out = torch.div(torch.sum(batched_encodings, dim=1), seq_splits)\n",
        "        elif mode == \"add\":\n",
        "            out = torch.sum(batched_encodings, dim=1)\n",
        "        else:\n",
        "            raise Exception(\"Not Implemented\")\n",
        "        return out\n",
        "\n",
        "    # forward这里，前几个也抄抄lstmlstm\n",
        "    def forward(self,\n",
        "                batch_idxs: \"list[pad_sequence]\",\n",
        "                batch_char_lengths: \"list[tensor]\",\n",
        "                batch_lengths: \"tensor\",\n",
        "                batch_bert_dict: \"{'input_ids':tensor, 'attention_mask':tensor, 'token_type_ids':tensor}\",\n",
        "                batch_splits: \"list[list[int]]\",\n",
        "                aux_word_embs: \"tensor\" = None,\n",
        "                targets: \"tensor\" = None,\n",
        "                topk=1):\n",
        "\n",
        "        if aux_word_embs is not None:\n",
        "            raise Exception(\"dimensions of aux_word_embs not used in __init__()\")\n",
        "\n",
        "        # bert\n",
        "        # BS X max_nsubwords x self.bertmodule_outdim\n",
        "        bert_encodings = self.bert_model(**batch_bert_dict, return_dict=False)[0]\n",
        "        bert_encodings = self.bert_dropout(bert_encodings)\n",
        "        # BS X max_nwords x self.bertmodule_outdim\n",
        "        bert_merged_encodings = pad_sequence(\n",
        "            [self.get_merged_encodings(bert_seq_encodings, seq_splits, mode='avg') \\\n",
        "             for bert_seq_encodings, seq_splits in zip(bert_encodings, batch_splits)],\n",
        "            batch_first=True,\n",
        "            padding_value=0\n",
        "        )\n",
        "\n",
        "\n",
        "        batch_size = len(batch_idxs)\n",
        "\n",
        "        # charlstm\n",
        "        charlstm_encodings = [self.charlstmmodule(pad_sequence_, lens) for pad_sequence_, lens in\n",
        "                              zip(batch_idxs, batch_char_lengths)]\n",
        "        charlstm_encodings = pad_sequence(charlstm_encodings, batch_first=True, padding_value=0)\n",
        "\n",
        "        if self.early_concat:\n",
        "\n",
        "            intermediate_encodings = torch.cat((charlstm_encodings, bert_merged_encodings), dim=2)\n",
        "            if aux_word_embs is not None:\n",
        "                intermediate_encodings = torch.cat((intermediate_encodings, aux_word_embs), dim=2)\n",
        "\n",
        "            # lstm\n",
        "            # dim: [BS,max_nwords,*]->[BS,max_nwords,self.lstmmodule_outdim]\n",
        "            intermediate_encodings = pack_padded_sequence(intermediate_encodings, batch_lengths,\n",
        "                                                          batch_first=True, enforce_sorted=False)\n",
        "            lstm_encodings, (last_hidden_states, last_cell_states) = self.lstmmodule(intermediate_encodings)\n",
        "            lstm_encodings, _ = pad_packed_sequence(lstm_encodings, batch_first=True, padding_value=0)\n",
        "\n",
        "            # out\n",
        "            final_encodings = lstm_encodings\n",
        "\n",
        "        else:\n",
        "\n",
        "            intermediate_encodings = charlstm_encodings\n",
        "\n",
        "            if aux_word_embs is not None:\n",
        "                intermediate_encodings = torch.cat((intermediate_encodings, aux_word_embs), dim=2)\n",
        "\n",
        "            # lstm\n",
        "            # dim: [BS,max_nwords,*]->[BS,max_nwords,self.lstmmodule_outdim]\n",
        "            intermediate_encodings = pack_padded_sequence(intermediate_encodings, batch_lengths,\n",
        "                                                          batch_first=True, enforce_sorted=False)\n",
        "            lstm_encodings, (last_hidden_states, last_cell_states) = self.lstmmodule(intermediate_encodings)\n",
        "            lstm_encodings, _ = pad_packed_sequence(lstm_encodings, batch_first=True, padding_value=0)\n",
        "\n",
        "            # out\n",
        "            final_encodings = torch.cat((lstm_encodings, bert_merged_encodings), dim=2)\n",
        "\n",
        "\n",
        "        # dense\n",
        "        # [BS,max_nwords,self.encodings_outdim]->[BS,max_nwords,output_dim]\n",
        "        logits = self.dense(self.dropout(final_encodings))\n",
        "\n",
        "        # loss\n",
        "        if targets is not None:\n",
        "            assert len(targets) == batch_size  # targets:[[BS,max_nwords]\n",
        "            logits_permuted = logits.permute(0, 2, 1)  # logits: [BS,output_dim,max_nwords]\n",
        "            loss = self.criterion(logits_permuted, targets)\n",
        "\n",
        "        # eval preds\n",
        "        if not self.training:\n",
        "            probs = F.softmax(logits, dim=-1)  # [BS,max_nwords,output_dim]\n",
        "            if topk > 1:\n",
        "                topk_values, topk_inds = \\\n",
        "                    torch.topk(probs, topk, dim=-1, largest=True,\n",
        "                               sorted=True)  # -> (Tensor, LongTensor) of [BS,max_nwords,topk]\n",
        "            elif topk == 1:\n",
        "                topk_inds = torch.argmax(probs, dim=-1)  # [BS,max_nwords]\n",
        "\n",
        "            # Note that for those positions with padded_idx,\n",
        "            #   the arg_max_prob above computes a index because \n",
        "            #   the bias term leads to non-uniform values in those positions\n",
        "\n",
        "            return loss.cpu().detach().numpy(), topk_inds.cpu().detach().numpy()\n",
        "        return loss"
      ],
      "execution_count": 16,
      "outputs": []
    },
    {
      "cell_type": "code",
      "metadata": {
        "id": "H2Dbkm7T075w"
      },
      "source": [
        "def load_bertlstm(vocab, early_concat = False, bert_pretrained_name_or_path=None, verbose=False):\n",
        "    CHAR_EMBS_DIM = 100\n",
        "    model = BERTLSTM(len(vocab[\"chartoken2idx\"]),\n",
        "                     CHAR_EMBS_DIM,\n",
        "                     vocab[\"chartoken2idx\"][vocab[\"char_pad_token\"]],\n",
        "                     vocab[\"token2idx\"][vocab[\"pad_token\"]],\n",
        "                     len(vocab[\"token_freq\"]),\n",
        "                     early_concat,\n",
        "                     bert_pretrained_name_or_path=bert_pretrained_name_or_path\n",
        "                     )\n",
        "        \n",
        "    if verbose:\n",
        "        print(model)\n",
        "    print(f\"Number of parameters in the model: {get_model_nparams(model)}\")\n",
        "\n",
        "    return model"
      ],
      "execution_count": 17,
      "outputs": []
    },
    {
      "cell_type": "markdown",
      "metadata": {
        "id": "KvC1jC11HUmN"
      },
      "source": [
        "## Load data"
      ]
    },
    {
      "cell_type": "code",
      "metadata": {
        "colab": {
          "base_uri": "https://localhost:8080/"
        },
        "id": "7rq_Oru8G7cm",
        "outputId": "f1e6fab2-c7df-4329-87f0-79cb414230b7"
      },
      "source": [
        "train_data = load_data('/content/neuspell/data/traintest/','test.1blm','test.1blm.noise.prob')\n",
        "\n",
        "train_data, valid_data = train_validation_split(train_data, 0.90, seed=1)\n",
        "\n",
        "vocab_ref = {}\n",
        "\n",
        "vocab = get_tokens([i[0] for i in train_data],\n",
        "                           keep_simple=True,\n",
        "                           min_max_freq=(2,float(\"inf\")),\n",
        "                           topk=100000,\n",
        "                           intersect=vocab_ref,\n",
        "                           load_char_tokens=True)\n",
        "\n",
        "test_data_60k = load_data('/content/neuspell/data/traintest/','test.bea60k','test.bea60k.noise')\n",
        "test_data_jfleg = load_data('/content/neuspell/data/traintest/','test.jfleg','test.jfleg.noise')"
      ],
      "execution_count": 18,
      "outputs": [
        {
          "output_type": "stream",
          "text": [
            "273134it [00:00, 328167.84it/s]\n",
            "273134it [00:00, 1228730.66it/s]\n",
            "  0%|          | 0/245821 [00:00<?, ?it/s]"
          ],
          "name": "stderr"
        },
        {
          "output_type": "stream",
          "text": [
            "loaded tuples of (corr,incorr) examples from /content/neuspell/data/traintest/\n"
          ],
          "name": "stdout"
        },
        {
          "output_type": "stream",
          "text": [
            "100%|██████████| 245821/245821 [00:01<00:00, 137884.31it/s]\n"
          ],
          "name": "stderr"
        },
        {
          "output_type": "stream",
          "text": [
            "Total tokens found: 155272\n"
          ],
          "name": "stdout"
        },
        {
          "output_type": "stream",
          "text": [
            "\r  0%|          | 0/245821 [00:00<?, ?it/s]"
          ],
          "name": "stderr"
        },
        {
          "output_type": "stream",
          "text": [
            "Total tokens retained: 139243\n",
            "Total tokens retained: 67965\n",
            "Total tokens retained: 67965\n",
            "loading character tokens\n"
          ],
          "name": "stdout"
        },
        {
          "output_type": "stream",
          "text": [
            "100%|██████████| 245821/245821 [00:01<00:00, 178089.48it/s]\n",
            "39204it [00:00, 392037.57it/s]"
          ],
          "name": "stderr"
        },
        {
          "output_type": "stream",
          "text": [
            "number of unique chars found: 98\n",
            "{'<<CHAR_UNK>>': 0, '<<CHAR_PAD>>': 1, '<<CHAR_START>>': 2, '<<CHAR_END>>': 3, 'H': 4, 'e': 5, ' ': 6, 'w': 7, 'a': 8, 's': 9, 'b': 10, 'r': 11, 'i': 12, 'f': 13, 'l': 14, 'y': 15, 'h': 16, 'o': 17, 'p': 18, 't': 19, 'z': 20, 'd': 21, 'n': 22, 'c': 23, 'k': 24, 'j': 25, 'u': 26, '.': 27, 'A': 28, 'm': 29, 'B': 30, 'g': 31, 'G': 32, 'M': 33, '3': 34, 'v': 35, ',': 36, '7': 37, '6': 38, '2': 39, 'T': 40, 'D': 41, 'S': 42, 'E': 43, '1': 44, '-': 45, 'x': 46, '4': 47, '9': 48, '(': 49, 'U': 50, 'P': 51, 'I': 52, ')': 53, \"'\": 54, ';': 55, 'q': 56, '\"': 57, '?': 58, 'Y': 59, 'C': 60, 'O': 61, 'K': 62, 'L': 63, 'N': 64, 'R': 65, 'W': 66, '0': 67, '8': 68, 'J': 69, ':': 70, 'F': 71, '5': 72, '%': 73, 'V': 74, '/': 75, '$': 76, 'Z': 77, 'Q': 78, '!': 79, '[': 80, ']': 81, 'X': 82, '&': 83, '@': 84, '+': 85, '_': 86, '#': 87, '*': 88, '|': 89, '>': 90, '^': 91, '\\\\': 92, '=': 93, '<': 94, '~': 95, '{': 96, '}': 97}\n"
          ],
          "name": "stdout"
        },
        {
          "output_type": "stream",
          "text": [
            "63044it [00:00, 397021.88it/s]\n",
            "63044it [00:00, 1235114.68it/s]\n",
            "1601it [00:00, 360309.10it/s]\n",
            "1601it [00:00, 775055.48it/s]"
          ],
          "name": "stderr"
        },
        {
          "output_type": "stream",
          "text": [
            "loaded tuples of (corr,incorr) examples from /content/neuspell/data/traintest/\n",
            "loaded tuples of (corr,incorr) examples from /content/neuspell/data/traintest/\n"
          ],
          "name": "stdout"
        },
        {
          "output_type": "stream",
          "text": [
            "\n"
          ],
          "name": "stderr"
        }
      ]
    },
    {
      "cell_type": "markdown",
      "metadata": {
        "id": "0SdgDf9UHWal"
      },
      "source": [
        "## Load model and optimizer"
      ]
    },
    {
      "cell_type": "markdown",
      "metadata": {
        "id": "1AjSznYr1dS9"
      },
      "source": [
        "pure BERT: Number of parameters in the model: 160577664"
      ]
    },
    {
      "cell_type": "code",
      "metadata": {
        "colab": {
          "base_uri": "https://localhost:8080/",
          "height": 186,
          "referenced_widgets": [
            "81c2d5a5a0dc49e49de0fd66b0bf708d",
            "b085b55b40e64ebf9ffddb2378303596",
            "1ae030a4d54947a0bc274d5326173a3f",
            "34fcd5758a79479e95117505f48c0bb3",
            "0a4596e834284873854b20f577331790",
            "e4eb1fcb027248ff91dd9c68df73b066",
            "b390fcd50965405485d428cc1ab20825",
            "c38812c44c434d11b1f2c55e74457388",
            "c909d2a6a5bf462db8ec5399bd9113a1",
            "e0c85fdb6845441187546d758b1e1075",
            "6fefad7fcef54e5fb6dbed83227c1c89",
            "ae40779af6a4488b8ecd0f09bad6996f",
            "5df9606d7522400bafa8fcfb7275b0b4",
            "8110593bf4ac4502aee9812f2955150c",
            "21313cb29c4549c4b4e06074cba72d6c",
            "cf4513af10c648b58990921d767ffa8b"
          ]
        },
        "id": "tmIg1EH9x8wo",
        "outputId": "76a5d075-6ea3-42fd-bc1f-7c6f7c3a5ec6"
      },
      "source": [
        "model = load_bertlstm(vocab, False, \"bert-base-cased\")\n",
        "\n",
        "# True: sc + bert -> lstm > linear\n",
        "# False : sc -> lstm, (sclstm + bert) -> linear\n",
        "\n",
        "model = model.cuda()\n",
        "\n",
        "VALID_BATCH_SIZE = 32\n",
        "\n",
        "data_iter = batch_iter(train_data, batch_size=VALID_BATCH_SIZE, shuffle=False)\n",
        "\n",
        "TRAIN_BATCH_SIZE = 32\n",
        "\n",
        "DEVICE = 'cuda'\n",
        "\n",
        "#DEVICE = 'cpu'\n",
        "\n",
        "optimizer = torch.optim.Adam(model.parameters(), lr=1e-4)"
      ],
      "execution_count": 19,
      "outputs": [
        {
          "output_type": "display_data",
          "data": {
            "application/vnd.jupyter.widget-view+json": {
              "model_id": "81c2d5a5a0dc49e49de0fd66b0bf708d",
              "version_minor": 0,
              "version_major": 2
            },
            "text/plain": [
              "HBox(children=(FloatProgress(value=0.0, description='Downloading', max=570.0, style=ProgressStyle(description_…"
            ]
          },
          "metadata": {
            "tags": []
          }
        },
        {
          "output_type": "stream",
          "text": [
            "\n"
          ],
          "name": "stdout"
        },
        {
          "output_type": "display_data",
          "data": {
            "application/vnd.jupyter.widget-view+json": {
              "model_id": "c909d2a6a5bf462db8ec5399bd9113a1",
              "version_minor": 0,
              "version_major": 2
            },
            "text/plain": [
              "HBox(children=(FloatProgress(value=0.0, description='Downloading', max=435779157.0, style=ProgressStyle(descri…"
            ]
          },
          "metadata": {
            "tags": []
          }
        },
        {
          "output_type": "stream",
          "text": [
            "\n"
          ],
          "name": "stdout"
        },
        {
          "output_type": "stream",
          "text": [
            "/usr/local/lib/python3.7/dist-packages/torch/nn/modules/rnn.py:60: UserWarning: dropout option adds dropout after all but last recurrent layer, so non-zero dropout expects num_layers greater than 1, but got dropout=0.3 and num_layers=1\n",
            "  \"num_layers={}\".format(dropout, num_layers))\n"
          ],
          "name": "stderr"
        },
        {
          "output_type": "stream",
          "text": [
            "Number of parameters in the model: 241422024\n"
          ],
          "name": "stdout"
        }
      ]
    },
    {
      "cell_type": "markdown",
      "metadata": {
        "id": "0cCTG_k_CVm7"
      },
      "source": [
        "## Set epoch"
      ]
    },
    {
      "cell_type": "code",
      "metadata": {
        "id": "7C07k93TCW9Q"
      },
      "source": [
        "START_EPOCH = 1\n",
        "N_EPOCHS = 6"
      ],
      "execution_count": 20,
      "outputs": []
    },
    {
      "cell_type": "markdown",
      "metadata": {
        "id": "DcE_X40QHXxb"
      },
      "source": [
        "## Training"
      ]
    },
    {
      "cell_type": "markdown",
      "metadata": {
        "id": "GOBFdGhbkOj3"
      },
      "source": [
        "bert和sclstm的输出放一块"
      ]
    },
    {
      "cell_type": "markdown",
      "metadata": {
        "id": "7Te_WRdP5t5t"
      },
      "source": [
        "epoch 5\n",
        "\n",
        "bea60k\n",
        "\n",
        "95.11 / 67.45\n",
        "\n",
        "jfleg\n",
        "\n",
        "97.05 / 75.47"
      ]
    },
    {
      "cell_type": "code",
      "metadata": {
        "colab": {
          "base_uri": "https://localhost:8080/",
          "height": 1000,
          "referenced_widgets": [
            "dafa68afb4d645cb97d307a93bcbf31d",
            "77d56ca9e39b41f0950bd3b406c46b53",
            "22a9c667819c4395ac25e7d3b9453f51",
            "d7730e267a304e79b3d36162a35407cd",
            "b53ff3e26c91437989a10942bc221db4",
            "806271d668a04f82a09d89cd767bff3d",
            "eed8db6f70594d609f3a8ccbba87eb7c",
            "312d50d033934834a4f49abf83387311"
          ]
        },
        "id": "FwxGfJ8OxDZ7",
        "outputId": "de9497cf-be36-4816-cf02-3f996be1eee8"
      },
      "source": [
        "MODEL_NAME = '2lstm_bert_output'\n",
        "\n",
        "total_train_loss = []\n",
        "total_val_loss = []\n",
        "\n",
        "# train and eval\n",
        "for epoch_id in range(START_EPOCH,N_EPOCHS+1):\n",
        "\n",
        "    print(f\"------------------------- In epoch: {epoch_id} -------------------------\")\n",
        "\n",
        "    # train loss and backprop\n",
        "    train_loss = 0.\n",
        "    train_acc = 0.\n",
        "    train_acc_count = 0.\n",
        "    #print(\"train_data size: {}\".format(len(train_data)))\n",
        "    \n",
        "    train_data_iter = batch_iter(train_data, batch_size=TRAIN_BATCH_SIZE, shuffle=True)\n",
        "    nbatches = int(np.ceil(len(train_data)/TRAIN_BATCH_SIZE))\n",
        "\n",
        "\n",
        "    for batch_id, (batch_labels,batch_sentences) in enumerate(train_data_iter):\n",
        "      \n",
        "        optimizer.zero_grad()\n",
        "        st_time = time.time()\n",
        "\n",
        "        # set batch data for bert\n",
        "        batch_labels_, batch_sentences_, batch_bert_inp, batch_bert_splits = bert_tokenize_for_valid_examples(batch_labels,batch_sentences)                \n",
        "        if len(batch_labels_)==0:\n",
        "            print(\"################\")\n",
        "            print(\"Not training the following lines due to pre-processing mismatch: \\n\")\n",
        "            print([(a,b) for a,b in zip(batch_labels,batch_sentences)])\n",
        "            print(\"################\")\n",
        "            continue\n",
        "        else:\n",
        "            batch_labels, batch_sentences = batch_labels_, batch_sentences_\n",
        "\n",
        "        batch_bert_inp = {k:v.to(DEVICE) for k,v in batch_bert_inp.items()}\n",
        "\n",
        "        batch_idxs, _, batch_char_lengths = char_tokenize(batch_sentences, vocab, return_nchars=True)\n",
        "\n",
        "        \n",
        "        # set batch data for others\n",
        "        batch_idxs = [batch_idxs_.to(DEVICE) for batch_idxs_ in batch_idxs]\n",
        "        batch_char_lengths = [batch_char_lengths_.to(DEVICE) for batch_char_lengths_ in batch_char_lengths]\n",
        "\n",
        "\n",
        "        batch_labels, batch_lengths = labelize(batch_labels, vocab)\n",
        "        batch_lengths = batch_lengths.to(DEVICE)\n",
        "        batch_labels = batch_labels.to(DEVICE)\n",
        "\n",
        "        # forward\n",
        "        model.train()\n",
        "\n",
        "        loss = model(batch_idxs, batch_char_lengths, batch_lengths, batch_bert_inp, batch_bert_splits, targets=batch_labels)\n",
        "        \n",
        "        batch_loss = loss.cpu().detach().numpy()\n",
        "        train_loss += batch_loss\n",
        "\n",
        "        # backward\n",
        "        loss.backward()\n",
        "\n",
        "        optimizer.step()\n",
        "\n",
        "        # compute accuracy in numpy\n",
        "        if batch_id%10000==0:\n",
        "\n",
        "            train_acc_count += 1\n",
        "\n",
        "            model.eval()\n",
        "            with torch.no_grad():\n",
        "                _, batch_predictions = model(batch_idxs, batch_char_lengths, batch_lengths, batch_bert_inp, batch_bert_splits, targets=batch_labels)\n",
        "\n",
        "            model.train()\n",
        "\n",
        "            batch_labels = batch_labels.cpu().detach().numpy()\n",
        "            batch_lengths = batch_lengths.cpu().detach().numpy()\n",
        "            ncorr,ntotal = batch_accuracy_func(batch_predictions,batch_labels,batch_lengths)\n",
        "            batch_acc = ncorr/ntotal\n",
        "            train_acc += batch_acc     \n",
        "\n",
        "        # update progress\n",
        "        progressBar(batch_id+1,\n",
        "                    int(np.ceil(len(train_data) / TRAIN_BATCH_SIZE)), \n",
        "                    [\"batch_time\",\"batch_loss\",\"avg_batch_loss\",\"batch_acc\",\"avg_batch_acc\"],\n",
        "                    [time.time()-st_time,batch_loss,train_loss/(batch_id+1),batch_acc,train_acc/train_acc_count]) \n",
        "    \n",
        "    print(f\"\\nEpoch {epoch_id} train_loss: {train_loss/(batch_id+1)}\")\n",
        "\n",
        "    mean_batch_loss = train_loss / nbatches\n",
        "    total_train_loss.append(mean_batch_loss)\n",
        "\n",
        "\n",
        "    # save model and optimizer every epoch\n",
        "    model_name = MODEL_NAME + \"_epoch_\" + str(epoch_id) + '.pt'\n",
        "    torch.save(model.state_dict(), \n",
        "            '/content/drive/MyDrive/NLP/'+model_name)\n",
        "    \n",
        "    # save optimizer\n",
        "    optimizer_name = MODEL_NAME + \"_optimizer_epoch_\" + str(epoch_id) + '.pt'\n",
        "    torch.save(optimizer.state_dict(), \n",
        "        '/content/drive/MyDrive/NLP/'+optimizer_name)\n",
        "\n",
        "    # valid loss\n",
        "    valid_loss = 0.\n",
        "    valid_acc = 0.\n",
        "    #print(\"valid_data size: {}\".format(len(valid_data)))\n",
        "\n",
        "    valid_data_iter = batch_iter(valid_data, batch_size=VALID_BATCH_SIZE, shuffle=False)\n",
        "    val_nbatches = int(np.ceil(len(valid_data)/VALID_BATCH_SIZE))\n",
        "\n",
        "    for batch_id, (batch_labels,batch_sentences) in enumerate(valid_data_iter):\n",
        "\n",
        "        st_time = time.time()\n",
        "        # set batch data for bert\n",
        "        # batch_labels_, batch_sentences_, batch_bert_inp, batch_bert_splits = bert_tokenize_for_valid_examples(batch_labels,batch_sentences)\n",
        "\n",
        "        # set batch data for bert\n",
        "        batch_labels_, batch_sentences_, batch_bert_inp, batch_bert_splits = bert_tokenize_for_valid_examples(batch_labels,batch_sentences)                \n",
        "        if len(batch_labels_)==0:\n",
        "            print(\"################\")\n",
        "            print(\"Not training the following lines due to pre-processing mismatch: \\n\")\n",
        "            print([(a,b) for a,b in zip(batch_labels,batch_sentences)])\n",
        "            print(\"################\")\n",
        "            continue\n",
        "        else:\n",
        "            batch_labels, batch_sentences = batch_labels_, batch_sentences_\n",
        "\n",
        "        batch_bert_inp = {k:v.to(DEVICE) for k,v in batch_bert_inp.items()}\n",
        "\n",
        "        batch_idxs, _, batch_char_lengths = char_tokenize(batch_sentences, vocab, return_nchars=True)\n",
        "\n",
        "        \n",
        "        # set batch data for others\n",
        "        batch_idxs = [batch_idxs_.to(DEVICE) for batch_idxs_ in batch_idxs]\n",
        "        batch_char_lengths = [batch_char_lengths_.to(DEVICE) for batch_char_lengths_ in batch_char_lengths]\n",
        "\n",
        "        # set batch data for others\n",
        "        batch_labels, batch_lengths = labelize(batch_labels, vocab)\n",
        "        batch_lengths = batch_lengths.to(DEVICE)\n",
        "        batch_labels = batch_labels.to(DEVICE)\n",
        "\n",
        "        # forward\n",
        "        model.eval()\n",
        "        with torch.no_grad():\n",
        "            batch_loss, batch_predictions = model(batch_idxs, batch_char_lengths, batch_lengths, batch_bert_inp, batch_bert_splits, targets=batch_labels)\n",
        "        model.train()        \n",
        "        valid_loss += batch_loss\n",
        "        # compute accuracy in numpy\n",
        "        batch_labels = batch_labels.cpu().detach().numpy()\n",
        "        batch_lengths = batch_lengths.cpu().detach().numpy()\n",
        "        ncorr,ntotal = batch_accuracy_func(batch_predictions,batch_labels,batch_lengths)\n",
        "        batch_acc = ncorr/ntotal\n",
        "        valid_acc += batch_acc\n",
        "        # update progress\n",
        "        progressBar(batch_id+1,\n",
        "                    int(np.ceil(len(valid_data) / VALID_BATCH_SIZE)), \n",
        "                    [\"batch_time\",\"batch_loss\",\"avg_batch_loss\",\"batch_acc\",\"avg_batch_acc\"], \n",
        "                    [time.time()-st_time,batch_loss,valid_loss/(batch_id+1),batch_acc,valid_acc/(batch_id+1)])\n",
        "\n",
        "    print(f\"\\nEpoch {epoch_id} valid_loss: {valid_loss/(batch_id+1)}\")\n",
        "\n",
        "    mean_val_loss = valid_loss / val_nbatches\n",
        "    total_val_loss.append(mean_val_loss)\n",
        "    \n",
        "    if epoch_id >= 2:\n",
        "        plt.figure(epoch_id)\n",
        "        plt.plot(total_train_loss, label='train')\n",
        "        plt.plot(total_val_loss, label='validation')\n",
        "        plt.legend(fontsize=15)\n",
        "        plt.show()\n",
        "    \n",
        "    print(\"||||||||||||||||||||||||| BEA60K |||||||||||||||||||||||||\")\n",
        "    \n",
        "    predicted_result = model_inference(model, test_data_60k, 1, DEVICE, 16, vocab)\n",
        "\n",
        "    print(\"||||||||||||||||||||||||| JFLEG |||||||||||||||||||||||||\")\n",
        "\n",
        "    predicted_result = model_inference(model, test_data_jfleg, 1, DEVICE, 16, vocab)\n",
        "  "
      ],
      "execution_count": 21,
      "outputs": [
        {
          "output_type": "stream",
          "text": [
            "------------------------- In epoch: 1 -------------------------\n"
          ],
          "name": "stdout"
        },
        {
          "output_type": "display_data",
          "data": {
            "application/vnd.jupyter.widget-view+json": {
              "model_id": "dafa68afb4d645cb97d307a93bcbf31d",
              "version_major": 2,
              "version_minor": 0
            },
            "text/plain": [
              "HBox(children=(FloatProgress(value=0.0, description='Downloading', max=213450.0, style=ProgressStyle(descripti…"
            ]
          },
          "metadata": {
            "tags": []
          }
        },
        {
          "output_type": "stream",
          "text": [
            "\n",
            "Percent: [----------------------------->] 100% || batch_time: 0.4367 || batch_loss: 0.5933 || avg_batch_loss: 1.3895 || batch_acc: 0.0303 || avg_batch_acc: 0.0303 \n",
            "Epoch 1 train_loss: 1.389505074087669\n",
            "Percent: [----------------------------->] 100% || batch_time: 0.1234 || batch_loss: 0.4874 || avg_batch_loss: 0.5230 || batch_acc: 0.9362 || avg_batch_acc: 0.9269 "
          ],
          "name": "stdout"
        },
        {
          "output_type": "stream",
          "text": [
            "\r0it [00:00, ?it/s]"
          ],
          "name": "stderr"
        },
        {
          "output_type": "stream",
          "text": [
            "\n",
            "Epoch 1 valid_loss: 0.5230324753762967\n",
            "||||||||||||||||||||||||| BEA60K |||||||||||||||||||||||||\n",
            "###############################################\n",
            "data size: 63044\n"
          ],
          "name": "stdout"
        },
        {
          "output_type": "stream",
          "text": [
            "3941it [06:56,  9.46it/s]\n",
            "1it [00:00,  8.78it/s]"
          ],
          "name": "stderr"
        },
        {
          "output_type": "stream",
          "text": [
            "\n",
            "Epoch None valid_loss: 0.4907924853940205\n",
            "total inference time for this data is: 416.655496 secs\n",
            "###############################################\n",
            "\n",
            "\n",
            "total token count: 1059069\n",
            "_corr2corr:954498, _corr2incorr:34561, _incorr2corr:39043, _incorr2incorr:30967\n",
            "accuracy is 0.9381267887172602\n",
            "word correction rate is 0.5576774746464791\n",
            "###############################################\n",
            "||||||||||||||||||||||||| JFLEG |||||||||||||||||||||||||\n",
            "###############################################\n",
            "data size: 1601\n"
          ],
          "name": "stdout"
        },
        {
          "output_type": "stream",
          "text": [
            "101it [00:11,  8.56it/s]\n"
          ],
          "name": "stderr"
        },
        {
          "output_type": "stream",
          "text": [
            "\n",
            "Epoch None valid_loss: 0.3343869666061779\n",
            "total inference time for this data is: 11.807944 secs\n",
            "###############################################\n",
            "\n",
            "\n",
            "total token count: 33473\n",
            "_corr2corr:30739, _corr2incorr:724, _incorr2corr:1330, _incorr2incorr:680\n",
            "accuracy is 0.9580557464224898\n",
            "word correction rate is 0.6616915422885572\n",
            "###############################################\n",
            "------------------------- In epoch: 2 -------------------------\n",
            "Percent: [----------------------------->] 100% || batch_time: 0.4358 || batch_loss: 0.3626 || avg_batch_loss: 0.4571 || batch_acc: 0.9454 || avg_batch_acc: 0.9454 \n",
            "Epoch 2 train_loss: 0.45713147947182103\n",
            "Percent: [----------------------------->] 100% || batch_time: 0.1206 || batch_loss: 0.3032 || avg_batch_loss: 0.3193 || batch_acc: 0.9567 || avg_batch_acc: 0.9471 \n",
            "Epoch 2 valid_loss: 0.31927450580535505\n"
          ],
          "name": "stdout"
        },
        {
          "output_type": "display_data",
          "data": {
            "image/png": "[encoded data removed]",
            "text/plain": [
              "<Figure size 432x288 with 1 Axes>"
            ]
          },
          "metadata": {
            "tags": [],
            "image/png": {
              "height": 248,
              "width": 372
            }
          }
        },
        {
          "output_type": "stream",
          "text": [
            "\r0it [00:00, ?it/s]"
          ],
          "name": "stderr"
        },
        {
          "output_type": "stream",
          "text": [
            "||||||||||||||||||||||||| BEA60K |||||||||||||||||||||||||\n",
            "###############################################\n",
            "data size: 63044\n"
          ],
          "name": "stdout"
        },
        {
          "output_type": "stream",
          "text": [
            "3941it [06:59,  9.39it/s]\n",
            "1it [00:00,  8.49it/s]"
          ],
          "name": "stderr"
        },
        {
          "output_type": "stream",
          "text": [
            "\n",
            "Epoch None valid_loss: 0.3609973885982934\n",
            "total inference time for this data is: 419.650726 secs\n",
            "###############################################\n",
            "\n",
            "\n",
            "total token count: 1059069\n",
            "_corr2corr:958233, _corr2incorr:30826, _incorr2corr:44435, _incorr2incorr:25575\n",
            "accuracy is 0.946744735234437\n",
            "word correction rate is 0.634695043565205\n",
            "###############################################\n",
            "||||||||||||||||||||||||| JFLEG |||||||||||||||||||||||||\n",
            "###############################################\n",
            "data size: 1601\n"
          ],
          "name": "stdout"
        },
        {
          "output_type": "stream",
          "text": [
            "101it [00:12,  8.10it/s]\n"
          ],
          "name": "stderr"
        },
        {
          "output_type": "stream",
          "text": [
            "\n",
            "Epoch None valid_loss: 0.2330447439805116\n",
            "total inference time for this data is: 12.476555 secs\n",
            "###############################################\n",
            "\n",
            "\n",
            "total token count: 33473\n",
            "_corr2corr:30854, _corr2incorr:609, _incorr2corr:1456, _incorr2incorr:554\n",
            "accuracy is 0.9652555791234726\n",
            "word correction rate is 0.7243781094527363\n",
            "###############################################\n",
            "------------------------- In epoch: 3 -------------------------\n",
            "Percent: [----------------------------->] 100% || batch_time: 0.4483 || batch_loss: 0.2776 || avg_batch_loss: 0.2812 || batch_acc: 0.9631 || avg_batch_acc: 0.9631 \n",
            "Epoch 3 train_loss: 0.2812442466116175\n",
            "Percent: [----------------------------->] 100% || batch_time: 0.1216 || batch_loss: 0.2347 || avg_batch_loss: 0.2407 || batch_acc: 0.9613 || avg_batch_acc: 0.9571 \n",
            "Epoch 3 valid_loss: 0.24071410420488137\n"
          ],
          "name": "stdout"
        },
        {
          "output_type": "display_data",
          "data": {
            "image/png": "[encoded data removed]",
            "text/plain": [
              "<Figure size 432x288 with 1 Axes>"
            ]
          },
          "metadata": {
            "tags": [],
            "image/png": {
              "height": 248,
              "width": 372
            }
          }
        },
        {
          "output_type": "stream",
          "text": [
            "||||||||||||||||||||||||| BEA60K |||||||||||||||||||||||||\n",
            "###############################################\n",
            "data size: 63044\n"
          ],
          "name": "stdout"
        },
        {
          "output_type": "stream",
          "text": [
            "3941it [06:52,  9.54it/s]\n",
            "1it [00:00,  8.41it/s]"
          ],
          "name": "stderr"
        },
        {
          "output_type": "stream",
          "text": [
            "\n",
            "Epoch None valid_loss: 0.30688674002791294\n",
            "total inference time for this data is: 412.992555 secs\n",
            "###############################################\n",
            "\n",
            "\n",
            "total token count: 1059069\n",
            "_corr2corr:963775, _corr2incorr:25284, _incorr2corr:46302, _incorr2incorr:23708\n",
            "accuracy is 0.9537405022713346\n",
            "word correction rate is 0.661362662476789\n",
            "###############################################\n",
            "||||||||||||||||||||||||| JFLEG |||||||||||||||||||||||||\n",
            "###############################################\n",
            "data size: 1601\n"
          ],
          "name": "stdout"
        },
        {
          "output_type": "stream",
          "text": [
            "101it [00:11,  8.44it/s]\n"
          ],
          "name": "stderr"
        },
        {
          "output_type": "stream",
          "text": [
            "\n",
            "Epoch None valid_loss: 0.21360555501415\n",
            "total inference time for this data is: 11.982551 secs\n",
            "###############################################\n",
            "\n",
            "\n",
            "total token count: 33473\n",
            "_corr2corr:30879, _corr2incorr:584, _incorr2corr:1492, _incorr2incorr:518\n",
            "accuracy is 0.9670779434170824\n",
            "word correction rate is 0.7422885572139304\n",
            "###############################################\n",
            "------------------------- In epoch: 4 -------------------------\n",
            "Percent: [----------------------------->] 100% || batch_time: 0.4322 || batch_loss: 0.2931 || avg_batch_loss: 0.2004 || batch_acc: 0.9770 || avg_batch_acc: 0.9770 \n",
            "Epoch 4 train_loss: 0.200420590954091\n",
            "Percent: [----------------------------->] 100% || batch_time: 0.1226 || batch_loss: 0.1836 || avg_batch_loss: 0.2040 || batch_acc: 0.9704 || avg_batch_acc: 0.9622 \n",
            "Epoch 4 valid_loss: 0.20402427453905414\n"
          ],
          "name": "stdout"
        },
        {
          "output_type": "display_data",
          "data": {
            "image/png": "[encoded data removed]",
            "text/plain": [
              "<Figure size 432x288 with 1 Axes>"
            ]
          },
          "metadata": {
            "tags": [],
            "image/png": {
              "height": 248,
              "width": 372
            }
          }
        },
        {
          "output_type": "stream",
          "text": [
            "||||||||||||||||||||||||| BEA60K |||||||||||||||||||||||||\n",
            "###############################################\n",
            "data size: 63044\n"
          ],
          "name": "stdout"
        },
        {
          "output_type": "stream",
          "text": [
            "3941it [06:53,  9.52it/s]\n",
            "1it [00:00,  8.61it/s]"
          ],
          "name": "stderr"
        },
        {
          "output_type": "stream",
          "text": [
            "\n",
            "Epoch None valid_loss: 0.31467637107763097\n",
            "total inference time for this data is: 414.003699 secs\n",
            "###############################################\n",
            "\n",
            "\n",
            "total token count: 1059069\n",
            "_corr2corr:961409, _corr2incorr:27650, _incorr2corr:47334, _incorr2incorr:22676\n",
            "accuracy is 0.9524809053989872\n",
            "word correction rate is 0.6761034137980289\n",
            "###############################################\n",
            "||||||||||||||||||||||||| JFLEG |||||||||||||||||||||||||\n",
            "###############################################\n",
            "data size: 1601\n"
          ],
          "name": "stdout"
        },
        {
          "output_type": "stream",
          "text": [
            "101it [00:11,  8.44it/s]\n"
          ],
          "name": "stderr"
        },
        {
          "output_type": "stream",
          "text": [
            "\n",
            "Epoch None valid_loss: 0.20731093288205638\n",
            "total inference time for this data is: 11.987110 secs\n",
            "###############################################\n",
            "\n",
            "\n",
            "total token count: 33473\n",
            "_corr2corr:30923, _corr2incorr:540, _incorr2corr:1538, _incorr2incorr:472\n",
            "accuracy is 0.969766677620769\n",
            "word correction rate is 0.7651741293532338\n",
            "###############################################\n",
            "------------------------- In epoch: 5 -------------------------\n",
            "Percent: [----------------------------->] 100% || batch_time: 0.4775 || batch_loss: 0.1631 || avg_batch_loss: 0.1521 || batch_acc: 0.9867 || avg_batch_acc: 0.9867 \n",
            "Epoch 5 train_loss: 0.1521057179408617\n",
            "Percent: [----------------------------->] 100% || batch_time: 0.1207 || batch_loss: 0.1949 || avg_batch_loss: 0.1913 || batch_acc: 0.9636 || avg_batch_acc: 0.9640 \n",
            "Epoch 5 valid_loss: 0.19133077407434618\n"
          ],
          "name": "stdout"
        },
        {
          "output_type": "display_data",
          "data": {
            "image/png": "[encoded data removed]",
            "text/plain": [
              "<Figure size 432x288 with 1 Axes>"
            ]
          },
          "metadata": {
            "tags": [],
            "image/png": {
              "width": 372,
              "height": 248
            },
            "needs_background": "light"
          }
        },
        {
          "output_type": "stream",
          "text": [
            "\r0it [00:00, ?it/s]"
          ],
          "name": "stderr"
        },
        {
          "output_type": "stream",
          "text": [
            "||||||||||||||||||||||||| BEA60K |||||||||||||||||||||||||\n",
            "###############################################\n",
            "data size: 63044\n"
          ],
          "name": "stdout"
        },
        {
          "output_type": "stream",
          "text": [
            "3941it [06:45,  9.71it/s]\n",
            "1it [00:00,  8.67it/s]"
          ],
          "name": "stderr"
        },
        {
          "output_type": "stream",
          "text": [
            "\n",
            "Epoch None valid_loss: 0.31810161177389396\n",
            "total inference time for this data is: 405.843625 secs\n",
            "###############################################\n",
            "\n",
            "\n",
            "total token count: 1059069\n",
            "_corr2corr:960084, _corr2incorr:28975, _incorr2corr:47223, _incorr2incorr:22787\n",
            "accuracy is 0.951124997521408\n",
            "word correction rate is 0.6745179260105699\n",
            "###############################################\n",
            "||||||||||||||||||||||||| JFLEG |||||||||||||||||||||||||\n",
            "###############################################\n",
            "data size: 1601\n"
          ],
          "name": "stdout"
        },
        {
          "output_type": "stream",
          "text": [
            "101it [00:11,  8.67it/s]\n"
          ],
          "name": "stderr"
        },
        {
          "output_type": "stream",
          "text": [
            "\n",
            "Epoch None valid_loss: 0.2221773100445176\n",
            "total inference time for this data is: 11.665535 secs\n",
            "###############################################\n",
            "\n",
            "\n",
            "total token count: 33473\n",
            "_corr2corr:30968, _corr2incorr:495, _incorr2corr:1517, _incorr2incorr:493\n",
            "accuracy is 0.9704836734084187\n",
            "word correction rate is 0.754726368159204\n",
            "###############################################\n",
            "------------------------- In epoch: 6 -------------------------\n",
            "Percent: [>                             ] 2% || batch_time: 0.4905 || batch_loss: 0.1041 || avg_batch_loss: 0.1011 || batch_acc: 0.9923 || avg_batch_acc: 0.9923 "
          ],
          "name": "stdout"
        },
        {
          "output_type": "error",
          "ename": "KeyboardInterrupt",
          "evalue": "ignored",
          "traceback": [
            "\u001b[0;31m---------------------------------------------------------------------------\u001b[0m",
            "\u001b[0;31mKeyboardInterrupt\u001b[0m                         Traceback (most recent call last)",
            "\u001b[0;32m<ipython-input-21-c49f6221d091>\u001b[0m in \u001b[0;36m<module>\u001b[0;34m()\u001b[0m\n\u001b[1;32m     52\u001b[0m         \u001b[0mmodel\u001b[0m\u001b[0;34m.\u001b[0m\u001b[0mtrain\u001b[0m\u001b[0;34m(\u001b[0m\u001b[0;34m)\u001b[0m\u001b[0;34m\u001b[0m\u001b[0;34m\u001b[0m\u001b[0m\n\u001b[1;32m     53\u001b[0m \u001b[0;34m\u001b[0m\u001b[0m\n\u001b[0;32m---> 54\u001b[0;31m         \u001b[0mloss\u001b[0m \u001b[0;34m=\u001b[0m \u001b[0mmodel\u001b[0m\u001b[0;34m(\u001b[0m\u001b[0mbatch_idxs\u001b[0m\u001b[0;34m,\u001b[0m \u001b[0mbatch_char_lengths\u001b[0m\u001b[0;34m,\u001b[0m \u001b[0mbatch_lengths\u001b[0m\u001b[0;34m,\u001b[0m \u001b[0mbatch_bert_inp\u001b[0m\u001b[0;34m,\u001b[0m \u001b[0mbatch_bert_splits\u001b[0m\u001b[0;34m,\u001b[0m \u001b[0mtargets\u001b[0m\u001b[0;34m=\u001b[0m\u001b[0mbatch_labels\u001b[0m\u001b[0;34m)\u001b[0m\u001b[0;34m\u001b[0m\u001b[0;34m\u001b[0m\u001b[0m\n\u001b[0m\u001b[1;32m     55\u001b[0m \u001b[0;34m\u001b[0m\u001b[0m\n\u001b[1;32m     56\u001b[0m         \u001b[0mbatch_loss\u001b[0m \u001b[0;34m=\u001b[0m \u001b[0mloss\u001b[0m\u001b[0;34m.\u001b[0m\u001b[0mcpu\u001b[0m\u001b[0;34m(\u001b[0m\u001b[0;34m)\u001b[0m\u001b[0;34m.\u001b[0m\u001b[0mdetach\u001b[0m\u001b[0;34m(\u001b[0m\u001b[0;34m)\u001b[0m\u001b[0;34m.\u001b[0m\u001b[0mnumpy\u001b[0m\u001b[0;34m(\u001b[0m\u001b[0;34m)\u001b[0m\u001b[0;34m\u001b[0m\u001b[0;34m\u001b[0m\u001b[0m\n",
            "\u001b[0;32m/usr/local/lib/python3.7/dist-packages/torch/nn/modules/module.py\u001b[0m in \u001b[0;36m_call_impl\u001b[0;34m(self, *input, **kwargs)\u001b[0m\n\u001b[1;32m    720\u001b[0m             \u001b[0mresult\u001b[0m \u001b[0;34m=\u001b[0m \u001b[0mself\u001b[0m\u001b[0;34m.\u001b[0m\u001b[0m_slow_forward\u001b[0m\u001b[0;34m(\u001b[0m\u001b[0;34m*\u001b[0m\u001b[0minput\u001b[0m\u001b[0;34m,\u001b[0m \u001b[0;34m**\u001b[0m\u001b[0mkwargs\u001b[0m\u001b[0;34m)\u001b[0m\u001b[0;34m\u001b[0m\u001b[0;34m\u001b[0m\u001b[0m\n\u001b[1;32m    721\u001b[0m         \u001b[0;32melse\u001b[0m\u001b[0;34m:\u001b[0m\u001b[0;34m\u001b[0m\u001b[0;34m\u001b[0m\u001b[0m\n\u001b[0;32m--> 722\u001b[0;31m             \u001b[0mresult\u001b[0m \u001b[0;34m=\u001b[0m \u001b[0mself\u001b[0m\u001b[0;34m.\u001b[0m\u001b[0mforward\u001b[0m\u001b[0;34m(\u001b[0m\u001b[0;34m*\u001b[0m\u001b[0minput\u001b[0m\u001b[0;34m,\u001b[0m \u001b[0;34m**\u001b[0m\u001b[0mkwargs\u001b[0m\u001b[0;34m)\u001b[0m\u001b[0;34m\u001b[0m\u001b[0;34m\u001b[0m\u001b[0m\n\u001b[0m\u001b[1;32m    723\u001b[0m         for hook in itertools.chain(\n\u001b[1;32m    724\u001b[0m                 \u001b[0m_global_forward_hooks\u001b[0m\u001b[0;34m.\u001b[0m\u001b[0mvalues\u001b[0m\u001b[0;34m(\u001b[0m\u001b[0;34m)\u001b[0m\u001b[0;34m,\u001b[0m\u001b[0;34m\u001b[0m\u001b[0;34m\u001b[0m\u001b[0m\n",
            "\u001b[0;32m<ipython-input-16-c8891a00fce3>\u001b[0m in \u001b[0;36mforward\u001b[0;34m(self, batch_idxs, batch_char_lengths, batch_lengths, batch_bert_dict, batch_splits, aux_word_embs, targets, topk)\u001b[0m\n\u001b[1;32m    102\u001b[0m         \u001b[0;31m# charlstm\u001b[0m\u001b[0;34m\u001b[0m\u001b[0;34m\u001b[0m\u001b[0;34m\u001b[0m\u001b[0m\n\u001b[1;32m    103\u001b[0m         charlstm_encodings = [self.charlstmmodule(pad_sequence_, lens) for pad_sequence_, lens in\n\u001b[0;32m--> 104\u001b[0;31m                               zip(batch_idxs, batch_char_lengths)]\n\u001b[0m\u001b[1;32m    105\u001b[0m         \u001b[0mcharlstm_encodings\u001b[0m \u001b[0;34m=\u001b[0m \u001b[0mpad_sequence\u001b[0m\u001b[0;34m(\u001b[0m\u001b[0mcharlstm_encodings\u001b[0m\u001b[0;34m,\u001b[0m \u001b[0mbatch_first\u001b[0m\u001b[0;34m=\u001b[0m\u001b[0;32mTrue\u001b[0m\u001b[0;34m,\u001b[0m \u001b[0mpadding_value\u001b[0m\u001b[0;34m=\u001b[0m\u001b[0;36m0\u001b[0m\u001b[0;34m)\u001b[0m\u001b[0;34m\u001b[0m\u001b[0;34m\u001b[0m\u001b[0m\n\u001b[1;32m    106\u001b[0m \u001b[0;34m\u001b[0m\u001b[0m\n",
            "\u001b[0;32m<ipython-input-16-c8891a00fce3>\u001b[0m in \u001b[0;36m<listcomp>\u001b[0;34m(.0)\u001b[0m\n\u001b[1;32m    101\u001b[0m \u001b[0;34m\u001b[0m\u001b[0m\n\u001b[1;32m    102\u001b[0m         \u001b[0;31m# charlstm\u001b[0m\u001b[0;34m\u001b[0m\u001b[0;34m\u001b[0m\u001b[0;34m\u001b[0m\u001b[0m\n\u001b[0;32m--> 103\u001b[0;31m         charlstm_encodings = [self.charlstmmodule(pad_sequence_, lens) for pad_sequence_, lens in\n\u001b[0m\u001b[1;32m    104\u001b[0m                               zip(batch_idxs, batch_char_lengths)]\n\u001b[1;32m    105\u001b[0m         \u001b[0mcharlstm_encodings\u001b[0m \u001b[0;34m=\u001b[0m \u001b[0mpad_sequence\u001b[0m\u001b[0;34m(\u001b[0m\u001b[0mcharlstm_encodings\u001b[0m\u001b[0;34m,\u001b[0m \u001b[0mbatch_first\u001b[0m\u001b[0;34m=\u001b[0m\u001b[0;32mTrue\u001b[0m\u001b[0;34m,\u001b[0m \u001b[0mpadding_value\u001b[0m\u001b[0;34m=\u001b[0m\u001b[0;36m0\u001b[0m\u001b[0;34m)\u001b[0m\u001b[0;34m\u001b[0m\u001b[0;34m\u001b[0m\u001b[0m\n",
            "\u001b[0;32m/usr/local/lib/python3.7/dist-packages/torch/nn/modules/module.py\u001b[0m in \u001b[0;36m_call_impl\u001b[0;34m(self, *input, **kwargs)\u001b[0m\n\u001b[1;32m    720\u001b[0m             \u001b[0mresult\u001b[0m \u001b[0;34m=\u001b[0m \u001b[0mself\u001b[0m\u001b[0;34m.\u001b[0m\u001b[0m_slow_forward\u001b[0m\u001b[0;34m(\u001b[0m\u001b[0;34m*\u001b[0m\u001b[0minput\u001b[0m\u001b[0;34m,\u001b[0m \u001b[0;34m**\u001b[0m\u001b[0mkwargs\u001b[0m\u001b[0;34m)\u001b[0m\u001b[0;34m\u001b[0m\u001b[0;34m\u001b[0m\u001b[0m\n\u001b[1;32m    721\u001b[0m         \u001b[0;32melse\u001b[0m\u001b[0;34m:\u001b[0m\u001b[0;34m\u001b[0m\u001b[0;34m\u001b[0m\u001b[0m\n\u001b[0;32m--> 722\u001b[0;31m             \u001b[0mresult\u001b[0m \u001b[0;34m=\u001b[0m \u001b[0mself\u001b[0m\u001b[0;34m.\u001b[0m\u001b[0mforward\u001b[0m\u001b[0;34m(\u001b[0m\u001b[0;34m*\u001b[0m\u001b[0minput\u001b[0m\u001b[0;34m,\u001b[0m \u001b[0;34m**\u001b[0m\u001b[0mkwargs\u001b[0m\u001b[0;34m)\u001b[0m\u001b[0;34m\u001b[0m\u001b[0;34m\u001b[0m\u001b[0m\n\u001b[0m\u001b[1;32m    723\u001b[0m         for hook in itertools.chain(\n\u001b[1;32m    724\u001b[0m                 \u001b[0m_global_forward_hooks\u001b[0m\u001b[0;34m.\u001b[0m\u001b[0mvalues\u001b[0m\u001b[0;34m(\u001b[0m\u001b[0;34m)\u001b[0m\u001b[0;34m,\u001b[0m\u001b[0;34m\u001b[0m\u001b[0;34m\u001b[0m\u001b[0m\n",
            "\u001b[0;32m<ipython-input-15-4b24aea42109>\u001b[0m in \u001b[0;36mforward\u001b[0;34m(self, batch_tensor, batch_lengths)\u001b[0m\n\u001b[1;32m     35\u001b[0m         \u001b[0;31m# [BS, max_seq_len, self.lstmmodule_outdim]->[BS, self.lstmmodule_outdim]\u001b[0m\u001b[0;34m\u001b[0m\u001b[0;34m\u001b[0m\u001b[0;34m\u001b[0m\u001b[0m\n\u001b[1;32m     36\u001b[0m         \u001b[0;32mif\u001b[0m \u001b[0mself\u001b[0m\u001b[0;34m.\u001b[0m\u001b[0moutput_combination\u001b[0m \u001b[0;34m==\u001b[0m \u001b[0;34m\"end\"\u001b[0m\u001b[0;34m:\u001b[0m\u001b[0;34m\u001b[0m\u001b[0;34m\u001b[0m\u001b[0m\n\u001b[0;32m---> 37\u001b[0;31m             \u001b[0mlast_seq_idxs\u001b[0m \u001b[0;34m=\u001b[0m \u001b[0mtorch\u001b[0m\u001b[0;34m.\u001b[0m\u001b[0mLongTensor\u001b[0m\u001b[0;34m(\u001b[0m\u001b[0;34m[\u001b[0m\u001b[0mx\u001b[0m \u001b[0;34m-\u001b[0m \u001b[0;36m1\u001b[0m \u001b[0;32mfor\u001b[0m \u001b[0mx\u001b[0m \u001b[0;32min\u001b[0m \u001b[0mbatch_lengths\u001b[0m\u001b[0;34m]\u001b[0m\u001b[0;34m)\u001b[0m\u001b[0;34m\u001b[0m\u001b[0;34m\u001b[0m\u001b[0m\n\u001b[0m\u001b[1;32m     38\u001b[0m             \u001b[0msource_encodings\u001b[0m \u001b[0;34m=\u001b[0m \u001b[0mlstm_encodings\u001b[0m\u001b[0;34m[\u001b[0m\u001b[0mrange\u001b[0m\u001b[0;34m(\u001b[0m\u001b[0mlstm_encodings\u001b[0m\u001b[0;34m.\u001b[0m\u001b[0mshape\u001b[0m\u001b[0;34m[\u001b[0m\u001b[0;36m0\u001b[0m\u001b[0;34m]\u001b[0m\u001b[0;34m)\u001b[0m\u001b[0;34m,\u001b[0m \u001b[0mlast_seq_idxs\u001b[0m\u001b[0;34m,\u001b[0m \u001b[0;34m:\u001b[0m\u001b[0;34m]\u001b[0m\u001b[0;34m\u001b[0m\u001b[0;34m\u001b[0m\u001b[0m\n\u001b[1;32m     39\u001b[0m         \u001b[0;32melif\u001b[0m \u001b[0mself\u001b[0m\u001b[0;34m.\u001b[0m\u001b[0moutput_combination\u001b[0m \u001b[0;34m==\u001b[0m \u001b[0;34m\"max\"\u001b[0m\u001b[0;34m:\u001b[0m\u001b[0;34m\u001b[0m\u001b[0;34m\u001b[0m\u001b[0m\n",
            "\u001b[0;32m<ipython-input-15-4b24aea42109>\u001b[0m in \u001b[0;36m<listcomp>\u001b[0;34m(.0)\u001b[0m\n\u001b[1;32m     35\u001b[0m         \u001b[0;31m# [BS, max_seq_len, self.lstmmodule_outdim]->[BS, self.lstmmodule_outdim]\u001b[0m\u001b[0;34m\u001b[0m\u001b[0;34m\u001b[0m\u001b[0;34m\u001b[0m\u001b[0m\n\u001b[1;32m     36\u001b[0m         \u001b[0;32mif\u001b[0m \u001b[0mself\u001b[0m\u001b[0;34m.\u001b[0m\u001b[0moutput_combination\u001b[0m \u001b[0;34m==\u001b[0m \u001b[0;34m\"end\"\u001b[0m\u001b[0;34m:\u001b[0m\u001b[0;34m\u001b[0m\u001b[0;34m\u001b[0m\u001b[0m\n\u001b[0;32m---> 37\u001b[0;31m             \u001b[0mlast_seq_idxs\u001b[0m \u001b[0;34m=\u001b[0m \u001b[0mtorch\u001b[0m\u001b[0;34m.\u001b[0m\u001b[0mLongTensor\u001b[0m\u001b[0;34m(\u001b[0m\u001b[0;34m[\u001b[0m\u001b[0mx\u001b[0m \u001b[0;34m-\u001b[0m \u001b[0;36m1\u001b[0m \u001b[0;32mfor\u001b[0m \u001b[0mx\u001b[0m \u001b[0;32min\u001b[0m \u001b[0mbatch_lengths\u001b[0m\u001b[0;34m]\u001b[0m\u001b[0;34m)\u001b[0m\u001b[0;34m\u001b[0m\u001b[0;34m\u001b[0m\u001b[0m\n\u001b[0m\u001b[1;32m     38\u001b[0m             \u001b[0msource_encodings\u001b[0m \u001b[0;34m=\u001b[0m \u001b[0mlstm_encodings\u001b[0m\u001b[0;34m[\u001b[0m\u001b[0mrange\u001b[0m\u001b[0;34m(\u001b[0m\u001b[0mlstm_encodings\u001b[0m\u001b[0;34m.\u001b[0m\u001b[0mshape\u001b[0m\u001b[0;34m[\u001b[0m\u001b[0;36m0\u001b[0m\u001b[0;34m]\u001b[0m\u001b[0;34m)\u001b[0m\u001b[0;34m,\u001b[0m \u001b[0mlast_seq_idxs\u001b[0m\u001b[0;34m,\u001b[0m \u001b[0;34m:\u001b[0m\u001b[0;34m]\u001b[0m\u001b[0;34m\u001b[0m\u001b[0;34m\u001b[0m\u001b[0m\n\u001b[1;32m     39\u001b[0m         \u001b[0;32melif\u001b[0m \u001b[0mself\u001b[0m\u001b[0;34m.\u001b[0m\u001b[0moutput_combination\u001b[0m \u001b[0;34m==\u001b[0m \u001b[0;34m\"max\"\u001b[0m\u001b[0;34m:\u001b[0m\u001b[0;34m\u001b[0m\u001b[0;34m\u001b[0m\u001b[0m\n",
            "\u001b[0;31mKeyboardInterrupt\u001b[0m: "
          ]
        }
      ]
    },
    {
      "cell_type": "code",
      "metadata": {
        "id": "C9m_q01hBn9L"
      },
      "source": [
        ""
      ],
      "execution_count": null,
      "outputs": []
    }
  ]
}